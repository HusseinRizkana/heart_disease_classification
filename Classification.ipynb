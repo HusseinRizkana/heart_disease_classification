{
 "metadata": {
  "language_info": {
   "codemirror_mode": {
    "name": "ipython",
    "version": 3
   },
   "file_extension": ".py",
   "mimetype": "text/x-python",
   "name": "python",
   "nbconvert_exporter": "python",
   "pygments_lexer": "ipython3",
   "version": "3.7.6"
  },
  "orig_nbformat": 2,
  "kernelspec": {
   "name": "python376jvsc74a57bd0367065b0edbc15bf569a8af8faef47a2298316726eb8eb626eb6c6223c64e791",
   "display_name": "Python 3.7.6 64-bit"
  }
 },
 "nbformat": 4,
 "nbformat_minor": 2,
 "cells": [
  {
   "source": [
    "# Classification and prediction of Heart Disease"
   ],
   "cell_type": "markdown",
   "metadata": {}
  },
  {
   "cell_type": "code",
   "execution_count": 1,
   "metadata": {},
   "outputs": [
    {
     "output_type": "execute_result",
     "data": {
      "text/plain": [
       "   age  resting_bp  chol  max_hrt_rt  st_dep  major_vessels  target  sex_male  \\\n",
       "0   63         145   233         150     2.3              0       1         1   \n",
       "1   37         130   250         187     3.5              0       1         1   \n",
       "2   41         130   204         172     1.4              0       1         0   \n",
       "3   56         120   236         178     0.8              0       1         1   \n",
       "4   57         120   354         163     0.6              0       1         0   \n",
       "\n",
       "   chest_pain_atypical_angina  chest_pain_non-anginal_pain  \\\n",
       "0                           0                            0   \n",
       "1                           0                            1   \n",
       "2                           1                            0   \n",
       "3                           1                            0   \n",
       "4                           0                            0   \n",
       "\n",
       "   chest_pain_typical_angina  fstng_bld_sgr_not_high  \\\n",
       "0                          1                       0   \n",
       "1                          0                       1   \n",
       "2                          0                       1   \n",
       "3                          0                       1   \n",
       "4                          0                       1   \n",
       "\n",
       "   elect_result_left_ventricular_hypertrophy  elect_result_normal  \\\n",
       "0                                          0                    1   \n",
       "1                                          0                    0   \n",
       "2                                          0                    1   \n",
       "3                                          0                    0   \n",
       "4                                          0                    0   \n",
       "\n",
       "   exercise_induced_angina_present  st_slope_flat  st_slope_upsloping  \\\n",
       "0                                0              0                   1   \n",
       "1                                0              0                   1   \n",
       "2                                0              0                   0   \n",
       "3                                0              0                   0   \n",
       "4                                1              0                   0   \n",
       "\n",
       "   thalassemia_fixed_defect  thalassemia_reversable_defect  \n",
       "0                         0                              0  \n",
       "1                         1                              0  \n",
       "2                         1                              0  \n",
       "3                         1                              0  \n",
       "4                         1                              0  "
      ],
      "text/html": "<div>\n<style scoped>\n    .dataframe tbody tr th:only-of-type {\n        vertical-align: middle;\n    }\n\n    .dataframe tbody tr th {\n        vertical-align: top;\n    }\n\n    .dataframe thead th {\n        text-align: right;\n    }\n</style>\n<table border=\"1\" class=\"dataframe\">\n  <thead>\n    <tr style=\"text-align: right;\">\n      <th></th>\n      <th>age</th>\n      <th>resting_bp</th>\n      <th>chol</th>\n      <th>max_hrt_rt</th>\n      <th>st_dep</th>\n      <th>major_vessels</th>\n      <th>target</th>\n      <th>sex_male</th>\n      <th>chest_pain_atypical_angina</th>\n      <th>chest_pain_non-anginal_pain</th>\n      <th>chest_pain_typical_angina</th>\n      <th>fstng_bld_sgr_not_high</th>\n      <th>elect_result_left_ventricular_hypertrophy</th>\n      <th>elect_result_normal</th>\n      <th>exercise_induced_angina_present</th>\n      <th>st_slope_flat</th>\n      <th>st_slope_upsloping</th>\n      <th>thalassemia_fixed_defect</th>\n      <th>thalassemia_reversable_defect</th>\n    </tr>\n  </thead>\n  <tbody>\n    <tr>\n      <th>0</th>\n      <td>63</td>\n      <td>145</td>\n      <td>233</td>\n      <td>150</td>\n      <td>2.3</td>\n      <td>0</td>\n      <td>1</td>\n      <td>1</td>\n      <td>0</td>\n      <td>0</td>\n      <td>1</td>\n      <td>0</td>\n      <td>0</td>\n      <td>1</td>\n      <td>0</td>\n      <td>0</td>\n      <td>1</td>\n      <td>0</td>\n      <td>0</td>\n    </tr>\n    <tr>\n      <th>1</th>\n      <td>37</td>\n      <td>130</td>\n      <td>250</td>\n      <td>187</td>\n      <td>3.5</td>\n      <td>0</td>\n      <td>1</td>\n      <td>1</td>\n      <td>0</td>\n      <td>1</td>\n      <td>0</td>\n      <td>1</td>\n      <td>0</td>\n      <td>0</td>\n      <td>0</td>\n      <td>0</td>\n      <td>1</td>\n      <td>1</td>\n      <td>0</td>\n    </tr>\n    <tr>\n      <th>2</th>\n      <td>41</td>\n      <td>130</td>\n      <td>204</td>\n      <td>172</td>\n      <td>1.4</td>\n      <td>0</td>\n      <td>1</td>\n      <td>0</td>\n      <td>1</td>\n      <td>0</td>\n      <td>0</td>\n      <td>1</td>\n      <td>0</td>\n      <td>1</td>\n      <td>0</td>\n      <td>0</td>\n      <td>0</td>\n      <td>1</td>\n      <td>0</td>\n    </tr>\n    <tr>\n      <th>3</th>\n      <td>56</td>\n      <td>120</td>\n      <td>236</td>\n      <td>178</td>\n      <td>0.8</td>\n      <td>0</td>\n      <td>1</td>\n      <td>1</td>\n      <td>1</td>\n      <td>0</td>\n      <td>0</td>\n      <td>1</td>\n      <td>0</td>\n      <td>0</td>\n      <td>0</td>\n      <td>0</td>\n      <td>0</td>\n      <td>1</td>\n      <td>0</td>\n    </tr>\n    <tr>\n      <th>4</th>\n      <td>57</td>\n      <td>120</td>\n      <td>354</td>\n      <td>163</td>\n      <td>0.6</td>\n      <td>0</td>\n      <td>1</td>\n      <td>0</td>\n      <td>0</td>\n      <td>0</td>\n      <td>0</td>\n      <td>1</td>\n      <td>0</td>\n      <td>0</td>\n      <td>1</td>\n      <td>0</td>\n      <td>0</td>\n      <td>1</td>\n      <td>0</td>\n    </tr>\n  </tbody>\n</table>\n</div>"
     },
     "metadata": {},
     "execution_count": 1
    }
   ],
   "source": [
    "import pandas as pd\n",
    "import plotly.express as px\n",
    "import statsmodels.api as sm\n",
    "from sklearn.model_selection import train_test_split\n",
    "df = pd.read_csv(\"clean_data.csv\",index_col = 0)\n",
    "df.head(5)"
   ]
  },
  {
   "source": [
    "# Splitting the Data"
   ],
   "cell_type": "markdown",
   "metadata": {}
  },
  {
   "cell_type": "code",
   "execution_count": 2,
   "metadata": {},
   "outputs": [
    {
     "output_type": "stream",
     "name": "stdout",
     "text": [
      "train size = 240\ntest size = 61\n"
     ]
    }
   ],
   "source": [
    "X = df.drop(\"target\",axis=1)\n",
    "y = df[\"target\"]\n",
    "X_train, X_test, y_train, y_test = train_test_split(X, y, test_size=0.2)\n",
    "# X_test, X_val, y_test, y_val = train_test_split(X_test, y_test, test_size=0.5)\n",
    "print(\"train size =\", len(X_train))\n",
    "# print(\"val size =\", len(X_val))\n",
    "print(\"test size =\", len(X_test))"
   ]
  },
  {
   "source": [
    "# Feature Selection\n",
    "## p-values to check for feature significance"
   ],
   "cell_type": "markdown",
   "metadata": {}
  },
  {
   "source": [
    "p_max = 0.2\n",
    "dropped_cols = []\n",
    "while p_max > 0.1:\n",
    "    model = sm.Logit(y_train,X_train.drop(dropped_cols,axis=1)).fit()\n",
    "    p_values = model.pvalues\n",
    "    p_max = 0.04\n",
    "    col = None\n",
    "    for key in p_values.keys():\n",
    "        if p_values[key] > p_max:\n",
    "            p_max = p_values[key]\n",
    "            col = key\n",
    "    if col != None:\n",
    "        dropped_cols.append(col)\n",
    "    print(p_max)\n",
    "print(dropped_cols)\n",
    "model.summary()"
   ],
   "cell_type": "code",
   "metadata": {
    "tags": []
   },
   "execution_count": 3,
   "outputs": [
    {
     "output_type": "stream",
     "name": "stdout",
     "text": [
      "Optimization terminated successfully.\n         Current function value: 0.340765\n         Iterations 7\n0.9658961824858899\nOptimization terminated successfully.\n         Current function value: 0.340769\n         Iterations 7\n0.7925631926904638\nOptimization terminated successfully.\n         Current function value: 0.340911\n         Iterations 7\n0.5294072134455503\nOptimization terminated successfully.\n         Current function value: 0.341841\n         Iterations 7\n0.5471163786166374\nOptimization terminated successfully.\n         Current function value: 0.342597\n         Iterations 7\n0.25457546260263886\nOptimization terminated successfully.\n         Current function value: 0.345354\n         Iterations 7\n0.2390547935536662\nOptimization terminated successfully.\n         Current function value: 0.348197\n         Iterations 7\n0.23737450030269658\nOptimization terminated successfully.\n         Current function value: 0.351161\n         Iterations 7\n0.35406765809431273\nOptimization terminated successfully.\n         Current function value: 0.352958\n         Iterations 7\n0.08159673791721601\n['fstng_bld_sgr_not_high', 'st_slope_upsloping', 'elect_result_left_ventricular_hypertrophy', 'thalassemia_fixed_defect', 'chest_pain_atypical_angina', 'chol', 'age', 'resting_bp', 'st_dep']\n"
     ]
    },
    {
     "output_type": "execute_result",
     "data": {
      "text/plain": [
       "<class 'statsmodels.iolib.summary.Summary'>\n",
       "\"\"\"\n",
       "                           Logit Regression Results                           \n",
       "==============================================================================\n",
       "Dep. Variable:                 target   No. Observations:                  240\n",
       "Model:                          Logit   Df Residuals:                      230\n",
       "Method:                           MLE   Df Model:                            9\n",
       "Date:                Wed, 28 Apr 2021   Pseudo R-squ.:                  0.4850\n",
       "Time:                        13:25:50   Log-Likelihood:                -84.710\n",
       "converged:                       True   LL-Null:                       -164.48\n",
       "Covariance Type:            nonrobust   LLR p-value:                 9.294e-30\n",
       "===================================================================================================\n",
       "                                      coef    std err          z      P>|z|      [0.025      0.975]\n",
       "---------------------------------------------------------------------------------------------------\n",
       "max_hrt_rt                          0.0223      0.004      6.250      0.000       0.015       0.029\n",
       "st_dep                             -0.3706      0.213     -1.741      0.082      -0.788       0.046\n",
       "major_vessels                      -0.8946      0.219     -4.079      0.000      -1.324      -0.465\n",
       "sex_male                           -1.3475      0.500     -2.698      0.007      -2.327      -0.368\n",
       "chest_pain_non-anginal_pain         1.8457      0.517      3.572      0.000       0.833       2.858\n",
       "chest_pain_typical_angina           1.3389      0.624      2.144      0.032       0.115       2.563\n",
       "elect_result_normal                -0.8345      0.397     -2.104      0.035      -1.612      -0.057\n",
       "exercise_induced_angina_present    -0.7799      0.447     -1.746      0.081      -1.655       0.096\n",
       "st_slope_flat                      -0.8938      0.414     -2.159      0.031      -1.705      -0.082\n",
       "thalassemia_reversable_defect      -1.7513      0.433     -4.044      0.000      -2.600      -0.903\n",
       "===================================================================================================\n",
       "\"\"\""
      ],
      "text/html": "<table class=\"simpletable\">\n<caption>Logit Regression Results</caption>\n<tr>\n  <th>Dep. Variable:</th>        <td>target</td>      <th>  No. Observations:  </th>  <td>   240</td>  \n</tr>\n<tr>\n  <th>Model:</th>                 <td>Logit</td>      <th>  Df Residuals:      </th>  <td>   230</td>  \n</tr>\n<tr>\n  <th>Method:</th>                 <td>MLE</td>       <th>  Df Model:          </th>  <td>     9</td>  \n</tr>\n<tr>\n  <th>Date:</th>            <td>Wed, 28 Apr 2021</td> <th>  Pseudo R-squ.:     </th>  <td>0.4850</td>  \n</tr>\n<tr>\n  <th>Time:</th>                <td>13:25:50</td>     <th>  Log-Likelihood:    </th> <td> -84.710</td> \n</tr>\n<tr>\n  <th>converged:</th>             <td>True</td>       <th>  LL-Null:           </th> <td> -164.48</td> \n</tr>\n<tr>\n  <th>Covariance Type:</th>     <td>nonrobust</td>    <th>  LLR p-value:       </th> <td>9.294e-30</td>\n</tr>\n</table>\n<table class=\"simpletable\">\n<tr>\n                 <td></td>                    <th>coef</th>     <th>std err</th>      <th>z</th>      <th>P>|z|</th>  <th>[0.025</th>    <th>0.975]</th>  \n</tr>\n<tr>\n  <th>max_hrt_rt</th>                      <td>    0.0223</td> <td>    0.004</td> <td>    6.250</td> <td> 0.000</td> <td>    0.015</td> <td>    0.029</td>\n</tr>\n<tr>\n  <th>st_dep</th>                          <td>   -0.3706</td> <td>    0.213</td> <td>   -1.741</td> <td> 0.082</td> <td>   -0.788</td> <td>    0.046</td>\n</tr>\n<tr>\n  <th>major_vessels</th>                   <td>   -0.8946</td> <td>    0.219</td> <td>   -4.079</td> <td> 0.000</td> <td>   -1.324</td> <td>   -0.465</td>\n</tr>\n<tr>\n  <th>sex_male</th>                        <td>   -1.3475</td> <td>    0.500</td> <td>   -2.698</td> <td> 0.007</td> <td>   -2.327</td> <td>   -0.368</td>\n</tr>\n<tr>\n  <th>chest_pain_non-anginal_pain</th>     <td>    1.8457</td> <td>    0.517</td> <td>    3.572</td> <td> 0.000</td> <td>    0.833</td> <td>    2.858</td>\n</tr>\n<tr>\n  <th>chest_pain_typical_angina</th>       <td>    1.3389</td> <td>    0.624</td> <td>    2.144</td> <td> 0.032</td> <td>    0.115</td> <td>    2.563</td>\n</tr>\n<tr>\n  <th>elect_result_normal</th>             <td>   -0.8345</td> <td>    0.397</td> <td>   -2.104</td> <td> 0.035</td> <td>   -1.612</td> <td>   -0.057</td>\n</tr>\n<tr>\n  <th>exercise_induced_angina_present</th> <td>   -0.7799</td> <td>    0.447</td> <td>   -1.746</td> <td> 0.081</td> <td>   -1.655</td> <td>    0.096</td>\n</tr>\n<tr>\n  <th>st_slope_flat</th>                   <td>   -0.8938</td> <td>    0.414</td> <td>   -2.159</td> <td> 0.031</td> <td>   -1.705</td> <td>   -0.082</td>\n</tr>\n<tr>\n  <th>thalassemia_reversable_defect</th>   <td>   -1.7513</td> <td>    0.433</td> <td>   -4.044</td> <td> 0.000</td> <td>   -2.600</td> <td>   -0.903</td>\n</tr>\n</table>"
     },
     "metadata": {},
     "execution_count": 3
    }
   ]
  },
  {
   "source": [
    "Checking feature significance using null-hypothesis testing. If p-value is greater than 0.1 then we accept the null hypothesis and reject feature as having a statistically significant effect on predicting variance of the target variable. usually the alpha value would be set to 0.05 however I am hesitant to execessively remove features due to the limited amount of data I am using."
   ],
   "cell_type": "markdown",
   "metadata": {}
  },
  {
   "source": [
    "## checking for multi-colinearity"
   ],
   "cell_type": "markdown",
   "metadata": {}
  },
  {
   "cell_type": "code",
   "execution_count": 4,
   "metadata": {},
   "outputs": [],
   "source": [
    "# for col in X_train.columns.drop(dropped_cols):\n",
    "#     model = sm.OLS(X_train[col],X_train.drop(col,axis=1)).fit()\n",
    "#     VIF = 1/(1-model.rsquared)\n",
    "#     print(f\"{col} VIF value:\",VIF)\n",
    "#     if VIF > 10:\n",
    "#         print(col)\n",
    "#         dropped_cols.append(col)"
   ]
  },
  {
   "source": [
    "Here we check for and drop the values with VIF(Variance inflation factor) that is too high meaning that the variance in this feature is fully captured by the other features. A VIF threshold of 10 was used as this indicates an Rsquared of above 0.9"
   ],
   "cell_type": "markdown",
   "metadata": {}
  },
  {
   "cell_type": "code",
   "execution_count": 5,
   "metadata": {},
   "outputs": [],
   "source": [
    "# X_train, X_val, y_train, y_val = train_test_split(X_train, y_train, test_size=0.2)\n"
   ]
  },
  {
   "cell_type": "code",
   "execution_count": 6,
   "metadata": {},
   "outputs": [
    {
     "output_type": "stream",
     "name": "stdout",
     "text": [
      "Optimization terminated successfully.\n",
      "         Current function value: 0.359726\n",
      "         Iterations 7\n"
     ]
    }
   ],
   "source": [
    "logreg = sm.Logit(y_train,X_train.drop(dropped_cols,axis=1)).fit()"
   ]
  },
  {
   "source": [
    "## interactions and higher order features\n",
    "\n",
    "Normally residuals would be used to check for distributions that might lead to the use of higher order polynomials but due to a lack of time, brute force was used here."
   ],
   "cell_type": "markdown",
   "metadata": {}
  },
  {
   "cell_type": "code",
   "execution_count": 7,
   "metadata": {},
   "outputs": [],
   "source": [
    "from sklearn.preprocessing import PolynomialFeatures\n",
    "from sklearn.preprocessing import StandardScaler"
   ]
  },
  {
   "cell_type": "code",
   "execution_count": 8,
   "metadata": {},
   "outputs": [],
   "source": [
    "polyfit = PolynomialFeatures(degree=3)\n",
    "scaler = StandardScaler()\n",
    "X_poly = polyfit.fit_transform(X_train)\n",
    "scaled_poly_train = pd.DataFrame(scaler.fit_transform(X_poly),index=X_train.index)"
   ]
  },
  {
   "cell_type": "code",
   "execution_count": 9,
   "metadata": {},
   "outputs": [],
   "source": [
    "# import numpy as np\n",
    "# p_max = 0.2\n",
    "# dropped_cols = []\n",
    "\n",
    "# while p_max > 0.1:\n",
    "# model = sm.Logit(y_train,scaled_poly_train.drop(dropped_cols, axis=1)).fit()\n",
    "#     p_values = model.pvalues\n",
    "#     p_max = 0.04\n",
    "#     col = None\n",
    "#     for key in p_values.keys():\n",
    "#         if p_values[key] > p_max:\n",
    "#             p_max = p_values[key]\n",
    "#             col = key\n",
    "#     if col != None:\n",
    "#         dropped_cols.append(col)\n",
    "#         print(dropped_cols)\n",
    "#     print(p_max)\n",
    "# print(dropped_cols)\n",
    "# model.summary()"
   ]
  },
  {
   "source": [
    "# Threshold selection\n",
    "With heart disease it is better to be safe than sorry as peoples lives are at stake. Therefore we have a preference towards a higher true positive rate. Using metz: $ m = \\frac{1-prevalence}{prevalence} \\frac{Cfp - Ctn}{Cfn - Ctp}$ where C stands for cost. we then choose the threshold with the highest $f_{m} = TPR - m(FPR)$ an m value of 0.13 was found to predict the target with a preference to over diagnose heart disease than under diagnose due to the humanitarian and monetary consequences. max $f_{m}$ will then be taken for each model."
   ],
   "cell_type": "markdown",
   "metadata": {}
  },
  {
   "cell_type": "code",
   "execution_count": 10,
   "metadata": {},
   "outputs": [
    {
     "output_type": "execute_result",
     "data": {
      "text/plain": [
       "0.12152777777777778"
      ]
     },
     "metadata": {},
     "execution_count": 10
    }
   ],
   "source": [
    "prevalence = len(y_train.loc[y_train==1])/len(y_train)\n",
    "Cfp = 5000 #5000 cost of extra tests assumed here to be CT scan and MRI cardiac scan  \n",
    "Ctn = 0 #0 go home you're safe\n",
    "Cfn = 32000 #32000 Egyptian pounds approx which is the cost of valve replacement surgery... plus possibly human life\n",
    "Ctp = 0 #0 possibly save someones life\n",
    "m = ((1-prevalence)/(prevalence)) * (Cfp/Cfn)\n",
    "m"
   ]
  },
  {
   "source": [
    "# Optimisation and model selection"
   ],
   "cell_type": "markdown",
   "metadata": {}
  },
  {
   "source": [
    "Here we try a bunch of different classification models and their combinations to see what works best. "
   ],
   "cell_type": "markdown",
   "metadata": {}
  },
  {
   "cell_type": "code",
   "execution_count": 11,
   "metadata": {},
   "outputs": [],
   "source": [
    "from sklearn.linear_model import LogisticRegression\n",
    "from sklearn.metrics import (confusion_matrix, accuracy_score,\n",
    "                           roc_curve, auc, recall_score, make_scorer)\n",
    "from sklearn.model_selection import cross_val_score, cross_validate\n",
    "import plotly.figure_factory as ff\n",
    "from sklearn.svm import SVC\n",
    "from sklearn.neighbors import KNeighborsClassifier\n",
    "from sklearn.tree import DecisionTreeClassifier\n",
    "from sklearn import tree\n",
    "from sklearn.ensemble import RandomForestClassifier\n",
    "from sklearn.ensemble import BaggingClassifier\n",
    "from IPython.display import Image\n",
    "import pydotplus"
   ]
  },
  {
   "cell_type": "code",
   "execution_count": 12,
   "metadata": {},
   "outputs": [
    {
     "output_type": "stream",
     "name": "stdout",
     "text": [
      "Training Accuracy: 0.7104166666666666\nTraining recall: 0.8333333333333333\nValidation Accuracy: 0.6958333333333333\nValidation recall: 0.837037037037037\n"
     ]
    }
   ],
   "source": [
    "import numpy as np\n",
    "svc = SVC(gamma=0.0003,kernel=\"rbf\",probability = True)\n",
    "val_svc = cross_validate(svc, X_train.drop(dropped_cols,axis=1), y_train, scoring=[\"accuracy\", \"recall\"], cv=5, return_train_score=True)\n",
    "print(\"Training Accuracy:\", np.mean(val_svc[\"train_accuracy\"]))\n",
    "print(\"Training recall:\", np.mean(val_svc[\"train_recall\"]))\n",
    "print(\"Validation Accuracy:\", np.mean(val_svc[\"test_accuracy\"]))\n",
    "print(\"Validation recall:\", np.mean(val_svc[\"test_recall\"]))"
   ]
  },
  {
   "cell_type": "code",
   "execution_count": 13,
   "metadata": {},
   "outputs": [
    {
     "output_type": "stream",
     "name": "stdout",
     "text": [
      "Training Accuracy: 0.8458333333333332\n",
      "Training recall: 0.888888888888889\n",
      "Validation Accuracy: 0.8166666666666667\n",
      "Validation recall: 0.8666666666666668\n",
      "C:\\Users\\HusseinRizkana\\anaconda3\\lib\\site-packages\\sklearn\\linear_model\\_logistic.py:765: ConvergenceWarning: lbfgs failed to converge (status=1):\n",
      "STOP: TOTAL NO. of ITERATIONS REACHED LIMIT.\n",
      "\n",
      "Increase the number of iterations (max_iter) or scale the data as shown in:\n",
      "    https://scikit-learn.org/stable/modules/preprocessing.html\n",
      "Please also refer to the documentation for alternative solver options:\n",
      "    https://scikit-learn.org/stable/modules/linear_model.html#logistic-regression\n",
      "  extra_warning_msg=_LOGISTIC_SOLVER_CONVERGENCE_MSG)\n",
      "C:\\Users\\HusseinRizkana\\anaconda3\\lib\\site-packages\\sklearn\\linear_model\\_logistic.py:765: ConvergenceWarning: lbfgs failed to converge (status=1):\n",
      "STOP: TOTAL NO. of ITERATIONS REACHED LIMIT.\n",
      "\n",
      "Increase the number of iterations (max_iter) or scale the data as shown in:\n",
      "    https://scikit-learn.org/stable/modules/preprocessing.html\n",
      "Please also refer to the documentation for alternative solver options:\n",
      "    https://scikit-learn.org/stable/modules/linear_model.html#logistic-regression\n",
      "  extra_warning_msg=_LOGISTIC_SOLVER_CONVERGENCE_MSG)\n",
      "C:\\Users\\HusseinRizkana\\anaconda3\\lib\\site-packages\\sklearn\\linear_model\\_logistic.py:765: ConvergenceWarning: lbfgs failed to converge (status=1):\n",
      "STOP: TOTAL NO. of ITERATIONS REACHED LIMIT.\n",
      "\n",
      "Increase the number of iterations (max_iter) or scale the data as shown in:\n",
      "    https://scikit-learn.org/stable/modules/preprocessing.html\n",
      "Please also refer to the documentation for alternative solver options:\n",
      "    https://scikit-learn.org/stable/modules/linear_model.html#logistic-regression\n",
      "  extra_warning_msg=_LOGISTIC_SOLVER_CONVERGENCE_MSG)\n"
     ]
    }
   ],
   "source": [
    "logreg = LogisticRegression()\n",
    "val_logreg = cross_validate(logreg, X_train.drop(dropped_cols,axis=1), y_train, scoring=[\"accuracy\", \"recall\"], cv=5, return_train_score=True)\n",
    "\n",
    "print(\"Training Accuracy:\", np.mean(val_logreg[\"train_accuracy\"]))\n",
    "print(\"Training recall:\", np.mean(val_logreg[\"train_recall\"]))\n",
    "print(\"Validation Accuracy:\", np.mean(val_logreg[\"test_accuracy\"]))\n",
    "print(\"Validation recall:\", np.mean(val_logreg[\"test_recall\"]))"
   ]
  },
  {
   "cell_type": "code",
   "execution_count": 14,
   "metadata": {},
   "outputs": [
    {
     "output_type": "stream",
     "name": "stdout",
     "text": [
      "Training Accuracy: 0.8145833333333334\nTraining recall: 0.875925925925926\nValidation Accuracy: 0.7\nValidation recall: 0.7703703703703704\n"
     ]
    }
   ],
   "source": [
    "knn = KNeighborsClassifier()\n",
    "knn.fit(X_train.drop(dropped_cols, axis=1),y_train)\n",
    "KNeighborsClassifier(algorithm=\"auto\", metric=\"euclidean\",\n",
    " metric_params=None, n_jobs=5, n_neighbors=20)\n",
    "val_knn = cross_validate(knn, X_train.drop(dropped_cols,axis=1), y_train, scoring=[\"accuracy\", \"recall\"], cv=5, return_train_score=True)\n",
    "\n",
    "print(\"Training Accuracy:\", np.mean(val_knn[\"train_accuracy\"]))\n",
    "print(\"Training recall:\", np.mean(val_knn[\"train_recall\"]))\n",
    "print(\"Validation Accuracy:\", np.mean(val_knn[\"test_accuracy\"]))\n",
    "print(\"Validation recall:\", np.mean(val_knn[\"test_recall\"]))"
   ]
  },
  {
   "cell_type": "code",
   "execution_count": 15,
   "metadata": {},
   "outputs": [
    {
     "output_type": "stream",
     "name": "stdout",
     "text": [
      "Training Accuracy: 0.8760416666666668\nTraining recall: 0.8814814814814815\nValidation Accuracy: 0.7458333333333333\nValidation recall: 0.7481481481481481\n"
     ]
    }
   ],
   "source": [
    "tre = DecisionTreeClassifier(criterion=\"gini\",random_state = 42, max_depth=5,\n",
    "                            min_samples_split=11,min_samples_leaf=2, class_weight =\"balanced\")\n",
    "val_tre = cross_validate(tre, X_train.drop(dropped_cols,axis=1), y_train, scoring=[\"accuracy\", \"recall\"], cv=5, return_train_score=True)\n",
    "\n",
    "print(\"Training Accuracy:\", np.mean(val_tre[\"train_accuracy\"]))\n",
    "print(\"Training recall:\", np.mean(val_tre[\"train_recall\"]))\n",
    "print(\"Validation Accuracy:\", np.mean(val_tre[\"test_accuracy\"]))\n",
    "print(\"Validation recall:\", np.mean(val_tre[\"test_recall\"]))"
   ]
  },
  {
   "cell_type": "code",
   "execution_count": 17,
   "metadata": {},
   "outputs": [
    {
     "output_type": "stream",
     "name": "stdout",
     "text": [
      "Training Accuracy: 0.865625\nTraining recall: 0.9259259259259259\nValidation Accuracy: 0.7958333333333334\nValidation recall: 0.8666666666666668\n"
     ]
    }
   ],
   "source": [
    "rfc = RandomForestClassifier(n_estimators=100, warm_start=True, max_depth=3, min_samples_leaf=3, max_features=4)\n",
    "val_rfc = cross_validate(rfc, X_train.drop(dropped_cols,axis=1), y_train, scoring=[\"accuracy\", \"recall\"], cv=5, return_train_score=True)\n",
    "\n",
    "print(\"Training Accuracy:\", np.mean(val_rfc[\"train_accuracy\"]))\n",
    "print(\"Training recall:\", np.mean(val_rfc[\"train_recall\"]))\n",
    "print(\"Validation Accuracy:\", np.mean(val_rfc[\"test_accuracy\"]))\n",
    "print(\"Validation recall:\", np.mean(val_rfc[\"test_recall\"]))\n"
   ]
  },
  {
   "cell_type": "code",
   "execution_count": 18,
   "metadata": {},
   "outputs": [
    {
     "output_type": "stream",
     "name": "stdout",
     "text": [
      "Training Accuracy: 0.9833333333333332\nTraining recall: 0.9907407407407407\nValidation Accuracy: 0.7916666666666666\nValidation recall: 0.8444444444444443\n"
     ]
    }
   ],
   "source": [
    "bag = BaggingClassifier(n_estimators=1000, bootstrap_features=True, n_jobs=4)\n",
    "val_bag = cross_validate(bag, X_train.drop(dropped_cols,axis=1), y_train, scoring=[\"accuracy\", \"recall\"], cv=5, return_train_score=True)\n",
    "\n",
    "print(\"Training Accuracy:\", np.mean(val_bag[\"train_accuracy\"]))\n",
    "print(\"Training recall:\", np.mean(val_bag[\"train_recall\"]))\n",
    "print(\"Validation Accuracy:\", np.mean(val_bag[\"test_accuracy\"]))\n",
    "print(\"Validation recall:\", np.mean(val_bag[\"test_recall\"]))"
   ]
  },
  {
   "cell_type": "code",
   "execution_count": 19,
   "metadata": {},
   "outputs": [
    {
     "output_type": "stream",
     "name": "stdout",
     "text": [
      "Training Accuracy: 0.8458333333333334\nTraining recall: 0.8962962962962961\nValidation Accuracy: 0.7833333333333333\nValidation recall: 0.8296296296296297\n"
     ]
    }
   ],
   "source": [
    "from sklearn.ensemble import ExtraTreesClassifier\n",
    "etc = ExtraTreesClassifier(n_estimators=1000, max_depth=3,\n",
    "     random_state=42, criterion='gini', min_samples_split=2, min_samples_leaf=1, max_features='auto', bootstrap=True,  n_jobs=6, warm_start=True)\n",
    "val_etc = cross_validate(etc, X_train.drop(dropped_cols,axis=1), y_train, scoring=[\"accuracy\", \"recall\"], cv=5, return_train_score=True)\n",
    "\n",
    "print(\"Training Accuracy:\", np.mean(val_etc[\"train_accuracy\"]))\n",
    "print(\"Training recall:\", np.mean(val_etc[\"train_recall\"]))\n",
    "print(\"Validation Accuracy:\", np.mean(val_etc[\"test_accuracy\"]))\n",
    "print(\"Validation recall:\", np.mean(val_etc[\"test_recall\"]))"
   ]
  },
  {
   "cell_type": "code",
   "execution_count": 20,
   "metadata": {},
   "outputs": [
    {
     "output_type": "stream",
     "name": "stderr",
     "text": [
      "C:\\Users\\HusseinRizkana\\anaconda3\\lib\\site-packages\\sklearn\\linear_model\\_logistic.py:765: ConvergenceWarning: lbfgs failed to converge (status=1):\nSTOP: TOTAL NO. of ITERATIONS REACHED LIMIT.\n\nIncrease the number of iterations (max_iter) or scale the data as shown in:\n    https://scikit-learn.org/stable/modules/preprocessing.html\nPlease also refer to the documentation for alternative solver options:\n    https://scikit-learn.org/stable/modules/linear_model.html#logistic-regression\n  extra_warning_msg=_LOGISTIC_SOLVER_CONVERGENCE_MSG)\nC:\\Users\\HusseinRizkana\\anaconda3\\lib\\site-packages\\sklearn\\linear_model\\_logistic.py:765: ConvergenceWarning: lbfgs failed to converge (status=1):\nSTOP: TOTAL NO. of ITERATIONS REACHED LIMIT.\n\nIncrease the number of iterations (max_iter) or scale the data as shown in:\n    https://scikit-learn.org/stable/modules/preprocessing.html\nPlease also refer to the documentation for alternative solver options:\n    https://scikit-learn.org/stable/modules/linear_model.html#logistic-regression\n  extra_warning_msg=_LOGISTIC_SOLVER_CONVERGENCE_MSG)\nC:\\Users\\HusseinRizkana\\anaconda3\\lib\\site-packages\\sklearn\\linear_model\\_logistic.py:765: ConvergenceWarning: lbfgs failed to converge (status=1):\nSTOP: TOTAL NO. of ITERATIONS REACHED LIMIT.\n\nIncrease the number of iterations (max_iter) or scale the data as shown in:\n    https://scikit-learn.org/stable/modules/preprocessing.html\nPlease also refer to the documentation for alternative solver options:\n    https://scikit-learn.org/stable/modules/linear_model.html#logistic-regression\n  extra_warning_msg=_LOGISTIC_SOLVER_CONVERGENCE_MSG)\n"
     ]
    },
    {
     "output_type": "display_data",
     "data": {
      "application/vnd.plotly.v1+json": {
       "config": {
        "plotlyServerURL": "https://plot.ly"
       },
       "data": [
        {
         "name": "LogReg ROC AUC=0.89",
         "type": "scatter",
         "x": [
          0,
          0,
          0,
          0,
          0.009523809523809525,
          0.009523809523809525,
          0.01904761904761905,
          0.01904761904761905,
          0.02857142857142857,
          0.02857142857142857,
          0.02857142857142857,
          0.02857142857142857,
          0.0380952380952381,
          0.0380952380952381,
          0.047619047619047616,
          0.047619047619047616,
          0.05714285714285714,
          0.05714285714285714,
          0.08571428571428572,
          0.08571428571428572,
          0.09523809523809523,
          0.09523809523809523,
          0.10476190476190476,
          0.10476190476190476,
          0.11428571428571428,
          0.11428571428571428,
          0.12380952380952381,
          0.12380952380952381,
          0.13333333333333333,
          0.13333333333333333,
          0.14285714285714285,
          0.14285714285714285,
          0.1523809523809524,
          0.1523809523809524,
          0.17142857142857143,
          0.17142857142857143,
          0.18095238095238095,
          0.18095238095238095,
          0.19047619047619047,
          0.19047619047619047,
          0.2,
          0.2,
          0.23809523809523808,
          0.23809523809523808,
          0.24761904761904763,
          0.24761904761904763,
          0.26666666666666666,
          0.26666666666666666,
          0.3047619047619048,
          0.3047619047619048,
          0.3333333333333333,
          0.3333333333333333,
          0.3619047619047619,
          0.3619047619047619,
          0.3904761904761905,
          0.3904761904761905,
          0.4,
          0.4,
          0.42857142857142855,
          0.42857142857142855,
          0.45714285714285713,
          0.45714285714285713,
          0.4666666666666667,
          0.4666666666666667,
          0.5619047619047619,
          0.5619047619047619,
          0.580952380952381,
          0.580952380952381,
          0.7333333333333333,
          0.7333333333333333,
          0.8571428571428571,
          0.8571428571428571,
          1
         ],
         "y": [
          0,
          0.007407407407407408,
          0.022222222222222223,
          0.08888888888888889,
          0.08888888888888889,
          0.11851851851851852,
          0.11851851851851852,
          0.2222222222222222,
          0.2222222222222222,
          0.2518518518518518,
          0.26666666666666666,
          0.5185185185185185,
          0.5185185185185185,
          0.5407407407407407,
          0.5407407407407407,
          0.6074074074074074,
          0.6074074074074074,
          0.6148148148148148,
          0.6148148148148148,
          0.6222222222222222,
          0.6222222222222222,
          0.6592592592592592,
          0.6592592592592592,
          0.6666666666666666,
          0.6666666666666666,
          0.6962962962962963,
          0.6962962962962963,
          0.725925925925926,
          0.725925925925926,
          0.7407407407407407,
          0.7407407407407407,
          0.7555555555555555,
          0.7555555555555555,
          0.762962962962963,
          0.762962962962963,
          0.7777777777777778,
          0.7777777777777778,
          0.8,
          0.8,
          0.8074074074074075,
          0.8074074074074075,
          0.8148148148148148,
          0.8148148148148148,
          0.8296296296296296,
          0.8296296296296296,
          0.8740740740740741,
          0.8740740740740741,
          0.8814814814814815,
          0.8814814814814815,
          0.8962962962962963,
          0.8962962962962963,
          0.9037037037037037,
          0.9037037037037037,
          0.9111111111111111,
          0.9111111111111111,
          0.9259259259259259,
          0.9259259259259259,
          0.9333333333333333,
          0.9333333333333333,
          0.9407407407407408,
          0.9407407407407408,
          0.9555555555555556,
          0.9555555555555556,
          0.9703703703703703,
          0.9703703703703703,
          0.9777777777777777,
          0.9777777777777777,
          0.9851851851851852,
          0.9851851851851852,
          0.9925925925925926,
          0.9925925925925926,
          1,
          1
         ]
        },
        {
         "name": "KNN ROC AUC=0.76",
         "type": "scatter",
         "x": [
          0,
          0.06666666666666667,
          0.17142857142857143,
          0.3904761904761905,
          0.6285714285714286,
          0.8666666666666667,
          1
         ],
         "y": [
          0,
          0.2222222222222222,
          0.6,
          0.7703703703703704,
          0.9111111111111111,
          0.9777777777777777,
          1
         ]
        },
        {
         "name": "DecisionTree ROC AUC=0.78",
         "type": "scatter",
         "x": [
          0,
          0.11428571428571428,
          0.12380952380952381,
          0.14285714285714285,
          0.1523809523809524,
          0.1523809523809524,
          0.1619047619047619,
          0.17142857142857143,
          0.17142857142857143,
          0.17142857142857143,
          0.18095238095238095,
          0.21904761904761905,
          0.23809523809523808,
          0.23809523809523808,
          0.2571428571428571,
          0.3047619047619048,
          0.3142857142857143,
          0.3619047619047619,
          0.3619047619047619,
          0.45714285714285713,
          0.45714285714285713,
          0.47619047619047616,
          0.4857142857142857,
          0.49523809523809526,
          0.5142857142857142,
          0.5333333333333333,
          0.5619047619047619,
          1
         ],
         "y": [
          0,
          0.362962962962963,
          0.43703703703703706,
          0.48148148148148145,
          0.5481481481481482,
          0.562962962962963,
          0.5703703703703704,
          0.5703703703703704,
          0.5925925925925926,
          0.6074074074074074,
          0.6148148148148148,
          0.674074074074074,
          0.6814814814814815,
          0.7037037037037037,
          0.7481481481481481,
          0.762962962962963,
          0.7851851851851852,
          0.8148148148148148,
          0.8222222222222222,
          0.8592592592592593,
          0.8666666666666667,
          0.8888888888888888,
          0.8962962962962963,
          0.8962962962962963,
          0.9037037037037037,
          0.9185185185185185,
          0.9185185185185185,
          1
         ]
        },
        {
         "name": "SVC ROC AUC=0.74",
         "type": "scatter",
         "x": [
          0,
          0,
          0,
          0,
          0.009523809523809525,
          0.009523809523809525,
          0.0380952380952381,
          0.0380952380952381,
          0.047619047619047616,
          0.047619047619047616,
          0.06666666666666667,
          0.06666666666666667,
          0.0761904761904762,
          0.0761904761904762,
          0.09523809523809523,
          0.09523809523809523,
          0.09523809523809523,
          0.09523809523809523,
          0.10476190476190476,
          0.10476190476190476,
          0.11428571428571428,
          0.11428571428571428,
          0.12380952380952381,
          0.12380952380952381,
          0.13333333333333333,
          0.13333333333333333,
          0.14285714285714285,
          0.14285714285714285,
          0.1619047619047619,
          0.1619047619047619,
          0.2,
          0.2,
          0.20952380952380953,
          0.20952380952380953,
          0.22857142857142856,
          0.22857142857142856,
          0.23809523809523808,
          0.23809523809523808,
          0.24761904761904763,
          0.24761904761904763,
          0.2571428571428571,
          0.2571428571428571,
          0.2761904761904762,
          0.2761904761904762,
          0.2857142857142857,
          0.2857142857142857,
          0.29523809523809524,
          0.29523809523809524,
          0.3047619047619048,
          0.3047619047619048,
          0.3523809523809524,
          0.3523809523809524,
          0.3619047619047619,
          0.3619047619047619,
          0.37142857142857144,
          0.37142857142857144,
          0.38095238095238093,
          0.38095238095238093,
          0.4095238095238095,
          0.4095238095238095,
          0.4380952380952381,
          0.4380952380952381,
          0.4666666666666667,
          0.49523809523809526,
          0.49523809523809526,
          0.5238095238095238,
          0.5238095238095238,
          0.5333333333333333,
          0.5333333333333333,
          0.5523809523809524,
          0.5523809523809524,
          0.5619047619047619,
          0.5619047619047619,
          0.5714285714285714,
          0.5714285714285714,
          0.5904761904761905,
          0.5904761904761905,
          0.7047619047619048,
          0.7047619047619048,
          0.7523809523809524,
          0.7523809523809524,
          0.7619047619047619,
          0.7619047619047619,
          0.8285714285714286,
          0.8285714285714286,
          0.8380952380952381,
          0.8380952380952381,
          0.8666666666666667,
          0.8666666666666667,
          0.9142857142857143,
          0.9142857142857143,
          0.9523809523809523,
          0.9523809523809523,
          0.9619047619047619,
          0.9619047619047619,
          1
         ],
         "y": [
          0,
          0.007407407407407408,
          0.02962962962962963,
          0.044444444444444446,
          0.044444444444444446,
          0.05185185185185185,
          0.05185185185185185,
          0.05925925925925926,
          0.05925925925925926,
          0.13333333333333333,
          0.13333333333333333,
          0.16296296296296298,
          0.16296296296296298,
          0.21481481481481482,
          0.21481481481481482,
          0.2518518518518518,
          0.26666666666666666,
          0.3037037037037037,
          0.3037037037037037,
          0.32592592592592595,
          0.32592592592592595,
          0.362962962962963,
          0.362962962962963,
          0.42962962962962964,
          0.42962962962962964,
          0.43703703703703706,
          0.43703703703703706,
          0.45185185185185184,
          0.45185185185185184,
          0.4888888888888889,
          0.4888888888888889,
          0.4962962962962963,
          0.4962962962962963,
          0.5185185185185185,
          0.5185185185185185,
          0.5703703703703704,
          0.5703703703703704,
          0.5777777777777777,
          0.5777777777777777,
          0.6296296296296297,
          0.6296296296296297,
          0.6518518518518519,
          0.6518518518518519,
          0.6592592592592592,
          0.6592592592592592,
          0.674074074074074,
          0.674074074074074,
          0.725925925925926,
          0.725925925925926,
          0.7555555555555555,
          0.7555555555555555,
          0.7851851851851852,
          0.7851851851851852,
          0.7925925925925926,
          0.7925925925925926,
          0.8,
          0.8,
          0.8074074074074075,
          0.8074074074074075,
          0.8148148148148148,
          0.8148148148148148,
          0.8296296296296296,
          0.837037037037037,
          0.837037037037037,
          0.8444444444444444,
          0.8444444444444444,
          0.8518518518518519,
          0.8518518518518519,
          0.8592592592592593,
          0.8592592592592593,
          0.8666666666666667,
          0.8666666666666667,
          0.8740740740740741,
          0.8740740740740741,
          0.8888888888888888,
          0.8888888888888888,
          0.8962962962962963,
          0.8962962962962963,
          0.9037037037037037,
          0.9037037037037037,
          0.9111111111111111,
          0.9111111111111111,
          0.9407407407407408,
          0.9407407407407408,
          0.9555555555555556,
          0.9555555555555556,
          0.9629629629629629,
          0.9629629629629629,
          0.9703703703703703,
          0.9703703703703703,
          0.9777777777777777,
          0.9777777777777777,
          0.9851851851851852,
          0.9851851851851852,
          1,
          1
         ]
        },
        {
         "name": "RFC ROC AUC=0.87",
         "type": "scatter",
         "x": [
          0,
          0,
          0,
          0,
          0.01904761904761905,
          0.01904761904761905,
          0.01904761904761905,
          0.01904761904761905,
          0.01904761904761905,
          0.01904761904761905,
          0.02857142857142857,
          0.02857142857142857,
          0.0380952380952381,
          0.0380952380952381,
          0.047619047619047616,
          0.047619047619047616,
          0.05714285714285714,
          0.05714285714285714,
          0.06666666666666667,
          0.06666666666666667,
          0.0761904761904762,
          0.0761904761904762,
          0.08571428571428572,
          0.08571428571428572,
          0.14285714285714285,
          0.14285714285714285,
          0.14285714285714285,
          0.14285714285714285,
          0.1523809523809524,
          0.1523809523809524,
          0.1619047619047619,
          0.1619047619047619,
          0.17142857142857143,
          0.17142857142857143,
          0.2,
          0.2,
          0.20952380952380953,
          0.20952380952380953,
          0.21904761904761905,
          0.21904761904761905,
          0.2857142857142857,
          0.2857142857142857,
          0.3142857142857143,
          0.3142857142857143,
          0.3619047619047619,
          0.3619047619047619,
          0.37142857142857144,
          0.37142857142857144,
          0.4095238095238095,
          0.4095238095238095,
          0.4380952380952381,
          0.4380952380952381,
          0.49523809523809526,
          0.49523809523809526,
          0.5047619047619047,
          0.5047619047619047,
          0.5714285714285714,
          0.5714285714285714,
          0.6095238095238096,
          0.6095238095238096,
          0.6285714285714286,
          0.6285714285714286,
          0.7238095238095238,
          0.7238095238095238,
          0.9904761904761905,
          0.9904761904761905,
          1
         ],
         "y": [
          0,
          0.007407407407407408,
          0.022222222222222223,
          0.044444444444444446,
          0.044444444444444446,
          0.14814814814814814,
          0.16296296296296298,
          0.18518518518518517,
          0.2,
          0.24444444444444444,
          0.24444444444444444,
          0.5333333333333333,
          0.5333333333333333,
          0.5481481481481482,
          0.5481481481481482,
          0.5851851851851851,
          0.5851851851851851,
          0.6148148148148148,
          0.6148148148148148,
          0.6370370370370371,
          0.6370370370370371,
          0.6518518518518519,
          0.6518518518518519,
          0.6666666666666666,
          0.6666666666666666,
          0.6814814814814815,
          0.6962962962962963,
          0.7037037037037037,
          0.7037037037037037,
          0.7185185185185186,
          0.7185185185185186,
          0.7333333333333333,
          0.7333333333333333,
          0.7481481481481481,
          0.7481481481481481,
          0.7777777777777778,
          0.7777777777777778,
          0.8222222222222222,
          0.8222222222222222,
          0.8296296296296296,
          0.8296296296296296,
          0.8444444444444444,
          0.8444444444444444,
          0.8518518518518519,
          0.8518518518518519,
          0.8592592592592593,
          0.8592592592592593,
          0.8888888888888888,
          0.8888888888888888,
          0.9185185185185185,
          0.9185185185185185,
          0.9259259259259259,
          0.9259259259259259,
          0.9555555555555556,
          0.9555555555555556,
          0.9629629629629629,
          0.9629629629629629,
          0.9703703703703703,
          0.9703703703703703,
          0.9777777777777777,
          0.9777777777777777,
          0.9851851851851852,
          0.9851851851851852,
          0.9925925925925926,
          0.9925925925925926,
          1,
          1
         ]
        },
        {
         "name": "bag ROC AUC=0.87",
         "type": "scatter",
         "x": [
          0,
          0,
          0,
          0,
          0,
          0,
          0,
          0.009523809523809525,
          0.009523809523809525,
          0.01904761904761905,
          0.01904761904761905,
          0.01904761904761905,
          0.01904761904761905,
          0.02857142857142857,
          0.02857142857142857,
          0.047619047619047616,
          0.047619047619047616,
          0.05714285714285714,
          0.05714285714285714,
          0.06666666666666667,
          0.06666666666666667,
          0.0761904761904762,
          0.0761904761904762,
          0.08571428571428572,
          0.08571428571428572,
          0.09523809523809523,
          0.09523809523809523,
          0.11428571428571428,
          0.11428571428571428,
          0.12380952380952381,
          0.12380952380952381,
          0.14285714285714285,
          0.14285714285714285,
          0.1619047619047619,
          0.1619047619047619,
          0.17142857142857143,
          0.17142857142857143,
          0.2,
          0.2,
          0.20952380952380953,
          0.20952380952380953,
          0.22857142857142856,
          0.22857142857142856,
          0.2761904761904762,
          0.2761904761904762,
          0.3047619047619048,
          0.3047619047619048,
          0.3142857142857143,
          0.3142857142857143,
          0.3619047619047619,
          0.3619047619047619,
          0.38095238095238093,
          0.38095238095238093,
          0.42857142857142855,
          0.42857142857142855,
          0.4380952380952381,
          0.4380952380952381,
          0.44761904761904764,
          0.44761904761904764,
          0.45714285714285713,
          0.45714285714285713,
          0.47619047619047616,
          0.47619047619047616,
          0.4857142857142857,
          0.4857142857142857,
          0.5619047619047619,
          0.5619047619047619,
          0.5904761904761905,
          0.5904761904761905,
          0.6761904761904762,
          0.6761904761904762,
          0.6952380952380952,
          0.6952380952380952,
          0.9809523809523809,
          0.9809523809523809,
          1
         ],
         "y": [
          0,
          0.007407407407407408,
          0.044444444444444446,
          0.05925925925925926,
          0.08888888888888889,
          0.1037037037037037,
          0.11851851851851852,
          0.11851851851851852,
          0.14814814814814814,
          0.14814814814814814,
          0.16296296296296298,
          0.17777777777777778,
          0.2,
          0.2,
          0.4962962962962963,
          0.4962962962962963,
          0.5259259259259259,
          0.5259259259259259,
          0.5407407407407407,
          0.5407407407407407,
          0.5925925925925926,
          0.5925925925925926,
          0.6222222222222222,
          0.6222222222222222,
          0.6370370370370371,
          0.6370370370370371,
          0.6962962962962963,
          0.6962962962962963,
          0.725925925925926,
          0.725925925925926,
          0.7481481481481481,
          0.7481481481481481,
          0.7555555555555555,
          0.7555555555555555,
          0.7703703703703704,
          0.7703703703703704,
          0.7851851851851852,
          0.7851851851851852,
          0.7925925925925926,
          0.7925925925925926,
          0.8222222222222222,
          0.8222222222222222,
          0.837037037037037,
          0.837037037037037,
          0.8444444444444444,
          0.8444444444444444,
          0.8518518518518519,
          0.8518518518518519,
          0.8592592592592593,
          0.8592592592592593,
          0.8740740740740741,
          0.8740740740740741,
          0.8814814814814815,
          0.8814814814814815,
          0.9037037037037037,
          0.9037037037037037,
          0.9185185185185185,
          0.9185185185185185,
          0.9259259259259259,
          0.9259259259259259,
          0.9481481481481482,
          0.9481481481481482,
          0.9555555555555556,
          0.9555555555555556,
          0.9629629629629629,
          0.9629629629629629,
          0.9703703703703703,
          0.9703703703703703,
          0.9777777777777777,
          0.9777777777777777,
          0.9851851851851852,
          0.9851851851851852,
          0.9925925925925926,
          0.9925925925925926,
          1,
          1
         ]
        },
        {
         "name": "etc ROC AUC=0.88",
         "type": "scatter",
         "x": [
          0,
          0,
          0,
          0,
          0.01904761904761905,
          0.01904761904761905,
          0.01904761904761905,
          0.01904761904761905,
          0.02857142857142857,
          0.02857142857142857,
          0.0380952380952381,
          0.0380952380952381,
          0.047619047619047616,
          0.047619047619047616,
          0.047619047619047616,
          0.047619047619047616,
          0.05714285714285714,
          0.05714285714285714,
          0.06666666666666667,
          0.06666666666666667,
          0.0761904761904762,
          0.0761904761904762,
          0.10476190476190476,
          0.10476190476190476,
          0.11428571428571428,
          0.11428571428571428,
          0.13333333333333333,
          0.13333333333333333,
          0.1619047619047619,
          0.1619047619047619,
          0.19047619047619047,
          0.19047619047619047,
          0.20952380952380953,
          0.20952380952380953,
          0.23809523809523808,
          0.23809523809523808,
          0.26666666666666666,
          0.26666666666666666,
          0.2857142857142857,
          0.2857142857142857,
          0.29523809523809524,
          0.29523809523809524,
          0.3047619047619048,
          0.3047619047619048,
          0.3333333333333333,
          0.3333333333333333,
          0.3523809523809524,
          0.3523809523809524,
          0.3904761904761905,
          0.3904761904761905,
          0.4095238095238095,
          0.4095238095238095,
          0.44761904761904764,
          0.44761904761904764,
          0.45714285714285713,
          0.45714285714285713,
          0.4857142857142857,
          0.4857142857142857,
          0.5142857142857142,
          0.5142857142857142,
          0.5238095238095238,
          0.5238095238095238,
          0.5333333333333333,
          0.5333333333333333,
          0.5714285714285714,
          0.5714285714285714,
          0.6,
          0.6,
          0.6095238095238096,
          0.6095238095238096,
          0.6666666666666666,
          0.6666666666666666,
          0.9428571428571428,
          0.9428571428571428,
          1
         ],
         "y": [
          0,
          0.007407407407407408,
          0.022222222222222223,
          0.1259259259259259,
          0.1259259259259259,
          0.16296296296296298,
          0.17777777777777778,
          0.18518518518518517,
          0.18518518518518517,
          0.5037037037037037,
          0.5037037037037037,
          0.5185185185185185,
          0.5185185185185185,
          0.5407407407407407,
          0.5555555555555556,
          0.5925925925925926,
          0.5925925925925926,
          0.6,
          0.6,
          0.6296296296296297,
          0.6296296296296297,
          0.6814814814814815,
          0.6814814814814815,
          0.6962962962962963,
          0.6962962962962963,
          0.7481481481481481,
          0.7481481481481481,
          0.762962962962963,
          0.762962962962963,
          0.7777777777777778,
          0.7777777777777778,
          0.7851851851851852,
          0.7851851851851852,
          0.8148148148148148,
          0.8148148148148148,
          0.8222222222222222,
          0.8222222222222222,
          0.8296296296296296,
          0.8296296296296296,
          0.837037037037037,
          0.837037037037037,
          0.8444444444444444,
          0.8444444444444444,
          0.8666666666666667,
          0.8666666666666667,
          0.8740740740740741,
          0.8740740740740741,
          0.8814814814814815,
          0.8814814814814815,
          0.8962962962962963,
          0.8962962962962963,
          0.9111111111111111,
          0.9111111111111111,
          0.9185185185185185,
          0.9185185185185185,
          0.9259259259259259,
          0.9259259259259259,
          0.9333333333333333,
          0.9333333333333333,
          0.9407407407407408,
          0.9407407407407408,
          0.9481481481481482,
          0.9481481481481482,
          0.9629629629629629,
          0.9629629629629629,
          0.9703703703703703,
          0.9703703703703703,
          0.9777777777777777,
          0.9777777777777777,
          0.9851851851851852,
          0.9851851851851852,
          0.9925925925925926,
          0.9925925925925926,
          1,
          1
         ]
        }
       ],
       "layout": {
        "template": {
         "data": {
          "bar": [
           {
            "error_x": {
             "color": "#2a3f5f"
            },
            "error_y": {
             "color": "#2a3f5f"
            },
            "marker": {
             "line": {
              "color": "#E5ECF6",
              "width": 0.5
             }
            },
            "type": "bar"
           }
          ],
          "barpolar": [
           {
            "marker": {
             "line": {
              "color": "#E5ECF6",
              "width": 0.5
             }
            },
            "type": "barpolar"
           }
          ],
          "carpet": [
           {
            "aaxis": {
             "endlinecolor": "#2a3f5f",
             "gridcolor": "white",
             "linecolor": "white",
             "minorgridcolor": "white",
             "startlinecolor": "#2a3f5f"
            },
            "baxis": {
             "endlinecolor": "#2a3f5f",
             "gridcolor": "white",
             "linecolor": "white",
             "minorgridcolor": "white",
             "startlinecolor": "#2a3f5f"
            },
            "type": "carpet"
           }
          ],
          "choropleth": [
           {
            "colorbar": {
             "outlinewidth": 0,
             "ticks": ""
            },
            "type": "choropleth"
           }
          ],
          "contour": [
           {
            "colorbar": {
             "outlinewidth": 0,
             "ticks": ""
            },
            "colorscale": [
             [
              0,
              "#0d0887"
             ],
             [
              0.1111111111111111,
              "#46039f"
             ],
             [
              0.2222222222222222,
              "#7201a8"
             ],
             [
              0.3333333333333333,
              "#9c179e"
             ],
             [
              0.4444444444444444,
              "#bd3786"
             ],
             [
              0.5555555555555556,
              "#d8576b"
             ],
             [
              0.6666666666666666,
              "#ed7953"
             ],
             [
              0.7777777777777778,
              "#fb9f3a"
             ],
             [
              0.8888888888888888,
              "#fdca26"
             ],
             [
              1,
              "#f0f921"
             ]
            ],
            "type": "contour"
           }
          ],
          "contourcarpet": [
           {
            "colorbar": {
             "outlinewidth": 0,
             "ticks": ""
            },
            "type": "contourcarpet"
           }
          ],
          "heatmap": [
           {
            "colorbar": {
             "outlinewidth": 0,
             "ticks": ""
            },
            "colorscale": [
             [
              0,
              "#0d0887"
             ],
             [
              0.1111111111111111,
              "#46039f"
             ],
             [
              0.2222222222222222,
              "#7201a8"
             ],
             [
              0.3333333333333333,
              "#9c179e"
             ],
             [
              0.4444444444444444,
              "#bd3786"
             ],
             [
              0.5555555555555556,
              "#d8576b"
             ],
             [
              0.6666666666666666,
              "#ed7953"
             ],
             [
              0.7777777777777778,
              "#fb9f3a"
             ],
             [
              0.8888888888888888,
              "#fdca26"
             ],
             [
              1,
              "#f0f921"
             ]
            ],
            "type": "heatmap"
           }
          ],
          "heatmapgl": [
           {
            "colorbar": {
             "outlinewidth": 0,
             "ticks": ""
            },
            "colorscale": [
             [
              0,
              "#0d0887"
             ],
             [
              0.1111111111111111,
              "#46039f"
             ],
             [
              0.2222222222222222,
              "#7201a8"
             ],
             [
              0.3333333333333333,
              "#9c179e"
             ],
             [
              0.4444444444444444,
              "#bd3786"
             ],
             [
              0.5555555555555556,
              "#d8576b"
             ],
             [
              0.6666666666666666,
              "#ed7953"
             ],
             [
              0.7777777777777778,
              "#fb9f3a"
             ],
             [
              0.8888888888888888,
              "#fdca26"
             ],
             [
              1,
              "#f0f921"
             ]
            ],
            "type": "heatmapgl"
           }
          ],
          "histogram": [
           {
            "marker": {
             "colorbar": {
              "outlinewidth": 0,
              "ticks": ""
             }
            },
            "type": "histogram"
           }
          ],
          "histogram2d": [
           {
            "colorbar": {
             "outlinewidth": 0,
             "ticks": ""
            },
            "colorscale": [
             [
              0,
              "#0d0887"
             ],
             [
              0.1111111111111111,
              "#46039f"
             ],
             [
              0.2222222222222222,
              "#7201a8"
             ],
             [
              0.3333333333333333,
              "#9c179e"
             ],
             [
              0.4444444444444444,
              "#bd3786"
             ],
             [
              0.5555555555555556,
              "#d8576b"
             ],
             [
              0.6666666666666666,
              "#ed7953"
             ],
             [
              0.7777777777777778,
              "#fb9f3a"
             ],
             [
              0.8888888888888888,
              "#fdca26"
             ],
             [
              1,
              "#f0f921"
             ]
            ],
            "type": "histogram2d"
           }
          ],
          "histogram2dcontour": [
           {
            "colorbar": {
             "outlinewidth": 0,
             "ticks": ""
            },
            "colorscale": [
             [
              0,
              "#0d0887"
             ],
             [
              0.1111111111111111,
              "#46039f"
             ],
             [
              0.2222222222222222,
              "#7201a8"
             ],
             [
              0.3333333333333333,
              "#9c179e"
             ],
             [
              0.4444444444444444,
              "#bd3786"
             ],
             [
              0.5555555555555556,
              "#d8576b"
             ],
             [
              0.6666666666666666,
              "#ed7953"
             ],
             [
              0.7777777777777778,
              "#fb9f3a"
             ],
             [
              0.8888888888888888,
              "#fdca26"
             ],
             [
              1,
              "#f0f921"
             ]
            ],
            "type": "histogram2dcontour"
           }
          ],
          "mesh3d": [
           {
            "colorbar": {
             "outlinewidth": 0,
             "ticks": ""
            },
            "type": "mesh3d"
           }
          ],
          "parcoords": [
           {
            "line": {
             "colorbar": {
              "outlinewidth": 0,
              "ticks": ""
             }
            },
            "type": "parcoords"
           }
          ],
          "pie": [
           {
            "automargin": true,
            "type": "pie"
           }
          ],
          "scatter": [
           {
            "marker": {
             "colorbar": {
              "outlinewidth": 0,
              "ticks": ""
             }
            },
            "type": "scatter"
           }
          ],
          "scatter3d": [
           {
            "line": {
             "colorbar": {
              "outlinewidth": 0,
              "ticks": ""
             }
            },
            "marker": {
             "colorbar": {
              "outlinewidth": 0,
              "ticks": ""
             }
            },
            "type": "scatter3d"
           }
          ],
          "scattercarpet": [
           {
            "marker": {
             "colorbar": {
              "outlinewidth": 0,
              "ticks": ""
             }
            },
            "type": "scattercarpet"
           }
          ],
          "scattergeo": [
           {
            "marker": {
             "colorbar": {
              "outlinewidth": 0,
              "ticks": ""
             }
            },
            "type": "scattergeo"
           }
          ],
          "scattergl": [
           {
            "marker": {
             "colorbar": {
              "outlinewidth": 0,
              "ticks": ""
             }
            },
            "type": "scattergl"
           }
          ],
          "scattermapbox": [
           {
            "marker": {
             "colorbar": {
              "outlinewidth": 0,
              "ticks": ""
             }
            },
            "type": "scattermapbox"
           }
          ],
          "scatterpolar": [
           {
            "marker": {
             "colorbar": {
              "outlinewidth": 0,
              "ticks": ""
             }
            },
            "type": "scatterpolar"
           }
          ],
          "scatterpolargl": [
           {
            "marker": {
             "colorbar": {
              "outlinewidth": 0,
              "ticks": ""
             }
            },
            "type": "scatterpolargl"
           }
          ],
          "scatterternary": [
           {
            "marker": {
             "colorbar": {
              "outlinewidth": 0,
              "ticks": ""
             }
            },
            "type": "scatterternary"
           }
          ],
          "surface": [
           {
            "colorbar": {
             "outlinewidth": 0,
             "ticks": ""
            },
            "colorscale": [
             [
              0,
              "#0d0887"
             ],
             [
              0.1111111111111111,
              "#46039f"
             ],
             [
              0.2222222222222222,
              "#7201a8"
             ],
             [
              0.3333333333333333,
              "#9c179e"
             ],
             [
              0.4444444444444444,
              "#bd3786"
             ],
             [
              0.5555555555555556,
              "#d8576b"
             ],
             [
              0.6666666666666666,
              "#ed7953"
             ],
             [
              0.7777777777777778,
              "#fb9f3a"
             ],
             [
              0.8888888888888888,
              "#fdca26"
             ],
             [
              1,
              "#f0f921"
             ]
            ],
            "type": "surface"
           }
          ],
          "table": [
           {
            "cells": {
             "fill": {
              "color": "#EBF0F8"
             },
             "line": {
              "color": "white"
             }
            },
            "header": {
             "fill": {
              "color": "#C8D4E3"
             },
             "line": {
              "color": "white"
             }
            },
            "type": "table"
           }
          ]
         },
         "layout": {
          "annotationdefaults": {
           "arrowcolor": "#2a3f5f",
           "arrowhead": 0,
           "arrowwidth": 1
          },
          "autotypenumbers": "strict",
          "coloraxis": {
           "colorbar": {
            "outlinewidth": 0,
            "ticks": ""
           }
          },
          "colorscale": {
           "diverging": [
            [
             0,
             "#8e0152"
            ],
            [
             0.1,
             "#c51b7d"
            ],
            [
             0.2,
             "#de77ae"
            ],
            [
             0.3,
             "#f1b6da"
            ],
            [
             0.4,
             "#fde0ef"
            ],
            [
             0.5,
             "#f7f7f7"
            ],
            [
             0.6,
             "#e6f5d0"
            ],
            [
             0.7,
             "#b8e186"
            ],
            [
             0.8,
             "#7fbc41"
            ],
            [
             0.9,
             "#4d9221"
            ],
            [
             1,
             "#276419"
            ]
           ],
           "sequential": [
            [
             0,
             "#0d0887"
            ],
            [
             0.1111111111111111,
             "#46039f"
            ],
            [
             0.2222222222222222,
             "#7201a8"
            ],
            [
             0.3333333333333333,
             "#9c179e"
            ],
            [
             0.4444444444444444,
             "#bd3786"
            ],
            [
             0.5555555555555556,
             "#d8576b"
            ],
            [
             0.6666666666666666,
             "#ed7953"
            ],
            [
             0.7777777777777778,
             "#fb9f3a"
            ],
            [
             0.8888888888888888,
             "#fdca26"
            ],
            [
             1,
             "#f0f921"
            ]
           ],
           "sequentialminus": [
            [
             0,
             "#0d0887"
            ],
            [
             0.1111111111111111,
             "#46039f"
            ],
            [
             0.2222222222222222,
             "#7201a8"
            ],
            [
             0.3333333333333333,
             "#9c179e"
            ],
            [
             0.4444444444444444,
             "#bd3786"
            ],
            [
             0.5555555555555556,
             "#d8576b"
            ],
            [
             0.6666666666666666,
             "#ed7953"
            ],
            [
             0.7777777777777778,
             "#fb9f3a"
            ],
            [
             0.8888888888888888,
             "#fdca26"
            ],
            [
             1,
             "#f0f921"
            ]
           ]
          },
          "colorway": [
           "#636efa",
           "#EF553B",
           "#00cc96",
           "#ab63fa",
           "#FFA15A",
           "#19d3f3",
           "#FF6692",
           "#B6E880",
           "#FF97FF",
           "#FECB52"
          ],
          "font": {
           "color": "#2a3f5f"
          },
          "geo": {
           "bgcolor": "white",
           "lakecolor": "white",
           "landcolor": "#E5ECF6",
           "showlakes": true,
           "showland": true,
           "subunitcolor": "white"
          },
          "hoverlabel": {
           "align": "left"
          },
          "hovermode": "closest",
          "mapbox": {
           "style": "light"
          },
          "paper_bgcolor": "white",
          "plot_bgcolor": "#E5ECF6",
          "polar": {
           "angularaxis": {
            "gridcolor": "white",
            "linecolor": "white",
            "ticks": ""
           },
           "bgcolor": "#E5ECF6",
           "radialaxis": {
            "gridcolor": "white",
            "linecolor": "white",
            "ticks": ""
           }
          },
          "scene": {
           "xaxis": {
            "backgroundcolor": "#E5ECF6",
            "gridcolor": "white",
            "gridwidth": 2,
            "linecolor": "white",
            "showbackground": true,
            "ticks": "",
            "zerolinecolor": "white"
           },
           "yaxis": {
            "backgroundcolor": "#E5ECF6",
            "gridcolor": "white",
            "gridwidth": 2,
            "linecolor": "white",
            "showbackground": true,
            "ticks": "",
            "zerolinecolor": "white"
           },
           "zaxis": {
            "backgroundcolor": "#E5ECF6",
            "gridcolor": "white",
            "gridwidth": 2,
            "linecolor": "white",
            "showbackground": true,
            "ticks": "",
            "zerolinecolor": "white"
           }
          },
          "shapedefaults": {
           "line": {
            "color": "#2a3f5f"
           }
          },
          "ternary": {
           "aaxis": {
            "gridcolor": "white",
            "linecolor": "white",
            "ticks": ""
           },
           "baxis": {
            "gridcolor": "white",
            "linecolor": "white",
            "ticks": ""
           },
           "bgcolor": "#E5ECF6",
           "caxis": {
            "gridcolor": "white",
            "linecolor": "white",
            "ticks": ""
           }
          },
          "title": {
           "x": 0.05
          },
          "xaxis": {
           "automargin": true,
           "gridcolor": "white",
           "linecolor": "white",
           "ticks": "",
           "title": {
            "standoff": 15
           },
           "zerolinecolor": "white",
           "zerolinewidth": 2
          },
          "yaxis": {
           "automargin": true,
           "gridcolor": "white",
           "linecolor": "white",
           "ticks": "",
           "title": {
            "standoff": 15
           },
           "zerolinecolor": "white",
           "zerolinewidth": 2
          }
         }
        }
       }
      }
     },
     "metadata": {}
    }
   ],
   "source": [
    "import plotly.graph_objects as go\n",
    "from sklearn.model_selection import cross_val_predict\n",
    "parameters_logreg = {}\n",
    "y_score0 = cross_val_predict(logreg, X_train.drop(dropped_cols, axis=1), y_train, cv=5, method='predict_proba')[:,1]\n",
    "logreg_fpr, logreg_tpr, logregthresh = roc_curve(y_train, y_score0)\n",
    "auc_log = auc(logreg_fpr, logreg_tpr)\n",
    "fig0 = go.Scatter(x=logreg_fpr, y=logreg_tpr, name=f\"LogReg ROC AUC={auc_log:.2f}\")\n",
    "\n",
    "parameters_knn = {}\n",
    "y_score1 = cross_val_predict(knn, X_train.drop(dropped_cols, axis=1), y_train, cv=5, method='predict_proba')[:,1]\n",
    "log_fpr, log_tpr, thresh = roc_curve(y_train, y_score1)\n",
    "auc_log = auc(log_fpr, log_tpr)\n",
    "fig1 = go.Scatter(x=log_fpr, y=log_tpr, name=f\"KNN ROC AUC={auc_log:.2f}\")\n",
    "\n",
    "parameters_tre = {}\n",
    "y_score2 = cross_val_predict(tre, X_train.drop(dropped_cols, axis=1), y_train, cv=5, method='predict_proba')[:,1]\n",
    "log_fpr, log_tpr, thresh = roc_curve(y_train, y_score2)\n",
    "auc_log = auc(log_fpr, log_tpr)\n",
    "fig2 = go.Scatter(x=log_fpr, y=log_tpr, name=f\"DecisionTree ROC AUC={auc_log:.2f}\")\n",
    "\n",
    "parameters_svc = {}\n",
    "y_score3 = cross_val_predict(svc, X_train.drop(dropped_cols, axis=1), y_train, cv=5, method='predict_proba')[:,1]\n",
    "log_fpr, log_tpr, thresh = roc_curve(y_train, y_score3)\n",
    "auc_log = auc(log_fpr, log_tpr)\n",
    "fig3 = go.Scatter(x=log_fpr, y=log_tpr, name=f\"SVC ROC AUC={auc_log:.2f}\")\n",
    "\n",
    "parameters_rfc = {}\n",
    "y_score4 = cross_val_predict(rfc, X_train.drop(dropped_cols, axis=1), y_train, cv=5, method='predict_proba')[:,1]\n",
    "log_fpr, log_tpr, thresh = roc_curve(y_train, y_score4)\n",
    "auc_log = auc(log_fpr, log_tpr)\n",
    "fig4 = go.Scatter(x=log_fpr, y=log_tpr, name=f\"RFC ROC AUC={auc_log:.2f}\")\n",
    "\n",
    "parameters_bag = {}\n",
    "y_score5 = cross_val_predict(bag, X_train.drop(dropped_cols, axis=1), y_train, cv=5, method='predict_proba')[:,1]\n",
    "log_fpr, log_tpr, thresh = roc_curve(y_train, y_score5)\n",
    "auc_log = auc(log_fpr, log_tpr)\n",
    "fig5 = go.Scatter(x=log_fpr, y=log_tpr, name=f\"bag ROC AUC={auc_log:.2f}\")\n",
    "\n",
    "y_score6 = cross_val_predict(etc, X_train.drop(dropped_cols, axis=1), y_train, cv=5, method='predict_proba')[:,1]\n",
    "log_fpr, log_tpr, thresh = roc_curve(y_train, y_score6)\n",
    "auc_log = auc(log_fpr, log_tpr)\n",
    "fig6 = go.Scatter(x=log_fpr, y=log_tpr, name=f\"etc ROC AUC={auc_log:.2f}\")\n",
    "\n",
    "figure = go.Figure()\n",
    "figure.add_trace(fig0)\n",
    "figure.add_trace(fig1)\n",
    "figure.add_trace(fig2)\n",
    "figure.add_trace(fig3)\n",
    "figure.add_trace(fig4)\n",
    "figure.add_trace(fig5)\n",
    "figure.add_trace(fig6)\n"
   ]
  },
  {
   "source": [
    "# Model Choice\n",
    "\n",
    "The final model chosen was logistic regression model. This was chosen as it was achieving similar AUC, accuracy and recall to the other ensemble models that would be much harder to interpret. "
   ],
   "cell_type": "markdown",
   "metadata": {}
  },
  {
   "cell_type": "code",
   "execution_count": 21,
   "metadata": {},
   "outputs": [
    {
     "output_type": "execute_result",
     "data": {
      "text/plain": [
       "2.4459015915315527"
      ]
     },
     "metadata": {},
     "execution_count": 21
    }
   ],
   "source": [
    "import numpy as np\n",
    "fm = np.exp(logreg_tpr) - 0.13 * np.exp(logreg_fpr)\n",
    "max(fm)\n"
   ]
  },
  {
   "source": [
    "Chosen threshold = 0.32 due to having the highest fm"
   ],
   "cell_type": "markdown",
   "metadata": {}
  },
  {
   "source": [
    "logreg = LogisticRegression()\n",
    "logreg.fit(X_train.drop(dropped_cols, axis=1), y_train)"
   ],
   "cell_type": "code",
   "metadata": {},
   "execution_count": 23,
   "outputs": [
    {
     "output_type": "stream",
     "name": "stderr",
     "text": [
      "C:\\Users\\HusseinRizkana\\anaconda3\\lib\\site-packages\\sklearn\\linear_model\\_logistic.py:765: ConvergenceWarning:\n\nlbfgs failed to converge (status=1):\nSTOP: TOTAL NO. of ITERATIONS REACHED LIMIT.\n\nIncrease the number of iterations (max_iter) or scale the data as shown in:\n    https://scikit-learn.org/stable/modules/preprocessing.html\nPlease also refer to the documentation for alternative solver options:\n    https://scikit-learn.org/stable/modules/linear_model.html#logistic-regression\n\n"
     ]
    },
    {
     "output_type": "execute_result",
     "data": {
      "text/plain": [
       "LogisticRegression()"
      ]
     },
     "metadata": {},
     "execution_count": 23
    }
   ]
  },
  {
   "source": [
    "# Final Model Testing"
   ],
   "cell_type": "markdown",
   "metadata": {}
  },
  {
   "cell_type": "code",
   "execution_count": 24,
   "metadata": {},
   "outputs": [],
   "source": [
    "yhat_test = (logreg.predict_proba(X_test.drop(dropped_cols, axis=1))>0.32)[:,1]*1"
   ]
  },
  {
   "cell_type": "code",
   "execution_count": 25,
   "metadata": {},
   "outputs": [
    {
     "output_type": "display_data",
     "data": {
      "application/vnd.plotly.v1+json": {
       "config": {
        "plotlyServerURL": "https://plot.ly"
       },
       "data": [
        {
         "colorscale": [
          [
           0,
           "#0d0887"
          ],
          [
           0.1111111111111111,
           "#46039f"
          ],
          [
           0.2222222222222222,
           "#7201a8"
          ],
          [
           0.3333333333333333,
           "#9c179e"
          ],
          [
           0.4444444444444444,
           "#bd3786"
          ],
          [
           0.5555555555555556,
           "#d8576b"
          ],
          [
           0.6666666666666666,
           "#ed7953"
          ],
          [
           0.7777777777777778,
           "#fb9f3a"
          ],
          [
           0.8888888888888888,
           "#fdca26"
          ],
          [
           1,
           "#f0f921"
          ]
         ],
         "reversescale": false,
         "showscale": true,
         "type": "heatmap",
         "x": [
          "Predicted:0",
          "Predicted:1"
         ],
         "y": [
          "Actual:0",
          "Actual:1"
         ],
         "z": [
          [
           23,
           9
          ],
          [
           2,
           27
          ]
         ]
        }
       ],
       "layout": {
        "annotations": [
         {
          "font": {
           "color": "#000000"
          },
          "showarrow": false,
          "text": "23",
          "x": "Predicted:0",
          "xref": "x",
          "y": "Actual:0",
          "yref": "y"
         },
         {
          "font": {
           "color": "#FFFFFF"
          },
          "showarrow": false,
          "text": "9",
          "x": "Predicted:1",
          "xref": "x",
          "y": "Actual:0",
          "yref": "y"
         },
         {
          "font": {
           "color": "#FFFFFF"
          },
          "showarrow": false,
          "text": "2",
          "x": "Predicted:0",
          "xref": "x",
          "y": "Actual:1",
          "yref": "y"
         },
         {
          "font": {
           "color": "#000000"
          },
          "showarrow": false,
          "text": "27",
          "x": "Predicted:1",
          "xref": "x",
          "y": "Actual:1",
          "yref": "y"
         }
        ],
        "template": {
         "data": {
          "bar": [
           {
            "error_x": {
             "color": "#2a3f5f"
            },
            "error_y": {
             "color": "#2a3f5f"
            },
            "marker": {
             "line": {
              "color": "#E5ECF6",
              "width": 0.5
             }
            },
            "type": "bar"
           }
          ],
          "barpolar": [
           {
            "marker": {
             "line": {
              "color": "#E5ECF6",
              "width": 0.5
             }
            },
            "type": "barpolar"
           }
          ],
          "carpet": [
           {
            "aaxis": {
             "endlinecolor": "#2a3f5f",
             "gridcolor": "white",
             "linecolor": "white",
             "minorgridcolor": "white",
             "startlinecolor": "#2a3f5f"
            },
            "baxis": {
             "endlinecolor": "#2a3f5f",
             "gridcolor": "white",
             "linecolor": "white",
             "minorgridcolor": "white",
             "startlinecolor": "#2a3f5f"
            },
            "type": "carpet"
           }
          ],
          "choropleth": [
           {
            "colorbar": {
             "outlinewidth": 0,
             "ticks": ""
            },
            "type": "choropleth"
           }
          ],
          "contour": [
           {
            "colorbar": {
             "outlinewidth": 0,
             "ticks": ""
            },
            "colorscale": [
             [
              0,
              "#0d0887"
             ],
             [
              0.1111111111111111,
              "#46039f"
             ],
             [
              0.2222222222222222,
              "#7201a8"
             ],
             [
              0.3333333333333333,
              "#9c179e"
             ],
             [
              0.4444444444444444,
              "#bd3786"
             ],
             [
              0.5555555555555556,
              "#d8576b"
             ],
             [
              0.6666666666666666,
              "#ed7953"
             ],
             [
              0.7777777777777778,
              "#fb9f3a"
             ],
             [
              0.8888888888888888,
              "#fdca26"
             ],
             [
              1,
              "#f0f921"
             ]
            ],
            "type": "contour"
           }
          ],
          "contourcarpet": [
           {
            "colorbar": {
             "outlinewidth": 0,
             "ticks": ""
            },
            "type": "contourcarpet"
           }
          ],
          "heatmap": [
           {
            "colorbar": {
             "outlinewidth": 0,
             "ticks": ""
            },
            "colorscale": [
             [
              0,
              "#0d0887"
             ],
             [
              0.1111111111111111,
              "#46039f"
             ],
             [
              0.2222222222222222,
              "#7201a8"
             ],
             [
              0.3333333333333333,
              "#9c179e"
             ],
             [
              0.4444444444444444,
              "#bd3786"
             ],
             [
              0.5555555555555556,
              "#d8576b"
             ],
             [
              0.6666666666666666,
              "#ed7953"
             ],
             [
              0.7777777777777778,
              "#fb9f3a"
             ],
             [
              0.8888888888888888,
              "#fdca26"
             ],
             [
              1,
              "#f0f921"
             ]
            ],
            "type": "heatmap"
           }
          ],
          "heatmapgl": [
           {
            "colorbar": {
             "outlinewidth": 0,
             "ticks": ""
            },
            "colorscale": [
             [
              0,
              "#0d0887"
             ],
             [
              0.1111111111111111,
              "#46039f"
             ],
             [
              0.2222222222222222,
              "#7201a8"
             ],
             [
              0.3333333333333333,
              "#9c179e"
             ],
             [
              0.4444444444444444,
              "#bd3786"
             ],
             [
              0.5555555555555556,
              "#d8576b"
             ],
             [
              0.6666666666666666,
              "#ed7953"
             ],
             [
              0.7777777777777778,
              "#fb9f3a"
             ],
             [
              0.8888888888888888,
              "#fdca26"
             ],
             [
              1,
              "#f0f921"
             ]
            ],
            "type": "heatmapgl"
           }
          ],
          "histogram": [
           {
            "marker": {
             "colorbar": {
              "outlinewidth": 0,
              "ticks": ""
             }
            },
            "type": "histogram"
           }
          ],
          "histogram2d": [
           {
            "colorbar": {
             "outlinewidth": 0,
             "ticks": ""
            },
            "colorscale": [
             [
              0,
              "#0d0887"
             ],
             [
              0.1111111111111111,
              "#46039f"
             ],
             [
              0.2222222222222222,
              "#7201a8"
             ],
             [
              0.3333333333333333,
              "#9c179e"
             ],
             [
              0.4444444444444444,
              "#bd3786"
             ],
             [
              0.5555555555555556,
              "#d8576b"
             ],
             [
              0.6666666666666666,
              "#ed7953"
             ],
             [
              0.7777777777777778,
              "#fb9f3a"
             ],
             [
              0.8888888888888888,
              "#fdca26"
             ],
             [
              1,
              "#f0f921"
             ]
            ],
            "type": "histogram2d"
           }
          ],
          "histogram2dcontour": [
           {
            "colorbar": {
             "outlinewidth": 0,
             "ticks": ""
            },
            "colorscale": [
             [
              0,
              "#0d0887"
             ],
             [
              0.1111111111111111,
              "#46039f"
             ],
             [
              0.2222222222222222,
              "#7201a8"
             ],
             [
              0.3333333333333333,
              "#9c179e"
             ],
             [
              0.4444444444444444,
              "#bd3786"
             ],
             [
              0.5555555555555556,
              "#d8576b"
             ],
             [
              0.6666666666666666,
              "#ed7953"
             ],
             [
              0.7777777777777778,
              "#fb9f3a"
             ],
             [
              0.8888888888888888,
              "#fdca26"
             ],
             [
              1,
              "#f0f921"
             ]
            ],
            "type": "histogram2dcontour"
           }
          ],
          "mesh3d": [
           {
            "colorbar": {
             "outlinewidth": 0,
             "ticks": ""
            },
            "type": "mesh3d"
           }
          ],
          "parcoords": [
           {
            "line": {
             "colorbar": {
              "outlinewidth": 0,
              "ticks": ""
             }
            },
            "type": "parcoords"
           }
          ],
          "pie": [
           {
            "automargin": true,
            "type": "pie"
           }
          ],
          "scatter": [
           {
            "marker": {
             "colorbar": {
              "outlinewidth": 0,
              "ticks": ""
             }
            },
            "type": "scatter"
           }
          ],
          "scatter3d": [
           {
            "line": {
             "colorbar": {
              "outlinewidth": 0,
              "ticks": ""
             }
            },
            "marker": {
             "colorbar": {
              "outlinewidth": 0,
              "ticks": ""
             }
            },
            "type": "scatter3d"
           }
          ],
          "scattercarpet": [
           {
            "marker": {
             "colorbar": {
              "outlinewidth": 0,
              "ticks": ""
             }
            },
            "type": "scattercarpet"
           }
          ],
          "scattergeo": [
           {
            "marker": {
             "colorbar": {
              "outlinewidth": 0,
              "ticks": ""
             }
            },
            "type": "scattergeo"
           }
          ],
          "scattergl": [
           {
            "marker": {
             "colorbar": {
              "outlinewidth": 0,
              "ticks": ""
             }
            },
            "type": "scattergl"
           }
          ],
          "scattermapbox": [
           {
            "marker": {
             "colorbar": {
              "outlinewidth": 0,
              "ticks": ""
             }
            },
            "type": "scattermapbox"
           }
          ],
          "scatterpolar": [
           {
            "marker": {
             "colorbar": {
              "outlinewidth": 0,
              "ticks": ""
             }
            },
            "type": "scatterpolar"
           }
          ],
          "scatterpolargl": [
           {
            "marker": {
             "colorbar": {
              "outlinewidth": 0,
              "ticks": ""
             }
            },
            "type": "scatterpolargl"
           }
          ],
          "scatterternary": [
           {
            "marker": {
             "colorbar": {
              "outlinewidth": 0,
              "ticks": ""
             }
            },
            "type": "scatterternary"
           }
          ],
          "surface": [
           {
            "colorbar": {
             "outlinewidth": 0,
             "ticks": ""
            },
            "colorscale": [
             [
              0,
              "#0d0887"
             ],
             [
              0.1111111111111111,
              "#46039f"
             ],
             [
              0.2222222222222222,
              "#7201a8"
             ],
             [
              0.3333333333333333,
              "#9c179e"
             ],
             [
              0.4444444444444444,
              "#bd3786"
             ],
             [
              0.5555555555555556,
              "#d8576b"
             ],
             [
              0.6666666666666666,
              "#ed7953"
             ],
             [
              0.7777777777777778,
              "#fb9f3a"
             ],
             [
              0.8888888888888888,
              "#fdca26"
             ],
             [
              1,
              "#f0f921"
             ]
            ],
            "type": "surface"
           }
          ],
          "table": [
           {
            "cells": {
             "fill": {
              "color": "#EBF0F8"
             },
             "line": {
              "color": "white"
             }
            },
            "header": {
             "fill": {
              "color": "#C8D4E3"
             },
             "line": {
              "color": "white"
             }
            },
            "type": "table"
           }
          ]
         },
         "layout": {
          "annotationdefaults": {
           "arrowcolor": "#2a3f5f",
           "arrowhead": 0,
           "arrowwidth": 1
          },
          "autotypenumbers": "strict",
          "coloraxis": {
           "colorbar": {
            "outlinewidth": 0,
            "ticks": ""
           }
          },
          "colorscale": {
           "diverging": [
            [
             0,
             "#8e0152"
            ],
            [
             0.1,
             "#c51b7d"
            ],
            [
             0.2,
             "#de77ae"
            ],
            [
             0.3,
             "#f1b6da"
            ],
            [
             0.4,
             "#fde0ef"
            ],
            [
             0.5,
             "#f7f7f7"
            ],
            [
             0.6,
             "#e6f5d0"
            ],
            [
             0.7,
             "#b8e186"
            ],
            [
             0.8,
             "#7fbc41"
            ],
            [
             0.9,
             "#4d9221"
            ],
            [
             1,
             "#276419"
            ]
           ],
           "sequential": [
            [
             0,
             "#0d0887"
            ],
            [
             0.1111111111111111,
             "#46039f"
            ],
            [
             0.2222222222222222,
             "#7201a8"
            ],
            [
             0.3333333333333333,
             "#9c179e"
            ],
            [
             0.4444444444444444,
             "#bd3786"
            ],
            [
             0.5555555555555556,
             "#d8576b"
            ],
            [
             0.6666666666666666,
             "#ed7953"
            ],
            [
             0.7777777777777778,
             "#fb9f3a"
            ],
            [
             0.8888888888888888,
             "#fdca26"
            ],
            [
             1,
             "#f0f921"
            ]
           ],
           "sequentialminus": [
            [
             0,
             "#0d0887"
            ],
            [
             0.1111111111111111,
             "#46039f"
            ],
            [
             0.2222222222222222,
             "#7201a8"
            ],
            [
             0.3333333333333333,
             "#9c179e"
            ],
            [
             0.4444444444444444,
             "#bd3786"
            ],
            [
             0.5555555555555556,
             "#d8576b"
            ],
            [
             0.6666666666666666,
             "#ed7953"
            ],
            [
             0.7777777777777778,
             "#fb9f3a"
            ],
            [
             0.8888888888888888,
             "#fdca26"
            ],
            [
             1,
             "#f0f921"
            ]
           ]
          },
          "colorway": [
           "#636efa",
           "#EF553B",
           "#00cc96",
           "#ab63fa",
           "#FFA15A",
           "#19d3f3",
           "#FF6692",
           "#B6E880",
           "#FF97FF",
           "#FECB52"
          ],
          "font": {
           "color": "#2a3f5f"
          },
          "geo": {
           "bgcolor": "white",
           "lakecolor": "white",
           "landcolor": "#E5ECF6",
           "showlakes": true,
           "showland": true,
           "subunitcolor": "white"
          },
          "hoverlabel": {
           "align": "left"
          },
          "hovermode": "closest",
          "mapbox": {
           "style": "light"
          },
          "paper_bgcolor": "white",
          "plot_bgcolor": "#E5ECF6",
          "polar": {
           "angularaxis": {
            "gridcolor": "white",
            "linecolor": "white",
            "ticks": ""
           },
           "bgcolor": "#E5ECF6",
           "radialaxis": {
            "gridcolor": "white",
            "linecolor": "white",
            "ticks": ""
           }
          },
          "scene": {
           "xaxis": {
            "backgroundcolor": "#E5ECF6",
            "gridcolor": "white",
            "gridwidth": 2,
            "linecolor": "white",
            "showbackground": true,
            "ticks": "",
            "zerolinecolor": "white"
           },
           "yaxis": {
            "backgroundcolor": "#E5ECF6",
            "gridcolor": "white",
            "gridwidth": 2,
            "linecolor": "white",
            "showbackground": true,
            "ticks": "",
            "zerolinecolor": "white"
           },
           "zaxis": {
            "backgroundcolor": "#E5ECF6",
            "gridcolor": "white",
            "gridwidth": 2,
            "linecolor": "white",
            "showbackground": true,
            "ticks": "",
            "zerolinecolor": "white"
           }
          },
          "shapedefaults": {
           "line": {
            "color": "#2a3f5f"
           }
          },
          "ternary": {
           "aaxis": {
            "gridcolor": "white",
            "linecolor": "white",
            "ticks": ""
           },
           "baxis": {
            "gridcolor": "white",
            "linecolor": "white",
            "ticks": ""
           },
           "bgcolor": "#E5ECF6",
           "caxis": {
            "gridcolor": "white",
            "linecolor": "white",
            "ticks": ""
           }
          },
          "title": {
           "x": 0.05
          },
          "xaxis": {
           "automargin": true,
           "gridcolor": "white",
           "linecolor": "white",
           "ticks": "",
           "title": {
            "standoff": 15
           },
           "zerolinecolor": "white",
           "zerolinewidth": 2
          },
          "yaxis": {
           "automargin": true,
           "gridcolor": "white",
           "linecolor": "white",
           "ticks": "",
           "title": {
            "standoff": 15
           },
           "zerolinecolor": "white",
           "zerolinewidth": 2
          }
         }
        },
        "xaxis": {
         "dtick": 1,
         "gridcolor": "rgb(0, 0, 0)",
         "side": "top",
         "ticks": ""
        },
        "yaxis": {
         "dtick": 1,
         "ticks": "",
         "ticksuffix": "  "
        }
       }
      }
     },
     "metadata": {}
    },
    {
     "output_type": "stream",
     "name": "stdout",
     "text": [
      "test accuracy: 0.819672131147541\nTPR: 0.9310344827586207  FPR: 0.06896551724137934\n"
     ]
    }
   ],
   "source": [
    "\n",
    "pred_test = list(map(round, yhat_test))\n",
    "conf = confusion_matrix(y_test, pred_test)\n",
    "conf_matrix=pd.DataFrame(data=conf,columns=['Predicted:0','Predicted:1'],index=['Actual:0','Actual:1'])\n",
    "fig = ff.create_annotated_heatmap(conf, x=['Predicted:0','Predicted:1'],y= ['Actual:0','Actual:1'],showscale=True)\n",
    "fig.show()\n",
    "print(\"test accuracy:\",accuracy_score(y_test,pred_test))\n",
    "print(\"TPR:\", recall_score(y_test,pred_test), \" FPR:\", 1-recall_score(y_test,pred_test))"
   ]
  },
  {
   "source": [
    "Our final model shows a true positive rate of 93.1% on the test set meaning that given that there is heart disease present the model will predict that it is present at a rate of 93.1%. However this high recall comes at the cost of low specificity. Showing a final accuracy of 82.0%"
   ],
   "cell_type": "markdown",
   "metadata": {}
  },
  {
   "source": [
    "# Model Interpretation\n",
    "Here we check what features were most used in the classification task. Permutation importance shuffles the values of 1 column and checks to see how much that effects the predictive power of the model."
   ],
   "cell_type": "markdown",
   "metadata": {}
  },
  {
   "cell_type": "code",
   "execution_count": 26,
   "metadata": {},
   "outputs": [
    {
     "output_type": "stream",
     "name": "stdout",
     "text": [
      "thalassemia_reversable_defect 0.078  +/- 0.010\nmajor_vessels 0.054  +/- 0.006\nchest_pain_non-anginal_pain 0.035  +/- 0.007\nst_slope_flat 0.020  +/- 0.007\n"
     ]
    }
   ],
   "source": [
    "from sklearn.inspection import permutation_importance\n",
    "r = permutation_importance(logreg, X_train.drop(dropped_cols, axis=1), y_train, n_jobs=6)\n",
    "for i in r.importances_mean.argsort()[::-1]:\n",
    "    if r.importances_mean[i] - 2 * r.importances_std[i] > 0:\n",
    "        print(f\"{X_train.drop(dropped_cols, axis=1).columns[i]}\",\n",
    "              f\"{r.importances_mean[i]:.3f}\",\n",
    "          f\" +/- {r.importances_std[i]:.3f}\")\n"
   ]
  },
  {
   "source": [
    "Here we see that the biggest predictive power of the model occurs from the presence of thalassemia however this could be due to the distribution of thalassemia in the training data. therefore next we check the weight coefficient of each feature. The present features have an importance mean more than 2* greater than their importance standard deviation."
   ],
   "cell_type": "markdown",
   "metadata": {}
  },
  {
   "cell_type": "code",
   "execution_count": 27,
   "metadata": {},
   "outputs": [
    {
     "output_type": "stream",
     "name": "stdout",
     "text": [
      "max_hrt_rt weight: [0.02493079]\nmajor_vessels weight: [-0.79074195]\nsex_male weight: [-1.06700832]\nchest_pain_non-anginal_pain weight: [1.32382117]\nchest_pain_typical_angina weight: [0.65852576]\nelect_result_normal weight: [-0.67168343]\nexercise_induced_angina_present weight: [-0.88744097]\nst_slope_flat weight: [-0.86113783]\nthalassemia_reversable_defect weight: [-1.57273856]\n"
     ]
    }
   ],
   "source": [
    "for i in range(len(X_train.drop(dropped_cols, axis=1).columns)):\n",
    "    print(X_train.drop(dropped_cols, axis=1).columns[i], \"weight:\", logreg.coef_[:,i])"
   ]
  },
  {
   "source": [
    "we can see here that an increase in 1bpm of max heart rate increases the probability by 0.025 and the presence of non-anginal chest pain adds 1.32 all the other features add negative weights with the most influential features being reversible thalassemia defect and exercise induced angina respectively. However it can be seen that major blood vessels present adds a significant weight since it adds -0.72 per vessel which means this value could go up to -2.8 leading to it being the most predictive value."
   ],
   "cell_type": "markdown",
   "metadata": {}
  },
  {
   "cell_type": "code",
   "execution_count": null,
   "metadata": {},
   "outputs": [],
   "source": []
  }
 ]
}