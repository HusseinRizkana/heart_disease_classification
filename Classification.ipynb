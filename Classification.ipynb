{
 "metadata": {
  "language_info": {
   "codemirror_mode": {
    "name": "ipython",
    "version": 3
   },
   "file_extension": ".py",
   "mimetype": "text/x-python",
   "name": "python",
   "nbconvert_exporter": "python",
   "pygments_lexer": "ipython3",
   "version": "3.7.6"
  },
  "orig_nbformat": 2,
  "kernelspec": {
   "name": "python376jvsc74a57bd0367065b0edbc15bf569a8af8faef47a2298316726eb8eb626eb6c6223c64e791",
   "display_name": "Python 3.7.6 64-bit"
  }
 },
 "nbformat": 4,
 "nbformat_minor": 2,
 "cells": [
  {
   "source": [
    "# Classification and prediction of Heart Disease"
   ],
   "cell_type": "markdown",
   "metadata": {}
  },
  {
   "cell_type": "code",
   "execution_count": 2,
   "metadata": {},
   "outputs": [
    {
     "output_type": "stream",
     "name": "stderr",
     "text": [
      "C:\\Users\\HusseinRizkana\\anaconda3\\lib\\importlib\\_bootstrap.py:219: RuntimeWarning: numpy.ufunc size changed, may indicate binary incompatibility. Expected 192 from C header, got 216 from PyObject\n",
      "  return f(*args, **kwds)\n",
      "C:\\Users\\HusseinRizkana\\anaconda3\\lib\\importlib\\_bootstrap.py:219: RuntimeWarning: numpy.ufunc size changed, may indicate binary incompatibility. Expected 192 from C header, got 216 from PyObject\n",
      "  return f(*args, **kwds)\n",
      "C:\\Users\\HusseinRizkana\\anaconda3\\lib\\importlib\\_bootstrap.py:219: RuntimeWarning: numpy.ufunc size changed, may indicate binary incompatibility. Expected 192 from C header, got 216 from PyObject\n",
      "  return f(*args, **kwds)\n",
      "C:\\Users\\HusseinRizkana\\anaconda3\\lib\\importlib\\_bootstrap.py:219: RuntimeWarning: numpy.ufunc size changed, may indicate binary incompatibility. Expected 192 from C header, got 216 from PyObject\n",
      "  return f(*args, **kwds)\n",
      "C:\\Users\\HusseinRizkana\\anaconda3\\lib\\importlib\\_bootstrap.py:219: RuntimeWarning: numpy.ufunc size changed, may indicate binary incompatibility. Expected 192 from C header, got 216 from PyObject\n",
      "  return f(*args, **kwds)\n",
      "C:\\Users\\HusseinRizkana\\anaconda3\\lib\\importlib\\_bootstrap.py:219: RuntimeWarning: numpy.ufunc size changed, may indicate binary incompatibility. Expected 192 from C header, got 216 from PyObject\n",
      "  return f(*args, **kwds)\n"
     ]
    },
    {
     "output_type": "execute_result",
     "data": {
      "text/plain": [
       "   age  resting_bp  chol  max_hrt_rt  st_dep  major_vessels  target  sex_male  \\\n",
       "0   63         145   233         150     2.3              0       1         1   \n",
       "1   37         130   250         187     3.5              0       1         1   \n",
       "2   41         130   204         172     1.4              0       1         0   \n",
       "3   56         120   236         178     0.8              0       1         1   \n",
       "4   57         120   354         163     0.6              0       1         0   \n",
       "\n",
       "   chest_pain_atypical_angina  chest_pain_non-anginal_pain  \\\n",
       "0                           0                            0   \n",
       "1                           0                            1   \n",
       "2                           1                            0   \n",
       "3                           1                            0   \n",
       "4                           0                            0   \n",
       "\n",
       "   chest_pain_typical_angina  fstng_bld_sgr_not_high  \\\n",
       "0                          1                       0   \n",
       "1                          0                       1   \n",
       "2                          0                       1   \n",
       "3                          0                       1   \n",
       "4                          0                       1   \n",
       "\n",
       "   elect_result_left_ventricular_hypertrophy  elect_result_normal  \\\n",
       "0                                          0                    1   \n",
       "1                                          0                    0   \n",
       "2                                          0                    1   \n",
       "3                                          0                    0   \n",
       "4                                          0                    0   \n",
       "\n",
       "   exercise_induced_angina_present  st_slope_flat  st_slope_upsloping  \\\n",
       "0                                0              0                   1   \n",
       "1                                0              0                   1   \n",
       "2                                0              0                   0   \n",
       "3                                0              0                   0   \n",
       "4                                1              0                   0   \n",
       "\n",
       "   thalassemia_fixed_defect  thalassemia_reversable_defect  \n",
       "0                         0                              0  \n",
       "1                         1                              0  \n",
       "2                         1                              0  \n",
       "3                         1                              0  \n",
       "4                         1                              0  "
      ],
      "text/html": "<div>\n<style scoped>\n    .dataframe tbody tr th:only-of-type {\n        vertical-align: middle;\n    }\n\n    .dataframe tbody tr th {\n        vertical-align: top;\n    }\n\n    .dataframe thead th {\n        text-align: right;\n    }\n</style>\n<table border=\"1\" class=\"dataframe\">\n  <thead>\n    <tr style=\"text-align: right;\">\n      <th></th>\n      <th>age</th>\n      <th>resting_bp</th>\n      <th>chol</th>\n      <th>max_hrt_rt</th>\n      <th>st_dep</th>\n      <th>major_vessels</th>\n      <th>target</th>\n      <th>sex_male</th>\n      <th>chest_pain_atypical_angina</th>\n      <th>chest_pain_non-anginal_pain</th>\n      <th>chest_pain_typical_angina</th>\n      <th>fstng_bld_sgr_not_high</th>\n      <th>elect_result_left_ventricular_hypertrophy</th>\n      <th>elect_result_normal</th>\n      <th>exercise_induced_angina_present</th>\n      <th>st_slope_flat</th>\n      <th>st_slope_upsloping</th>\n      <th>thalassemia_fixed_defect</th>\n      <th>thalassemia_reversable_defect</th>\n    </tr>\n  </thead>\n  <tbody>\n    <tr>\n      <th>0</th>\n      <td>63</td>\n      <td>145</td>\n      <td>233</td>\n      <td>150</td>\n      <td>2.3</td>\n      <td>0</td>\n      <td>1</td>\n      <td>1</td>\n      <td>0</td>\n      <td>0</td>\n      <td>1</td>\n      <td>0</td>\n      <td>0</td>\n      <td>1</td>\n      <td>0</td>\n      <td>0</td>\n      <td>1</td>\n      <td>0</td>\n      <td>0</td>\n    </tr>\n    <tr>\n      <th>1</th>\n      <td>37</td>\n      <td>130</td>\n      <td>250</td>\n      <td>187</td>\n      <td>3.5</td>\n      <td>0</td>\n      <td>1</td>\n      <td>1</td>\n      <td>0</td>\n      <td>1</td>\n      <td>0</td>\n      <td>1</td>\n      <td>0</td>\n      <td>0</td>\n      <td>0</td>\n      <td>0</td>\n      <td>1</td>\n      <td>1</td>\n      <td>0</td>\n    </tr>\n    <tr>\n      <th>2</th>\n      <td>41</td>\n      <td>130</td>\n      <td>204</td>\n      <td>172</td>\n      <td>1.4</td>\n      <td>0</td>\n      <td>1</td>\n      <td>0</td>\n      <td>1</td>\n      <td>0</td>\n      <td>0</td>\n      <td>1</td>\n      <td>0</td>\n      <td>1</td>\n      <td>0</td>\n      <td>0</td>\n      <td>0</td>\n      <td>1</td>\n      <td>0</td>\n    </tr>\n    <tr>\n      <th>3</th>\n      <td>56</td>\n      <td>120</td>\n      <td>236</td>\n      <td>178</td>\n      <td>0.8</td>\n      <td>0</td>\n      <td>1</td>\n      <td>1</td>\n      <td>1</td>\n      <td>0</td>\n      <td>0</td>\n      <td>1</td>\n      <td>0</td>\n      <td>0</td>\n      <td>0</td>\n      <td>0</td>\n      <td>0</td>\n      <td>1</td>\n      <td>0</td>\n    </tr>\n    <tr>\n      <th>4</th>\n      <td>57</td>\n      <td>120</td>\n      <td>354</td>\n      <td>163</td>\n      <td>0.6</td>\n      <td>0</td>\n      <td>1</td>\n      <td>0</td>\n      <td>0</td>\n      <td>0</td>\n      <td>0</td>\n      <td>1</td>\n      <td>0</td>\n      <td>0</td>\n      <td>1</td>\n      <td>0</td>\n      <td>0</td>\n      <td>1</td>\n      <td>0</td>\n    </tr>\n  </tbody>\n</table>\n</div>"
     },
     "metadata": {},
     "execution_count": 2
    }
   ],
   "source": [
    "import pandas as pd\n",
    "import plotly.express as px\n",
    "import statsmodels.api as sm\n",
    "from sklearn.model_selection import train_test_split\n",
    "df = pd.read_csv(\"clean_data.csv\",index_col = 0)\n",
    "df.head(5)"
   ]
  },
  {
   "source": [
    "# Splitting the Data"
   ],
   "cell_type": "markdown",
   "metadata": {}
  },
  {
   "cell_type": "code",
   "execution_count": 3,
   "metadata": {},
   "outputs": [
    {
     "output_type": "stream",
     "name": "stdout",
     "text": [
      "train size = 240\ntest size = 61\n"
     ]
    }
   ],
   "source": [
    "X = df.drop(\"target\",axis=1)\n",
    "y = df[\"target\"]\n",
    "X_train, X_test, y_train, y_test = train_test_split(X, y, test_size=0.2)\n",
    "# X_test, X_val, y_test, y_val = train_test_split(X_test, y_test, test_size=0.5)\n",
    "print(\"train size =\", len(X_train))\n",
    "# print(\"val size =\", len(X_val))\n",
    "print(\"test size =\", len(X_test))"
   ]
  },
  {
   "source": [
    "# Feature Selection\n",
    "## p-values to check for feature significance"
   ],
   "cell_type": "markdown",
   "metadata": {}
  },
  {
   "source": [
    "p_max = 0.2\n",
    "dropped_cols = []\n",
    "while p_max > 0.1:\n",
    "    model = sm.Logit(y_train,X_train.drop(dropped_cols,axis=1)).fit()\n",
    "    p_values = model.pvalues\n",
    "    p_max = 0.04\n",
    "    col = None\n",
    "    for key in p_values.keys():\n",
    "        if p_values[key] > p_max:\n",
    "            p_max = p_values[key]\n",
    "            col = key\n",
    "    if col != None:\n",
    "        dropped_cols.append(col)\n",
    "    print(p_max)\n",
    "print(dropped_cols)\n",
    "model.summary()"
   ],
   "cell_type": "code",
   "metadata": {
    "tags": []
   },
   "execution_count": 4,
   "outputs": [
    {
     "output_type": "stream",
     "name": "stdout",
     "text": [
      "Optimization terminated successfully.\n",
      "         Current function value: 0.324066\n",
      "         Iterations 7\n",
      "0.8413293116042454\n",
      "Optimization terminated successfully.\n",
      "         Current function value: 0.324150\n",
      "         Iterations 7\n",
      "0.844535596309244\n",
      "Optimization terminated successfully.\n",
      "         Current function value: 0.324229\n",
      "         Iterations 7\n",
      "0.8357074569081393\n",
      "Optimization terminated successfully.\n",
      "         Current function value: 0.324320\n",
      "         Iterations 7\n",
      "0.7526539449807639\n",
      "Optimization terminated successfully.\n",
      "         Current function value: 0.324528\n",
      "         Iterations 7\n",
      "0.6694206259400357\n",
      "Optimization terminated successfully.\n",
      "         Current function value: 0.324908\n",
      "         Iterations 7\n",
      "0.620111995567687\n",
      "Optimization terminated successfully.\n",
      "         Current function value: 0.325439\n",
      "         Iterations 7\n",
      "0.4988272800145892\n",
      "Optimization terminated successfully.\n",
      "         Current function value: 0.326393\n",
      "         Iterations 7\n",
      "0.39593722793841857\n",
      "Optimization terminated successfully.\n",
      "         Current function value: 0.327908\n",
      "         Iterations 7\n",
      "0.22455061503882945\n",
      "Optimization terminated successfully.\n",
      "         Current function value: 0.330957\n",
      "         Iterations 7\n",
      "0.22426906461888685\n",
      "Optimization terminated successfully.\n",
      "         Current function value: 0.334073\n",
      "         Iterations 7\n",
      "0.2031142294507432\n",
      "Optimization terminated successfully.\n",
      "         Current function value: 0.337606\n",
      "         Iterations 7\n",
      "0.04\n",
      "['fstng_bld_sgr_not_high', 'chol', 'st_slope_upsloping', 'thalassemia_fixed_defect', 'age', 'elect_result_left_ventricular_hypertrophy', 'resting_bp', 'chest_pain_atypical_angina', 'st_slope_flat', 'sex_male', 'chest_pain_typical_angina']\n"
     ]
    },
    {
     "output_type": "execute_result",
     "data": {
      "text/plain": [
       "<class 'statsmodels.iolib.summary.Summary'>\n",
       "\"\"\"\n",
       "                           Logit Regression Results                           \n",
       "==============================================================================\n",
       "Dep. Variable:                 target   No. Observations:                  240\n",
       "Model:                          Logit   Df Residuals:                      233\n",
       "Method:                           MLE   Df Model:                            6\n",
       "Date:                Wed, 28 Apr 2021   Pseudo R-squ.:                  0.5105\n",
       "Time:                        11:43:23   Log-Likelihood:                -81.025\n",
       "converged:                       True   LL-Null:                       -165.52\n",
       "Covariance Type:            nonrobust   LLR p-value:                 7.361e-34\n",
       "===================================================================================================\n",
       "                                      coef    std err          z      P>|z|      [0.025      0.975]\n",
       "---------------------------------------------------------------------------------------------------\n",
       "max_hrt_rt                          0.0190      0.003      6.745      0.000       0.013       0.025\n",
       "st_dep                             -0.4596      0.203     -2.268      0.023      -0.857      -0.062\n",
       "major_vessels                      -0.7978      0.198     -4.039      0.000      -1.185      -0.411\n",
       "chest_pain_non-anginal_pain         1.3764      0.477      2.886      0.004       0.442       2.311\n",
       "elect_result_normal                -1.2397      0.414     -2.996      0.003      -2.051      -0.429\n",
       "exercise_induced_angina_present    -1.7329      0.458     -3.787      0.000      -2.630      -0.836\n",
       "thalassemia_reversable_defect      -2.1070      0.425     -4.963      0.000      -2.939      -1.275\n",
       "===================================================================================================\n",
       "\"\"\""
      ],
      "text/html": "<table class=\"simpletable\">\n<caption>Logit Regression Results</caption>\n<tr>\n  <th>Dep. Variable:</th>        <td>target</td>      <th>  No. Observations:  </th>  <td>   240</td>  \n</tr>\n<tr>\n  <th>Model:</th>                 <td>Logit</td>      <th>  Df Residuals:      </th>  <td>   233</td>  \n</tr>\n<tr>\n  <th>Method:</th>                 <td>MLE</td>       <th>  Df Model:          </th>  <td>     6</td>  \n</tr>\n<tr>\n  <th>Date:</th>            <td>Wed, 28 Apr 2021</td> <th>  Pseudo R-squ.:     </th>  <td>0.5105</td>  \n</tr>\n<tr>\n  <th>Time:</th>                <td>11:43:23</td>     <th>  Log-Likelihood:    </th> <td> -81.025</td> \n</tr>\n<tr>\n  <th>converged:</th>             <td>True</td>       <th>  LL-Null:           </th> <td> -165.52</td> \n</tr>\n<tr>\n  <th>Covariance Type:</th>     <td>nonrobust</td>    <th>  LLR p-value:       </th> <td>7.361e-34</td>\n</tr>\n</table>\n<table class=\"simpletable\">\n<tr>\n                 <td></td>                    <th>coef</th>     <th>std err</th>      <th>z</th>      <th>P>|z|</th>  <th>[0.025</th>    <th>0.975]</th>  \n</tr>\n<tr>\n  <th>max_hrt_rt</th>                      <td>    0.0190</td> <td>    0.003</td> <td>    6.745</td> <td> 0.000</td> <td>    0.013</td> <td>    0.025</td>\n</tr>\n<tr>\n  <th>st_dep</th>                          <td>   -0.4596</td> <td>    0.203</td> <td>   -2.268</td> <td> 0.023</td> <td>   -0.857</td> <td>   -0.062</td>\n</tr>\n<tr>\n  <th>major_vessels</th>                   <td>   -0.7978</td> <td>    0.198</td> <td>   -4.039</td> <td> 0.000</td> <td>   -1.185</td> <td>   -0.411</td>\n</tr>\n<tr>\n  <th>chest_pain_non-anginal_pain</th>     <td>    1.3764</td> <td>    0.477</td> <td>    2.886</td> <td> 0.004</td> <td>    0.442</td> <td>    2.311</td>\n</tr>\n<tr>\n  <th>elect_result_normal</th>             <td>   -1.2397</td> <td>    0.414</td> <td>   -2.996</td> <td> 0.003</td> <td>   -2.051</td> <td>   -0.429</td>\n</tr>\n<tr>\n  <th>exercise_induced_angina_present</th> <td>   -1.7329</td> <td>    0.458</td> <td>   -3.787</td> <td> 0.000</td> <td>   -2.630</td> <td>   -0.836</td>\n</tr>\n<tr>\n  <th>thalassemia_reversable_defect</th>   <td>   -2.1070</td> <td>    0.425</td> <td>   -4.963</td> <td> 0.000</td> <td>   -2.939</td> <td>   -1.275</td>\n</tr>\n</table>"
     },
     "metadata": {},
     "execution_count": 4
    }
   ]
  },
  {
   "source": [
    "Checking feature significance using null-hypothesis testing. If p-value is greater than 0.1 then we accept the null hypothesis and reject feature as having a statistically significant effect on predicting variance of the target variable. usually the alpha value would be set to 0.05 however I am hesitant to execessively remove features due to the limited amount of data I am using."
   ],
   "cell_type": "markdown",
   "metadata": {}
  },
  {
   "source": [
    "## checking for multi-colinearity"
   ],
   "cell_type": "markdown",
   "metadata": {}
  },
  {
   "cell_type": "code",
   "execution_count": 5,
   "metadata": {},
   "outputs": [],
   "source": [
    "# for col in X_train.columns.drop(dropped_cols):\n",
    "#     model = sm.OLS(X_train[col],X_train.drop(col,axis=1)).fit()\n",
    "#     VIF = 1/(1-model.rsquared)\n",
    "#     print(f\"{col} VIF value:\",VIF)\n",
    "#     if VIF > 10:\n",
    "#         print(col)\n",
    "#         dropped_cols.append(col)"
   ]
  },
  {
   "source": [
    "Here we check for and drop the values with VIF(Variance inflation factor) that is too high meaning that the variance in this feature is fully captured by the other features. A VIF threshold of 10 was used as this indicates an Rsquared of above 0.9"
   ],
   "cell_type": "markdown",
   "metadata": {}
  },
  {
   "cell_type": "code",
   "execution_count": 6,
   "metadata": {},
   "outputs": [],
   "source": [
    "# X_train, X_val, y_train, y_val = train_test_split(X_train, y_train, test_size=0.2)\n"
   ]
  },
  {
   "cell_type": "code",
   "execution_count": 7,
   "metadata": {},
   "outputs": [
    {
     "output_type": "stream",
     "name": "stdout",
     "text": [
      "Optimization terminated successfully.\n         Current function value: 0.337606\n         Iterations 7\n"
     ]
    }
   ],
   "source": [
    "logreg = sm.Logit(y_train,X_train.drop(dropped_cols,axis=1)).fit()"
   ]
  },
  {
   "source": [
    "## interactions and higher order features\n",
    "\n",
    "Normally residuals would be used to check for distributions that might lead to the use of higher order polynomials but due to a lack of time, brute force was used here."
   ],
   "cell_type": "markdown",
   "metadata": {}
  },
  {
   "cell_type": "code",
   "execution_count": 8,
   "metadata": {},
   "outputs": [],
   "source": [
    "from sklearn.preprocessing import PolynomialFeatures\n",
    "from sklearn.preprocessing import StandardScaler"
   ]
  },
  {
   "cell_type": "code",
   "execution_count": 9,
   "metadata": {},
   "outputs": [],
   "source": [
    "polyfit = PolynomialFeatures(degree=3)\n",
    "scaler = StandardScaler()\n",
    "X_poly = polyfit.fit_transform(X_train)\n",
    "scaled_poly_train = pd.DataFrame(scaler.fit_transform(X_poly),index=X_train.index)"
   ]
  },
  {
   "cell_type": "code",
   "execution_count": 10,
   "metadata": {},
   "outputs": [],
   "source": [
    "# import numpy as np\n",
    "# p_max = 0.2\n",
    "# dropped_cols = []\n",
    "\n",
    "# while p_max > 0.1:\n",
    "# model = sm.Logit(y_train,scaled_poly_train.drop(dropped_cols, axis=1)).fit()\n",
    "#     p_values = model.pvalues\n",
    "#     p_max = 0.04\n",
    "#     col = None\n",
    "#     for key in p_values.keys():\n",
    "#         if p_values[key] > p_max:\n",
    "#             p_max = p_values[key]\n",
    "#             col = key\n",
    "#     if col != None:\n",
    "#         dropped_cols.append(col)\n",
    "#         print(dropped_cols)\n",
    "#     print(p_max)\n",
    "# print(dropped_cols)\n",
    "# model.summary()"
   ]
  },
  {
   "source": [
    "# Threshold selection\n",
    "With heart disease it is better to be safe than sorry as peoples lives are at stake. Therefore we have a preference towards a higher true positive rate. Using metz: $ m = \\frac{1-prevalence}{prevalence} \\frac{Cfp - Ctn}{Cfn - Ctp}$ where C stands for cost. we then choose the threshold with the highest $f_{m} = TPR - m(FPR)$ an m value of 0.13 was found to predict the target with a preference to over diagnose heart disease than under diagnose due to the humanitarian and monetary consequences. max $f_{m}$ will then be taken for each model."
   ],
   "cell_type": "markdown",
   "metadata": {}
  },
  {
   "cell_type": "code",
   "execution_count": 11,
   "metadata": {},
   "outputs": [
    {
     "output_type": "execute_result",
     "data": {
      "text/plain": [
       "0.1322115384615385"
      ]
     },
     "metadata": {},
     "execution_count": 11
    }
   ],
   "source": [
    "prevalence = len(y_train.loc[y_train==1])/len(y_train)\n",
    "Cfp = 5000 #5000 cost of extra tests assumed here to be CT scan and MRI cardiac scan  \n",
    "Ctn = 0 #0 go home you're safe\n",
    "Cfn = 32000 #32000 Egyptian pounds approx which is the cost of valve replacement surgery... plus possibly human life\n",
    "Ctp = 0 #0 possibly save someones life\n",
    "m = ((1-prevalence)/(prevalence)) * (Cfp/Cfn)\n",
    "m"
   ]
  },
  {
   "source": [
    "# Optimisation and model selection"
   ],
   "cell_type": "markdown",
   "metadata": {}
  },
  {
   "source": [
    "Here we try a bunch of different classification models and their combinations to see what works best. "
   ],
   "cell_type": "markdown",
   "metadata": {}
  },
  {
   "cell_type": "code",
   "execution_count": 12,
   "metadata": {},
   "outputs": [
    {
     "output_type": "stream",
     "name": "stderr",
     "text": [
      "C:\\Users\\HusseinRizkana\\anaconda3\\lib\\importlib\\_bootstrap.py:219: RuntimeWarning: numpy.ufunc size changed, may indicate binary incompatibility. Expected 192 from C header, got 216 from PyObject\n",
      "  return f(*args, **kwds)\n",
      "C:\\Users\\HusseinRizkana\\anaconda3\\lib\\importlib\\_bootstrap.py:219: RuntimeWarning: numpy.ufunc size changed, may indicate binary incompatibility. Expected 192 from C header, got 216 from PyObject\n",
      "  return f(*args, **kwds)\n"
     ]
    }
   ],
   "source": [
    "from sklearn.linear_model import LogisticRegression\n",
    "from sklearn.metrics import (confusion_matrix, accuracy_score,\n",
    "                           roc_curve, auc, recall_score, make_scorer)\n",
    "from sklearn.model_selection import cross_val_score, cross_validate\n",
    "import plotly.figure_factory as ff\n",
    "from sklearn.svm import SVC\n",
    "from sklearn.neighbors import KNeighborsClassifier\n",
    "from sklearn.tree import DecisionTreeClassifier\n",
    "from sklearn import tree\n",
    "from sklearn.ensemble import RandomForestClassifier\n",
    "from sklearn.ensemble import BaggingClassifier\n",
    "from IPython.display import Image\n",
    "import pydotplus"
   ]
  },
  {
   "cell_type": "code",
   "execution_count": 43,
   "metadata": {},
   "outputs": [
    {
     "output_type": "stream",
     "name": "stdout",
     "text": [
      "Training Accuracy: 0.7072916666666667\nTraining recall: 0.7711538461538462\nValidation Accuracy: 0.7041666666666667\nValidation recall: 0.7692307692307693\n"
     ]
    }
   ],
   "source": [
    "import numpy as np\n",
    "svc = SVC(gamma=0.0003,kernel=\"rbf\",probability = True)\n",
    "val_svc = cross_validate(svc, X_train.drop(dropped_cols,axis=1), y_train, scoring=[\"accuracy\", \"recall\"], cv=5, return_train_score=True)\n",
    "print(\"Training Accuracy:\", np.mean(val_svc[\"train_accuracy\"]))\n",
    "print(\"Training recall:\", np.mean(val_svc[\"train_recall\"]))\n",
    "print(\"Validation Accuracy:\", np.mean(val_svc[\"test_accuracy\"]))\n",
    "print(\"Validation recall:\", np.mean(val_svc[\"test_recall\"]))"
   ]
  },
  {
   "cell_type": "code",
   "execution_count": 42,
   "metadata": {},
   "outputs": [
    {
     "output_type": "stream",
     "name": "stdout",
     "text": [
      "Training Accuracy: 0.8604166666666668\n",
      "Training recall: 0.9057692307692309\n",
      "Validation Accuracy: 0.8375\n",
      "Validation recall: 0.8846153846153847\n",
      "C:\\Users\\HusseinRizkana\\anaconda3\\lib\\site-packages\\sklearn\\linear_model\\_logistic.py:765: ConvergenceWarning: lbfgs failed to converge (status=1):\n",
      "STOP: TOTAL NO. of ITERATIONS REACHED LIMIT.\n",
      "\n",
      "Increase the number of iterations (max_iter) or scale the data as shown in:\n",
      "    https://scikit-learn.org/stable/modules/preprocessing.html\n",
      "Please also refer to the documentation for alternative solver options:\n",
      "    https://scikit-learn.org/stable/modules/linear_model.html#logistic-regression\n",
      "  extra_warning_msg=_LOGISTIC_SOLVER_CONVERGENCE_MSG)\n"
     ]
    }
   ],
   "source": [
    "logreg = LogisticRegression()\n",
    "val_logreg = cross_validate(logreg, X_train.drop(dropped_cols,axis=1), y_train, scoring=[\"accuracy\", \"recall\"], cv=5, return_train_score=True)\n",
    "\n",
    "print(\"Training Accuracy:\", np.mean(val_logreg[\"train_accuracy\"]))\n",
    "print(\"Training recall:\", np.mean(val_logreg[\"train_recall\"]))\n",
    "print(\"Validation Accuracy:\", np.mean(val_logreg[\"test_accuracy\"]))\n",
    "print(\"Validation recall:\", np.mean(val_logreg[\"test_recall\"]))"
   ]
  },
  {
   "cell_type": "code",
   "execution_count": 41,
   "metadata": {},
   "outputs": [
    {
     "output_type": "stream",
     "name": "stdout",
     "text": [
      "Training Accuracy: 0.81875\nTraining recall: 0.9019230769230768\nValidation Accuracy: 0.7249999999999999\nValidation recall: 0.8230769230769232\n"
     ]
    }
   ],
   "source": [
    "knn = KNeighborsClassifier()\n",
    "knn.fit(X_train.drop(dropped_cols, axis=1),y_train)\n",
    "KNeighborsClassifier(algorithm=\"auto\", metric=\"euclidean\",\n",
    " metric_params=None, n_jobs=5, n_neighbors=20)\n",
    "val_knn = cross_validate(knn, X_train.drop(dropped_cols,axis=1), y_train, scoring=[\"accuracy\", \"recall\"], cv=5, return_train_score=True)\n",
    "\n",
    "print(\"Training Accuracy:\", np.mean(val_knn[\"train_accuracy\"]))\n",
    "print(\"Training recall:\", np.mean(val_knn[\"train_recall\"]))\n",
    "print(\"Validation Accuracy:\", np.mean(val_knn[\"test_accuracy\"]))\n",
    "print(\"Validation recall:\", np.mean(val_knn[\"test_recall\"]))"
   ]
  },
  {
   "cell_type": "code",
   "execution_count": 44,
   "metadata": {},
   "outputs": [
    {
     "output_type": "stream",
     "name": "stdout",
     "text": [
      "Training Accuracy: 0.8791666666666667\nTraining recall: 0.8576923076923076\nValidation Accuracy: 0.7958333333333334\nValidation recall: 0.8\n"
     ]
    }
   ],
   "source": [
    "tre = DecisionTreeClassifier(criterion=\"gini\",random_state = 42, max_depth=5,\n",
    "                            min_samples_split=11,min_samples_leaf=2, class_weight =\"balanced\")\n",
    "val_tre = cross_validate(tre, X_train.drop(dropped_cols,axis=1), y_train, scoring=[\"accuracy\", \"recall\"], cv=5, return_train_score=True)\n",
    "\n",
    "print(\"Training Accuracy:\", np.mean(val_tre[\"train_accuracy\"]))\n",
    "print(\"Training recall:\", np.mean(val_tre[\"train_recall\"]))\n",
    "print(\"Validation Accuracy:\", np.mean(val_tre[\"test_accuracy\"]))\n",
    "print(\"Validation recall:\", np.mean(val_tre[\"test_recall\"]))"
   ]
  },
  {
   "cell_type": "code",
   "execution_count": 19,
   "metadata": {},
   "outputs": [
    {
     "output_type": "display_data",
     "data": {
      "text/plain": "<Figure size 432x288 with 1 Axes>",
      "image/svg+xml": "<?xml version=\"1.0\" encoding=\"utf-8\" standalone=\"no\"?>\r\n<!DOCTYPE svg PUBLIC \"-//W3C//DTD SVG 1.1//EN\"\r\n  \"http://www.w3.org/Graphics/SVG/1.1/DTD/svg11.dtd\">\r\n<svg height=\"231.84pt\" version=\"1.1\" viewBox=\"0 0 349.2 231.84\" width=\"349.2pt\" xmlns=\"http://www.w3.org/2000/svg\" xmlns:xlink=\"http://www.w3.org/1999/xlink\">\r\n <metadata>\r\n  <rdf:RDF xmlns:cc=\"http://creativecommons.org/ns#\" xmlns:dc=\"http://purl.org/dc/elements/1.1/\" xmlns:rdf=\"http://www.w3.org/1999/02/22-rdf-syntax-ns#\">\r\n   <cc:Work>\r\n    <dc:type rdf:resource=\"http://purl.org/dc/dcmitype/StillImage\"/>\r\n    <dc:date>2021-04-19T12:59:20.664436</dc:date>\r\n    <dc:format>image/svg+xml</dc:format>\r\n    <dc:creator>\r\n     <cc:Agent>\r\n      <dc:title>Matplotlib v3.4.1, https://matplotlib.org/</dc:title>\r\n     </cc:Agent>\r\n    </dc:creator>\r\n   </cc:Work>\r\n  </rdf:RDF>\r\n </metadata>\r\n <defs>\r\n  <style type=\"text/css\">*{stroke-linecap:butt;stroke-linejoin:round;}</style>\r\n </defs>\r\n <g id=\"figure_1\">\r\n  <g id=\"patch_1\">\r\n   <path d=\"M 0 231.84 \r\nL 349.2 231.84 \r\nL 349.2 0 \r\nL 0 0 \r\nz\r\n\" style=\"fill:none;\"/>\r\n  </g>\r\n  <g id=\"axes_1\">\r\n   <g id=\"patch_2\">\r\n    <path d=\"M 23.096416 196.828206 \r\nQ 28.622296 179.601719 34.489678 161.31063 \r\n\" style=\"fill:none;stroke:#000000;stroke-linecap:round;\"/>\r\n    <path d=\"M 23.501625 196.413699 \r\nL 23.096416 196.828206 \r\nL 23.007936 196.255335 \r\n\" style=\"fill:none;stroke:#000000;stroke-linecap:round;\"/>\r\n   </g>\r\n   <g id=\"text_1\">\r\n    <g id=\"patch_3\">\r\n     <path d=\"M 14.102597 205.493114 \r\nL 28.197403 205.493114 \r\nL 28.197403 200.298886 \r\nL 14.102597 200.298886 \r\nz\r\n\" style=\"fill:#fbe9dd;stroke:#000000;stroke-linejoin:miter;\"/>\r\n    </g>\r\n    <!-- gini = 0.496 -->\r\n    <g transform=\"translate(17.1574 201.802237)scale(0.012962 -0.012962)\">\r\n     <defs>\r\n      <path d=\"M 2906 1791 \r\nQ 2906 2416 2648 2759 \r\nQ 2391 3103 1925 3103 \r\nQ 1463 3103 1205 2759 \r\nQ 947 2416 947 1791 \r\nQ 947 1169 1205 825 \r\nQ 1463 481 1925 481 \r\nQ 2391 481 2648 825 \r\nQ 2906 1169 2906 1791 \r\nz\r\nM 3481 434 \r\nQ 3481 -459 3084 -895 \r\nQ 2688 -1331 1869 -1331 \r\nQ 1566 -1331 1297 -1286 \r\nQ 1028 -1241 775 -1147 \r\nL 775 -588 \r\nQ 1028 -725 1275 -790 \r\nQ 1522 -856 1778 -856 \r\nQ 2344 -856 2625 -561 \r\nQ 2906 -266 2906 331 \r\nL 2906 616 \r\nQ 2728 306 2450 153 \r\nQ 2172 0 1784 0 \r\nQ 1141 0 747 490 \r\nQ 353 981 353 1791 \r\nQ 353 2603 747 3093 \r\nQ 1141 3584 1784 3584 \r\nQ 2172 3584 2450 3431 \r\nQ 2728 3278 2906 2969 \r\nL 2906 3500 \r\nL 3481 3500 \r\nL 3481 434 \r\nz\r\n\" id=\"DejaVuSans-67\" transform=\"scale(0.015625)\"/>\r\n      <path d=\"M 603 3500 \r\nL 1178 3500 \r\nL 1178 0 \r\nL 603 0 \r\nL 603 3500 \r\nz\r\nM 603 4863 \r\nL 1178 4863 \r\nL 1178 4134 \r\nL 603 4134 \r\nL 603 4863 \r\nz\r\n\" id=\"DejaVuSans-69\" transform=\"scale(0.015625)\"/>\r\n      <path d=\"M 3513 2113 \r\nL 3513 0 \r\nL 2938 0 \r\nL 2938 2094 \r\nQ 2938 2591 2744 2837 \r\nQ 2550 3084 2163 3084 \r\nQ 1697 3084 1428 2787 \r\nQ 1159 2491 1159 1978 \r\nL 1159 0 \r\nL 581 0 \r\nL 581 3500 \r\nL 1159 3500 \r\nL 1159 2956 \r\nQ 1366 3272 1645 3428 \r\nQ 1925 3584 2291 3584 \r\nQ 2894 3584 3203 3211 \r\nQ 3513 2838 3513 2113 \r\nz\r\n\" id=\"DejaVuSans-6e\" transform=\"scale(0.015625)\"/>\r\n      <path id=\"DejaVuSans-20\" transform=\"scale(0.015625)\"/>\r\n      <path d=\"M 678 2906 \r\nL 4684 2906 \r\nL 4684 2381 \r\nL 678 2381 \r\nL 678 2906 \r\nz\r\nM 678 1631 \r\nL 4684 1631 \r\nL 4684 1100 \r\nL 678 1100 \r\nL 678 1631 \r\nz\r\n\" id=\"DejaVuSans-3d\" transform=\"scale(0.015625)\"/>\r\n      <path d=\"M 2034 4250 \r\nQ 1547 4250 1301 3770 \r\nQ 1056 3291 1056 2328 \r\nQ 1056 1369 1301 889 \r\nQ 1547 409 2034 409 \r\nQ 2525 409 2770 889 \r\nQ 3016 1369 3016 2328 \r\nQ 3016 3291 2770 3770 \r\nQ 2525 4250 2034 4250 \r\nz\r\nM 2034 4750 \r\nQ 2819 4750 3233 4129 \r\nQ 3647 3509 3647 2328 \r\nQ 3647 1150 3233 529 \r\nQ 2819 -91 2034 -91 \r\nQ 1250 -91 836 529 \r\nQ 422 1150 422 2328 \r\nQ 422 3509 836 4129 \r\nQ 1250 4750 2034 4750 \r\nz\r\n\" id=\"DejaVuSans-30\" transform=\"scale(0.015625)\"/>\r\n      <path d=\"M 684 794 \r\nL 1344 794 \r\nL 1344 0 \r\nL 684 0 \r\nL 684 794 \r\nz\r\n\" id=\"DejaVuSans-2e\" transform=\"scale(0.015625)\"/>\r\n      <path d=\"M 2419 4116 \r\nL 825 1625 \r\nL 2419 1625 \r\nL 2419 4116 \r\nz\r\nM 2253 4666 \r\nL 3047 4666 \r\nL 3047 1625 \r\nL 3713 1625 \r\nL 3713 1100 \r\nL 3047 1100 \r\nL 3047 0 \r\nL 2419 0 \r\nL 2419 1100 \r\nL 313 1100 \r\nL 313 1709 \r\nL 2253 4666 \r\nz\r\n\" id=\"DejaVuSans-34\" transform=\"scale(0.015625)\"/>\r\n      <path d=\"M 703 97 \r\nL 703 672 \r\nQ 941 559 1184 500 \r\nQ 1428 441 1663 441 \r\nQ 2288 441 2617 861 \r\nQ 2947 1281 2994 2138 \r\nQ 2813 1869 2534 1725 \r\nQ 2256 1581 1919 1581 \r\nQ 1219 1581 811 2004 \r\nQ 403 2428 403 3163 \r\nQ 403 3881 828 4315 \r\nQ 1253 4750 1959 4750 \r\nQ 2769 4750 3195 4129 \r\nQ 3622 3509 3622 2328 \r\nQ 3622 1225 3098 567 \r\nQ 2575 -91 1691 -91 \r\nQ 1453 -91 1209 -44 \r\nQ 966 3 703 97 \r\nz\r\nM 1959 2075 \r\nQ 2384 2075 2632 2365 \r\nQ 2881 2656 2881 3163 \r\nQ 2881 3666 2632 3958 \r\nQ 2384 4250 1959 4250 \r\nQ 1534 4250 1286 3958 \r\nQ 1038 3666 1038 3163 \r\nQ 1038 2656 1286 2365 \r\nQ 1534 2075 1959 2075 \r\nz\r\n\" id=\"DejaVuSans-39\" transform=\"scale(0.015625)\"/>\r\n      <path d=\"M 2113 2584 \r\nQ 1688 2584 1439 2293 \r\nQ 1191 2003 1191 1497 \r\nQ 1191 994 1439 701 \r\nQ 1688 409 2113 409 \r\nQ 2538 409 2786 701 \r\nQ 3034 994 3034 1497 \r\nQ 3034 2003 2786 2293 \r\nQ 2538 2584 2113 2584 \r\nz\r\nM 3366 4563 \r\nL 3366 3988 \r\nQ 3128 4100 2886 4159 \r\nQ 2644 4219 2406 4219 \r\nQ 1781 4219 1451 3797 \r\nQ 1122 3375 1075 2522 \r\nQ 1259 2794 1537 2939 \r\nQ 1816 3084 2150 3084 \r\nQ 2853 3084 3261 2657 \r\nQ 3669 2231 3669 1497 \r\nQ 3669 778 3244 343 \r\nQ 2819 -91 2113 -91 \r\nQ 1303 -91 875 529 \r\nQ 447 1150 447 2328 \r\nQ 447 3434 972 4092 \r\nQ 1497 4750 2381 4750 \r\nQ 2619 4750 2861 4703 \r\nQ 3103 4656 3366 4563 \r\nz\r\n\" id=\"DejaVuSans-36\" transform=\"scale(0.015625)\"/>\r\n     </defs>\r\n     <use xlink:href=\"#DejaVuSans-67\"/>\r\n     <use x=\"63.476562\" xlink:href=\"#DejaVuSans-69\"/>\r\n     <use x=\"91.259766\" xlink:href=\"#DejaVuSans-6e\"/>\r\n     <use x=\"154.638672\" xlink:href=\"#DejaVuSans-69\"/>\r\n     <use x=\"182.421875\" xlink:href=\"#DejaVuSans-20\"/>\r\n     <use x=\"214.208984\" xlink:href=\"#DejaVuSans-3d\"/>\r\n     <use x=\"297.998047\" xlink:href=\"#DejaVuSans-20\"/>\r\n     <use x=\"329.785156\" xlink:href=\"#DejaVuSans-30\"/>\r\n     <use x=\"393.408203\" xlink:href=\"#DejaVuSans-2e\"/>\r\n     <use x=\"425.195312\" xlink:href=\"#DejaVuSans-34\"/>\r\n     <use x=\"488.818359\" xlink:href=\"#DejaVuSans-39\"/>\r\n     <use x=\"552.441406\" xlink:href=\"#DejaVuSans-36\"/>\r\n    </g>\r\n    <!-- samples = 14 -->\r\n    <g transform=\"translate(16.6764 203.253661)scale(0.012962 -0.012962)\">\r\n     <defs>\r\n      <path d=\"M 2834 3397 \r\nL 2834 2853 \r\nQ 2591 2978 2328 3040 \r\nQ 2066 3103 1784 3103 \r\nQ 1356 3103 1142 2972 \r\nQ 928 2841 928 2578 \r\nQ 928 2378 1081 2264 \r\nQ 1234 2150 1697 2047 \r\nL 1894 2003 \r\nQ 2506 1872 2764 1633 \r\nQ 3022 1394 3022 966 \r\nQ 3022 478 2636 193 \r\nQ 2250 -91 1575 -91 \r\nQ 1294 -91 989 -36 \r\nQ 684 19 347 128 \r\nL 347 722 \r\nQ 666 556 975 473 \r\nQ 1284 391 1588 391 \r\nQ 1994 391 2212 530 \r\nQ 2431 669 2431 922 \r\nQ 2431 1156 2273 1281 \r\nQ 2116 1406 1581 1522 \r\nL 1381 1569 \r\nQ 847 1681 609 1914 \r\nQ 372 2147 372 2553 \r\nQ 372 3047 722 3315 \r\nQ 1072 3584 1716 3584 \r\nQ 2034 3584 2315 3537 \r\nQ 2597 3491 2834 3397 \r\nz\r\n\" id=\"DejaVuSans-73\" transform=\"scale(0.015625)\"/>\r\n      <path d=\"M 2194 1759 \r\nQ 1497 1759 1228 1600 \r\nQ 959 1441 959 1056 \r\nQ 959 750 1161 570 \r\nQ 1363 391 1709 391 \r\nQ 2188 391 2477 730 \r\nQ 2766 1069 2766 1631 \r\nL 2766 1759 \r\nL 2194 1759 \r\nz\r\nM 3341 1997 \r\nL 3341 0 \r\nL 2766 0 \r\nL 2766 531 \r\nQ 2569 213 2275 61 \r\nQ 1981 -91 1556 -91 \r\nQ 1019 -91 701 211 \r\nQ 384 513 384 1019 \r\nQ 384 1609 779 1909 \r\nQ 1175 2209 1959 2209 \r\nL 2766 2209 \r\nL 2766 2266 \r\nQ 2766 2663 2505 2880 \r\nQ 2244 3097 1772 3097 \r\nQ 1472 3097 1187 3025 \r\nQ 903 2953 641 2809 \r\nL 641 3341 \r\nQ 956 3463 1253 3523 \r\nQ 1550 3584 1831 3584 \r\nQ 2591 3584 2966 3190 \r\nQ 3341 2797 3341 1997 \r\nz\r\n\" id=\"DejaVuSans-61\" transform=\"scale(0.015625)\"/>\r\n      <path d=\"M 3328 2828 \r\nQ 3544 3216 3844 3400 \r\nQ 4144 3584 4550 3584 \r\nQ 5097 3584 5394 3201 \r\nQ 5691 2819 5691 2113 \r\nL 5691 0 \r\nL 5113 0 \r\nL 5113 2094 \r\nQ 5113 2597 4934 2840 \r\nQ 4756 3084 4391 3084 \r\nQ 3944 3084 3684 2787 \r\nQ 3425 2491 3425 1978 \r\nL 3425 0 \r\nL 2847 0 \r\nL 2847 2094 \r\nQ 2847 2600 2669 2842 \r\nQ 2491 3084 2119 3084 \r\nQ 1678 3084 1418 2786 \r\nQ 1159 2488 1159 1978 \r\nL 1159 0 \r\nL 581 0 \r\nL 581 3500 \r\nL 1159 3500 \r\nL 1159 2956 \r\nQ 1356 3278 1631 3431 \r\nQ 1906 3584 2284 3584 \r\nQ 2666 3584 2933 3390 \r\nQ 3200 3197 3328 2828 \r\nz\r\n\" id=\"DejaVuSans-6d\" transform=\"scale(0.015625)\"/>\r\n      <path d=\"M 1159 525 \r\nL 1159 -1331 \r\nL 581 -1331 \r\nL 581 3500 \r\nL 1159 3500 \r\nL 1159 2969 \r\nQ 1341 3281 1617 3432 \r\nQ 1894 3584 2278 3584 \r\nQ 2916 3584 3314 3078 \r\nQ 3713 2572 3713 1747 \r\nQ 3713 922 3314 415 \r\nQ 2916 -91 2278 -91 \r\nQ 1894 -91 1617 61 \r\nQ 1341 213 1159 525 \r\nz\r\nM 3116 1747 \r\nQ 3116 2381 2855 2742 \r\nQ 2594 3103 2138 3103 \r\nQ 1681 3103 1420 2742 \r\nQ 1159 2381 1159 1747 \r\nQ 1159 1113 1420 752 \r\nQ 1681 391 2138 391 \r\nQ 2594 391 2855 752 \r\nQ 3116 1113 3116 1747 \r\nz\r\n\" id=\"DejaVuSans-70\" transform=\"scale(0.015625)\"/>\r\n      <path d=\"M 603 4863 \r\nL 1178 4863 \r\nL 1178 0 \r\nL 603 0 \r\nL 603 4863 \r\nz\r\n\" id=\"DejaVuSans-6c\" transform=\"scale(0.015625)\"/>\r\n      <path d=\"M 3597 1894 \r\nL 3597 1613 \r\nL 953 1613 \r\nQ 991 1019 1311 708 \r\nQ 1631 397 2203 397 \r\nQ 2534 397 2845 478 \r\nQ 3156 559 3463 722 \r\nL 3463 178 \r\nQ 3153 47 2828 -22 \r\nQ 2503 -91 2169 -91 \r\nQ 1331 -91 842 396 \r\nQ 353 884 353 1716 \r\nQ 353 2575 817 3079 \r\nQ 1281 3584 2069 3584 \r\nQ 2775 3584 3186 3129 \r\nQ 3597 2675 3597 1894 \r\nz\r\nM 3022 2063 \r\nQ 3016 2534 2758 2815 \r\nQ 2500 3097 2075 3097 \r\nQ 1594 3097 1305 2825 \r\nQ 1016 2553 972 2059 \r\nL 3022 2063 \r\nz\r\n\" id=\"DejaVuSans-65\" transform=\"scale(0.015625)\"/>\r\n      <path d=\"M 794 531 \r\nL 1825 531 \r\nL 1825 4091 \r\nL 703 3866 \r\nL 703 4441 \r\nL 1819 4666 \r\nL 2450 4666 \r\nL 2450 531 \r\nL 3481 531 \r\nL 3481 0 \r\nL 794 0 \r\nL 794 531 \r\nz\r\n\" id=\"DejaVuSans-31\" transform=\"scale(0.015625)\"/>\r\n     </defs>\r\n     <use xlink:href=\"#DejaVuSans-73\"/>\r\n     <use x=\"52.099609\" xlink:href=\"#DejaVuSans-61\"/>\r\n     <use x=\"113.378906\" xlink:href=\"#DejaVuSans-6d\"/>\r\n     <use x=\"210.791016\" xlink:href=\"#DejaVuSans-70\"/>\r\n     <use x=\"274.267578\" xlink:href=\"#DejaVuSans-6c\"/>\r\n     <use x=\"302.050781\" xlink:href=\"#DejaVuSans-65\"/>\r\n     <use x=\"363.574219\" xlink:href=\"#DejaVuSans-73\"/>\r\n     <use x=\"415.673828\" xlink:href=\"#DejaVuSans-20\"/>\r\n     <use x=\"447.460938\" xlink:href=\"#DejaVuSans-3d\"/>\r\n     <use x=\"531.25\" xlink:href=\"#DejaVuSans-20\"/>\r\n     <use x=\"563.037109\" xlink:href=\"#DejaVuSans-31\"/>\r\n     <use x=\"626.660156\" xlink:href=\"#DejaVuSans-34\"/>\r\n    </g>\r\n    <!-- value = [7.724, 6.4] -->\r\n    <g transform=\"translate(14.621064 204.705085)scale(0.012962 -0.012962)\">\r\n     <defs>\r\n      <path d=\"M 191 3500 \r\nL 800 3500 \r\nL 1894 563 \r\nL 2988 3500 \r\nL 3597 3500 \r\nL 2284 0 \r\nL 1503 0 \r\nL 191 3500 \r\nz\r\n\" id=\"DejaVuSans-76\" transform=\"scale(0.015625)\"/>\r\n      <path d=\"M 544 1381 \r\nL 544 3500 \r\nL 1119 3500 \r\nL 1119 1403 \r\nQ 1119 906 1312 657 \r\nQ 1506 409 1894 409 \r\nQ 2359 409 2629 706 \r\nQ 2900 1003 2900 1516 \r\nL 2900 3500 \r\nL 3475 3500 \r\nL 3475 0 \r\nL 2900 0 \r\nL 2900 538 \r\nQ 2691 219 2414 64 \r\nQ 2138 -91 1772 -91 \r\nQ 1169 -91 856 284 \r\nQ 544 659 544 1381 \r\nz\r\nM 1991 3584 \r\nL 1991 3584 \r\nz\r\n\" id=\"DejaVuSans-75\" transform=\"scale(0.015625)\"/>\r\n      <path d=\"M 550 4863 \r\nL 1875 4863 \r\nL 1875 4416 \r\nL 1125 4416 \r\nL 1125 -397 \r\nL 1875 -397 \r\nL 1875 -844 \r\nL 550 -844 \r\nL 550 4863 \r\nz\r\n\" id=\"DejaVuSans-5b\" transform=\"scale(0.015625)\"/>\r\n      <path d=\"M 525 4666 \r\nL 3525 4666 \r\nL 3525 4397 \r\nL 1831 0 \r\nL 1172 0 \r\nL 2766 4134 \r\nL 525 4134 \r\nL 525 4666 \r\nz\r\n\" id=\"DejaVuSans-37\" transform=\"scale(0.015625)\"/>\r\n      <path d=\"M 1228 531 \r\nL 3431 531 \r\nL 3431 0 \r\nL 469 0 \r\nL 469 531 \r\nQ 828 903 1448 1529 \r\nQ 2069 2156 2228 2338 \r\nQ 2531 2678 2651 2914 \r\nQ 2772 3150 2772 3378 \r\nQ 2772 3750 2511 3984 \r\nQ 2250 4219 1831 4219 \r\nQ 1534 4219 1204 4116 \r\nQ 875 4013 500 3803 \r\nL 500 4441 \r\nQ 881 4594 1212 4672 \r\nQ 1544 4750 1819 4750 \r\nQ 2544 4750 2975 4387 \r\nQ 3406 4025 3406 3419 \r\nQ 3406 3131 3298 2873 \r\nQ 3191 2616 2906 2266 \r\nQ 2828 2175 2409 1742 \r\nQ 1991 1309 1228 531 \r\nz\r\n\" id=\"DejaVuSans-32\" transform=\"scale(0.015625)\"/>\r\n      <path d=\"M 750 794 \r\nL 1409 794 \r\nL 1409 256 \r\nL 897 -744 \r\nL 494 -744 \r\nL 750 256 \r\nL 750 794 \r\nz\r\n\" id=\"DejaVuSans-2c\" transform=\"scale(0.015625)\"/>\r\n      <path d=\"M 1947 4863 \r\nL 1947 -844 \r\nL 622 -844 \r\nL 622 -397 \r\nL 1369 -397 \r\nL 1369 4416 \r\nL 622 4416 \r\nL 622 4863 \r\nL 1947 4863 \r\nz\r\n\" id=\"DejaVuSans-5d\" transform=\"scale(0.015625)\"/>\r\n     </defs>\r\n     <use xlink:href=\"#DejaVuSans-76\"/>\r\n     <use x=\"59.179688\" xlink:href=\"#DejaVuSans-61\"/>\r\n     <use x=\"120.458984\" xlink:href=\"#DejaVuSans-6c\"/>\r\n     <use x=\"148.242188\" xlink:href=\"#DejaVuSans-75\"/>\r\n     <use x=\"211.621094\" xlink:href=\"#DejaVuSans-65\"/>\r\n     <use x=\"273.144531\" xlink:href=\"#DejaVuSans-20\"/>\r\n     <use x=\"304.931641\" xlink:href=\"#DejaVuSans-3d\"/>\r\n     <use x=\"388.720703\" xlink:href=\"#DejaVuSans-20\"/>\r\n     <use x=\"420.507812\" xlink:href=\"#DejaVuSans-5b\"/>\r\n     <use x=\"459.521484\" xlink:href=\"#DejaVuSans-37\"/>\r\n     <use x=\"523.144531\" xlink:href=\"#DejaVuSans-2e\"/>\r\n     <use x=\"554.931641\" xlink:href=\"#DejaVuSans-37\"/>\r\n     <use x=\"618.554688\" xlink:href=\"#DejaVuSans-32\"/>\r\n     <use x=\"682.177734\" xlink:href=\"#DejaVuSans-34\"/>\r\n     <use x=\"745.800781\" xlink:href=\"#DejaVuSans-2c\"/>\r\n     <use x=\"777.587891\" xlink:href=\"#DejaVuSans-20\"/>\r\n     <use x=\"809.375\" xlink:href=\"#DejaVuSans-36\"/>\r\n     <use x=\"872.998047\" xlink:href=\"#DejaVuSans-2e\"/>\r\n     <use x=\"904.785156\" xlink:href=\"#DejaVuSans-34\"/>\r\n     <use x=\"968.408203\" xlink:href=\"#DejaVuSans-5d\"/>\r\n    </g>\r\n   </g>\r\n   <g id=\"patch_4\">\r\n    <path d=\"M 47.103584 196.828206 \r\nQ 41.577704 179.601719 35.710322 161.31063 \r\n\" style=\"fill:none;stroke:#000000;stroke-linecap:round;\"/>\r\n    <path d=\"M 47.192064 196.255335 \r\nL 47.103584 196.828206 \r\nL 46.698375 196.413699 \r\n\" style=\"fill:none;stroke:#000000;stroke-linecap:round;\"/>\r\n   </g>\r\n   <g id=\"text_2\">\r\n    <g id=\"patch_5\">\r\n     <path d=\"M 41.17791 205.493114 \r\nL 56.92209 205.493114 \r\nL 56.92209 200.298886 \r\nL 41.17791 200.298886 \r\nz\r\n\" style=\"fill:#54aae8;stroke:#000000;stroke-linejoin:miter;\"/>\r\n    </g>\r\n    <!-- gini = 0.209 -->\r\n    <g transform=\"translate(45.0574 201.802237)scale(0.012962 -0.012962)\">\r\n     <use xlink:href=\"#DejaVuSans-67\"/>\r\n     <use x=\"63.476562\" xlink:href=\"#DejaVuSans-69\"/>\r\n     <use x=\"91.259766\" xlink:href=\"#DejaVuSans-6e\"/>\r\n     <use x=\"154.638672\" xlink:href=\"#DejaVuSans-69\"/>\r\n     <use x=\"182.421875\" xlink:href=\"#DejaVuSans-20\"/>\r\n     <use x=\"214.208984\" xlink:href=\"#DejaVuSans-3d\"/>\r\n     <use x=\"297.998047\" xlink:href=\"#DejaVuSans-20\"/>\r\n     <use x=\"329.785156\" xlink:href=\"#DejaVuSans-30\"/>\r\n     <use x=\"393.408203\" xlink:href=\"#DejaVuSans-2e\"/>\r\n     <use x=\"425.195312\" xlink:href=\"#DejaVuSans-32\"/>\r\n     <use x=\"488.818359\" xlink:href=\"#DejaVuSans-30\"/>\r\n     <use x=\"552.441406\" xlink:href=\"#DejaVuSans-39\"/>\r\n    </g>\r\n    <!-- samples = 10 -->\r\n    <g transform=\"translate(44.5764 203.253661)scale(0.012962 -0.012962)\">\r\n     <use xlink:href=\"#DejaVuSans-73\"/>\r\n     <use x=\"52.099609\" xlink:href=\"#DejaVuSans-61\"/>\r\n     <use x=\"113.378906\" xlink:href=\"#DejaVuSans-6d\"/>\r\n     <use x=\"210.791016\" xlink:href=\"#DejaVuSans-70\"/>\r\n     <use x=\"274.267578\" xlink:href=\"#DejaVuSans-6c\"/>\r\n     <use x=\"302.050781\" xlink:href=\"#DejaVuSans-65\"/>\r\n     <use x=\"363.574219\" xlink:href=\"#DejaVuSans-73\"/>\r\n     <use x=\"415.673828\" xlink:href=\"#DejaVuSans-20\"/>\r\n     <use x=\"447.460938\" xlink:href=\"#DejaVuSans-3d\"/>\r\n     <use x=\"531.25\" xlink:href=\"#DejaVuSans-20\"/>\r\n     <use x=\"563.037109\" xlink:href=\"#DejaVuSans-31\"/>\r\n     <use x=\"626.660156\" xlink:href=\"#DejaVuSans-30\"/>\r\n    </g>\r\n    <!-- value = [1.103, 8.229] -->\r\n    <g transform=\"translate(41.696377 204.705085)scale(0.012962 -0.012962)\">\r\n     <defs>\r\n      <path d=\"M 2597 2516 \r\nQ 3050 2419 3304 2112 \r\nQ 3559 1806 3559 1356 \r\nQ 3559 666 3084 287 \r\nQ 2609 -91 1734 -91 \r\nQ 1441 -91 1130 -33 \r\nQ 819 25 488 141 \r\nL 488 750 \r\nQ 750 597 1062 519 \r\nQ 1375 441 1716 441 \r\nQ 2309 441 2620 675 \r\nQ 2931 909 2931 1356 \r\nQ 2931 1769 2642 2001 \r\nQ 2353 2234 1838 2234 \r\nL 1294 2234 \r\nL 1294 2753 \r\nL 1863 2753 \r\nQ 2328 2753 2575 2939 \r\nQ 2822 3125 2822 3475 \r\nQ 2822 3834 2567 4026 \r\nQ 2313 4219 1838 4219 \r\nQ 1578 4219 1281 4162 \r\nQ 984 4106 628 3988 \r\nL 628 4550 \r\nQ 988 4650 1302 4700 \r\nQ 1616 4750 1894 4750 \r\nQ 2613 4750 3031 4423 \r\nQ 3450 4097 3450 3541 \r\nQ 3450 3153 3228 2886 \r\nQ 3006 2619 2597 2516 \r\nz\r\n\" id=\"DejaVuSans-33\" transform=\"scale(0.015625)\"/>\r\n      <path d=\"M 2034 2216 \r\nQ 1584 2216 1326 1975 \r\nQ 1069 1734 1069 1313 \r\nQ 1069 891 1326 650 \r\nQ 1584 409 2034 409 \r\nQ 2484 409 2743 651 \r\nQ 3003 894 3003 1313 \r\nQ 3003 1734 2745 1975 \r\nQ 2488 2216 2034 2216 \r\nz\r\nM 1403 2484 \r\nQ 997 2584 770 2862 \r\nQ 544 3141 544 3541 \r\nQ 544 4100 942 4425 \r\nQ 1341 4750 2034 4750 \r\nQ 2731 4750 3128 4425 \r\nQ 3525 4100 3525 3541 \r\nQ 3525 3141 3298 2862 \r\nQ 3072 2584 2669 2484 \r\nQ 3125 2378 3379 2068 \r\nQ 3634 1759 3634 1313 \r\nQ 3634 634 3220 271 \r\nQ 2806 -91 2034 -91 \r\nQ 1263 -91 848 271 \r\nQ 434 634 434 1313 \r\nQ 434 1759 690 2068 \r\nQ 947 2378 1403 2484 \r\nz\r\nM 1172 3481 \r\nQ 1172 3119 1398 2916 \r\nQ 1625 2713 2034 2713 \r\nQ 2441 2713 2670 2916 \r\nQ 2900 3119 2900 3481 \r\nQ 2900 3844 2670 4047 \r\nQ 2441 4250 2034 4250 \r\nQ 1625 4250 1398 4047 \r\nQ 1172 3844 1172 3481 \r\nz\r\n\" id=\"DejaVuSans-38\" transform=\"scale(0.015625)\"/>\r\n     </defs>\r\n     <use xlink:href=\"#DejaVuSans-76\"/>\r\n     <use x=\"59.179688\" xlink:href=\"#DejaVuSans-61\"/>\r\n     <use x=\"120.458984\" xlink:href=\"#DejaVuSans-6c\"/>\r\n     <use x=\"148.242188\" xlink:href=\"#DejaVuSans-75\"/>\r\n     <use x=\"211.621094\" xlink:href=\"#DejaVuSans-65\"/>\r\n     <use x=\"273.144531\" xlink:href=\"#DejaVuSans-20\"/>\r\n     <use x=\"304.931641\" xlink:href=\"#DejaVuSans-3d\"/>\r\n     <use x=\"388.720703\" xlink:href=\"#DejaVuSans-20\"/>\r\n     <use x=\"420.507812\" xlink:href=\"#DejaVuSans-5b\"/>\r\n     <use x=\"459.521484\" xlink:href=\"#DejaVuSans-31\"/>\r\n     <use x=\"523.144531\" xlink:href=\"#DejaVuSans-2e\"/>\r\n     <use x=\"554.931641\" xlink:href=\"#DejaVuSans-31\"/>\r\n     <use x=\"618.554688\" xlink:href=\"#DejaVuSans-30\"/>\r\n     <use x=\"682.177734\" xlink:href=\"#DejaVuSans-33\"/>\r\n     <use x=\"745.800781\" xlink:href=\"#DejaVuSans-2c\"/>\r\n     <use x=\"777.587891\" xlink:href=\"#DejaVuSans-20\"/>\r\n     <use x=\"809.375\" xlink:href=\"#DejaVuSans-38\"/>\r\n     <use x=\"872.998047\" xlink:href=\"#DejaVuSans-2e\"/>\r\n     <use x=\"904.785156\" xlink:href=\"#DejaVuSans-32\"/>\r\n     <use x=\"968.408203\" xlink:href=\"#DejaVuSans-32\"/>\r\n     <use x=\"1032.03125\" xlink:href=\"#DejaVuSans-39\"/>\r\n     <use x=\"1095.654297\" xlink:href=\"#DejaVuSans-5d\"/>\r\n    </g>\r\n   </g>\r\n   <g id=\"patch_6\">\r\n    <path d=\"M 78.896416 196.828206 \r\nQ 84.422296 179.601719 90.289678 161.31063 \r\n\" style=\"fill:none;stroke:#000000;stroke-linecap:round;\"/>\r\n    <path d=\"M 79.301625 196.413699 \r\nL 78.896416 196.828206 \r\nL 78.807936 196.255335 \r\n\" style=\"fill:none;stroke:#000000;stroke-linecap:round;\"/>\r\n   </g>\r\n   <g id=\"text_3\">\r\n    <g id=\"patch_7\">\r\n     <path d=\"M 68.665567 205.493114 \r\nL 85.234433 205.493114 \r\nL 85.234433 200.298886 \r\nL 68.665567 200.298886 \r\nz\r\n\" style=\"fill:#e78845;stroke:#000000;stroke-linejoin:miter;\"/>\r\n    </g>\r\n    <!-- gini = 0.106 -->\r\n    <g transform=\"translate(72.9574 201.802237)scale(0.012962 -0.012962)\">\r\n     <use xlink:href=\"#DejaVuSans-67\"/>\r\n     <use x=\"63.476562\" xlink:href=\"#DejaVuSans-69\"/>\r\n     <use x=\"91.259766\" xlink:href=\"#DejaVuSans-6e\"/>\r\n     <use x=\"154.638672\" xlink:href=\"#DejaVuSans-69\"/>\r\n     <use x=\"182.421875\" xlink:href=\"#DejaVuSans-20\"/>\r\n     <use x=\"214.208984\" xlink:href=\"#DejaVuSans-3d\"/>\r\n     <use x=\"297.998047\" xlink:href=\"#DejaVuSans-20\"/>\r\n     <use x=\"329.785156\" xlink:href=\"#DejaVuSans-30\"/>\r\n     <use x=\"393.408203\" xlink:href=\"#DejaVuSans-2e\"/>\r\n     <use x=\"425.195312\" xlink:href=\"#DejaVuSans-31\"/>\r\n     <use x=\"488.818359\" xlink:href=\"#DejaVuSans-30\"/>\r\n     <use x=\"552.441406\" xlink:href=\"#DejaVuSans-36\"/>\r\n    </g>\r\n    <!-- samples = 15 -->\r\n    <g transform=\"translate(72.4764 203.253661)scale(0.012962 -0.012962)\">\r\n     <defs>\r\n      <path d=\"M 691 4666 \r\nL 3169 4666 \r\nL 3169 4134 \r\nL 1269 4134 \r\nL 1269 2991 \r\nQ 1406 3038 1543 3061 \r\nQ 1681 3084 1819 3084 \r\nQ 2600 3084 3056 2656 \r\nQ 3513 2228 3513 1497 \r\nQ 3513 744 3044 326 \r\nQ 2575 -91 1722 -91 \r\nQ 1428 -91 1123 -41 \r\nQ 819 9 494 109 \r\nL 494 744 \r\nQ 775 591 1075 516 \r\nQ 1375 441 1709 441 \r\nQ 2250 441 2565 725 \r\nQ 2881 1009 2881 1497 \r\nQ 2881 1984 2565 2268 \r\nQ 2250 2553 1709 2553 \r\nQ 1456 2553 1204 2497 \r\nQ 953 2441 691 2322 \r\nL 691 4666 \r\nz\r\n\" id=\"DejaVuSans-35\" transform=\"scale(0.015625)\"/>\r\n     </defs>\r\n     <use xlink:href=\"#DejaVuSans-73\"/>\r\n     <use x=\"52.099609\" xlink:href=\"#DejaVuSans-61\"/>\r\n     <use x=\"113.378906\" xlink:href=\"#DejaVuSans-6d\"/>\r\n     <use x=\"210.791016\" xlink:href=\"#DejaVuSans-70\"/>\r\n     <use x=\"274.267578\" xlink:href=\"#DejaVuSans-6c\"/>\r\n     <use x=\"302.050781\" xlink:href=\"#DejaVuSans-65\"/>\r\n     <use x=\"363.574219\" xlink:href=\"#DejaVuSans-73\"/>\r\n     <use x=\"415.673828\" xlink:href=\"#DejaVuSans-20\"/>\r\n     <use x=\"447.460938\" xlink:href=\"#DejaVuSans-3d\"/>\r\n     <use x=\"531.25\" xlink:href=\"#DejaVuSans-20\"/>\r\n     <use x=\"563.037109\" xlink:href=\"#DejaVuSans-31\"/>\r\n     <use x=\"626.660156\" xlink:href=\"#DejaVuSans-35\"/>\r\n    </g>\r\n    <!-- value = [15.448, 0.914] -->\r\n    <g transform=\"translate(69.184034 204.705085)scale(0.012962 -0.012962)\">\r\n     <use xlink:href=\"#DejaVuSans-76\"/>\r\n     <use x=\"59.179688\" xlink:href=\"#DejaVuSans-61\"/>\r\n     <use x=\"120.458984\" xlink:href=\"#DejaVuSans-6c\"/>\r\n     <use x=\"148.242188\" xlink:href=\"#DejaVuSans-75\"/>\r\n     <use x=\"211.621094\" xlink:href=\"#DejaVuSans-65\"/>\r\n     <use x=\"273.144531\" xlink:href=\"#DejaVuSans-20\"/>\r\n     <use x=\"304.931641\" xlink:href=\"#DejaVuSans-3d\"/>\r\n     <use x=\"388.720703\" xlink:href=\"#DejaVuSans-20\"/>\r\n     <use x=\"420.507812\" xlink:href=\"#DejaVuSans-5b\"/>\r\n     <use x=\"459.521484\" xlink:href=\"#DejaVuSans-31\"/>\r\n     <use x=\"523.144531\" xlink:href=\"#DejaVuSans-35\"/>\r\n     <use x=\"586.767578\" xlink:href=\"#DejaVuSans-2e\"/>\r\n     <use x=\"618.554688\" xlink:href=\"#DejaVuSans-34\"/>\r\n     <use x=\"682.177734\" xlink:href=\"#DejaVuSans-34\"/>\r\n     <use x=\"745.800781\" xlink:href=\"#DejaVuSans-38\"/>\r\n     <use x=\"809.423828\" xlink:href=\"#DejaVuSans-2c\"/>\r\n     <use x=\"841.210938\" xlink:href=\"#DejaVuSans-20\"/>\r\n     <use x=\"872.998047\" xlink:href=\"#DejaVuSans-30\"/>\r\n     <use x=\"936.621094\" xlink:href=\"#DejaVuSans-2e\"/>\r\n     <use x=\"968.408203\" xlink:href=\"#DejaVuSans-39\"/>\r\n     <use x=\"1032.03125\" xlink:href=\"#DejaVuSans-31\"/>\r\n     <use x=\"1095.654297\" xlink:href=\"#DejaVuSans-34\"/>\r\n     <use x=\"1159.277344\" xlink:href=\"#DejaVuSans-5d\"/>\r\n    </g>\r\n   </g>\r\n   <g id=\"patch_8\">\r\n    <path d=\"M 102.903584 196.828206 \r\nQ 97.377704 179.601719 91.510322 161.31063 \r\n\" style=\"fill:none;stroke:#000000;stroke-linecap:round;\"/>\r\n    <path d=\"M 102.992064 196.255335 \r\nL 102.903584 196.828206 \r\nL 102.498375 196.413699 \r\n\" style=\"fill:none;stroke:#000000;stroke-linecap:round;\"/>\r\n   </g>\r\n   <g id=\"text_4\">\r\n    <g id=\"patch_9\">\r\n     <path d=\"M 97.802597 205.493114 \r\nL 111.897403 205.493114 \r\nL 111.897403 200.298886 \r\nL 97.802597 200.298886 \r\nz\r\n\" style=\"fill:#399de5;stroke:#000000;stroke-linejoin:miter;\"/>\r\n    </g>\r\n    <!-- gini = 0.0 -->\r\n    <g transform=\"translate(101.682086 201.802237)scale(0.012962 -0.012962)\">\r\n     <use xlink:href=\"#DejaVuSans-67\"/>\r\n     <use x=\"63.476562\" xlink:href=\"#DejaVuSans-69\"/>\r\n     <use x=\"91.259766\" xlink:href=\"#DejaVuSans-6e\"/>\r\n     <use x=\"154.638672\" xlink:href=\"#DejaVuSans-69\"/>\r\n     <use x=\"182.421875\" xlink:href=\"#DejaVuSans-20\"/>\r\n     <use x=\"214.208984\" xlink:href=\"#DejaVuSans-3d\"/>\r\n     <use x=\"297.998047\" xlink:href=\"#DejaVuSans-20\"/>\r\n     <use x=\"329.785156\" xlink:href=\"#DejaVuSans-30\"/>\r\n     <use x=\"393.408203\" xlink:href=\"#DejaVuSans-2e\"/>\r\n     <use x=\"425.195312\" xlink:href=\"#DejaVuSans-30\"/>\r\n    </g>\r\n    <!-- samples = 1 -->\r\n    <g transform=\"translate(100.788743 203.253661)scale(0.012962 -0.012962)\">\r\n     <use xlink:href=\"#DejaVuSans-73\"/>\r\n     <use x=\"52.099609\" xlink:href=\"#DejaVuSans-61\"/>\r\n     <use x=\"113.378906\" xlink:href=\"#DejaVuSans-6d\"/>\r\n     <use x=\"210.791016\" xlink:href=\"#DejaVuSans-70\"/>\r\n     <use x=\"274.267578\" xlink:href=\"#DejaVuSans-6c\"/>\r\n     <use x=\"302.050781\" xlink:href=\"#DejaVuSans-65\"/>\r\n     <use x=\"363.574219\" xlink:href=\"#DejaVuSans-73\"/>\r\n     <use x=\"415.673828\" xlink:href=\"#DejaVuSans-20\"/>\r\n     <use x=\"447.460938\" xlink:href=\"#DejaVuSans-3d\"/>\r\n     <use x=\"531.25\" xlink:href=\"#DejaVuSans-20\"/>\r\n     <use x=\"563.037109\" xlink:href=\"#DejaVuSans-31\"/>\r\n    </g>\r\n    <!-- value = [0.0, 0.914] -->\r\n    <g transform=\"translate(98.321064 204.705085)scale(0.012962 -0.012962)\">\r\n     <use xlink:href=\"#DejaVuSans-76\"/>\r\n     <use x=\"59.179688\" xlink:href=\"#DejaVuSans-61\"/>\r\n     <use x=\"120.458984\" xlink:href=\"#DejaVuSans-6c\"/>\r\n     <use x=\"148.242188\" xlink:href=\"#DejaVuSans-75\"/>\r\n     <use x=\"211.621094\" xlink:href=\"#DejaVuSans-65\"/>\r\n     <use x=\"273.144531\" xlink:href=\"#DejaVuSans-20\"/>\r\n     <use x=\"304.931641\" xlink:href=\"#DejaVuSans-3d\"/>\r\n     <use x=\"388.720703\" xlink:href=\"#DejaVuSans-20\"/>\r\n     <use x=\"420.507812\" xlink:href=\"#DejaVuSans-5b\"/>\r\n     <use x=\"459.521484\" xlink:href=\"#DejaVuSans-30\"/>\r\n     <use x=\"523.144531\" xlink:href=\"#DejaVuSans-2e\"/>\r\n     <use x=\"554.931641\" xlink:href=\"#DejaVuSans-30\"/>\r\n     <use x=\"618.554688\" xlink:href=\"#DejaVuSans-2c\"/>\r\n     <use x=\"650.341797\" xlink:href=\"#DejaVuSans-20\"/>\r\n     <use x=\"682.128906\" xlink:href=\"#DejaVuSans-30\"/>\r\n     <use x=\"745.751953\" xlink:href=\"#DejaVuSans-2e\"/>\r\n     <use x=\"777.539062\" xlink:href=\"#DejaVuSans-39\"/>\r\n     <use x=\"841.162109\" xlink:href=\"#DejaVuSans-31\"/>\r\n     <use x=\"904.785156\" xlink:href=\"#DejaVuSans-34\"/>\r\n     <use x=\"968.408203\" xlink:href=\"#DejaVuSans-5d\"/>\r\n    </g>\r\n   </g>\r\n   <g id=\"patch_10\">\r\n    <path d=\"M 134.696416 196.828206 \r\nQ 140.222296 179.601719 146.089678 161.31063 \r\n\" style=\"fill:none;stroke:#000000;stroke-linecap:round;\"/>\r\n    <path d=\"M 135.101625 196.413699 \r\nL 134.696416 196.828206 \r\nL 134.607936 196.255335 \r\n\" style=\"fill:none;stroke:#000000;stroke-linecap:round;\"/>\r\n   </g>\r\n   <g id=\"text_5\">\r\n    <g id=\"patch_11\">\r\n     <path d=\"M 125.290254 205.493114 \r\nL 140.209746 205.493114 \r\nL 140.209746 200.298886 \r\nL 125.290254 200.298886 \r\nz\r\n\" style=\"fill:#e58139;stroke:#000000;stroke-linejoin:miter;\"/>\r\n    </g>\r\n    <!-- gini = 0.0 -->\r\n    <g transform=\"translate(129.582086 201.802237)scale(0.012962 -0.012962)\">\r\n     <use xlink:href=\"#DejaVuSans-67\"/>\r\n     <use x=\"63.476562\" xlink:href=\"#DejaVuSans-69\"/>\r\n     <use x=\"91.259766\" xlink:href=\"#DejaVuSans-6e\"/>\r\n     <use x=\"154.638672\" xlink:href=\"#DejaVuSans-69\"/>\r\n     <use x=\"182.421875\" xlink:href=\"#DejaVuSans-20\"/>\r\n     <use x=\"214.208984\" xlink:href=\"#DejaVuSans-3d\"/>\r\n     <use x=\"297.998047\" xlink:href=\"#DejaVuSans-20\"/>\r\n     <use x=\"329.785156\" xlink:href=\"#DejaVuSans-30\"/>\r\n     <use x=\"393.408203\" xlink:href=\"#DejaVuSans-2e\"/>\r\n     <use x=\"425.195312\" xlink:href=\"#DejaVuSans-30\"/>\r\n    </g>\r\n    <!-- samples = 31 -->\r\n    <g transform=\"translate(128.2764 203.253661)scale(0.012962 -0.012962)\">\r\n     <use xlink:href=\"#DejaVuSans-73\"/>\r\n     <use x=\"52.099609\" xlink:href=\"#DejaVuSans-61\"/>\r\n     <use x=\"113.378906\" xlink:href=\"#DejaVuSans-6d\"/>\r\n     <use x=\"210.791016\" xlink:href=\"#DejaVuSans-70\"/>\r\n     <use x=\"274.267578\" xlink:href=\"#DejaVuSans-6c\"/>\r\n     <use x=\"302.050781\" xlink:href=\"#DejaVuSans-65\"/>\r\n     <use x=\"363.574219\" xlink:href=\"#DejaVuSans-73\"/>\r\n     <use x=\"415.673828\" xlink:href=\"#DejaVuSans-20\"/>\r\n     <use x=\"447.460938\" xlink:href=\"#DejaVuSans-3d\"/>\r\n     <use x=\"531.25\" xlink:href=\"#DejaVuSans-20\"/>\r\n     <use x=\"563.037109\" xlink:href=\"#DejaVuSans-33\"/>\r\n     <use x=\"626.660156\" xlink:href=\"#DejaVuSans-31\"/>\r\n    </g>\r\n    <!-- value = [34.207, 0.0] -->\r\n    <g transform=\"translate(125.808721 204.705085)scale(0.012962 -0.012962)\">\r\n     <use xlink:href=\"#DejaVuSans-76\"/>\r\n     <use x=\"59.179688\" xlink:href=\"#DejaVuSans-61\"/>\r\n     <use x=\"120.458984\" xlink:href=\"#DejaVuSans-6c\"/>\r\n     <use x=\"148.242188\" xlink:href=\"#DejaVuSans-75\"/>\r\n     <use x=\"211.621094\" xlink:href=\"#DejaVuSans-65\"/>\r\n     <use x=\"273.144531\" xlink:href=\"#DejaVuSans-20\"/>\r\n     <use x=\"304.931641\" xlink:href=\"#DejaVuSans-3d\"/>\r\n     <use x=\"388.720703\" xlink:href=\"#DejaVuSans-20\"/>\r\n     <use x=\"420.507812\" xlink:href=\"#DejaVuSans-5b\"/>\r\n     <use x=\"459.521484\" xlink:href=\"#DejaVuSans-33\"/>\r\n     <use x=\"523.144531\" xlink:href=\"#DejaVuSans-34\"/>\r\n     <use x=\"586.767578\" xlink:href=\"#DejaVuSans-2e\"/>\r\n     <use x=\"618.554688\" xlink:href=\"#DejaVuSans-32\"/>\r\n     <use x=\"682.177734\" xlink:href=\"#DejaVuSans-30\"/>\r\n     <use x=\"745.800781\" xlink:href=\"#DejaVuSans-37\"/>\r\n     <use x=\"809.423828\" xlink:href=\"#DejaVuSans-2c\"/>\r\n     <use x=\"841.210938\" xlink:href=\"#DejaVuSans-20\"/>\r\n     <use x=\"872.998047\" xlink:href=\"#DejaVuSans-30\"/>\r\n     <use x=\"936.621094\" xlink:href=\"#DejaVuSans-2e\"/>\r\n     <use x=\"968.408203\" xlink:href=\"#DejaVuSans-30\"/>\r\n     <use x=\"1032.03125\" xlink:href=\"#DejaVuSans-5d\"/>\r\n    </g>\r\n   </g>\r\n   <g id=\"patch_12\">\r\n    <path d=\"M 158.703584 196.828206 \r\nQ 153.177704 179.601719 147.310322 161.31063 \r\n\" style=\"fill:none;stroke:#000000;stroke-linecap:round;\"/>\r\n    <path d=\"M 158.792064 196.255335 \r\nL 158.703584 196.828206 \r\nL 158.298375 196.413699 \r\n\" style=\"fill:none;stroke:#000000;stroke-linecap:round;\"/>\r\n   </g>\r\n   <g id=\"text_6\">\r\n    <g id=\"patch_13\">\r\n     <path d=\"M 152.77791 205.493114 \r\nL 168.52209 205.493114 \r\nL 168.52209 200.298886 \r\nL 152.77791 200.298886 \r\nz\r\n\" style=\"fill:#e88e4e;stroke:#000000;stroke-linejoin:miter;\"/>\r\n    </g>\r\n    <!-- gini = 0.17 -->\r\n    <g transform=\"translate(157.069743 201.802237)scale(0.012962 -0.012962)\">\r\n     <use xlink:href=\"#DejaVuSans-67\"/>\r\n     <use x=\"63.476562\" xlink:href=\"#DejaVuSans-69\"/>\r\n     <use x=\"91.259766\" xlink:href=\"#DejaVuSans-6e\"/>\r\n     <use x=\"154.638672\" xlink:href=\"#DejaVuSans-69\"/>\r\n     <use x=\"182.421875\" xlink:href=\"#DejaVuSans-20\"/>\r\n     <use x=\"214.208984\" xlink:href=\"#DejaVuSans-3d\"/>\r\n     <use x=\"297.998047\" xlink:href=\"#DejaVuSans-20\"/>\r\n     <use x=\"329.785156\" xlink:href=\"#DejaVuSans-30\"/>\r\n     <use x=\"393.408203\" xlink:href=\"#DejaVuSans-2e\"/>\r\n     <use x=\"425.195312\" xlink:href=\"#DejaVuSans-31\"/>\r\n     <use x=\"488.818359\" xlink:href=\"#DejaVuSans-37\"/>\r\n    </g>\r\n    <!-- samples = 9 -->\r\n    <g transform=\"translate(156.588743 203.253661)scale(0.012962 -0.012962)\">\r\n     <use xlink:href=\"#DejaVuSans-73\"/>\r\n     <use x=\"52.099609\" xlink:href=\"#DejaVuSans-61\"/>\r\n     <use x=\"113.378906\" xlink:href=\"#DejaVuSans-6d\"/>\r\n     <use x=\"210.791016\" xlink:href=\"#DejaVuSans-70\"/>\r\n     <use x=\"274.267578\" xlink:href=\"#DejaVuSans-6c\"/>\r\n     <use x=\"302.050781\" xlink:href=\"#DejaVuSans-65\"/>\r\n     <use x=\"363.574219\" xlink:href=\"#DejaVuSans-73\"/>\r\n     <use x=\"415.673828\" xlink:href=\"#DejaVuSans-20\"/>\r\n     <use x=\"447.460938\" xlink:href=\"#DejaVuSans-3d\"/>\r\n     <use x=\"531.25\" xlink:href=\"#DejaVuSans-20\"/>\r\n     <use x=\"563.037109\" xlink:href=\"#DejaVuSans-39\"/>\r\n    </g>\r\n    <!-- value = [8.828, 0.914] -->\r\n    <g transform=\"translate(153.296377 204.705085)scale(0.012962 -0.012962)\">\r\n     <use xlink:href=\"#DejaVuSans-76\"/>\r\n     <use x=\"59.179688\" xlink:href=\"#DejaVuSans-61\"/>\r\n     <use x=\"120.458984\" xlink:href=\"#DejaVuSans-6c\"/>\r\n     <use x=\"148.242188\" xlink:href=\"#DejaVuSans-75\"/>\r\n     <use x=\"211.621094\" xlink:href=\"#DejaVuSans-65\"/>\r\n     <use x=\"273.144531\" xlink:href=\"#DejaVuSans-20\"/>\r\n     <use x=\"304.931641\" xlink:href=\"#DejaVuSans-3d\"/>\r\n     <use x=\"388.720703\" xlink:href=\"#DejaVuSans-20\"/>\r\n     <use x=\"420.507812\" xlink:href=\"#DejaVuSans-5b\"/>\r\n     <use x=\"459.521484\" xlink:href=\"#DejaVuSans-38\"/>\r\n     <use x=\"523.144531\" xlink:href=\"#DejaVuSans-2e\"/>\r\n     <use x=\"554.931641\" xlink:href=\"#DejaVuSans-38\"/>\r\n     <use x=\"618.554688\" xlink:href=\"#DejaVuSans-32\"/>\r\n     <use x=\"682.177734\" xlink:href=\"#DejaVuSans-38\"/>\r\n     <use x=\"745.800781\" xlink:href=\"#DejaVuSans-2c\"/>\r\n     <use x=\"777.587891\" xlink:href=\"#DejaVuSans-20\"/>\r\n     <use x=\"809.375\" xlink:href=\"#DejaVuSans-30\"/>\r\n     <use x=\"872.998047\" xlink:href=\"#DejaVuSans-2e\"/>\r\n     <use x=\"904.785156\" xlink:href=\"#DejaVuSans-39\"/>\r\n     <use x=\"968.408203\" xlink:href=\"#DejaVuSans-31\"/>\r\n     <use x=\"1032.03125\" xlink:href=\"#DejaVuSans-34\"/>\r\n     <use x=\"1095.654297\" xlink:href=\"#DejaVuSans-5d\"/>\r\n    </g>\r\n   </g>\r\n   <g id=\"patch_14\">\r\n    <path d=\"M 190.496416 196.828206 \r\nQ 196.022296 179.601719 201.889678 161.31063 \r\n\" style=\"fill:none;stroke:#000000;stroke-linecap:round;\"/>\r\n    <path d=\"M 190.901625 196.413699 \r\nL 190.496416 196.828206 \r\nL 190.407936 196.255335 \r\n\" style=\"fill:none;stroke:#000000;stroke-linecap:round;\"/>\r\n   </g>\r\n   <g id=\"text_7\">\r\n    <g id=\"patch_15\">\r\n     <path d=\"M 181.090254 205.493114 \r\nL 196.009746 205.493114 \r\nL 196.009746 200.298886 \r\nL 181.090254 200.298886 \r\nz\r\n\" style=\"fill:#f3c7a6;stroke:#000000;stroke-linejoin:miter;\"/>\r\n    </g>\r\n    <!-- gini = 0.458 -->\r\n    <g transform=\"translate(184.5574 201.802237)scale(0.012962 -0.012962)\">\r\n     <use xlink:href=\"#DejaVuSans-67\"/>\r\n     <use x=\"63.476562\" xlink:href=\"#DejaVuSans-69\"/>\r\n     <use x=\"91.259766\" xlink:href=\"#DejaVuSans-6e\"/>\r\n     <use x=\"154.638672\" xlink:href=\"#DejaVuSans-69\"/>\r\n     <use x=\"182.421875\" xlink:href=\"#DejaVuSans-20\"/>\r\n     <use x=\"214.208984\" xlink:href=\"#DejaVuSans-3d\"/>\r\n     <use x=\"297.998047\" xlink:href=\"#DejaVuSans-20\"/>\r\n     <use x=\"329.785156\" xlink:href=\"#DejaVuSans-30\"/>\r\n     <use x=\"393.408203\" xlink:href=\"#DejaVuSans-2e\"/>\r\n     <use x=\"425.195312\" xlink:href=\"#DejaVuSans-34\"/>\r\n     <use x=\"488.818359\" xlink:href=\"#DejaVuSans-35\"/>\r\n     <use x=\"552.441406\" xlink:href=\"#DejaVuSans-38\"/>\r\n    </g>\r\n    <!-- samples = 5 -->\r\n    <g transform=\"translate(184.488743 203.253661)scale(0.012962 -0.012962)\">\r\n     <use xlink:href=\"#DejaVuSans-73\"/>\r\n     <use x=\"52.099609\" xlink:href=\"#DejaVuSans-61\"/>\r\n     <use x=\"113.378906\" xlink:href=\"#DejaVuSans-6d\"/>\r\n     <use x=\"210.791016\" xlink:href=\"#DejaVuSans-70\"/>\r\n     <use x=\"274.267578\" xlink:href=\"#DejaVuSans-6c\"/>\r\n     <use x=\"302.050781\" xlink:href=\"#DejaVuSans-65\"/>\r\n     <use x=\"363.574219\" xlink:href=\"#DejaVuSans-73\"/>\r\n     <use x=\"415.673828\" xlink:href=\"#DejaVuSans-20\"/>\r\n     <use x=\"447.460938\" xlink:href=\"#DejaVuSans-3d\"/>\r\n     <use x=\"531.25\" xlink:href=\"#DejaVuSans-20\"/>\r\n     <use x=\"563.037109\" xlink:href=\"#DejaVuSans-35\"/>\r\n    </g>\r\n    <!-- value = [3.31, 1.829] -->\r\n    <g transform=\"translate(181.608721 204.705085)scale(0.012962 -0.012962)\">\r\n     <use xlink:href=\"#DejaVuSans-76\"/>\r\n     <use x=\"59.179688\" xlink:href=\"#DejaVuSans-61\"/>\r\n     <use x=\"120.458984\" xlink:href=\"#DejaVuSans-6c\"/>\r\n     <use x=\"148.242188\" xlink:href=\"#DejaVuSans-75\"/>\r\n     <use x=\"211.621094\" xlink:href=\"#DejaVuSans-65\"/>\r\n     <use x=\"273.144531\" xlink:href=\"#DejaVuSans-20\"/>\r\n     <use x=\"304.931641\" xlink:href=\"#DejaVuSans-3d\"/>\r\n     <use x=\"388.720703\" xlink:href=\"#DejaVuSans-20\"/>\r\n     <use x=\"420.507812\" xlink:href=\"#DejaVuSans-5b\"/>\r\n     <use x=\"459.521484\" xlink:href=\"#DejaVuSans-33\"/>\r\n     <use x=\"523.144531\" xlink:href=\"#DejaVuSans-2e\"/>\r\n     <use x=\"554.931641\" xlink:href=\"#DejaVuSans-33\"/>\r\n     <use x=\"618.554688\" xlink:href=\"#DejaVuSans-31\"/>\r\n     <use x=\"682.177734\" xlink:href=\"#DejaVuSans-2c\"/>\r\n     <use x=\"713.964844\" xlink:href=\"#DejaVuSans-20\"/>\r\n     <use x=\"745.751953\" xlink:href=\"#DejaVuSans-31\"/>\r\n     <use x=\"809.375\" xlink:href=\"#DejaVuSans-2e\"/>\r\n     <use x=\"841.162109\" xlink:href=\"#DejaVuSans-38\"/>\r\n     <use x=\"904.785156\" xlink:href=\"#DejaVuSans-32\"/>\r\n     <use x=\"968.408203\" xlink:href=\"#DejaVuSans-39\"/>\r\n     <use x=\"1032.03125\" xlink:href=\"#DejaVuSans-5d\"/>\r\n    </g>\r\n   </g>\r\n   <g id=\"patch_16\">\r\n    <path d=\"M 214.503584 196.828206 \r\nQ 208.977704 179.601719 203.110322 161.31063 \r\n\" style=\"fill:none;stroke:#000000;stroke-linecap:round;\"/>\r\n    <path d=\"M 214.592064 196.255335 \r\nL 214.503584 196.828206 \r\nL 214.098375 196.413699 \r\n\" style=\"fill:none;stroke:#000000;stroke-linecap:round;\"/>\r\n   </g>\r\n   <g id=\"text_8\">\r\n    <g id=\"patch_17\">\r\n     <path d=\"M 209.81494 205.493114 \r\nL 223.08506 205.493114 \r\nL 223.08506 200.298886 \r\nL 209.81494 200.298886 \r\nz\r\n\" style=\"fill:#e58139;stroke:#000000;stroke-linejoin:miter;\"/>\r\n    </g>\r\n    <!-- gini = 0.0 -->\r\n    <g transform=\"translate(213.282086 201.802237)scale(0.012962 -0.012962)\">\r\n     <use xlink:href=\"#DejaVuSans-67\"/>\r\n     <use x=\"63.476562\" xlink:href=\"#DejaVuSans-69\"/>\r\n     <use x=\"91.259766\" xlink:href=\"#DejaVuSans-6e\"/>\r\n     <use x=\"154.638672\" xlink:href=\"#DejaVuSans-69\"/>\r\n     <use x=\"182.421875\" xlink:href=\"#DejaVuSans-20\"/>\r\n     <use x=\"214.208984\" xlink:href=\"#DejaVuSans-3d\"/>\r\n     <use x=\"297.998047\" xlink:href=\"#DejaVuSans-20\"/>\r\n     <use x=\"329.785156\" xlink:href=\"#DejaVuSans-30\"/>\r\n     <use x=\"393.408203\" xlink:href=\"#DejaVuSans-2e\"/>\r\n     <use x=\"425.195312\" xlink:href=\"#DejaVuSans-30\"/>\r\n    </g>\r\n    <!-- samples = 3 -->\r\n    <g transform=\"translate(212.388743 203.253661)scale(0.012962 -0.012962)\">\r\n     <use xlink:href=\"#DejaVuSans-73\"/>\r\n     <use x=\"52.099609\" xlink:href=\"#DejaVuSans-61\"/>\r\n     <use x=\"113.378906\" xlink:href=\"#DejaVuSans-6d\"/>\r\n     <use x=\"210.791016\" xlink:href=\"#DejaVuSans-70\"/>\r\n     <use x=\"274.267578\" xlink:href=\"#DejaVuSans-6c\"/>\r\n     <use x=\"302.050781\" xlink:href=\"#DejaVuSans-65\"/>\r\n     <use x=\"363.574219\" xlink:href=\"#DejaVuSans-73\"/>\r\n     <use x=\"415.673828\" xlink:href=\"#DejaVuSans-20\"/>\r\n     <use x=\"447.460938\" xlink:href=\"#DejaVuSans-3d\"/>\r\n     <use x=\"531.25\" xlink:href=\"#DejaVuSans-20\"/>\r\n     <use x=\"563.037109\" xlink:href=\"#DejaVuSans-33\"/>\r\n    </g>\r\n    <!-- value = [3.31, 0.0] -->\r\n    <g transform=\"translate(210.333407 204.705085)scale(0.012962 -0.012962)\">\r\n     <use xlink:href=\"#DejaVuSans-76\"/>\r\n     <use x=\"59.179688\" xlink:href=\"#DejaVuSans-61\"/>\r\n     <use x=\"120.458984\" xlink:href=\"#DejaVuSans-6c\"/>\r\n     <use x=\"148.242188\" xlink:href=\"#DejaVuSans-75\"/>\r\n     <use x=\"211.621094\" xlink:href=\"#DejaVuSans-65\"/>\r\n     <use x=\"273.144531\" xlink:href=\"#DejaVuSans-20\"/>\r\n     <use x=\"304.931641\" xlink:href=\"#DejaVuSans-3d\"/>\r\n     <use x=\"388.720703\" xlink:href=\"#DejaVuSans-20\"/>\r\n     <use x=\"420.507812\" xlink:href=\"#DejaVuSans-5b\"/>\r\n     <use x=\"459.521484\" xlink:href=\"#DejaVuSans-33\"/>\r\n     <use x=\"523.144531\" xlink:href=\"#DejaVuSans-2e\"/>\r\n     <use x=\"554.931641\" xlink:href=\"#DejaVuSans-33\"/>\r\n     <use x=\"618.554688\" xlink:href=\"#DejaVuSans-31\"/>\r\n     <use x=\"682.177734\" xlink:href=\"#DejaVuSans-2c\"/>\r\n     <use x=\"713.964844\" xlink:href=\"#DejaVuSans-20\"/>\r\n     <use x=\"745.751953\" xlink:href=\"#DejaVuSans-30\"/>\r\n     <use x=\"809.375\" xlink:href=\"#DejaVuSans-2e\"/>\r\n     <use x=\"841.162109\" xlink:href=\"#DejaVuSans-30\"/>\r\n     <use x=\"904.785156\" xlink:href=\"#DejaVuSans-5d\"/>\r\n    </g>\r\n   </g>\r\n   <g id=\"patch_18\">\r\n    <path d=\"M 246.296416 196.828206 \r\nQ 251.822296 179.601719 257.689678 161.31063 \r\n\" style=\"fill:none;stroke:#000000;stroke-linecap:round;\"/>\r\n    <path d=\"M 246.701625 196.413699 \r\nL 246.296416 196.828206 \r\nL 246.207936 196.255335 \r\n\" style=\"fill:none;stroke:#000000;stroke-linecap:round;\"/>\r\n   </g>\r\n   <g id=\"text_9\">\r\n    <g id=\"patch_19\">\r\n     <path d=\"M 236.065567 205.493114 \r\nL 252.634433 205.493114 \r\nL 252.634433 200.298886 \r\nL 236.065567 200.298886 \r\nz\r\n\" style=\"fill:#69b5eb;stroke:#000000;stroke-linejoin:miter;\"/>\r\n    </g>\r\n    <!-- gini = 0.313 -->\r\n    <g transform=\"translate(240.3574 201.802237)scale(0.012962 -0.012962)\">\r\n     <use xlink:href=\"#DejaVuSans-67\"/>\r\n     <use x=\"63.476562\" xlink:href=\"#DejaVuSans-69\"/>\r\n     <use x=\"91.259766\" xlink:href=\"#DejaVuSans-6e\"/>\r\n     <use x=\"154.638672\" xlink:href=\"#DejaVuSans-69\"/>\r\n     <use x=\"182.421875\" xlink:href=\"#DejaVuSans-20\"/>\r\n     <use x=\"214.208984\" xlink:href=\"#DejaVuSans-3d\"/>\r\n     <use x=\"297.998047\" xlink:href=\"#DejaVuSans-20\"/>\r\n     <use x=\"329.785156\" xlink:href=\"#DejaVuSans-30\"/>\r\n     <use x=\"393.408203\" xlink:href=\"#DejaVuSans-2e\"/>\r\n     <use x=\"425.195312\" xlink:href=\"#DejaVuSans-33\"/>\r\n     <use x=\"488.818359\" xlink:href=\"#DejaVuSans-31\"/>\r\n     <use x=\"552.441406\" xlink:href=\"#DejaVuSans-33\"/>\r\n    </g>\r\n    <!-- samples = 30 -->\r\n    <g transform=\"translate(239.8764 203.253661)scale(0.012962 -0.012962)\">\r\n     <use xlink:href=\"#DejaVuSans-73\"/>\r\n     <use x=\"52.099609\" xlink:href=\"#DejaVuSans-61\"/>\r\n     <use x=\"113.378906\" xlink:href=\"#DejaVuSans-6d\"/>\r\n     <use x=\"210.791016\" xlink:href=\"#DejaVuSans-70\"/>\r\n     <use x=\"274.267578\" xlink:href=\"#DejaVuSans-6c\"/>\r\n     <use x=\"302.050781\" xlink:href=\"#DejaVuSans-65\"/>\r\n     <use x=\"363.574219\" xlink:href=\"#DejaVuSans-73\"/>\r\n     <use x=\"415.673828\" xlink:href=\"#DejaVuSans-20\"/>\r\n     <use x=\"447.460938\" xlink:href=\"#DejaVuSans-3d\"/>\r\n     <use x=\"531.25\" xlink:href=\"#DejaVuSans-20\"/>\r\n     <use x=\"563.037109\" xlink:href=\"#DejaVuSans-33\"/>\r\n     <use x=\"626.660156\" xlink:href=\"#DejaVuSans-30\"/>\r\n    </g>\r\n    <!-- value = [5.517, 22.857] -->\r\n    <g transform=\"translate(236.584034 204.705085)scale(0.012962 -0.012962)\">\r\n     <use xlink:href=\"#DejaVuSans-76\"/>\r\n     <use x=\"59.179688\" xlink:href=\"#DejaVuSans-61\"/>\r\n     <use x=\"120.458984\" xlink:href=\"#DejaVuSans-6c\"/>\r\n     <use x=\"148.242188\" xlink:href=\"#DejaVuSans-75\"/>\r\n     <use x=\"211.621094\" xlink:href=\"#DejaVuSans-65\"/>\r\n     <use x=\"273.144531\" xlink:href=\"#DejaVuSans-20\"/>\r\n     <use x=\"304.931641\" xlink:href=\"#DejaVuSans-3d\"/>\r\n     <use x=\"388.720703\" xlink:href=\"#DejaVuSans-20\"/>\r\n     <use x=\"420.507812\" xlink:href=\"#DejaVuSans-5b\"/>\r\n     <use x=\"459.521484\" xlink:href=\"#DejaVuSans-35\"/>\r\n     <use x=\"523.144531\" xlink:href=\"#DejaVuSans-2e\"/>\r\n     <use x=\"554.931641\" xlink:href=\"#DejaVuSans-35\"/>\r\n     <use x=\"618.554688\" xlink:href=\"#DejaVuSans-31\"/>\r\n     <use x=\"682.177734\" xlink:href=\"#DejaVuSans-37\"/>\r\n     <use x=\"745.800781\" xlink:href=\"#DejaVuSans-2c\"/>\r\n     <use x=\"777.587891\" xlink:href=\"#DejaVuSans-20\"/>\r\n     <use x=\"809.375\" xlink:href=\"#DejaVuSans-32\"/>\r\n     <use x=\"872.998047\" xlink:href=\"#DejaVuSans-32\"/>\r\n     <use x=\"936.621094\" xlink:href=\"#DejaVuSans-2e\"/>\r\n     <use x=\"968.408203\" xlink:href=\"#DejaVuSans-38\"/>\r\n     <use x=\"1032.03125\" xlink:href=\"#DejaVuSans-35\"/>\r\n     <use x=\"1095.654297\" xlink:href=\"#DejaVuSans-37\"/>\r\n     <use x=\"1159.277344\" xlink:href=\"#DejaVuSans-5d\"/>\r\n    </g>\r\n   </g>\r\n   <g id=\"patch_20\">\r\n    <path d=\"M 270.303584 196.828206 \r\nQ 264.777704 179.601719 258.910322 161.31063 \r\n\" style=\"fill:none;stroke:#000000;stroke-linecap:round;\"/>\r\n    <path d=\"M 270.392064 196.255335 \r\nL 270.303584 196.828206 \r\nL 269.898375 196.413699 \r\n\" style=\"fill:none;stroke:#000000;stroke-linecap:round;\"/>\r\n   </g>\r\n   <g id=\"text_10\">\r\n    <g id=\"patch_21\">\r\n     <path d=\"M 264.790254 205.493114 \r\nL 279.709746 205.493114 \r\nL 279.709746 200.298886 \r\nL 264.790254 200.298886 \r\nz\r\n\" style=\"fill:#399de5;stroke:#000000;stroke-linejoin:miter;\"/>\r\n    </g>\r\n    <!-- gini = -0.0 -->\r\n    <g transform=\"translate(268.84827 201.802237)scale(0.012962 -0.012962)\">\r\n     <defs>\r\n      <path d=\"M 313 2009 \r\nL 1997 2009 \r\nL 1997 1497 \r\nL 313 1497 \r\nL 313 2009 \r\nz\r\n\" id=\"DejaVuSans-2d\" transform=\"scale(0.015625)\"/>\r\n     </defs>\r\n     <use xlink:href=\"#DejaVuSans-67\"/>\r\n     <use x=\"63.476562\" xlink:href=\"#DejaVuSans-69\"/>\r\n     <use x=\"91.259766\" xlink:href=\"#DejaVuSans-6e\"/>\r\n     <use x=\"154.638672\" xlink:href=\"#DejaVuSans-69\"/>\r\n     <use x=\"182.421875\" xlink:href=\"#DejaVuSans-20\"/>\r\n     <use x=\"214.208984\" xlink:href=\"#DejaVuSans-3d\"/>\r\n     <use x=\"297.998047\" xlink:href=\"#DejaVuSans-20\"/>\r\n     <use x=\"329.785156\" xlink:href=\"#DejaVuSans-2d\"/>\r\n     <use x=\"365.869141\" xlink:href=\"#DejaVuSans-30\"/>\r\n     <use x=\"429.492188\" xlink:href=\"#DejaVuSans-2e\"/>\r\n     <use x=\"461.279297\" xlink:href=\"#DejaVuSans-30\"/>\r\n    </g>\r\n    <!-- samples = 40 -->\r\n    <g transform=\"translate(267.7764 203.253661)scale(0.012962 -0.012962)\">\r\n     <use xlink:href=\"#DejaVuSans-73\"/>\r\n     <use x=\"52.099609\" xlink:href=\"#DejaVuSans-61\"/>\r\n     <use x=\"113.378906\" xlink:href=\"#DejaVuSans-6d\"/>\r\n     <use x=\"210.791016\" xlink:href=\"#DejaVuSans-70\"/>\r\n     <use x=\"274.267578\" xlink:href=\"#DejaVuSans-6c\"/>\r\n     <use x=\"302.050781\" xlink:href=\"#DejaVuSans-65\"/>\r\n     <use x=\"363.574219\" xlink:href=\"#DejaVuSans-73\"/>\r\n     <use x=\"415.673828\" xlink:href=\"#DejaVuSans-20\"/>\r\n     <use x=\"447.460938\" xlink:href=\"#DejaVuSans-3d\"/>\r\n     <use x=\"531.25\" xlink:href=\"#DejaVuSans-20\"/>\r\n     <use x=\"563.037109\" xlink:href=\"#DejaVuSans-34\"/>\r\n     <use x=\"626.660156\" xlink:href=\"#DejaVuSans-30\"/>\r\n    </g>\r\n    <!-- value = [0.0, 36.571] -->\r\n    <g transform=\"translate(265.308721 204.705085)scale(0.012962 -0.012962)\">\r\n     <use xlink:href=\"#DejaVuSans-76\"/>\r\n     <use x=\"59.179688\" xlink:href=\"#DejaVuSans-61\"/>\r\n     <use x=\"120.458984\" xlink:href=\"#DejaVuSans-6c\"/>\r\n     <use x=\"148.242188\" xlink:href=\"#DejaVuSans-75\"/>\r\n     <use x=\"211.621094\" xlink:href=\"#DejaVuSans-65\"/>\r\n     <use x=\"273.144531\" xlink:href=\"#DejaVuSans-20\"/>\r\n     <use x=\"304.931641\" xlink:href=\"#DejaVuSans-3d\"/>\r\n     <use x=\"388.720703\" xlink:href=\"#DejaVuSans-20\"/>\r\n     <use x=\"420.507812\" xlink:href=\"#DejaVuSans-5b\"/>\r\n     <use x=\"459.521484\" xlink:href=\"#DejaVuSans-30\"/>\r\n     <use x=\"523.144531\" xlink:href=\"#DejaVuSans-2e\"/>\r\n     <use x=\"554.931641\" xlink:href=\"#DejaVuSans-30\"/>\r\n     <use x=\"618.554688\" xlink:href=\"#DejaVuSans-2c\"/>\r\n     <use x=\"650.341797\" xlink:href=\"#DejaVuSans-20\"/>\r\n     <use x=\"682.128906\" xlink:href=\"#DejaVuSans-33\"/>\r\n     <use x=\"745.751953\" xlink:href=\"#DejaVuSans-36\"/>\r\n     <use x=\"809.375\" xlink:href=\"#DejaVuSans-2e\"/>\r\n     <use x=\"841.162109\" xlink:href=\"#DejaVuSans-35\"/>\r\n     <use x=\"904.785156\" xlink:href=\"#DejaVuSans-37\"/>\r\n     <use x=\"968.408203\" xlink:href=\"#DejaVuSans-31\"/>\r\n     <use x=\"1032.03125\" xlink:href=\"#DejaVuSans-5d\"/>\r\n    </g>\r\n   </g>\r\n   <g id=\"patch_22\">\r\n    <path d=\"M 302.096416 196.828206 \r\nQ 307.622296 179.601719 313.489678 161.31063 \r\n\" style=\"fill:none;stroke:#000000;stroke-linecap:round;\"/>\r\n    <path d=\"M 302.501625 196.413699 \r\nL 302.096416 196.828206 \r\nL 302.007936 196.255335 \r\n\" style=\"fill:none;stroke:#000000;stroke-linecap:round;\"/>\r\n   </g>\r\n   <g id=\"text_11\">\r\n    <g id=\"patch_23\">\r\n     <path d=\"M 291.865567 205.493114 \r\nL 308.434433 205.493114 \r\nL 308.434433 200.298886 \r\nL 291.865567 200.298886 \r\nz\r\n\" style=\"fill:#ea995f;stroke:#000000;stroke-linejoin:miter;\"/>\r\n    </g>\r\n    <!-- gini = 0.27 -->\r\n    <g transform=\"translate(296.569743 201.802237)scale(0.012962 -0.012962)\">\r\n     <use xlink:href=\"#DejaVuSans-67\"/>\r\n     <use x=\"63.476562\" xlink:href=\"#DejaVuSans-69\"/>\r\n     <use x=\"91.259766\" xlink:href=\"#DejaVuSans-6e\"/>\r\n     <use x=\"154.638672\" xlink:href=\"#DejaVuSans-69\"/>\r\n     <use x=\"182.421875\" xlink:href=\"#DejaVuSans-20\"/>\r\n     <use x=\"214.208984\" xlink:href=\"#DejaVuSans-3d\"/>\r\n     <use x=\"297.998047\" xlink:href=\"#DejaVuSans-20\"/>\r\n     <use x=\"329.785156\" xlink:href=\"#DejaVuSans-30\"/>\r\n     <use x=\"393.408203\" xlink:href=\"#DejaVuSans-2e\"/>\r\n     <use x=\"425.195312\" xlink:href=\"#DejaVuSans-32\"/>\r\n     <use x=\"488.818359\" xlink:href=\"#DejaVuSans-37\"/>\r\n    </g>\r\n    <!-- samples = 16 -->\r\n    <g transform=\"translate(295.6764 203.253661)scale(0.012962 -0.012962)\">\r\n     <use xlink:href=\"#DejaVuSans-73\"/>\r\n     <use x=\"52.099609\" xlink:href=\"#DejaVuSans-61\"/>\r\n     <use x=\"113.378906\" xlink:href=\"#DejaVuSans-6d\"/>\r\n     <use x=\"210.791016\" xlink:href=\"#DejaVuSans-70\"/>\r\n     <use x=\"274.267578\" xlink:href=\"#DejaVuSans-6c\"/>\r\n     <use x=\"302.050781\" xlink:href=\"#DejaVuSans-65\"/>\r\n     <use x=\"363.574219\" xlink:href=\"#DejaVuSans-73\"/>\r\n     <use x=\"415.673828\" xlink:href=\"#DejaVuSans-20\"/>\r\n     <use x=\"447.460938\" xlink:href=\"#DejaVuSans-3d\"/>\r\n     <use x=\"531.25\" xlink:href=\"#DejaVuSans-20\"/>\r\n     <use x=\"563.037109\" xlink:href=\"#DejaVuSans-31\"/>\r\n     <use x=\"626.660156\" xlink:href=\"#DejaVuSans-36\"/>\r\n    </g>\r\n    <!-- value = [14.345, 2.743] -->\r\n    <g transform=\"translate(292.384034 204.705085)scale(0.012962 -0.012962)\">\r\n     <use xlink:href=\"#DejaVuSans-76\"/>\r\n     <use x=\"59.179688\" xlink:href=\"#DejaVuSans-61\"/>\r\n     <use x=\"120.458984\" xlink:href=\"#DejaVuSans-6c\"/>\r\n     <use x=\"148.242188\" xlink:href=\"#DejaVuSans-75\"/>\r\n     <use x=\"211.621094\" xlink:href=\"#DejaVuSans-65\"/>\r\n     <use x=\"273.144531\" xlink:href=\"#DejaVuSans-20\"/>\r\n     <use x=\"304.931641\" xlink:href=\"#DejaVuSans-3d\"/>\r\n     <use x=\"388.720703\" xlink:href=\"#DejaVuSans-20\"/>\r\n     <use x=\"420.507812\" xlink:href=\"#DejaVuSans-5b\"/>\r\n     <use x=\"459.521484\" xlink:href=\"#DejaVuSans-31\"/>\r\n     <use x=\"523.144531\" xlink:href=\"#DejaVuSans-34\"/>\r\n     <use x=\"586.767578\" xlink:href=\"#DejaVuSans-2e\"/>\r\n     <use x=\"618.554688\" xlink:href=\"#DejaVuSans-33\"/>\r\n     <use x=\"682.177734\" xlink:href=\"#DejaVuSans-34\"/>\r\n     <use x=\"745.800781\" xlink:href=\"#DejaVuSans-35\"/>\r\n     <use x=\"809.423828\" xlink:href=\"#DejaVuSans-2c\"/>\r\n     <use x=\"841.210938\" xlink:href=\"#DejaVuSans-20\"/>\r\n     <use x=\"872.998047\" xlink:href=\"#DejaVuSans-32\"/>\r\n     <use x=\"936.621094\" xlink:href=\"#DejaVuSans-2e\"/>\r\n     <use x=\"968.408203\" xlink:href=\"#DejaVuSans-37\"/>\r\n     <use x=\"1032.03125\" xlink:href=\"#DejaVuSans-34\"/>\r\n     <use x=\"1095.654297\" xlink:href=\"#DejaVuSans-33\"/>\r\n     <use x=\"1159.277344\" xlink:href=\"#DejaVuSans-5d\"/>\r\n    </g>\r\n   </g>\r\n   <g id=\"patch_24\">\r\n    <path d=\"M 326.103584 196.828206 \r\nQ 320.577704 179.601719 314.710322 161.31063 \r\n\" style=\"fill:none;stroke:#000000;stroke-linecap:round;\"/>\r\n    <path d=\"M 326.192064 196.255335 \r\nL 326.103584 196.828206 \r\nL 325.698375 196.413699 \r\n\" style=\"fill:none;stroke:#000000;stroke-linecap:round;\"/>\r\n   </g>\r\n   <g id=\"text_12\">\r\n    <g id=\"patch_25\">\r\n     <path d=\"M 320.17791 205.493114 \r\nL 335.92209 205.493114 \r\nL 335.92209 200.298886 \r\nL 320.17791 200.298886 \r\nz\r\n\" style=\"fill:#89c4ef;stroke:#000000;stroke-linejoin:miter;\"/>\r\n    </g>\r\n    <!-- gini = 0.409 -->\r\n    <g transform=\"translate(324.0574 201.802237)scale(0.012962 -0.012962)\">\r\n     <use xlink:href=\"#DejaVuSans-67\"/>\r\n     <use x=\"63.476562\" xlink:href=\"#DejaVuSans-69\"/>\r\n     <use x=\"91.259766\" xlink:href=\"#DejaVuSans-6e\"/>\r\n     <use x=\"154.638672\" xlink:href=\"#DejaVuSans-69\"/>\r\n     <use x=\"182.421875\" xlink:href=\"#DejaVuSans-20\"/>\r\n     <use x=\"214.208984\" xlink:href=\"#DejaVuSans-3d\"/>\r\n     <use x=\"297.998047\" xlink:href=\"#DejaVuSans-20\"/>\r\n     <use x=\"329.785156\" xlink:href=\"#DejaVuSans-30\"/>\r\n     <use x=\"393.408203\" xlink:href=\"#DejaVuSans-2e\"/>\r\n     <use x=\"425.195312\" xlink:href=\"#DejaVuSans-34\"/>\r\n     <use x=\"488.818359\" xlink:href=\"#DejaVuSans-30\"/>\r\n     <use x=\"552.441406\" xlink:href=\"#DejaVuSans-39\"/>\r\n    </g>\r\n    <!-- samples = 4 -->\r\n    <g transform=\"translate(323.988743 203.253661)scale(0.012962 -0.012962)\">\r\n     <use xlink:href=\"#DejaVuSans-73\"/>\r\n     <use x=\"52.099609\" xlink:href=\"#DejaVuSans-61\"/>\r\n     <use x=\"113.378906\" xlink:href=\"#DejaVuSans-6d\"/>\r\n     <use x=\"210.791016\" xlink:href=\"#DejaVuSans-70\"/>\r\n     <use x=\"274.267578\" xlink:href=\"#DejaVuSans-6c\"/>\r\n     <use x=\"302.050781\" xlink:href=\"#DejaVuSans-65\"/>\r\n     <use x=\"363.574219\" xlink:href=\"#DejaVuSans-73\"/>\r\n     <use x=\"415.673828\" xlink:href=\"#DejaVuSans-20\"/>\r\n     <use x=\"447.460938\" xlink:href=\"#DejaVuSans-3d\"/>\r\n     <use x=\"531.25\" xlink:href=\"#DejaVuSans-20\"/>\r\n     <use x=\"563.037109\" xlink:href=\"#DejaVuSans-34\"/>\r\n    </g>\r\n    <!-- value = [1.103, 2.743] -->\r\n    <g transform=\"translate(320.696377 204.705085)scale(0.012962 -0.012962)\">\r\n     <use xlink:href=\"#DejaVuSans-76\"/>\r\n     <use x=\"59.179688\" xlink:href=\"#DejaVuSans-61\"/>\r\n     <use x=\"120.458984\" xlink:href=\"#DejaVuSans-6c\"/>\r\n     <use x=\"148.242188\" xlink:href=\"#DejaVuSans-75\"/>\r\n     <use x=\"211.621094\" xlink:href=\"#DejaVuSans-65\"/>\r\n     <use x=\"273.144531\" xlink:href=\"#DejaVuSans-20\"/>\r\n     <use x=\"304.931641\" xlink:href=\"#DejaVuSans-3d\"/>\r\n     <use x=\"388.720703\" xlink:href=\"#DejaVuSans-20\"/>\r\n     <use x=\"420.507812\" xlink:href=\"#DejaVuSans-5b\"/>\r\n     <use x=\"459.521484\" xlink:href=\"#DejaVuSans-31\"/>\r\n     <use x=\"523.144531\" xlink:href=\"#DejaVuSans-2e\"/>\r\n     <use x=\"554.931641\" xlink:href=\"#DejaVuSans-31\"/>\r\n     <use x=\"618.554688\" xlink:href=\"#DejaVuSans-30\"/>\r\n     <use x=\"682.177734\" xlink:href=\"#DejaVuSans-33\"/>\r\n     <use x=\"745.800781\" xlink:href=\"#DejaVuSans-2c\"/>\r\n     <use x=\"777.587891\" xlink:href=\"#DejaVuSans-20\"/>\r\n     <use x=\"809.375\" xlink:href=\"#DejaVuSans-32\"/>\r\n     <use x=\"872.998047\" xlink:href=\"#DejaVuSans-2e\"/>\r\n     <use x=\"904.785156\" xlink:href=\"#DejaVuSans-37\"/>\r\n     <use x=\"968.408203\" xlink:href=\"#DejaVuSans-34\"/>\r\n     <use x=\"1032.03125\" xlink:href=\"#DejaVuSans-33\"/>\r\n     <use x=\"1095.654297\" xlink:href=\"#DejaVuSans-5d\"/>\r\n    </g>\r\n   </g>\r\n   <g id=\"patch_26\">\r\n    <path d=\"M 39.272696 152.903978 \r\nQ 50.294674 135.723915 61.92037 117.602829 \r\n\" style=\"fill:none;stroke:#000000;stroke-linecap:round;\"/>\r\n    <path d=\"M 39.77085 152.607578 \r\nL 39.272696 152.903978 \r\nL 39.334469 152.327615 \r\n\" style=\"fill:none;stroke:#000000;stroke-linecap:round;\"/>\r\n   </g>\r\n   <g id=\"text_13\">\r\n    <g id=\"patch_27\">\r\n     <path d=\"M 26.815567 162.748851 \r\nL 43.384433 162.748851 \r\nL 43.384433 156.0311 \r\nL 26.815567 156.0311 \r\nz\r\n\" style=\"fill:#b0d8f5;stroke:#000000;stroke-linejoin:miter;\"/>\r\n    </g>\r\n    <!-- max_hrt_rt &lt;= 159.5 -->\r\n    <g transform=\"translate(28.234769 157.570501)scale(0.012962 -0.012962)\">\r\n     <defs>\r\n      <path d=\"M 3513 3500 \r\nL 2247 1797 \r\nL 3578 0 \r\nL 2900 0 \r\nL 1881 1375 \r\nL 863 0 \r\nL 184 0 \r\nL 1544 1831 \r\nL 300 3500 \r\nL 978 3500 \r\nL 1906 2253 \r\nL 2834 3500 \r\nL 3513 3500 \r\nz\r\n\" id=\"DejaVuSans-78\" transform=\"scale(0.015625)\"/>\r\n      <path d=\"M 3263 -1063 \r\nL 3263 -1509 \r\nL -63 -1509 \r\nL -63 -1063 \r\nL 3263 -1063 \r\nz\r\n\" id=\"DejaVuSans-5f\" transform=\"scale(0.015625)\"/>\r\n      <path d=\"M 3513 2113 \r\nL 3513 0 \r\nL 2938 0 \r\nL 2938 2094 \r\nQ 2938 2591 2744 2837 \r\nQ 2550 3084 2163 3084 \r\nQ 1697 3084 1428 2787 \r\nQ 1159 2491 1159 1978 \r\nL 1159 0 \r\nL 581 0 \r\nL 581 4863 \r\nL 1159 4863 \r\nL 1159 2956 \r\nQ 1366 3272 1645 3428 \r\nQ 1925 3584 2291 3584 \r\nQ 2894 3584 3203 3211 \r\nQ 3513 2838 3513 2113 \r\nz\r\n\" id=\"DejaVuSans-68\" transform=\"scale(0.015625)\"/>\r\n      <path d=\"M 2631 2963 \r\nQ 2534 3019 2420 3045 \r\nQ 2306 3072 2169 3072 \r\nQ 1681 3072 1420 2755 \r\nQ 1159 2438 1159 1844 \r\nL 1159 0 \r\nL 581 0 \r\nL 581 3500 \r\nL 1159 3500 \r\nL 1159 2956 \r\nQ 1341 3275 1631 3429 \r\nQ 1922 3584 2338 3584 \r\nQ 2397 3584 2469 3576 \r\nQ 2541 3569 2628 3553 \r\nL 2631 2963 \r\nz\r\n\" id=\"DejaVuSans-72\" transform=\"scale(0.015625)\"/>\r\n      <path d=\"M 1172 4494 \r\nL 1172 3500 \r\nL 2356 3500 \r\nL 2356 3053 \r\nL 1172 3053 \r\nL 1172 1153 \r\nQ 1172 725 1289 603 \r\nQ 1406 481 1766 481 \r\nL 2356 481 \r\nL 2356 0 \r\nL 1766 0 \r\nQ 1100 0 847 248 \r\nQ 594 497 594 1153 \r\nL 594 3053 \r\nL 172 3053 \r\nL 172 3500 \r\nL 594 3500 \r\nL 594 4494 \r\nL 1172 4494 \r\nz\r\n\" id=\"DejaVuSans-74\" transform=\"scale(0.015625)\"/>\r\n      <path d=\"M 4684 3150 \r\nL 1459 2003 \r\nL 4684 863 \r\nL 4684 294 \r\nL 678 1747 \r\nL 678 2266 \r\nL 4684 3719 \r\nL 4684 3150 \r\nz\r\n\" id=\"DejaVuSans-3c\" transform=\"scale(0.015625)\"/>\r\n     </defs>\r\n     <use xlink:href=\"#DejaVuSans-6d\"/>\r\n     <use x=\"97.412109\" xlink:href=\"#DejaVuSans-61\"/>\r\n     <use x=\"158.691406\" xlink:href=\"#DejaVuSans-78\"/>\r\n     <use x=\"217.871094\" xlink:href=\"#DejaVuSans-5f\"/>\r\n     <use x=\"267.871094\" xlink:href=\"#DejaVuSans-68\"/>\r\n     <use x=\"331.25\" xlink:href=\"#DejaVuSans-72\"/>\r\n     <use x=\"372.363281\" xlink:href=\"#DejaVuSans-74\"/>\r\n     <use x=\"411.572266\" xlink:href=\"#DejaVuSans-5f\"/>\r\n     <use x=\"461.572266\" xlink:href=\"#DejaVuSans-72\"/>\r\n     <use x=\"502.685547\" xlink:href=\"#DejaVuSans-74\"/>\r\n     <use x=\"541.894531\" xlink:href=\"#DejaVuSans-20\"/>\r\n     <use x=\"573.681641\" xlink:href=\"#DejaVuSans-3c\"/>\r\n     <use x=\"657.470703\" xlink:href=\"#DejaVuSans-3d\"/>\r\n     <use x=\"741.259766\" xlink:href=\"#DejaVuSans-20\"/>\r\n     <use x=\"773.046875\" xlink:href=\"#DejaVuSans-31\"/>\r\n     <use x=\"836.669922\" xlink:href=\"#DejaVuSans-35\"/>\r\n     <use x=\"900.292969\" xlink:href=\"#DejaVuSans-39\"/>\r\n     <use x=\"963.916016\" xlink:href=\"#DejaVuSans-2e\"/>\r\n     <use x=\"995.703125\" xlink:href=\"#DejaVuSans-35\"/>\r\n    </g>\r\n    <!-- gini = 0.469 -->\r\n    <g transform=\"translate(31.1074 159.057974)scale(0.012962 -0.012962)\">\r\n     <use xlink:href=\"#DejaVuSans-67\"/>\r\n     <use x=\"63.476562\" xlink:href=\"#DejaVuSans-69\"/>\r\n     <use x=\"91.259766\" xlink:href=\"#DejaVuSans-6e\"/>\r\n     <use x=\"154.638672\" xlink:href=\"#DejaVuSans-69\"/>\r\n     <use x=\"182.421875\" xlink:href=\"#DejaVuSans-20\"/>\r\n     <use x=\"214.208984\" xlink:href=\"#DejaVuSans-3d\"/>\r\n     <use x=\"297.998047\" xlink:href=\"#DejaVuSans-20\"/>\r\n     <use x=\"329.785156\" xlink:href=\"#DejaVuSans-30\"/>\r\n     <use x=\"393.408203\" xlink:href=\"#DejaVuSans-2e\"/>\r\n     <use x=\"425.195312\" xlink:href=\"#DejaVuSans-34\"/>\r\n     <use x=\"488.818359\" xlink:href=\"#DejaVuSans-36\"/>\r\n     <use x=\"552.441406\" xlink:href=\"#DejaVuSans-39\"/>\r\n    </g>\r\n    <!-- samples = 24 -->\r\n    <g transform=\"translate(30.6264 160.509398)scale(0.012962 -0.012962)\">\r\n     <use xlink:href=\"#DejaVuSans-73\"/>\r\n     <use x=\"52.099609\" xlink:href=\"#DejaVuSans-61\"/>\r\n     <use x=\"113.378906\" xlink:href=\"#DejaVuSans-6d\"/>\r\n     <use x=\"210.791016\" xlink:href=\"#DejaVuSans-70\"/>\r\n     <use x=\"274.267578\" xlink:href=\"#DejaVuSans-6c\"/>\r\n     <use x=\"302.050781\" xlink:href=\"#DejaVuSans-65\"/>\r\n     <use x=\"363.574219\" xlink:href=\"#DejaVuSans-73\"/>\r\n     <use x=\"415.673828\" xlink:href=\"#DejaVuSans-20\"/>\r\n     <use x=\"447.460938\" xlink:href=\"#DejaVuSans-3d\"/>\r\n     <use x=\"531.25\" xlink:href=\"#DejaVuSans-20\"/>\r\n     <use x=\"563.037109\" xlink:href=\"#DejaVuSans-32\"/>\r\n     <use x=\"626.660156\" xlink:href=\"#DejaVuSans-34\"/>\r\n    </g>\r\n    <!-- value = [8.828, 14.629] -->\r\n    <g transform=\"translate(27.334034 161.960822)scale(0.012962 -0.012962)\">\r\n     <use xlink:href=\"#DejaVuSans-76\"/>\r\n     <use x=\"59.179688\" xlink:href=\"#DejaVuSans-61\"/>\r\n     <use x=\"120.458984\" xlink:href=\"#DejaVuSans-6c\"/>\r\n     <use x=\"148.242188\" xlink:href=\"#DejaVuSans-75\"/>\r\n     <use x=\"211.621094\" xlink:href=\"#DejaVuSans-65\"/>\r\n     <use x=\"273.144531\" xlink:href=\"#DejaVuSans-20\"/>\r\n     <use x=\"304.931641\" xlink:href=\"#DejaVuSans-3d\"/>\r\n     <use x=\"388.720703\" xlink:href=\"#DejaVuSans-20\"/>\r\n     <use x=\"420.507812\" xlink:href=\"#DejaVuSans-5b\"/>\r\n     <use x=\"459.521484\" xlink:href=\"#DejaVuSans-38\"/>\r\n     <use x=\"523.144531\" xlink:href=\"#DejaVuSans-2e\"/>\r\n     <use x=\"554.931641\" xlink:href=\"#DejaVuSans-38\"/>\r\n     <use x=\"618.554688\" xlink:href=\"#DejaVuSans-32\"/>\r\n     <use x=\"682.177734\" xlink:href=\"#DejaVuSans-38\"/>\r\n     <use x=\"745.800781\" xlink:href=\"#DejaVuSans-2c\"/>\r\n     <use x=\"777.587891\" xlink:href=\"#DejaVuSans-20\"/>\r\n     <use x=\"809.375\" xlink:href=\"#DejaVuSans-31\"/>\r\n     <use x=\"872.998047\" xlink:href=\"#DejaVuSans-34\"/>\r\n     <use x=\"936.621094\" xlink:href=\"#DejaVuSans-2e\"/>\r\n     <use x=\"968.408203\" xlink:href=\"#DejaVuSans-36\"/>\r\n     <use x=\"1032.03125\" xlink:href=\"#DejaVuSans-32\"/>\r\n     <use x=\"1095.654297\" xlink:href=\"#DejaVuSans-39\"/>\r\n     <use x=\"1159.277344\" xlink:href=\"#DejaVuSans-5d\"/>\r\n    </g>\r\n   </g>\r\n   <g id=\"patch_28\">\r\n    <path d=\"M 86.727304 152.903978 \r\nQ 75.705326 135.723915 64.07963 117.602829 \r\n\" style=\"fill:none;stroke:#000000;stroke-linecap:round;\"/>\r\n    <path d=\"M 86.665531 152.327615 \r\nL 86.727304 152.903978 \r\nL 86.22915 152.607578 \r\n\" style=\"fill:none;stroke:#000000;stroke-linecap:round;\"/>\r\n   </g>\r\n   <g id=\"text_14\">\r\n    <g id=\"patch_29\">\r\n     <path d=\"M 78.485351 162.748851 \r\nL 103.314649 162.748851 \r\nL 103.314649 156.0311 \r\nL 78.485351 156.0311 \r\nz\r\n\" style=\"fill:#e89050;stroke:#000000;stroke-linejoin:miter;\"/>\r\n    </g>\r\n    <!-- chest_pain_non-anginal_pain &lt;= 0.5 -->\r\n    <g transform=\"translate(79.003818 157.570501)scale(0.012962 -0.012962)\">\r\n     <defs>\r\n      <path d=\"M 3122 3366 \r\nL 3122 2828 \r\nQ 2878 2963 2633 3030 \r\nQ 2388 3097 2138 3097 \r\nQ 1578 3097 1268 2742 \r\nQ 959 2388 959 1747 \r\nQ 959 1106 1268 751 \r\nQ 1578 397 2138 397 \r\nQ 2388 397 2633 464 \r\nQ 2878 531 3122 666 \r\nL 3122 134 \r\nQ 2881 22 2623 -34 \r\nQ 2366 -91 2075 -91 \r\nQ 1284 -91 818 406 \r\nQ 353 903 353 1747 \r\nQ 353 2603 823 3093 \r\nQ 1294 3584 2113 3584 \r\nQ 2378 3584 2631 3529 \r\nQ 2884 3475 3122 3366 \r\nz\r\n\" id=\"DejaVuSans-63\" transform=\"scale(0.015625)\"/>\r\n      <path d=\"M 1959 3097 \r\nQ 1497 3097 1228 2736 \r\nQ 959 2375 959 1747 \r\nQ 959 1119 1226 758 \r\nQ 1494 397 1959 397 \r\nQ 2419 397 2687 759 \r\nQ 2956 1122 2956 1747 \r\nQ 2956 2369 2687 2733 \r\nQ 2419 3097 1959 3097 \r\nz\r\nM 1959 3584 \r\nQ 2709 3584 3137 3096 \r\nQ 3566 2609 3566 1747 \r\nQ 3566 888 3137 398 \r\nQ 2709 -91 1959 -91 \r\nQ 1206 -91 779 398 \r\nQ 353 888 353 1747 \r\nQ 353 2609 779 3096 \r\nQ 1206 3584 1959 3584 \r\nz\r\n\" id=\"DejaVuSans-6f\" transform=\"scale(0.015625)\"/>\r\n     </defs>\r\n     <use xlink:href=\"#DejaVuSans-63\"/>\r\n     <use x=\"54.980469\" xlink:href=\"#DejaVuSans-68\"/>\r\n     <use x=\"118.359375\" xlink:href=\"#DejaVuSans-65\"/>\r\n     <use x=\"179.882812\" xlink:href=\"#DejaVuSans-73\"/>\r\n     <use x=\"231.982422\" xlink:href=\"#DejaVuSans-74\"/>\r\n     <use x=\"271.191406\" xlink:href=\"#DejaVuSans-5f\"/>\r\n     <use x=\"321.191406\" xlink:href=\"#DejaVuSans-70\"/>\r\n     <use x=\"384.667969\" xlink:href=\"#DejaVuSans-61\"/>\r\n     <use x=\"445.947266\" xlink:href=\"#DejaVuSans-69\"/>\r\n     <use x=\"473.730469\" xlink:href=\"#DejaVuSans-6e\"/>\r\n     <use x=\"537.109375\" xlink:href=\"#DejaVuSans-5f\"/>\r\n     <use x=\"587.109375\" xlink:href=\"#DejaVuSans-6e\"/>\r\n     <use x=\"650.488281\" xlink:href=\"#DejaVuSans-6f\"/>\r\n     <use x=\"711.669922\" xlink:href=\"#DejaVuSans-6e\"/>\r\n     <use x=\"775.048828\" xlink:href=\"#DejaVuSans-2d\"/>\r\n     <use x=\"811.132812\" xlink:href=\"#DejaVuSans-61\"/>\r\n     <use x=\"872.412109\" xlink:href=\"#DejaVuSans-6e\"/>\r\n     <use x=\"935.791016\" xlink:href=\"#DejaVuSans-67\"/>\r\n     <use x=\"999.267578\" xlink:href=\"#DejaVuSans-69\"/>\r\n     <use x=\"1027.050781\" xlink:href=\"#DejaVuSans-6e\"/>\r\n     <use x=\"1090.429688\" xlink:href=\"#DejaVuSans-61\"/>\r\n     <use x=\"1151.708984\" xlink:href=\"#DejaVuSans-6c\"/>\r\n     <use x=\"1179.492188\" xlink:href=\"#DejaVuSans-5f\"/>\r\n     <use x=\"1229.492188\" xlink:href=\"#DejaVuSans-70\"/>\r\n     <use x=\"1292.96875\" xlink:href=\"#DejaVuSans-61\"/>\r\n     <use x=\"1354.248047\" xlink:href=\"#DejaVuSans-69\"/>\r\n     <use x=\"1382.03125\" xlink:href=\"#DejaVuSans-6e\"/>\r\n     <use x=\"1445.410156\" xlink:href=\"#DejaVuSans-20\"/>\r\n     <use x=\"1477.197266\" xlink:href=\"#DejaVuSans-3c\"/>\r\n     <use x=\"1560.986328\" xlink:href=\"#DejaVuSans-3d\"/>\r\n     <use x=\"1644.775391\" xlink:href=\"#DejaVuSans-20\"/>\r\n     <use x=\"1676.5625\" xlink:href=\"#DejaVuSans-30\"/>\r\n     <use x=\"1740.185547\" xlink:href=\"#DejaVuSans-2e\"/>\r\n     <use x=\"1771.972656\" xlink:href=\"#DejaVuSans-35\"/>\r\n    </g>\r\n    <!-- gini = 0.189 -->\r\n    <g transform=\"translate(86.9074 159.057974)scale(0.012962 -0.012962)\">\r\n     <use xlink:href=\"#DejaVuSans-67\"/>\r\n     <use x=\"63.476562\" xlink:href=\"#DejaVuSans-69\"/>\r\n     <use x=\"91.259766\" xlink:href=\"#DejaVuSans-6e\"/>\r\n     <use x=\"154.638672\" xlink:href=\"#DejaVuSans-69\"/>\r\n     <use x=\"182.421875\" xlink:href=\"#DejaVuSans-20\"/>\r\n     <use x=\"214.208984\" xlink:href=\"#DejaVuSans-3d\"/>\r\n     <use x=\"297.998047\" xlink:href=\"#DejaVuSans-20\"/>\r\n     <use x=\"329.785156\" xlink:href=\"#DejaVuSans-30\"/>\r\n     <use x=\"393.408203\" xlink:href=\"#DejaVuSans-2e\"/>\r\n     <use x=\"425.195312\" xlink:href=\"#DejaVuSans-31\"/>\r\n     <use x=\"488.818359\" xlink:href=\"#DejaVuSans-38\"/>\r\n     <use x=\"552.441406\" xlink:href=\"#DejaVuSans-39\"/>\r\n    </g>\r\n    <!-- samples = 16 -->\r\n    <g transform=\"translate(86.4264 160.509398)scale(0.012962 -0.012962)\">\r\n     <use xlink:href=\"#DejaVuSans-73\"/>\r\n     <use x=\"52.099609\" xlink:href=\"#DejaVuSans-61\"/>\r\n     <use x=\"113.378906\" xlink:href=\"#DejaVuSans-6d\"/>\r\n     <use x=\"210.791016\" xlink:href=\"#DejaVuSans-70\"/>\r\n     <use x=\"274.267578\" xlink:href=\"#DejaVuSans-6c\"/>\r\n     <use x=\"302.050781\" xlink:href=\"#DejaVuSans-65\"/>\r\n     <use x=\"363.574219\" xlink:href=\"#DejaVuSans-73\"/>\r\n     <use x=\"415.673828\" xlink:href=\"#DejaVuSans-20\"/>\r\n     <use x=\"447.460938\" xlink:href=\"#DejaVuSans-3d\"/>\r\n     <use x=\"531.25\" xlink:href=\"#DejaVuSans-20\"/>\r\n     <use x=\"563.037109\" xlink:href=\"#DejaVuSans-31\"/>\r\n     <use x=\"626.660156\" xlink:href=\"#DejaVuSans-36\"/>\r\n    </g>\r\n    <!-- value = [15.448, 1.829] -->\r\n    <g transform=\"translate(83.134034 161.960822)scale(0.012962 -0.012962)\">\r\n     <use xlink:href=\"#DejaVuSans-76\"/>\r\n     <use x=\"59.179688\" xlink:href=\"#DejaVuSans-61\"/>\r\n     <use x=\"120.458984\" xlink:href=\"#DejaVuSans-6c\"/>\r\n     <use x=\"148.242188\" xlink:href=\"#DejaVuSans-75\"/>\r\n     <use x=\"211.621094\" xlink:href=\"#DejaVuSans-65\"/>\r\n     <use x=\"273.144531\" xlink:href=\"#DejaVuSans-20\"/>\r\n     <use x=\"304.931641\" xlink:href=\"#DejaVuSans-3d\"/>\r\n     <use x=\"388.720703\" xlink:href=\"#DejaVuSans-20\"/>\r\n     <use x=\"420.507812\" xlink:href=\"#DejaVuSans-5b\"/>\r\n     <use x=\"459.521484\" xlink:href=\"#DejaVuSans-31\"/>\r\n     <use x=\"523.144531\" xlink:href=\"#DejaVuSans-35\"/>\r\n     <use x=\"586.767578\" xlink:href=\"#DejaVuSans-2e\"/>\r\n     <use x=\"618.554688\" xlink:href=\"#DejaVuSans-34\"/>\r\n     <use x=\"682.177734\" xlink:href=\"#DejaVuSans-34\"/>\r\n     <use x=\"745.800781\" xlink:href=\"#DejaVuSans-38\"/>\r\n     <use x=\"809.423828\" xlink:href=\"#DejaVuSans-2c\"/>\r\n     <use x=\"841.210938\" xlink:href=\"#DejaVuSans-20\"/>\r\n     <use x=\"872.998047\" xlink:href=\"#DejaVuSans-31\"/>\r\n     <use x=\"936.621094\" xlink:href=\"#DejaVuSans-2e\"/>\r\n     <use x=\"968.408203\" xlink:href=\"#DejaVuSans-38\"/>\r\n     <use x=\"1032.03125\" xlink:href=\"#DejaVuSans-32\"/>\r\n     <use x=\"1095.654297\" xlink:href=\"#DejaVuSans-39\"/>\r\n     <use x=\"1159.277344\" xlink:href=\"#DejaVuSans-5d\"/>\r\n    </g>\r\n   </g>\r\n   <g id=\"patch_30\">\r\n    <path d=\"M 150.872696 152.903978 \r\nQ 161.894674 135.723915 173.52037 117.602829 \r\n\" style=\"fill:none;stroke:#000000;stroke-linecap:round;\"/>\r\n    <path d=\"M 151.37085 152.607578 \r\nL 150.872696 152.903978 \r\nL 150.934469 152.327615 \r\n\" style=\"fill:none;stroke:#000000;stroke-linecap:round;\"/>\r\n   </g>\r\n   <g id=\"text_15\">\r\n    <g id=\"patch_31\">\r\n     <path d=\"M 138.415567 162.748851 \r\nL 154.984433 162.748851 \r\nL 154.984433 156.0311 \r\nL 138.415567 156.0311 \r\nz\r\n\" style=\"fill:#e6843d;stroke:#000000;stroke-linejoin:miter;\"/>\r\n    </g>\r\n    <!-- major_vessels &lt;= 2.5 -->\r\n    <g transform=\"translate(139.601763 157.570501)scale(0.012962 -0.012962)\">\r\n     <defs>\r\n      <path d=\"M 603 3500 \r\nL 1178 3500 \r\nL 1178 -63 \r\nQ 1178 -731 923 -1031 \r\nQ 669 -1331 103 -1331 \r\nL -116 -1331 \r\nL -116 -844 \r\nL 38 -844 \r\nQ 366 -844 484 -692 \r\nQ 603 -541 603 -63 \r\nL 603 3500 \r\nz\r\nM 603 4863 \r\nL 1178 4863 \r\nL 1178 4134 \r\nL 603 4134 \r\nL 603 4863 \r\nz\r\n\" id=\"DejaVuSans-6a\" transform=\"scale(0.015625)\"/>\r\n     </defs>\r\n     <use xlink:href=\"#DejaVuSans-6d\"/>\r\n     <use x=\"97.412109\" xlink:href=\"#DejaVuSans-61\"/>\r\n     <use x=\"158.691406\" xlink:href=\"#DejaVuSans-6a\"/>\r\n     <use x=\"186.474609\" xlink:href=\"#DejaVuSans-6f\"/>\r\n     <use x=\"247.65625\" xlink:href=\"#DejaVuSans-72\"/>\r\n     <use x=\"288.769531\" xlink:href=\"#DejaVuSans-5f\"/>\r\n     <use x=\"338.769531\" xlink:href=\"#DejaVuSans-76\"/>\r\n     <use x=\"397.949219\" xlink:href=\"#DejaVuSans-65\"/>\r\n     <use x=\"459.472656\" xlink:href=\"#DejaVuSans-73\"/>\r\n     <use x=\"511.572266\" xlink:href=\"#DejaVuSans-73\"/>\r\n     <use x=\"563.671875\" xlink:href=\"#DejaVuSans-65\"/>\r\n     <use x=\"625.195312\" xlink:href=\"#DejaVuSans-6c\"/>\r\n     <use x=\"652.978516\" xlink:href=\"#DejaVuSans-73\"/>\r\n     <use x=\"705.078125\" xlink:href=\"#DejaVuSans-20\"/>\r\n     <use x=\"736.865234\" xlink:href=\"#DejaVuSans-3c\"/>\r\n     <use x=\"820.654297\" xlink:href=\"#DejaVuSans-3d\"/>\r\n     <use x=\"904.443359\" xlink:href=\"#DejaVuSans-20\"/>\r\n     <use x=\"936.230469\" xlink:href=\"#DejaVuSans-32\"/>\r\n     <use x=\"999.853516\" xlink:href=\"#DejaVuSans-2e\"/>\r\n     <use x=\"1031.640625\" xlink:href=\"#DejaVuSans-35\"/>\r\n    </g>\r\n    <!-- gini = 0.041 -->\r\n    <g transform=\"translate(142.7074 159.057974)scale(0.012962 -0.012962)\">\r\n     <use xlink:href=\"#DejaVuSans-67\"/>\r\n     <use x=\"63.476562\" xlink:href=\"#DejaVuSans-69\"/>\r\n     <use x=\"91.259766\" xlink:href=\"#DejaVuSans-6e\"/>\r\n     <use x=\"154.638672\" xlink:href=\"#DejaVuSans-69\"/>\r\n     <use x=\"182.421875\" xlink:href=\"#DejaVuSans-20\"/>\r\n     <use x=\"214.208984\" xlink:href=\"#DejaVuSans-3d\"/>\r\n     <use x=\"297.998047\" xlink:href=\"#DejaVuSans-20\"/>\r\n     <use x=\"329.785156\" xlink:href=\"#DejaVuSans-30\"/>\r\n     <use x=\"393.408203\" xlink:href=\"#DejaVuSans-2e\"/>\r\n     <use x=\"425.195312\" xlink:href=\"#DejaVuSans-30\"/>\r\n     <use x=\"488.818359\" xlink:href=\"#DejaVuSans-34\"/>\r\n     <use x=\"552.441406\" xlink:href=\"#DejaVuSans-31\"/>\r\n    </g>\r\n    <!-- samples = 40 -->\r\n    <g transform=\"translate(142.2264 160.509398)scale(0.012962 -0.012962)\">\r\n     <use xlink:href=\"#DejaVuSans-73\"/>\r\n     <use x=\"52.099609\" xlink:href=\"#DejaVuSans-61\"/>\r\n     <use x=\"113.378906\" xlink:href=\"#DejaVuSans-6d\"/>\r\n     <use x=\"210.791016\" xlink:href=\"#DejaVuSans-70\"/>\r\n     <use x=\"274.267578\" xlink:href=\"#DejaVuSans-6c\"/>\r\n     <use x=\"302.050781\" xlink:href=\"#DejaVuSans-65\"/>\r\n     <use x=\"363.574219\" xlink:href=\"#DejaVuSans-73\"/>\r\n     <use x=\"415.673828\" xlink:href=\"#DejaVuSans-20\"/>\r\n     <use x=\"447.460938\" xlink:href=\"#DejaVuSans-3d\"/>\r\n     <use x=\"531.25\" xlink:href=\"#DejaVuSans-20\"/>\r\n     <use x=\"563.037109\" xlink:href=\"#DejaVuSans-34\"/>\r\n     <use x=\"626.660156\" xlink:href=\"#DejaVuSans-30\"/>\r\n    </g>\r\n    <!-- value = [43.034, 0.914] -->\r\n    <g transform=\"translate(138.934034 161.960822)scale(0.012962 -0.012962)\">\r\n     <use xlink:href=\"#DejaVuSans-76\"/>\r\n     <use x=\"59.179688\" xlink:href=\"#DejaVuSans-61\"/>\r\n     <use x=\"120.458984\" xlink:href=\"#DejaVuSans-6c\"/>\r\n     <use x=\"148.242188\" xlink:href=\"#DejaVuSans-75\"/>\r\n     <use x=\"211.621094\" xlink:href=\"#DejaVuSans-65\"/>\r\n     <use x=\"273.144531\" xlink:href=\"#DejaVuSans-20\"/>\r\n     <use x=\"304.931641\" xlink:href=\"#DejaVuSans-3d\"/>\r\n     <use x=\"388.720703\" xlink:href=\"#DejaVuSans-20\"/>\r\n     <use x=\"420.507812\" xlink:href=\"#DejaVuSans-5b\"/>\r\n     <use x=\"459.521484\" xlink:href=\"#DejaVuSans-34\"/>\r\n     <use x=\"523.144531\" xlink:href=\"#DejaVuSans-33\"/>\r\n     <use x=\"586.767578\" xlink:href=\"#DejaVuSans-2e\"/>\r\n     <use x=\"618.554688\" xlink:href=\"#DejaVuSans-30\"/>\r\n     <use x=\"682.177734\" xlink:href=\"#DejaVuSans-33\"/>\r\n     <use x=\"745.800781\" xlink:href=\"#DejaVuSans-34\"/>\r\n     <use x=\"809.423828\" xlink:href=\"#DejaVuSans-2c\"/>\r\n     <use x=\"841.210938\" xlink:href=\"#DejaVuSans-20\"/>\r\n     <use x=\"872.998047\" xlink:href=\"#DejaVuSans-30\"/>\r\n     <use x=\"936.621094\" xlink:href=\"#DejaVuSans-2e\"/>\r\n     <use x=\"968.408203\" xlink:href=\"#DejaVuSans-39\"/>\r\n     <use x=\"1032.03125\" xlink:href=\"#DejaVuSans-31\"/>\r\n     <use x=\"1095.654297\" xlink:href=\"#DejaVuSans-34\"/>\r\n     <use x=\"1159.277344\" xlink:href=\"#DejaVuSans-5d\"/>\r\n    </g>\r\n   </g>\r\n   <g id=\"patch_32\">\r\n    <path d=\"M 198.327304 152.903978 \r\nQ 187.305326 135.723915 175.67963 117.602829 \r\n\" style=\"fill:none;stroke:#000000;stroke-linecap:round;\"/>\r\n    <path d=\"M 198.265531 152.327615 \r\nL 198.327304 152.903978 \r\nL 197.82915 152.607578 \r\n\" style=\"fill:none;stroke:#000000;stroke-linecap:round;\"/>\r\n   </g>\r\n   <g id=\"text_16\">\r\n    <g id=\"patch_33\">\r\n     <path d=\"M 193.112812 162.748851 \r\nL 211.887187 162.748851 \r\nL 211.887187 156.0311 \r\nL 193.112812 156.0311 \r\nz\r\n\" style=\"fill:#eca470;stroke:#000000;stroke-linejoin:miter;\"/>\r\n    </g>\r\n    <!-- elect_result_normal &lt;= 0.5 -->\r\n    <g transform=\"translate(193.631279 157.570501)scale(0.012962 -0.012962)\">\r\n     <use xlink:href=\"#DejaVuSans-65\"/>\r\n     <use x=\"61.523438\" xlink:href=\"#DejaVuSans-6c\"/>\r\n     <use x=\"89.306641\" xlink:href=\"#DejaVuSans-65\"/>\r\n     <use x=\"150.830078\" xlink:href=\"#DejaVuSans-63\"/>\r\n     <use x=\"205.810547\" xlink:href=\"#DejaVuSans-74\"/>\r\n     <use x=\"245.019531\" xlink:href=\"#DejaVuSans-5f\"/>\r\n     <use x=\"295.019531\" xlink:href=\"#DejaVuSans-72\"/>\r\n     <use x=\"333.882812\" xlink:href=\"#DejaVuSans-65\"/>\r\n     <use x=\"395.40625\" xlink:href=\"#DejaVuSans-73\"/>\r\n     <use x=\"447.505859\" xlink:href=\"#DejaVuSans-75\"/>\r\n     <use x=\"510.884766\" xlink:href=\"#DejaVuSans-6c\"/>\r\n     <use x=\"538.667969\" xlink:href=\"#DejaVuSans-74\"/>\r\n     <use x=\"577.876953\" xlink:href=\"#DejaVuSans-5f\"/>\r\n     <use x=\"627.876953\" xlink:href=\"#DejaVuSans-6e\"/>\r\n     <use x=\"691.255859\" xlink:href=\"#DejaVuSans-6f\"/>\r\n     <use x=\"752.4375\" xlink:href=\"#DejaVuSans-72\"/>\r\n     <use x=\"791.800781\" xlink:href=\"#DejaVuSans-6d\"/>\r\n     <use x=\"889.212891\" xlink:href=\"#DejaVuSans-61\"/>\r\n     <use x=\"950.492188\" xlink:href=\"#DejaVuSans-6c\"/>\r\n     <use x=\"978.275391\" xlink:href=\"#DejaVuSans-20\"/>\r\n     <use x=\"1010.0625\" xlink:href=\"#DejaVuSans-3c\"/>\r\n     <use x=\"1093.851562\" xlink:href=\"#DejaVuSans-3d\"/>\r\n     <use x=\"1177.640625\" xlink:href=\"#DejaVuSans-20\"/>\r\n     <use x=\"1209.427734\" xlink:href=\"#DejaVuSans-30\"/>\r\n     <use x=\"1273.050781\" xlink:href=\"#DejaVuSans-2e\"/>\r\n     <use x=\"1304.837891\" xlink:href=\"#DejaVuSans-35\"/>\r\n    </g>\r\n    <!-- gini = 0.339 -->\r\n    <g transform=\"translate(198.5074 159.057974)scale(0.012962 -0.012962)\">\r\n     <use xlink:href=\"#DejaVuSans-67\"/>\r\n     <use x=\"63.476562\" xlink:href=\"#DejaVuSans-69\"/>\r\n     <use x=\"91.259766\" xlink:href=\"#DejaVuSans-6e\"/>\r\n     <use x=\"154.638672\" xlink:href=\"#DejaVuSans-69\"/>\r\n     <use x=\"182.421875\" xlink:href=\"#DejaVuSans-20\"/>\r\n     <use x=\"214.208984\" xlink:href=\"#DejaVuSans-3d\"/>\r\n     <use x=\"297.998047\" xlink:href=\"#DejaVuSans-20\"/>\r\n     <use x=\"329.785156\" xlink:href=\"#DejaVuSans-30\"/>\r\n     <use x=\"393.408203\" xlink:href=\"#DejaVuSans-2e\"/>\r\n     <use x=\"425.195312\" xlink:href=\"#DejaVuSans-33\"/>\r\n     <use x=\"488.818359\" xlink:href=\"#DejaVuSans-33\"/>\r\n     <use x=\"552.441406\" xlink:href=\"#DejaVuSans-39\"/>\r\n    </g>\r\n    <!-- samples = 8 -->\r\n    <g transform=\"translate(198.438743 160.509398)scale(0.012962 -0.012962)\">\r\n     <use xlink:href=\"#DejaVuSans-73\"/>\r\n     <use x=\"52.099609\" xlink:href=\"#DejaVuSans-61\"/>\r\n     <use x=\"113.378906\" xlink:href=\"#DejaVuSans-6d\"/>\r\n     <use x=\"210.791016\" xlink:href=\"#DejaVuSans-70\"/>\r\n     <use x=\"274.267578\" xlink:href=\"#DejaVuSans-6c\"/>\r\n     <use x=\"302.050781\" xlink:href=\"#DejaVuSans-65\"/>\r\n     <use x=\"363.574219\" xlink:href=\"#DejaVuSans-73\"/>\r\n     <use x=\"415.673828\" xlink:href=\"#DejaVuSans-20\"/>\r\n     <use x=\"447.460938\" xlink:href=\"#DejaVuSans-3d\"/>\r\n     <use x=\"531.25\" xlink:href=\"#DejaVuSans-20\"/>\r\n     <use x=\"563.037109\" xlink:href=\"#DejaVuSans-38\"/>\r\n    </g>\r\n    <!-- value = [6.621, 1.829] -->\r\n    <g transform=\"translate(195.146377 161.960822)scale(0.012962 -0.012962)\">\r\n     <use xlink:href=\"#DejaVuSans-76\"/>\r\n     <use x=\"59.179688\" xlink:href=\"#DejaVuSans-61\"/>\r\n     <use x=\"120.458984\" xlink:href=\"#DejaVuSans-6c\"/>\r\n     <use x=\"148.242188\" xlink:href=\"#DejaVuSans-75\"/>\r\n     <use x=\"211.621094\" xlink:href=\"#DejaVuSans-65\"/>\r\n     <use x=\"273.144531\" xlink:href=\"#DejaVuSans-20\"/>\r\n     <use x=\"304.931641\" xlink:href=\"#DejaVuSans-3d\"/>\r\n     <use x=\"388.720703\" xlink:href=\"#DejaVuSans-20\"/>\r\n     <use x=\"420.507812\" xlink:href=\"#DejaVuSans-5b\"/>\r\n     <use x=\"459.521484\" xlink:href=\"#DejaVuSans-36\"/>\r\n     <use x=\"523.144531\" xlink:href=\"#DejaVuSans-2e\"/>\r\n     <use x=\"554.931641\" xlink:href=\"#DejaVuSans-36\"/>\r\n     <use x=\"618.554688\" xlink:href=\"#DejaVuSans-32\"/>\r\n     <use x=\"682.177734\" xlink:href=\"#DejaVuSans-31\"/>\r\n     <use x=\"745.800781\" xlink:href=\"#DejaVuSans-2c\"/>\r\n     <use x=\"777.587891\" xlink:href=\"#DejaVuSans-20\"/>\r\n     <use x=\"809.375\" xlink:href=\"#DejaVuSans-31\"/>\r\n     <use x=\"872.998047\" xlink:href=\"#DejaVuSans-2e\"/>\r\n     <use x=\"904.785156\" xlink:href=\"#DejaVuSans-38\"/>\r\n     <use x=\"968.408203\" xlink:href=\"#DejaVuSans-32\"/>\r\n     <use x=\"1032.03125\" xlink:href=\"#DejaVuSans-39\"/>\r\n     <use x=\"1095.654297\" xlink:href=\"#DejaVuSans-5d\"/>\r\n    </g>\r\n   </g>\r\n   <g id=\"patch_34\">\r\n    <path d=\"M 232.346416 153.340206 \r\nQ 237.872296 136.113719 243.739678 117.82263 \r\n\" style=\"fill:none;stroke:#000000;stroke-linecap:round;\"/>\r\n    <path d=\"M 232.751625 152.925699 \r\nL 232.346416 153.340206 \r\nL 232.257936 152.767335 \r\n\" style=\"fill:none;stroke:#000000;stroke-linecap:round;\"/>\r\n   </g>\r\n   <g id=\"text_17\">\r\n    <g id=\"patch_35\">\r\n     <path d=\"M 223.352597 162.005114 \r\nL 237.447403 162.005114 \r\nL 237.447403 156.810886 \r\nL 223.352597 156.810886 \r\nz\r\n\" style=\"fill:#e58139;stroke:#000000;stroke-linejoin:miter;\"/>\r\n    </g>\r\n    <!-- gini = 0.0 -->\r\n    <g transform=\"translate(227.232086 158.314237)scale(0.012962 -0.012962)\">\r\n     <use xlink:href=\"#DejaVuSans-67\"/>\r\n     <use x=\"63.476562\" xlink:href=\"#DejaVuSans-69\"/>\r\n     <use x=\"91.259766\" xlink:href=\"#DejaVuSans-6e\"/>\r\n     <use x=\"154.638672\" xlink:href=\"#DejaVuSans-69\"/>\r\n     <use x=\"182.421875\" xlink:href=\"#DejaVuSans-20\"/>\r\n     <use x=\"214.208984\" xlink:href=\"#DejaVuSans-3d\"/>\r\n     <use x=\"297.998047\" xlink:href=\"#DejaVuSans-20\"/>\r\n     <use x=\"329.785156\" xlink:href=\"#DejaVuSans-30\"/>\r\n     <use x=\"393.408203\" xlink:href=\"#DejaVuSans-2e\"/>\r\n     <use x=\"425.195312\" xlink:href=\"#DejaVuSans-30\"/>\r\n    </g>\r\n    <!-- samples = 1 -->\r\n    <g transform=\"translate(226.338743 159.765661)scale(0.012962 -0.012962)\">\r\n     <use xlink:href=\"#DejaVuSans-73\"/>\r\n     <use x=\"52.099609\" xlink:href=\"#DejaVuSans-61\"/>\r\n     <use x=\"113.378906\" xlink:href=\"#DejaVuSans-6d\"/>\r\n     <use x=\"210.791016\" xlink:href=\"#DejaVuSans-70\"/>\r\n     <use x=\"274.267578\" xlink:href=\"#DejaVuSans-6c\"/>\r\n     <use x=\"302.050781\" xlink:href=\"#DejaVuSans-65\"/>\r\n     <use x=\"363.574219\" xlink:href=\"#DejaVuSans-73\"/>\r\n     <use x=\"415.673828\" xlink:href=\"#DejaVuSans-20\"/>\r\n     <use x=\"447.460938\" xlink:href=\"#DejaVuSans-3d\"/>\r\n     <use x=\"531.25\" xlink:href=\"#DejaVuSans-20\"/>\r\n     <use x=\"563.037109\" xlink:href=\"#DejaVuSans-31\"/>\r\n    </g>\r\n    <!-- value = [1.103, 0.0] -->\r\n    <g transform=\"translate(223.871064 161.217085)scale(0.012962 -0.012962)\">\r\n     <use xlink:href=\"#DejaVuSans-76\"/>\r\n     <use x=\"59.179688\" xlink:href=\"#DejaVuSans-61\"/>\r\n     <use x=\"120.458984\" xlink:href=\"#DejaVuSans-6c\"/>\r\n     <use x=\"148.242188\" xlink:href=\"#DejaVuSans-75\"/>\r\n     <use x=\"211.621094\" xlink:href=\"#DejaVuSans-65\"/>\r\n     <use x=\"273.144531\" xlink:href=\"#DejaVuSans-20\"/>\r\n     <use x=\"304.931641\" xlink:href=\"#DejaVuSans-3d\"/>\r\n     <use x=\"388.720703\" xlink:href=\"#DejaVuSans-20\"/>\r\n     <use x=\"420.507812\" xlink:href=\"#DejaVuSans-5b\"/>\r\n     <use x=\"459.521484\" xlink:href=\"#DejaVuSans-31\"/>\r\n     <use x=\"523.144531\" xlink:href=\"#DejaVuSans-2e\"/>\r\n     <use x=\"554.931641\" xlink:href=\"#DejaVuSans-31\"/>\r\n     <use x=\"618.554688\" xlink:href=\"#DejaVuSans-30\"/>\r\n     <use x=\"682.177734\" xlink:href=\"#DejaVuSans-33\"/>\r\n     <use x=\"745.800781\" xlink:href=\"#DejaVuSans-2c\"/>\r\n     <use x=\"777.587891\" xlink:href=\"#DejaVuSans-20\"/>\r\n     <use x=\"809.375\" xlink:href=\"#DejaVuSans-30\"/>\r\n     <use x=\"872.998047\" xlink:href=\"#DejaVuSans-2e\"/>\r\n     <use x=\"904.785156\" xlink:href=\"#DejaVuSans-30\"/>\r\n     <use x=\"968.408203\" xlink:href=\"#DejaVuSans-5d\"/>\r\n    </g>\r\n   </g>\r\n   <g id=\"patch_36\">\r\n    <path d=\"M 256.104214 152.562814 \r\nQ 250.70276 135.724218 244.959806 117.821021 \r\n\" style=\"fill:none;stroke:#000000;stroke-linecap:round;\"/>\r\n    <path d=\"M 256.192694 151.989943 \r\nL 256.104214 152.562814 \r\nL 255.699005 152.148307 \r\n\" style=\"fill:none;stroke:#000000;stroke-linecap:round;\"/>\r\n   </g>\r\n   <g id=\"text_18\">\r\n    <g id=\"patch_37\">\r\n     <path d=\"M 250.015567 162.748851 \r\nL 266.584433 162.748851 \r\nL 266.584433 156.0311 \r\nL 250.015567 156.0311 \r\nz\r\n\" style=\"fill:#4ba6e7;stroke:#000000;stroke-linejoin:miter;\"/>\r\n    </g>\r\n    <!-- max_hrt_rt &lt;= 161.0 -->\r\n    <g transform=\"translate(251.434769 157.570501)scale(0.012962 -0.012962)\">\r\n     <use xlink:href=\"#DejaVuSans-6d\"/>\r\n     <use x=\"97.412109\" xlink:href=\"#DejaVuSans-61\"/>\r\n     <use x=\"158.691406\" xlink:href=\"#DejaVuSans-78\"/>\r\n     <use x=\"217.871094\" xlink:href=\"#DejaVuSans-5f\"/>\r\n     <use x=\"267.871094\" xlink:href=\"#DejaVuSans-68\"/>\r\n     <use x=\"331.25\" xlink:href=\"#DejaVuSans-72\"/>\r\n     <use x=\"372.363281\" xlink:href=\"#DejaVuSans-74\"/>\r\n     <use x=\"411.572266\" xlink:href=\"#DejaVuSans-5f\"/>\r\n     <use x=\"461.572266\" xlink:href=\"#DejaVuSans-72\"/>\r\n     <use x=\"502.685547\" xlink:href=\"#DejaVuSans-74\"/>\r\n     <use x=\"541.894531\" xlink:href=\"#DejaVuSans-20\"/>\r\n     <use x=\"573.681641\" xlink:href=\"#DejaVuSans-3c\"/>\r\n     <use x=\"657.470703\" xlink:href=\"#DejaVuSans-3d\"/>\r\n     <use x=\"741.259766\" xlink:href=\"#DejaVuSans-20\"/>\r\n     <use x=\"773.046875\" xlink:href=\"#DejaVuSans-31\"/>\r\n     <use x=\"836.669922\" xlink:href=\"#DejaVuSans-36\"/>\r\n     <use x=\"900.292969\" xlink:href=\"#DejaVuSans-31\"/>\r\n     <use x=\"963.916016\" xlink:href=\"#DejaVuSans-2e\"/>\r\n     <use x=\"995.703125\" xlink:href=\"#DejaVuSans-30\"/>\r\n    </g>\r\n    <!-- gini = 0.155 -->\r\n    <g transform=\"translate(254.3074 159.057974)scale(0.012962 -0.012962)\">\r\n     <use xlink:href=\"#DejaVuSans-67\"/>\r\n     <use x=\"63.476562\" xlink:href=\"#DejaVuSans-69\"/>\r\n     <use x=\"91.259766\" xlink:href=\"#DejaVuSans-6e\"/>\r\n     <use x=\"154.638672\" xlink:href=\"#DejaVuSans-69\"/>\r\n     <use x=\"182.421875\" xlink:href=\"#DejaVuSans-20\"/>\r\n     <use x=\"214.208984\" xlink:href=\"#DejaVuSans-3d\"/>\r\n     <use x=\"297.998047\" xlink:href=\"#DejaVuSans-20\"/>\r\n     <use x=\"329.785156\" xlink:href=\"#DejaVuSans-30\"/>\r\n     <use x=\"393.408203\" xlink:href=\"#DejaVuSans-2e\"/>\r\n     <use x=\"425.195312\" xlink:href=\"#DejaVuSans-31\"/>\r\n     <use x=\"488.818359\" xlink:href=\"#DejaVuSans-35\"/>\r\n     <use x=\"552.441406\" xlink:href=\"#DejaVuSans-35\"/>\r\n    </g>\r\n    <!-- samples = 70 -->\r\n    <g transform=\"translate(253.8264 160.509398)scale(0.012962 -0.012962)\">\r\n     <use xlink:href=\"#DejaVuSans-73\"/>\r\n     <use x=\"52.099609\" xlink:href=\"#DejaVuSans-61\"/>\r\n     <use x=\"113.378906\" xlink:href=\"#DejaVuSans-6d\"/>\r\n     <use x=\"210.791016\" xlink:href=\"#DejaVuSans-70\"/>\r\n     <use x=\"274.267578\" xlink:href=\"#DejaVuSans-6c\"/>\r\n     <use x=\"302.050781\" xlink:href=\"#DejaVuSans-65\"/>\r\n     <use x=\"363.574219\" xlink:href=\"#DejaVuSans-73\"/>\r\n     <use x=\"415.673828\" xlink:href=\"#DejaVuSans-20\"/>\r\n     <use x=\"447.460938\" xlink:href=\"#DejaVuSans-3d\"/>\r\n     <use x=\"531.25\" xlink:href=\"#DejaVuSans-20\"/>\r\n     <use x=\"563.037109\" xlink:href=\"#DejaVuSans-37\"/>\r\n     <use x=\"626.660156\" xlink:href=\"#DejaVuSans-30\"/>\r\n    </g>\r\n    <!-- value = [5.517, 59.429] -->\r\n    <g transform=\"translate(250.534034 161.960822)scale(0.012962 -0.012962)\">\r\n     <use xlink:href=\"#DejaVuSans-76\"/>\r\n     <use x=\"59.179688\" xlink:href=\"#DejaVuSans-61\"/>\r\n     <use x=\"120.458984\" xlink:href=\"#DejaVuSans-6c\"/>\r\n     <use x=\"148.242188\" xlink:href=\"#DejaVuSans-75\"/>\r\n     <use x=\"211.621094\" xlink:href=\"#DejaVuSans-65\"/>\r\n     <use x=\"273.144531\" xlink:href=\"#DejaVuSans-20\"/>\r\n     <use x=\"304.931641\" xlink:href=\"#DejaVuSans-3d\"/>\r\n     <use x=\"388.720703\" xlink:href=\"#DejaVuSans-20\"/>\r\n     <use x=\"420.507812\" xlink:href=\"#DejaVuSans-5b\"/>\r\n     <use x=\"459.521484\" xlink:href=\"#DejaVuSans-35\"/>\r\n     <use x=\"523.144531\" xlink:href=\"#DejaVuSans-2e\"/>\r\n     <use x=\"554.931641\" xlink:href=\"#DejaVuSans-35\"/>\r\n     <use x=\"618.554688\" xlink:href=\"#DejaVuSans-31\"/>\r\n     <use x=\"682.177734\" xlink:href=\"#DejaVuSans-37\"/>\r\n     <use x=\"745.800781\" xlink:href=\"#DejaVuSans-2c\"/>\r\n     <use x=\"777.587891\" xlink:href=\"#DejaVuSans-20\"/>\r\n     <use x=\"809.375\" xlink:href=\"#DejaVuSans-35\"/>\r\n     <use x=\"872.998047\" xlink:href=\"#DejaVuSans-39\"/>\r\n     <use x=\"936.621094\" xlink:href=\"#DejaVuSans-2e\"/>\r\n     <use x=\"968.408203\" xlink:href=\"#DejaVuSans-34\"/>\r\n     <use x=\"1032.03125\" xlink:href=\"#DejaVuSans-32\"/>\r\n     <use x=\"1095.654297\" xlink:href=\"#DejaVuSans-39\"/>\r\n     <use x=\"1159.277344\" xlink:href=\"#DejaVuSans-5d\"/>\r\n    </g>\r\n   </g>\r\n   <g id=\"patch_38\">\r\n    <path d=\"M 288.146416 153.340206 \r\nQ 293.672296 136.113719 299.539678 117.82263 \r\n\" style=\"fill:none;stroke:#000000;stroke-linecap:round;\"/>\r\n    <path d=\"M 288.551625 152.925699 \r\nL 288.146416 153.340206 \r\nL 288.057936 152.767335 \r\n\" style=\"fill:none;stroke:#000000;stroke-linecap:round;\"/>\r\n   </g>\r\n   <g id=\"text_19\">\r\n    <g id=\"patch_39\">\r\n     <path d=\"M 278.740254 162.005114 \r\nL 293.659746 162.005114 \r\nL 293.659746 156.810886 \r\nL 278.740254 156.810886 \r\nz\r\n\" style=\"fill:#399de5;stroke:#000000;stroke-linejoin:miter;\"/>\r\n    </g>\r\n    <!-- gini = 0.0 -->\r\n    <g transform=\"translate(283.032086 158.314237)scale(0.012962 -0.012962)\">\r\n     <use xlink:href=\"#DejaVuSans-67\"/>\r\n     <use x=\"63.476562\" xlink:href=\"#DejaVuSans-69\"/>\r\n     <use x=\"91.259766\" xlink:href=\"#DejaVuSans-6e\"/>\r\n     <use x=\"154.638672\" xlink:href=\"#DejaVuSans-69\"/>\r\n     <use x=\"182.421875\" xlink:href=\"#DejaVuSans-20\"/>\r\n     <use x=\"214.208984\" xlink:href=\"#DejaVuSans-3d\"/>\r\n     <use x=\"297.998047\" xlink:href=\"#DejaVuSans-20\"/>\r\n     <use x=\"329.785156\" xlink:href=\"#DejaVuSans-30\"/>\r\n     <use x=\"393.408203\" xlink:href=\"#DejaVuSans-2e\"/>\r\n     <use x=\"425.195312\" xlink:href=\"#DejaVuSans-30\"/>\r\n    </g>\r\n    <!-- samples = 13 -->\r\n    <g transform=\"translate(281.7264 159.765661)scale(0.012962 -0.012962)\">\r\n     <use xlink:href=\"#DejaVuSans-73\"/>\r\n     <use x=\"52.099609\" xlink:href=\"#DejaVuSans-61\"/>\r\n     <use x=\"113.378906\" xlink:href=\"#DejaVuSans-6d\"/>\r\n     <use x=\"210.791016\" xlink:href=\"#DejaVuSans-70\"/>\r\n     <use x=\"274.267578\" xlink:href=\"#DejaVuSans-6c\"/>\r\n     <use x=\"302.050781\" xlink:href=\"#DejaVuSans-65\"/>\r\n     <use x=\"363.574219\" xlink:href=\"#DejaVuSans-73\"/>\r\n     <use x=\"415.673828\" xlink:href=\"#DejaVuSans-20\"/>\r\n     <use x=\"447.460938\" xlink:href=\"#DejaVuSans-3d\"/>\r\n     <use x=\"531.25\" xlink:href=\"#DejaVuSans-20\"/>\r\n     <use x=\"563.037109\" xlink:href=\"#DejaVuSans-31\"/>\r\n     <use x=\"626.660156\" xlink:href=\"#DejaVuSans-33\"/>\r\n    </g>\r\n    <!-- value = [0.0, 11.886] -->\r\n    <g transform=\"translate(279.258721 161.217085)scale(0.012962 -0.012962)\">\r\n     <use xlink:href=\"#DejaVuSans-76\"/>\r\n     <use x=\"59.179688\" xlink:href=\"#DejaVuSans-61\"/>\r\n     <use x=\"120.458984\" xlink:href=\"#DejaVuSans-6c\"/>\r\n     <use x=\"148.242188\" xlink:href=\"#DejaVuSans-75\"/>\r\n     <use x=\"211.621094\" xlink:href=\"#DejaVuSans-65\"/>\r\n     <use x=\"273.144531\" xlink:href=\"#DejaVuSans-20\"/>\r\n     <use x=\"304.931641\" xlink:href=\"#DejaVuSans-3d\"/>\r\n     <use x=\"388.720703\" xlink:href=\"#DejaVuSans-20\"/>\r\n     <use x=\"420.507812\" xlink:href=\"#DejaVuSans-5b\"/>\r\n     <use x=\"459.521484\" xlink:href=\"#DejaVuSans-30\"/>\r\n     <use x=\"523.144531\" xlink:href=\"#DejaVuSans-2e\"/>\r\n     <use x=\"554.931641\" xlink:href=\"#DejaVuSans-30\"/>\r\n     <use x=\"618.554688\" xlink:href=\"#DejaVuSans-2c\"/>\r\n     <use x=\"650.341797\" xlink:href=\"#DejaVuSans-20\"/>\r\n     <use x=\"682.128906\" xlink:href=\"#DejaVuSans-31\"/>\r\n     <use x=\"745.751953\" xlink:href=\"#DejaVuSans-31\"/>\r\n     <use x=\"809.375\" xlink:href=\"#DejaVuSans-2e\"/>\r\n     <use x=\"841.162109\" xlink:href=\"#DejaVuSans-38\"/>\r\n     <use x=\"904.785156\" xlink:href=\"#DejaVuSans-38\"/>\r\n     <use x=\"968.408203\" xlink:href=\"#DejaVuSans-36\"/>\r\n     <use x=\"1032.03125\" xlink:href=\"#DejaVuSans-5d\"/>\r\n    </g>\r\n   </g>\r\n   <g id=\"patch_40\">\r\n    <path d=\"M 311.904214 152.562814 \r\nQ 306.50276 135.724218 300.759806 117.821021 \r\n\" style=\"fill:none;stroke:#000000;stroke-linecap:round;\"/>\r\n    <path d=\"M 311.992694 151.989943 \r\nL 311.904214 152.562814 \r\nL 311.499005 152.148307 \r\n\" style=\"fill:none;stroke:#000000;stroke-linecap:round;\"/>\r\n   </g>\r\n   <g id=\"text_20\">\r\n    <g id=\"patch_41\">\r\n     <path d=\"M 301.685351 162.748851 \r\nL 326.514649 162.748851 \r\nL 326.514649 156.0311 \r\nL 301.685351 156.0311 \r\nz\r\n\" style=\"fill:#eeae7f;stroke:#000000;stroke-linejoin:miter;\"/>\r\n    </g>\r\n    <!-- chest_pain_non-anginal_pain &lt;= 0.5 -->\r\n    <g transform=\"translate(302.203818 157.570501)scale(0.012962 -0.012962)\">\r\n     <use xlink:href=\"#DejaVuSans-63\"/>\r\n     <use x=\"54.980469\" xlink:href=\"#DejaVuSans-68\"/>\r\n     <use x=\"118.359375\" xlink:href=\"#DejaVuSans-65\"/>\r\n     <use x=\"179.882812\" xlink:href=\"#DejaVuSans-73\"/>\r\n     <use x=\"231.982422\" xlink:href=\"#DejaVuSans-74\"/>\r\n     <use x=\"271.191406\" xlink:href=\"#DejaVuSans-5f\"/>\r\n     <use x=\"321.191406\" xlink:href=\"#DejaVuSans-70\"/>\r\n     <use x=\"384.667969\" xlink:href=\"#DejaVuSans-61\"/>\r\n     <use x=\"445.947266\" xlink:href=\"#DejaVuSans-69\"/>\r\n     <use x=\"473.730469\" xlink:href=\"#DejaVuSans-6e\"/>\r\n     <use x=\"537.109375\" xlink:href=\"#DejaVuSans-5f\"/>\r\n     <use x=\"587.109375\" xlink:href=\"#DejaVuSans-6e\"/>\r\n     <use x=\"650.488281\" xlink:href=\"#DejaVuSans-6f\"/>\r\n     <use x=\"711.669922\" xlink:href=\"#DejaVuSans-6e\"/>\r\n     <use x=\"775.048828\" xlink:href=\"#DejaVuSans-2d\"/>\r\n     <use x=\"811.132812\" xlink:href=\"#DejaVuSans-61\"/>\r\n     <use x=\"872.412109\" xlink:href=\"#DejaVuSans-6e\"/>\r\n     <use x=\"935.791016\" xlink:href=\"#DejaVuSans-67\"/>\r\n     <use x=\"999.267578\" xlink:href=\"#DejaVuSans-69\"/>\r\n     <use x=\"1027.050781\" xlink:href=\"#DejaVuSans-6e\"/>\r\n     <use x=\"1090.429688\" xlink:href=\"#DejaVuSans-61\"/>\r\n     <use x=\"1151.708984\" xlink:href=\"#DejaVuSans-6c\"/>\r\n     <use x=\"1179.492188\" xlink:href=\"#DejaVuSans-5f\"/>\r\n     <use x=\"1229.492188\" xlink:href=\"#DejaVuSans-70\"/>\r\n     <use x=\"1292.96875\" xlink:href=\"#DejaVuSans-61\"/>\r\n     <use x=\"1354.248047\" xlink:href=\"#DejaVuSans-69\"/>\r\n     <use x=\"1382.03125\" xlink:href=\"#DejaVuSans-6e\"/>\r\n     <use x=\"1445.410156\" xlink:href=\"#DejaVuSans-20\"/>\r\n     <use x=\"1477.197266\" xlink:href=\"#DejaVuSans-3c\"/>\r\n     <use x=\"1560.986328\" xlink:href=\"#DejaVuSans-3d\"/>\r\n     <use x=\"1644.775391\" xlink:href=\"#DejaVuSans-20\"/>\r\n     <use x=\"1676.5625\" xlink:href=\"#DejaVuSans-30\"/>\r\n     <use x=\"1740.185547\" xlink:href=\"#DejaVuSans-2e\"/>\r\n     <use x=\"1771.972656\" xlink:href=\"#DejaVuSans-35\"/>\r\n    </g>\r\n    <!-- gini = 0.387 -->\r\n    <g transform=\"translate(310.1074 159.057974)scale(0.012962 -0.012962)\">\r\n     <use xlink:href=\"#DejaVuSans-67\"/>\r\n     <use x=\"63.476562\" xlink:href=\"#DejaVuSans-69\"/>\r\n     <use x=\"91.259766\" xlink:href=\"#DejaVuSans-6e\"/>\r\n     <use x=\"154.638672\" xlink:href=\"#DejaVuSans-69\"/>\r\n     <use x=\"182.421875\" xlink:href=\"#DejaVuSans-20\"/>\r\n     <use x=\"214.208984\" xlink:href=\"#DejaVuSans-3d\"/>\r\n     <use x=\"297.998047\" xlink:href=\"#DejaVuSans-20\"/>\r\n     <use x=\"329.785156\" xlink:href=\"#DejaVuSans-30\"/>\r\n     <use x=\"393.408203\" xlink:href=\"#DejaVuSans-2e\"/>\r\n     <use x=\"425.195312\" xlink:href=\"#DejaVuSans-33\"/>\r\n     <use x=\"488.818359\" xlink:href=\"#DejaVuSans-38\"/>\r\n     <use x=\"552.441406\" xlink:href=\"#DejaVuSans-37\"/>\r\n    </g>\r\n    <!-- samples = 20 -->\r\n    <g transform=\"translate(309.6264 160.509398)scale(0.012962 -0.012962)\">\r\n     <use xlink:href=\"#DejaVuSans-73\"/>\r\n     <use x=\"52.099609\" xlink:href=\"#DejaVuSans-61\"/>\r\n     <use x=\"113.378906\" xlink:href=\"#DejaVuSans-6d\"/>\r\n     <use x=\"210.791016\" xlink:href=\"#DejaVuSans-70\"/>\r\n     <use x=\"274.267578\" xlink:href=\"#DejaVuSans-6c\"/>\r\n     <use x=\"302.050781\" xlink:href=\"#DejaVuSans-65\"/>\r\n     <use x=\"363.574219\" xlink:href=\"#DejaVuSans-73\"/>\r\n     <use x=\"415.673828\" xlink:href=\"#DejaVuSans-20\"/>\r\n     <use x=\"447.460938\" xlink:href=\"#DejaVuSans-3d\"/>\r\n     <use x=\"531.25\" xlink:href=\"#DejaVuSans-20\"/>\r\n     <use x=\"563.037109\" xlink:href=\"#DejaVuSans-32\"/>\r\n     <use x=\"626.660156\" xlink:href=\"#DejaVuSans-30\"/>\r\n    </g>\r\n    <!-- value = [15.448, 5.486] -->\r\n    <g transform=\"translate(306.334034 161.960822)scale(0.012962 -0.012962)\">\r\n     <use xlink:href=\"#DejaVuSans-76\"/>\r\n     <use x=\"59.179688\" xlink:href=\"#DejaVuSans-61\"/>\r\n     <use x=\"120.458984\" xlink:href=\"#DejaVuSans-6c\"/>\r\n     <use x=\"148.242188\" xlink:href=\"#DejaVuSans-75\"/>\r\n     <use x=\"211.621094\" xlink:href=\"#DejaVuSans-65\"/>\r\n     <use x=\"273.144531\" xlink:href=\"#DejaVuSans-20\"/>\r\n     <use x=\"304.931641\" xlink:href=\"#DejaVuSans-3d\"/>\r\n     <use x=\"388.720703\" xlink:href=\"#DejaVuSans-20\"/>\r\n     <use x=\"420.507812\" xlink:href=\"#DejaVuSans-5b\"/>\r\n     <use x=\"459.521484\" xlink:href=\"#DejaVuSans-31\"/>\r\n     <use x=\"523.144531\" xlink:href=\"#DejaVuSans-35\"/>\r\n     <use x=\"586.767578\" xlink:href=\"#DejaVuSans-2e\"/>\r\n     <use x=\"618.554688\" xlink:href=\"#DejaVuSans-34\"/>\r\n     <use x=\"682.177734\" xlink:href=\"#DejaVuSans-34\"/>\r\n     <use x=\"745.800781\" xlink:href=\"#DejaVuSans-38\"/>\r\n     <use x=\"809.423828\" xlink:href=\"#DejaVuSans-2c\"/>\r\n     <use x=\"841.210938\" xlink:href=\"#DejaVuSans-20\"/>\r\n     <use x=\"872.998047\" xlink:href=\"#DejaVuSans-35\"/>\r\n     <use x=\"936.621094\" xlink:href=\"#DejaVuSans-2e\"/>\r\n     <use x=\"968.408203\" xlink:href=\"#DejaVuSans-34\"/>\r\n     <use x=\"1032.03125\" xlink:href=\"#DejaVuSans-38\"/>\r\n     <use x=\"1095.654297\" xlink:href=\"#DejaVuSans-36\"/>\r\n     <use x=\"1159.277344\" xlink:href=\"#DejaVuSans-5d\"/>\r\n    </g>\r\n   </g>\r\n   <g id=\"patch_42\">\r\n    <path d=\"M 70.436616 110.124238 \r\nQ 93.38839 92.236661 117.222013 73.661812 \r\n\" style=\"fill:none;stroke:#000000;stroke-linecap:round;\"/>\r\n    <path d=\"M 71.004911 110.009998 \r\nL 70.436616 110.124238 \r\nL 70.686201 109.601058 \r\n\" style=\"fill:none;stroke:#000000;stroke-linecap:round;\"/>\r\n   </g>\r\n   <g id=\"text_21\">\r\n    <g id=\"patch_43\">\r\n     <path d=\"M 49.056582 119.260851 \r\nL 76.943418 119.260851 \r\nL 76.943418 112.5431 \r\nL 49.056582 112.5431 \r\nz\r\n\" style=\"fill:#f7d6bf;stroke:#000000;stroke-linejoin:miter;\"/>\r\n    </g>\r\n    <!-- exercise_induced_angina_present &lt;= 0.5 -->\r\n    <g transform=\"translate(49.575049 114.082501)scale(0.012962 -0.012962)\">\r\n     <defs>\r\n      <path d=\"M 2906 2969 \r\nL 2906 4863 \r\nL 3481 4863 \r\nL 3481 0 \r\nL 2906 0 \r\nL 2906 525 \r\nQ 2725 213 2448 61 \r\nQ 2172 -91 1784 -91 \r\nQ 1150 -91 751 415 \r\nQ 353 922 353 1747 \r\nQ 353 2572 751 3078 \r\nQ 1150 3584 1784 3584 \r\nQ 2172 3584 2448 3432 \r\nQ 2725 3281 2906 2969 \r\nz\r\nM 947 1747 \r\nQ 947 1113 1208 752 \r\nQ 1469 391 1925 391 \r\nQ 2381 391 2643 752 \r\nQ 2906 1113 2906 1747 \r\nQ 2906 2381 2643 2742 \r\nQ 2381 3103 1925 3103 \r\nQ 1469 3103 1208 2742 \r\nQ 947 2381 947 1747 \r\nz\r\n\" id=\"DejaVuSans-64\" transform=\"scale(0.015625)\"/>\r\n     </defs>\r\n     <use xlink:href=\"#DejaVuSans-65\"/>\r\n     <use x=\"59.773438\" xlink:href=\"#DejaVuSans-78\"/>\r\n     <use x=\"115.828125\" xlink:href=\"#DejaVuSans-65\"/>\r\n     <use x=\"177.351562\" xlink:href=\"#DejaVuSans-72\"/>\r\n     <use x=\"216.214844\" xlink:href=\"#DejaVuSans-63\"/>\r\n     <use x=\"271.195312\" xlink:href=\"#DejaVuSans-69\"/>\r\n     <use x=\"298.978516\" xlink:href=\"#DejaVuSans-73\"/>\r\n     <use x=\"351.078125\" xlink:href=\"#DejaVuSans-65\"/>\r\n     <use x=\"412.601562\" xlink:href=\"#DejaVuSans-5f\"/>\r\n     <use x=\"462.601562\" xlink:href=\"#DejaVuSans-69\"/>\r\n     <use x=\"490.384766\" xlink:href=\"#DejaVuSans-6e\"/>\r\n     <use x=\"553.763672\" xlink:href=\"#DejaVuSans-64\"/>\r\n     <use x=\"617.240234\" xlink:href=\"#DejaVuSans-75\"/>\r\n     <use x=\"680.619141\" xlink:href=\"#DejaVuSans-63\"/>\r\n     <use x=\"735.599609\" xlink:href=\"#DejaVuSans-65\"/>\r\n     <use x=\"797.123047\" xlink:href=\"#DejaVuSans-64\"/>\r\n     <use x=\"860.599609\" xlink:href=\"#DejaVuSans-5f\"/>\r\n     <use x=\"910.599609\" xlink:href=\"#DejaVuSans-61\"/>\r\n     <use x=\"971.878906\" xlink:href=\"#DejaVuSans-6e\"/>\r\n     <use x=\"1035.257812\" xlink:href=\"#DejaVuSans-67\"/>\r\n     <use x=\"1098.734375\" xlink:href=\"#DejaVuSans-69\"/>\r\n     <use x=\"1126.517578\" xlink:href=\"#DejaVuSans-6e\"/>\r\n     <use x=\"1189.896484\" xlink:href=\"#DejaVuSans-61\"/>\r\n     <use x=\"1251.175781\" xlink:href=\"#DejaVuSans-5f\"/>\r\n     <use x=\"1301.175781\" xlink:href=\"#DejaVuSans-70\"/>\r\n     <use x=\"1364.652344\" xlink:href=\"#DejaVuSans-72\"/>\r\n     <use x=\"1403.515625\" xlink:href=\"#DejaVuSans-65\"/>\r\n     <use x=\"1465.039062\" xlink:href=\"#DejaVuSans-73\"/>\r\n     <use x=\"1517.138672\" xlink:href=\"#DejaVuSans-65\"/>\r\n     <use x=\"1578.662109\" xlink:href=\"#DejaVuSans-6e\"/>\r\n     <use x=\"1642.041016\" xlink:href=\"#DejaVuSans-74\"/>\r\n     <use x=\"1681.25\" xlink:href=\"#DejaVuSans-20\"/>\r\n     <use x=\"1713.037109\" xlink:href=\"#DejaVuSans-3c\"/>\r\n     <use x=\"1796.826172\" xlink:href=\"#DejaVuSans-3d\"/>\r\n     <use x=\"1880.615234\" xlink:href=\"#DejaVuSans-20\"/>\r\n     <use x=\"1912.402344\" xlink:href=\"#DejaVuSans-30\"/>\r\n     <use x=\"1976.025391\" xlink:href=\"#DejaVuSans-2e\"/>\r\n     <use x=\"2007.8125\" xlink:href=\"#DejaVuSans-35\"/>\r\n    </g>\r\n    <!-- gini = 0.482 -->\r\n    <g transform=\"translate(59.0074 115.569974)scale(0.012962 -0.012962)\">\r\n     <use xlink:href=\"#DejaVuSans-67\"/>\r\n     <use x=\"63.476562\" xlink:href=\"#DejaVuSans-69\"/>\r\n     <use x=\"91.259766\" xlink:href=\"#DejaVuSans-6e\"/>\r\n     <use x=\"154.638672\" xlink:href=\"#DejaVuSans-69\"/>\r\n     <use x=\"182.421875\" xlink:href=\"#DejaVuSans-20\"/>\r\n     <use x=\"214.208984\" xlink:href=\"#DejaVuSans-3d\"/>\r\n     <use x=\"297.998047\" xlink:href=\"#DejaVuSans-20\"/>\r\n     <use x=\"329.785156\" xlink:href=\"#DejaVuSans-30\"/>\r\n     <use x=\"393.408203\" xlink:href=\"#DejaVuSans-2e\"/>\r\n     <use x=\"425.195312\" xlink:href=\"#DejaVuSans-34\"/>\r\n     <use x=\"488.818359\" xlink:href=\"#DejaVuSans-38\"/>\r\n     <use x=\"552.441406\" xlink:href=\"#DejaVuSans-32\"/>\r\n    </g>\r\n    <!-- samples = 40 -->\r\n    <g transform=\"translate(58.5264 117.021398)scale(0.012962 -0.012962)\">\r\n     <use xlink:href=\"#DejaVuSans-73\"/>\r\n     <use x=\"52.099609\" xlink:href=\"#DejaVuSans-61\"/>\r\n     <use x=\"113.378906\" xlink:href=\"#DejaVuSans-6d\"/>\r\n     <use x=\"210.791016\" xlink:href=\"#DejaVuSans-70\"/>\r\n     <use x=\"274.267578\" xlink:href=\"#DejaVuSans-6c\"/>\r\n     <use x=\"302.050781\" xlink:href=\"#DejaVuSans-65\"/>\r\n     <use x=\"363.574219\" xlink:href=\"#DejaVuSans-73\"/>\r\n     <use x=\"415.673828\" xlink:href=\"#DejaVuSans-20\"/>\r\n     <use x=\"447.460938\" xlink:href=\"#DejaVuSans-3d\"/>\r\n     <use x=\"531.25\" xlink:href=\"#DejaVuSans-20\"/>\r\n     <use x=\"563.037109\" xlink:href=\"#DejaVuSans-34\"/>\r\n     <use x=\"626.660156\" xlink:href=\"#DejaVuSans-30\"/>\r\n    </g>\r\n    <!-- value = [24.276, 16.457] -->\r\n    <g transform=\"translate(54.821691 118.472822)scale(0.012962 -0.012962)\">\r\n     <use xlink:href=\"#DejaVuSans-76\"/>\r\n     <use x=\"59.179688\" xlink:href=\"#DejaVuSans-61\"/>\r\n     <use x=\"120.458984\" xlink:href=\"#DejaVuSans-6c\"/>\r\n     <use x=\"148.242188\" xlink:href=\"#DejaVuSans-75\"/>\r\n     <use x=\"211.621094\" xlink:href=\"#DejaVuSans-65\"/>\r\n     <use x=\"273.144531\" xlink:href=\"#DejaVuSans-20\"/>\r\n     <use x=\"304.931641\" xlink:href=\"#DejaVuSans-3d\"/>\r\n     <use x=\"388.720703\" xlink:href=\"#DejaVuSans-20\"/>\r\n     <use x=\"420.507812\" xlink:href=\"#DejaVuSans-5b\"/>\r\n     <use x=\"459.521484\" xlink:href=\"#DejaVuSans-32\"/>\r\n     <use x=\"523.144531\" xlink:href=\"#DejaVuSans-34\"/>\r\n     <use x=\"586.767578\" xlink:href=\"#DejaVuSans-2e\"/>\r\n     <use x=\"618.554688\" xlink:href=\"#DejaVuSans-32\"/>\r\n     <use x=\"682.177734\" xlink:href=\"#DejaVuSans-37\"/>\r\n     <use x=\"745.800781\" xlink:href=\"#DejaVuSans-36\"/>\r\n     <use x=\"809.423828\" xlink:href=\"#DejaVuSans-2c\"/>\r\n     <use x=\"841.210938\" xlink:href=\"#DejaVuSans-20\"/>\r\n     <use x=\"872.998047\" xlink:href=\"#DejaVuSans-31\"/>\r\n     <use x=\"936.621094\" xlink:href=\"#DejaVuSans-36\"/>\r\n     <use x=\"1000.244141\" xlink:href=\"#DejaVuSans-2e\"/>\r\n     <use x=\"1032.03125\" xlink:href=\"#DejaVuSans-34\"/>\r\n     <use x=\"1095.654297\" xlink:href=\"#DejaVuSans-35\"/>\r\n     <use x=\"1159.277344\" xlink:href=\"#DejaVuSans-37\"/>\r\n     <use x=\"1222.900391\" xlink:href=\"#DejaVuSans-5d\"/>\r\n    </g>\r\n   </g>\r\n   <g id=\"patch_44\">\r\n    <path d=\"M 167.163384 110.124238 \r\nQ 144.21161 92.236661 120.377987 73.661812 \r\n\" style=\"fill:none;stroke:#000000;stroke-linecap:round;\"/>\r\n    <path d=\"M 166.913799 109.601058 \r\nL 167.163384 110.124238 \r\nL 166.595089 110.009998 \r\n\" style=\"fill:none;stroke:#000000;stroke-linecap:round;\"/>\r\n   </g>\r\n   <g id=\"text_22\">\r\n    <g id=\"patch_45\">\r\n     <path d=\"M 162.185351 119.260851 \r\nL 187.014649 119.260851 \r\nL 187.014649 112.5431 \r\nL 162.185351 112.5431 \r\nz\r\n\" style=\"fill:#e68844;stroke:#000000;stroke-linejoin:miter;\"/>\r\n    </g>\r\n    <!-- chest_pain_non-anginal_pain &lt;= 0.5 -->\r\n    <g transform=\"translate(162.703818 114.082501)scale(0.012962 -0.012962)\">\r\n     <use xlink:href=\"#DejaVuSans-63\"/>\r\n     <use x=\"54.980469\" xlink:href=\"#DejaVuSans-68\"/>\r\n     <use x=\"118.359375\" xlink:href=\"#DejaVuSans-65\"/>\r\n     <use x=\"179.882812\" xlink:href=\"#DejaVuSans-73\"/>\r\n     <use x=\"231.982422\" xlink:href=\"#DejaVuSans-74\"/>\r\n     <use x=\"271.191406\" xlink:href=\"#DejaVuSans-5f\"/>\r\n     <use x=\"321.191406\" xlink:href=\"#DejaVuSans-70\"/>\r\n     <use x=\"384.667969\" xlink:href=\"#DejaVuSans-61\"/>\r\n     <use x=\"445.947266\" xlink:href=\"#DejaVuSans-69\"/>\r\n     <use x=\"473.730469\" xlink:href=\"#DejaVuSans-6e\"/>\r\n     <use x=\"537.109375\" xlink:href=\"#DejaVuSans-5f\"/>\r\n     <use x=\"587.109375\" xlink:href=\"#DejaVuSans-6e\"/>\r\n     <use x=\"650.488281\" xlink:href=\"#DejaVuSans-6f\"/>\r\n     <use x=\"711.669922\" xlink:href=\"#DejaVuSans-6e\"/>\r\n     <use x=\"775.048828\" xlink:href=\"#DejaVuSans-2d\"/>\r\n     <use x=\"811.132812\" xlink:href=\"#DejaVuSans-61\"/>\r\n     <use x=\"872.412109\" xlink:href=\"#DejaVuSans-6e\"/>\r\n     <use x=\"935.791016\" xlink:href=\"#DejaVuSans-67\"/>\r\n     <use x=\"999.267578\" xlink:href=\"#DejaVuSans-69\"/>\r\n     <use x=\"1027.050781\" xlink:href=\"#DejaVuSans-6e\"/>\r\n     <use x=\"1090.429688\" xlink:href=\"#DejaVuSans-61\"/>\r\n     <use x=\"1151.708984\" xlink:href=\"#DejaVuSans-6c\"/>\r\n     <use x=\"1179.492188\" xlink:href=\"#DejaVuSans-5f\"/>\r\n     <use x=\"1229.492188\" xlink:href=\"#DejaVuSans-70\"/>\r\n     <use x=\"1292.96875\" xlink:href=\"#DejaVuSans-61\"/>\r\n     <use x=\"1354.248047\" xlink:href=\"#DejaVuSans-69\"/>\r\n     <use x=\"1382.03125\" xlink:href=\"#DejaVuSans-6e\"/>\r\n     <use x=\"1445.410156\" xlink:href=\"#DejaVuSans-20\"/>\r\n     <use x=\"1477.197266\" xlink:href=\"#DejaVuSans-3c\"/>\r\n     <use x=\"1560.986328\" xlink:href=\"#DejaVuSans-3d\"/>\r\n     <use x=\"1644.775391\" xlink:href=\"#DejaVuSans-20\"/>\r\n     <use x=\"1676.5625\" xlink:href=\"#DejaVuSans-30\"/>\r\n     <use x=\"1740.185547\" xlink:href=\"#DejaVuSans-2e\"/>\r\n     <use x=\"1771.972656\" xlink:href=\"#DejaVuSans-35\"/>\r\n    </g>\r\n    <!-- gini = 0.099 -->\r\n    <g transform=\"translate(170.6074 115.569974)scale(0.012962 -0.012962)\">\r\n     <use xlink:href=\"#DejaVuSans-67\"/>\r\n     <use x=\"63.476562\" xlink:href=\"#DejaVuSans-69\"/>\r\n     <use x=\"91.259766\" xlink:href=\"#DejaVuSans-6e\"/>\r\n     <use x=\"154.638672\" xlink:href=\"#DejaVuSans-69\"/>\r\n     <use x=\"182.421875\" xlink:href=\"#DejaVuSans-20\"/>\r\n     <use x=\"214.208984\" xlink:href=\"#DejaVuSans-3d\"/>\r\n     <use x=\"297.998047\" xlink:href=\"#DejaVuSans-20\"/>\r\n     <use x=\"329.785156\" xlink:href=\"#DejaVuSans-30\"/>\r\n     <use x=\"393.408203\" xlink:href=\"#DejaVuSans-2e\"/>\r\n     <use x=\"425.195312\" xlink:href=\"#DejaVuSans-30\"/>\r\n     <use x=\"488.818359\" xlink:href=\"#DejaVuSans-39\"/>\r\n     <use x=\"552.441406\" xlink:href=\"#DejaVuSans-39\"/>\r\n    </g>\r\n    <!-- samples = 48 -->\r\n    <g transform=\"translate(170.1264 117.021398)scale(0.012962 -0.012962)\">\r\n     <use xlink:href=\"#DejaVuSans-73\"/>\r\n     <use x=\"52.099609\" xlink:href=\"#DejaVuSans-61\"/>\r\n     <use x=\"113.378906\" xlink:href=\"#DejaVuSans-6d\"/>\r\n     <use x=\"210.791016\" xlink:href=\"#DejaVuSans-70\"/>\r\n     <use x=\"274.267578\" xlink:href=\"#DejaVuSans-6c\"/>\r\n     <use x=\"302.050781\" xlink:href=\"#DejaVuSans-65\"/>\r\n     <use x=\"363.574219\" xlink:href=\"#DejaVuSans-73\"/>\r\n     <use x=\"415.673828\" xlink:href=\"#DejaVuSans-20\"/>\r\n     <use x=\"447.460938\" xlink:href=\"#DejaVuSans-3d\"/>\r\n     <use x=\"531.25\" xlink:href=\"#DejaVuSans-20\"/>\r\n     <use x=\"563.037109\" xlink:href=\"#DejaVuSans-34\"/>\r\n     <use x=\"626.660156\" xlink:href=\"#DejaVuSans-38\"/>\r\n    </g>\r\n    <!-- value = [49.655, 2.743] -->\r\n    <g transform=\"translate(166.834034 118.472822)scale(0.012962 -0.012962)\">\r\n     <use xlink:href=\"#DejaVuSans-76\"/>\r\n     <use x=\"59.179688\" xlink:href=\"#DejaVuSans-61\"/>\r\n     <use x=\"120.458984\" xlink:href=\"#DejaVuSans-6c\"/>\r\n     <use x=\"148.242188\" xlink:href=\"#DejaVuSans-75\"/>\r\n     <use x=\"211.621094\" xlink:href=\"#DejaVuSans-65\"/>\r\n     <use x=\"273.144531\" xlink:href=\"#DejaVuSans-20\"/>\r\n     <use x=\"304.931641\" xlink:href=\"#DejaVuSans-3d\"/>\r\n     <use x=\"388.720703\" xlink:href=\"#DejaVuSans-20\"/>\r\n     <use x=\"420.507812\" xlink:href=\"#DejaVuSans-5b\"/>\r\n     <use x=\"459.521484\" xlink:href=\"#DejaVuSans-34\"/>\r\n     <use x=\"523.144531\" xlink:href=\"#DejaVuSans-39\"/>\r\n     <use x=\"586.767578\" xlink:href=\"#DejaVuSans-2e\"/>\r\n     <use x=\"618.554688\" xlink:href=\"#DejaVuSans-36\"/>\r\n     <use x=\"682.177734\" xlink:href=\"#DejaVuSans-35\"/>\r\n     <use x=\"745.800781\" xlink:href=\"#DejaVuSans-35\"/>\r\n     <use x=\"809.423828\" xlink:href=\"#DejaVuSans-2c\"/>\r\n     <use x=\"841.210938\" xlink:href=\"#DejaVuSans-20\"/>\r\n     <use x=\"872.998047\" xlink:href=\"#DejaVuSans-32\"/>\r\n     <use x=\"936.621094\" xlink:href=\"#DejaVuSans-2e\"/>\r\n     <use x=\"968.408203\" xlink:href=\"#DejaVuSans-37\"/>\r\n     <use x=\"1032.03125\" xlink:href=\"#DejaVuSans-34\"/>\r\n     <use x=\"1095.654297\" xlink:href=\"#DejaVuSans-33\"/>\r\n     <use x=\"1159.277344\" xlink:href=\"#DejaVuSans-5d\"/>\r\n    </g>\r\n   </g>\r\n   <g id=\"patch_46\">\r\n    <path d=\"M 248.522696 109.415978 \r\nQ 259.544674 92.235915 271.17037 74.114829 \r\n\" style=\"fill:none;stroke:#000000;stroke-linecap:round;\"/>\r\n    <path d=\"M 249.02085 109.119578 \r\nL 248.522696 109.415978 \r\nL 248.584469 108.839615 \r\n\" style=\"fill:none;stroke:#000000;stroke-linecap:round;\"/>\r\n   </g>\r\n   <g id=\"text_23\">\r\n    <g id=\"patch_47\">\r\n     <path d=\"M 236.065567 119.260851 \r\nL 252.634433 119.260851 \r\nL 252.634433 112.5431 \r\nL 236.065567 112.5431 \r\nz\r\n\" style=\"fill:#4fa8e8;stroke:#000000;stroke-linejoin:miter;\"/>\r\n    </g>\r\n    <!-- max_hrt_rt &lt;= 83.5 -->\r\n    <g transform=\"translate(237.897112 114.082501)scale(0.012962 -0.012962)\">\r\n     <use xlink:href=\"#DejaVuSans-6d\"/>\r\n     <use x=\"97.412109\" xlink:href=\"#DejaVuSans-61\"/>\r\n     <use x=\"158.691406\" xlink:href=\"#DejaVuSans-78\"/>\r\n     <use x=\"217.871094\" xlink:href=\"#DejaVuSans-5f\"/>\r\n     <use x=\"267.871094\" xlink:href=\"#DejaVuSans-68\"/>\r\n     <use x=\"331.25\" xlink:href=\"#DejaVuSans-72\"/>\r\n     <use x=\"372.363281\" xlink:href=\"#DejaVuSans-74\"/>\r\n     <use x=\"411.572266\" xlink:href=\"#DejaVuSans-5f\"/>\r\n     <use x=\"461.572266\" xlink:href=\"#DejaVuSans-72\"/>\r\n     <use x=\"502.685547\" xlink:href=\"#DejaVuSans-74\"/>\r\n     <use x=\"541.894531\" xlink:href=\"#DejaVuSans-20\"/>\r\n     <use x=\"573.681641\" xlink:href=\"#DejaVuSans-3c\"/>\r\n     <use x=\"657.470703\" xlink:href=\"#DejaVuSans-3d\"/>\r\n     <use x=\"741.259766\" xlink:href=\"#DejaVuSans-20\"/>\r\n     <use x=\"773.046875\" xlink:href=\"#DejaVuSans-38\"/>\r\n     <use x=\"836.669922\" xlink:href=\"#DejaVuSans-33\"/>\r\n     <use x=\"900.292969\" xlink:href=\"#DejaVuSans-2e\"/>\r\n     <use x=\"932.080078\" xlink:href=\"#DejaVuSans-35\"/>\r\n    </g>\r\n    <!-- gini = 0.18 -->\r\n    <g transform=\"translate(240.769743 115.569974)scale(0.012962 -0.012962)\">\r\n     <use xlink:href=\"#DejaVuSans-67\"/>\r\n     <use x=\"63.476562\" xlink:href=\"#DejaVuSans-69\"/>\r\n     <use x=\"91.259766\" xlink:href=\"#DejaVuSans-6e\"/>\r\n     <use x=\"154.638672\" xlink:href=\"#DejaVuSans-69\"/>\r\n     <use x=\"182.421875\" xlink:href=\"#DejaVuSans-20\"/>\r\n     <use x=\"214.208984\" xlink:href=\"#DejaVuSans-3d\"/>\r\n     <use x=\"297.998047\" xlink:href=\"#DejaVuSans-20\"/>\r\n     <use x=\"329.785156\" xlink:href=\"#DejaVuSans-30\"/>\r\n     <use x=\"393.408203\" xlink:href=\"#DejaVuSans-2e\"/>\r\n     <use x=\"425.195312\" xlink:href=\"#DejaVuSans-31\"/>\r\n     <use x=\"488.818359\" xlink:href=\"#DejaVuSans-38\"/>\r\n    </g>\r\n    <!-- samples = 71 -->\r\n    <g transform=\"translate(239.8764 117.021398)scale(0.012962 -0.012962)\">\r\n     <use xlink:href=\"#DejaVuSans-73\"/>\r\n     <use x=\"52.099609\" xlink:href=\"#DejaVuSans-61\"/>\r\n     <use x=\"113.378906\" xlink:href=\"#DejaVuSans-6d\"/>\r\n     <use x=\"210.791016\" xlink:href=\"#DejaVuSans-70\"/>\r\n     <use x=\"274.267578\" xlink:href=\"#DejaVuSans-6c\"/>\r\n     <use x=\"302.050781\" xlink:href=\"#DejaVuSans-65\"/>\r\n     <use x=\"363.574219\" xlink:href=\"#DejaVuSans-73\"/>\r\n     <use x=\"415.673828\" xlink:href=\"#DejaVuSans-20\"/>\r\n     <use x=\"447.460938\" xlink:href=\"#DejaVuSans-3d\"/>\r\n     <use x=\"531.25\" xlink:href=\"#DejaVuSans-20\"/>\r\n     <use x=\"563.037109\" xlink:href=\"#DejaVuSans-37\"/>\r\n     <use x=\"626.660156\" xlink:href=\"#DejaVuSans-31\"/>\r\n    </g>\r\n    <!-- value = [6.621, 59.429] -->\r\n    <g transform=\"translate(236.584034 118.472822)scale(0.012962 -0.012962)\">\r\n     <use xlink:href=\"#DejaVuSans-76\"/>\r\n     <use x=\"59.179688\" xlink:href=\"#DejaVuSans-61\"/>\r\n     <use x=\"120.458984\" xlink:href=\"#DejaVuSans-6c\"/>\r\n     <use x=\"148.242188\" xlink:href=\"#DejaVuSans-75\"/>\r\n     <use x=\"211.621094\" xlink:href=\"#DejaVuSans-65\"/>\r\n     <use x=\"273.144531\" xlink:href=\"#DejaVuSans-20\"/>\r\n     <use x=\"304.931641\" xlink:href=\"#DejaVuSans-3d\"/>\r\n     <use x=\"388.720703\" xlink:href=\"#DejaVuSans-20\"/>\r\n     <use x=\"420.507812\" xlink:href=\"#DejaVuSans-5b\"/>\r\n     <use x=\"459.521484\" xlink:href=\"#DejaVuSans-36\"/>\r\n     <use x=\"523.144531\" xlink:href=\"#DejaVuSans-2e\"/>\r\n     <use x=\"554.931641\" xlink:href=\"#DejaVuSans-36\"/>\r\n     <use x=\"618.554688\" xlink:href=\"#DejaVuSans-32\"/>\r\n     <use x=\"682.177734\" xlink:href=\"#DejaVuSans-31\"/>\r\n     <use x=\"745.800781\" xlink:href=\"#DejaVuSans-2c\"/>\r\n     <use x=\"777.587891\" xlink:href=\"#DejaVuSans-20\"/>\r\n     <use x=\"809.375\" xlink:href=\"#DejaVuSans-35\"/>\r\n     <use x=\"872.998047\" xlink:href=\"#DejaVuSans-39\"/>\r\n     <use x=\"936.621094\" xlink:href=\"#DejaVuSans-2e\"/>\r\n     <use x=\"968.408203\" xlink:href=\"#DejaVuSans-34\"/>\r\n     <use x=\"1032.03125\" xlink:href=\"#DejaVuSans-32\"/>\r\n     <use x=\"1095.654297\" xlink:href=\"#DejaVuSans-39\"/>\r\n     <use x=\"1159.277344\" xlink:href=\"#DejaVuSans-5d\"/>\r\n    </g>\r\n   </g>\r\n   <g id=\"patch_48\">\r\n    <path d=\"M 295.977304 109.415978 \r\nQ 284.955326 92.235915 273.32963 74.114829 \r\n\" style=\"fill:none;stroke:#000000;stroke-linecap:round;\"/>\r\n    <path d=\"M 295.915531 108.839615 \r\nL 295.977304 109.415978 \r\nL 295.47915 109.119578 \r\n\" style=\"fill:none;stroke:#000000;stroke-linecap:round;\"/>\r\n   </g>\r\n   <g id=\"text_24\">\r\n    <g id=\"patch_49\">\r\n     <path d=\"M 290.762812 119.260851 \r\nL 309.537188 119.260851 \r\nL 309.537188 112.5431 \r\nL 290.762812 112.5431 \r\nz\r\n\" style=\"fill:#e9f4fc;stroke:#000000;stroke-linejoin:miter;\"/>\r\n    </g>\r\n    <!-- elect_result_normal &lt;= 0.5 -->\r\n    <g transform=\"translate(291.281279 114.082501)scale(0.012962 -0.012962)\">\r\n     <use xlink:href=\"#DejaVuSans-65\"/>\r\n     <use x=\"61.523438\" xlink:href=\"#DejaVuSans-6c\"/>\r\n     <use x=\"89.306641\" xlink:href=\"#DejaVuSans-65\"/>\r\n     <use x=\"150.830078\" xlink:href=\"#DejaVuSans-63\"/>\r\n     <use x=\"205.810547\" xlink:href=\"#DejaVuSans-74\"/>\r\n     <use x=\"245.019531\" xlink:href=\"#DejaVuSans-5f\"/>\r\n     <use x=\"295.019531\" xlink:href=\"#DejaVuSans-72\"/>\r\n     <use x=\"333.882812\" xlink:href=\"#DejaVuSans-65\"/>\r\n     <use x=\"395.40625\" xlink:href=\"#DejaVuSans-73\"/>\r\n     <use x=\"447.505859\" xlink:href=\"#DejaVuSans-75\"/>\r\n     <use x=\"510.884766\" xlink:href=\"#DejaVuSans-6c\"/>\r\n     <use x=\"538.667969\" xlink:href=\"#DejaVuSans-74\"/>\r\n     <use x=\"577.876953\" xlink:href=\"#DejaVuSans-5f\"/>\r\n     <use x=\"627.876953\" xlink:href=\"#DejaVuSans-6e\"/>\r\n     <use x=\"691.255859\" xlink:href=\"#DejaVuSans-6f\"/>\r\n     <use x=\"752.4375\" xlink:href=\"#DejaVuSans-72\"/>\r\n     <use x=\"791.800781\" xlink:href=\"#DejaVuSans-6d\"/>\r\n     <use x=\"889.212891\" xlink:href=\"#DejaVuSans-61\"/>\r\n     <use x=\"950.492188\" xlink:href=\"#DejaVuSans-6c\"/>\r\n     <use x=\"978.275391\" xlink:href=\"#DejaVuSans-20\"/>\r\n     <use x=\"1010.0625\" xlink:href=\"#DejaVuSans-3c\"/>\r\n     <use x=\"1093.851562\" xlink:href=\"#DejaVuSans-3d\"/>\r\n     <use x=\"1177.640625\" xlink:href=\"#DejaVuSans-20\"/>\r\n     <use x=\"1209.427734\" xlink:href=\"#DejaVuSans-30\"/>\r\n     <use x=\"1273.050781\" xlink:href=\"#DejaVuSans-2e\"/>\r\n     <use x=\"1304.837891\" xlink:href=\"#DejaVuSans-35\"/>\r\n    </g>\r\n    <!-- gini = 0.498 -->\r\n    <g transform=\"translate(296.1574 115.569974)scale(0.012962 -0.012962)\">\r\n     <use xlink:href=\"#DejaVuSans-67\"/>\r\n     <use x=\"63.476562\" xlink:href=\"#DejaVuSans-69\"/>\r\n     <use x=\"91.259766\" xlink:href=\"#DejaVuSans-6e\"/>\r\n     <use x=\"154.638672\" xlink:href=\"#DejaVuSans-69\"/>\r\n     <use x=\"182.421875\" xlink:href=\"#DejaVuSans-20\"/>\r\n     <use x=\"214.208984\" xlink:href=\"#DejaVuSans-3d\"/>\r\n     <use x=\"297.998047\" xlink:href=\"#DejaVuSans-20\"/>\r\n     <use x=\"329.785156\" xlink:href=\"#DejaVuSans-30\"/>\r\n     <use x=\"393.408203\" xlink:href=\"#DejaVuSans-2e\"/>\r\n     <use x=\"425.195312\" xlink:href=\"#DejaVuSans-34\"/>\r\n     <use x=\"488.818359\" xlink:href=\"#DejaVuSans-39\"/>\r\n     <use x=\"552.441406\" xlink:href=\"#DejaVuSans-38\"/>\r\n    </g>\r\n    <!-- samples = 33 -->\r\n    <g transform=\"translate(295.6764 117.021398)scale(0.012962 -0.012962)\">\r\n     <use xlink:href=\"#DejaVuSans-73\"/>\r\n     <use x=\"52.099609\" xlink:href=\"#DejaVuSans-61\"/>\r\n     <use x=\"113.378906\" xlink:href=\"#DejaVuSans-6d\"/>\r\n     <use x=\"210.791016\" xlink:href=\"#DejaVuSans-70\"/>\r\n     <use x=\"274.267578\" xlink:href=\"#DejaVuSans-6c\"/>\r\n     <use x=\"302.050781\" xlink:href=\"#DejaVuSans-65\"/>\r\n     <use x=\"363.574219\" xlink:href=\"#DejaVuSans-73\"/>\r\n     <use x=\"415.673828\" xlink:href=\"#DejaVuSans-20\"/>\r\n     <use x=\"447.460938\" xlink:href=\"#DejaVuSans-3d\"/>\r\n     <use x=\"531.25\" xlink:href=\"#DejaVuSans-20\"/>\r\n     <use x=\"563.037109\" xlink:href=\"#DejaVuSans-33\"/>\r\n     <use x=\"626.660156\" xlink:href=\"#DejaVuSans-33\"/>\r\n    </g>\r\n    <!-- value = [15.448, 17.371] -->\r\n    <g transform=\"translate(291.971691 118.472822)scale(0.012962 -0.012962)\">\r\n     <use xlink:href=\"#DejaVuSans-76\"/>\r\n     <use x=\"59.179688\" xlink:href=\"#DejaVuSans-61\"/>\r\n     <use x=\"120.458984\" xlink:href=\"#DejaVuSans-6c\"/>\r\n     <use x=\"148.242188\" xlink:href=\"#DejaVuSans-75\"/>\r\n     <use x=\"211.621094\" xlink:href=\"#DejaVuSans-65\"/>\r\n     <use x=\"273.144531\" xlink:href=\"#DejaVuSans-20\"/>\r\n     <use x=\"304.931641\" xlink:href=\"#DejaVuSans-3d\"/>\r\n     <use x=\"388.720703\" xlink:href=\"#DejaVuSans-20\"/>\r\n     <use x=\"420.507812\" xlink:href=\"#DejaVuSans-5b\"/>\r\n     <use x=\"459.521484\" xlink:href=\"#DejaVuSans-31\"/>\r\n     <use x=\"523.144531\" xlink:href=\"#DejaVuSans-35\"/>\r\n     <use x=\"586.767578\" xlink:href=\"#DejaVuSans-2e\"/>\r\n     <use x=\"618.554688\" xlink:href=\"#DejaVuSans-34\"/>\r\n     <use x=\"682.177734\" xlink:href=\"#DejaVuSans-34\"/>\r\n     <use x=\"745.800781\" xlink:href=\"#DejaVuSans-38\"/>\r\n     <use x=\"809.423828\" xlink:href=\"#DejaVuSans-2c\"/>\r\n     <use x=\"841.210938\" xlink:href=\"#DejaVuSans-20\"/>\r\n     <use x=\"872.998047\" xlink:href=\"#DejaVuSans-31\"/>\r\n     <use x=\"936.621094\" xlink:href=\"#DejaVuSans-37\"/>\r\n     <use x=\"1000.244141\" xlink:href=\"#DejaVuSans-2e\"/>\r\n     <use x=\"1032.03125\" xlink:href=\"#DejaVuSans-33\"/>\r\n     <use x=\"1095.654297\" xlink:href=\"#DejaVuSans-37\"/>\r\n     <use x=\"1159.277344\" xlink:href=\"#DejaVuSans-31\"/>\r\n     <use x=\"1222.900391\" xlink:href=\"#DejaVuSans-5d\"/>\r\n    </g>\r\n   </g>\r\n   <g id=\"patch_50\">\r\n    <path d=\"M 128.348115 67.020095 \r\nQ 160.57881 48.751624 193.782162 29.931847 \r\n\" style=\"fill:none;stroke:#000000;stroke-linecap:round;\"/>\r\n    <path d=\"M 128.926995 66.989963 \r\nL 128.348115 67.020095 \r\nL 128.671337 66.538912 \r\n\" style=\"fill:none;stroke:#000000;stroke-linecap:round;\"/>\r\n   </g>\r\n   <g id=\"text_25\">\r\n    <g id=\"patch_51\">\r\n     <path d=\"M 110.92791 75.772851 \r\nL 126.67209 75.772851 \r\nL 126.67209 69.0551 \r\nL 110.92791 69.0551 \r\nz\r\n\" style=\"fill:#eca26c;stroke:#000000;stroke-linejoin:miter;\"/>\r\n    </g>\r\n    <!-- major_vessels &lt;= 0.5 -->\r\n    <g transform=\"translate(111.701763 70.594501)scale(0.012962 -0.012962)\">\r\n     <use xlink:href=\"#DejaVuSans-6d\"/>\r\n     <use x=\"97.412109\" xlink:href=\"#DejaVuSans-61\"/>\r\n     <use x=\"158.691406\" xlink:href=\"#DejaVuSans-6a\"/>\r\n     <use x=\"186.474609\" xlink:href=\"#DejaVuSans-6f\"/>\r\n     <use x=\"247.65625\" xlink:href=\"#DejaVuSans-72\"/>\r\n     <use x=\"288.769531\" xlink:href=\"#DejaVuSans-5f\"/>\r\n     <use x=\"338.769531\" xlink:href=\"#DejaVuSans-76\"/>\r\n     <use x=\"397.949219\" xlink:href=\"#DejaVuSans-65\"/>\r\n     <use x=\"459.472656\" xlink:href=\"#DejaVuSans-73\"/>\r\n     <use x=\"511.572266\" xlink:href=\"#DejaVuSans-73\"/>\r\n     <use x=\"563.671875\" xlink:href=\"#DejaVuSans-65\"/>\r\n     <use x=\"625.195312\" xlink:href=\"#DejaVuSans-6c\"/>\r\n     <use x=\"652.978516\" xlink:href=\"#DejaVuSans-73\"/>\r\n     <use x=\"705.078125\" xlink:href=\"#DejaVuSans-20\"/>\r\n     <use x=\"736.865234\" xlink:href=\"#DejaVuSans-3c\"/>\r\n     <use x=\"820.654297\" xlink:href=\"#DejaVuSans-3d\"/>\r\n     <use x=\"904.443359\" xlink:href=\"#DejaVuSans-20\"/>\r\n     <use x=\"936.230469\" xlink:href=\"#DejaVuSans-30\"/>\r\n     <use x=\"999.853516\" xlink:href=\"#DejaVuSans-2e\"/>\r\n     <use x=\"1031.640625\" xlink:href=\"#DejaVuSans-35\"/>\r\n    </g>\r\n    <!-- gini = 0.327 -->\r\n    <g transform=\"translate(114.8074 72.081974)scale(0.012962 -0.012962)\">\r\n     <use xlink:href=\"#DejaVuSans-67\"/>\r\n     <use x=\"63.476562\" xlink:href=\"#DejaVuSans-69\"/>\r\n     <use x=\"91.259766\" xlink:href=\"#DejaVuSans-6e\"/>\r\n     <use x=\"154.638672\" xlink:href=\"#DejaVuSans-69\"/>\r\n     <use x=\"182.421875\" xlink:href=\"#DejaVuSans-20\"/>\r\n     <use x=\"214.208984\" xlink:href=\"#DejaVuSans-3d\"/>\r\n     <use x=\"297.998047\" xlink:href=\"#DejaVuSans-20\"/>\r\n     <use x=\"329.785156\" xlink:href=\"#DejaVuSans-30\"/>\r\n     <use x=\"393.408203\" xlink:href=\"#DejaVuSans-2e\"/>\r\n     <use x=\"425.195312\" xlink:href=\"#DejaVuSans-33\"/>\r\n     <use x=\"488.818359\" xlink:href=\"#DejaVuSans-32\"/>\r\n     <use x=\"552.441406\" xlink:href=\"#DejaVuSans-37\"/>\r\n    </g>\r\n    <!-- samples = 88 -->\r\n    <g transform=\"translate(114.3264 73.533398)scale(0.012962 -0.012962)\">\r\n     <use xlink:href=\"#DejaVuSans-73\"/>\r\n     <use x=\"52.099609\" xlink:href=\"#DejaVuSans-61\"/>\r\n     <use x=\"113.378906\" xlink:href=\"#DejaVuSans-6d\"/>\r\n     <use x=\"210.791016\" xlink:href=\"#DejaVuSans-70\"/>\r\n     <use x=\"274.267578\" xlink:href=\"#DejaVuSans-6c\"/>\r\n     <use x=\"302.050781\" xlink:href=\"#DejaVuSans-65\"/>\r\n     <use x=\"363.574219\" xlink:href=\"#DejaVuSans-73\"/>\r\n     <use x=\"415.673828\" xlink:href=\"#DejaVuSans-20\"/>\r\n     <use x=\"447.460938\" xlink:href=\"#DejaVuSans-3d\"/>\r\n     <use x=\"531.25\" xlink:href=\"#DejaVuSans-20\"/>\r\n     <use x=\"563.037109\" xlink:href=\"#DejaVuSans-38\"/>\r\n     <use x=\"626.660156\" xlink:href=\"#DejaVuSans-38\"/>\r\n    </g>\r\n    <!-- value = [73.931, 19.2] -->\r\n    <g transform=\"translate(111.446377 74.984822)scale(0.012962 -0.012962)\">\r\n     <use xlink:href=\"#DejaVuSans-76\"/>\r\n     <use x=\"59.179688\" xlink:href=\"#DejaVuSans-61\"/>\r\n     <use x=\"120.458984\" xlink:href=\"#DejaVuSans-6c\"/>\r\n     <use x=\"148.242188\" xlink:href=\"#DejaVuSans-75\"/>\r\n     <use x=\"211.621094\" xlink:href=\"#DejaVuSans-65\"/>\r\n     <use x=\"273.144531\" xlink:href=\"#DejaVuSans-20\"/>\r\n     <use x=\"304.931641\" xlink:href=\"#DejaVuSans-3d\"/>\r\n     <use x=\"388.720703\" xlink:href=\"#DejaVuSans-20\"/>\r\n     <use x=\"420.507812\" xlink:href=\"#DejaVuSans-5b\"/>\r\n     <use x=\"459.521484\" xlink:href=\"#DejaVuSans-37\"/>\r\n     <use x=\"523.144531\" xlink:href=\"#DejaVuSans-33\"/>\r\n     <use x=\"586.767578\" xlink:href=\"#DejaVuSans-2e\"/>\r\n     <use x=\"618.554688\" xlink:href=\"#DejaVuSans-39\"/>\r\n     <use x=\"682.177734\" xlink:href=\"#DejaVuSans-33\"/>\r\n     <use x=\"745.800781\" xlink:href=\"#DejaVuSans-31\"/>\r\n     <use x=\"809.423828\" xlink:href=\"#DejaVuSans-2c\"/>\r\n     <use x=\"841.210938\" xlink:href=\"#DejaVuSans-20\"/>\r\n     <use x=\"872.998047\" xlink:href=\"#DejaVuSans-31\"/>\r\n     <use x=\"936.621094\" xlink:href=\"#DejaVuSans-39\"/>\r\n     <use x=\"1000.244141\" xlink:href=\"#DejaVuSans-2e\"/>\r\n     <use x=\"1032.03125\" xlink:href=\"#DejaVuSans-32\"/>\r\n     <use x=\"1095.654297\" xlink:href=\"#DejaVuSans-5d\"/>\r\n    </g>\r\n   </g>\r\n   <g id=\"patch_52\">\r\n    <path d=\"M 262.701885 67.020095 \r\nQ 230.47119 48.751624 197.267838 29.931847 \r\n\" style=\"fill:none;stroke:#000000;stroke-linecap:round;\"/>\r\n    <path d=\"M 262.378663 66.538912 \r\nL 262.701885 67.020095 \r\nL 262.123005 66.989963 \r\n\" style=\"fill:none;stroke:#000000;stroke-linecap:round;\"/>\r\n   </g>\r\n   <g id=\"text_26\">\r\n    <g id=\"patch_53\">\r\n     <path d=\"M 264.37791 75.772851 \r\nL 280.12209 75.772851 \r\nL 280.12209 69.0551 \r\nL 264.37791 69.0551 \r\nz\r\n\" style=\"fill:#72b9ec;stroke:#000000;stroke-linejoin:miter;\"/>\r\n    </g>\r\n    <!-- major_vessels &lt;= 0.5 -->\r\n    <g transform=\"translate(265.151763 70.594501)scale(0.012962 -0.012962)\">\r\n     <use xlink:href=\"#DejaVuSans-6d\"/>\r\n     <use x=\"97.412109\" xlink:href=\"#DejaVuSans-61\"/>\r\n     <use x=\"158.691406\" xlink:href=\"#DejaVuSans-6a\"/>\r\n     <use x=\"186.474609\" xlink:href=\"#DejaVuSans-6f\"/>\r\n     <use x=\"247.65625\" xlink:href=\"#DejaVuSans-72\"/>\r\n     <use x=\"288.769531\" xlink:href=\"#DejaVuSans-5f\"/>\r\n     <use x=\"338.769531\" xlink:href=\"#DejaVuSans-76\"/>\r\n     <use x=\"397.949219\" xlink:href=\"#DejaVuSans-65\"/>\r\n     <use x=\"459.472656\" xlink:href=\"#DejaVuSans-73\"/>\r\n     <use x=\"511.572266\" xlink:href=\"#DejaVuSans-73\"/>\r\n     <use x=\"563.671875\" xlink:href=\"#DejaVuSans-65\"/>\r\n     <use x=\"625.195312\" xlink:href=\"#DejaVuSans-6c\"/>\r\n     <use x=\"652.978516\" xlink:href=\"#DejaVuSans-73\"/>\r\n     <use x=\"705.078125\" xlink:href=\"#DejaVuSans-20\"/>\r\n     <use x=\"736.865234\" xlink:href=\"#DejaVuSans-3c\"/>\r\n     <use x=\"820.654297\" xlink:href=\"#DejaVuSans-3d\"/>\r\n     <use x=\"904.443359\" xlink:href=\"#DejaVuSans-20\"/>\r\n     <use x=\"936.230469\" xlink:href=\"#DejaVuSans-30\"/>\r\n     <use x=\"999.853516\" xlink:href=\"#DejaVuSans-2e\"/>\r\n     <use x=\"1031.640625\" xlink:href=\"#DejaVuSans-35\"/>\r\n    </g>\r\n    <!-- gini = 0.347 -->\r\n    <g transform=\"translate(268.2574 72.081974)scale(0.012962 -0.012962)\">\r\n     <use xlink:href=\"#DejaVuSans-67\"/>\r\n     <use x=\"63.476562\" xlink:href=\"#DejaVuSans-69\"/>\r\n     <use x=\"91.259766\" xlink:href=\"#DejaVuSans-6e\"/>\r\n     <use x=\"154.638672\" xlink:href=\"#DejaVuSans-69\"/>\r\n     <use x=\"182.421875\" xlink:href=\"#DejaVuSans-20\"/>\r\n     <use x=\"214.208984\" xlink:href=\"#DejaVuSans-3d\"/>\r\n     <use x=\"297.998047\" xlink:href=\"#DejaVuSans-20\"/>\r\n     <use x=\"329.785156\" xlink:href=\"#DejaVuSans-30\"/>\r\n     <use x=\"393.408203\" xlink:href=\"#DejaVuSans-2e\"/>\r\n     <use x=\"425.195312\" xlink:href=\"#DejaVuSans-33\"/>\r\n     <use x=\"488.818359\" xlink:href=\"#DejaVuSans-34\"/>\r\n     <use x=\"552.441406\" xlink:href=\"#DejaVuSans-37\"/>\r\n    </g>\r\n    <!-- samples = 104 -->\r\n    <g transform=\"translate(267.364057 73.533398)scale(0.012962 -0.012962)\">\r\n     <use xlink:href=\"#DejaVuSans-73\"/>\r\n     <use x=\"52.099609\" xlink:href=\"#DejaVuSans-61\"/>\r\n     <use x=\"113.378906\" xlink:href=\"#DejaVuSans-6d\"/>\r\n     <use x=\"210.791016\" xlink:href=\"#DejaVuSans-70\"/>\r\n     <use x=\"274.267578\" xlink:href=\"#DejaVuSans-6c\"/>\r\n     <use x=\"302.050781\" xlink:href=\"#DejaVuSans-65\"/>\r\n     <use x=\"363.574219\" xlink:href=\"#DejaVuSans-73\"/>\r\n     <use x=\"415.673828\" xlink:href=\"#DejaVuSans-20\"/>\r\n     <use x=\"447.460938\" xlink:href=\"#DejaVuSans-3d\"/>\r\n     <use x=\"531.25\" xlink:href=\"#DejaVuSans-20\"/>\r\n     <use x=\"563.037109\" xlink:href=\"#DejaVuSans-31\"/>\r\n     <use x=\"626.660156\" xlink:href=\"#DejaVuSans-30\"/>\r\n     <use x=\"690.283203\" xlink:href=\"#DejaVuSans-34\"/>\r\n    </g>\r\n    <!-- value = [22.069, 76.8] -->\r\n    <g transform=\"translate(264.896377 74.984822)scale(0.012962 -0.012962)\">\r\n     <use xlink:href=\"#DejaVuSans-76\"/>\r\n     <use x=\"59.179688\" xlink:href=\"#DejaVuSans-61\"/>\r\n     <use x=\"120.458984\" xlink:href=\"#DejaVuSans-6c\"/>\r\n     <use x=\"148.242188\" xlink:href=\"#DejaVuSans-75\"/>\r\n     <use x=\"211.621094\" xlink:href=\"#DejaVuSans-65\"/>\r\n     <use x=\"273.144531\" xlink:href=\"#DejaVuSans-20\"/>\r\n     <use x=\"304.931641\" xlink:href=\"#DejaVuSans-3d\"/>\r\n     <use x=\"388.720703\" xlink:href=\"#DejaVuSans-20\"/>\r\n     <use x=\"420.507812\" xlink:href=\"#DejaVuSans-5b\"/>\r\n     <use x=\"459.521484\" xlink:href=\"#DejaVuSans-32\"/>\r\n     <use x=\"523.144531\" xlink:href=\"#DejaVuSans-32\"/>\r\n     <use x=\"586.767578\" xlink:href=\"#DejaVuSans-2e\"/>\r\n     <use x=\"618.554688\" xlink:href=\"#DejaVuSans-30\"/>\r\n     <use x=\"682.177734\" xlink:href=\"#DejaVuSans-36\"/>\r\n     <use x=\"745.800781\" xlink:href=\"#DejaVuSans-39\"/>\r\n     <use x=\"809.423828\" xlink:href=\"#DejaVuSans-2c\"/>\r\n     <use x=\"841.210938\" xlink:href=\"#DejaVuSans-20\"/>\r\n     <use x=\"872.998047\" xlink:href=\"#DejaVuSans-37\"/>\r\n     <use x=\"936.621094\" xlink:href=\"#DejaVuSans-36\"/>\r\n     <use x=\"1000.244141\" xlink:href=\"#DejaVuSans-2e\"/>\r\n     <use x=\"1032.03125\" xlink:href=\"#DejaVuSans-38\"/>\r\n     <use x=\"1095.654297\" xlink:href=\"#DejaVuSans-5d\"/>\r\n    </g>\r\n   </g>\r\n   <g id=\"patch_54\">\r\n    <path d=\"M 195.525 28.944 \r\nQ 195.525 28.944 195.525 28.944 \r\n\" style=\"fill:none;stroke:#000000;stroke-linecap:round;\"/>\r\n   </g>\r\n   <g id=\"text_27\">\r\n    <g id=\"patch_55\">\r\n     <path d=\"M 184.278825 32.284851 \r\nL 206.771175 32.284851 \r\nL 206.771175 25.5671 \r\nL 184.278825 25.5671 \r\nz\r\n\" style=\"fill:#ffffff;stroke:#000000;stroke-linejoin:miter;\"/>\r\n    </g>\r\n    <!-- thalassemia_fixed_defect &lt;= 0.5 -->\r\n    <g transform=\"translate(184.797292 27.106501)scale(0.012962 -0.012962)\">\r\n     <defs>\r\n      <path d=\"M 2375 4863 \r\nL 2375 4384 \r\nL 1825 4384 \r\nQ 1516 4384 1395 4259 \r\nQ 1275 4134 1275 3809 \r\nL 1275 3500 \r\nL 2222 3500 \r\nL 2222 3053 \r\nL 1275 3053 \r\nL 1275 0 \r\nL 697 0 \r\nL 697 3053 \r\nL 147 3053 \r\nL 147 3500 \r\nL 697 3500 \r\nL 697 3744 \r\nQ 697 4328 969 4595 \r\nQ 1241 4863 1831 4863 \r\nL 2375 4863 \r\nz\r\n\" id=\"DejaVuSans-66\" transform=\"scale(0.015625)\"/>\r\n     </defs>\r\n     <use xlink:href=\"#DejaVuSans-74\"/>\r\n     <use x=\"39.208984\" xlink:href=\"#DejaVuSans-68\"/>\r\n     <use x=\"102.587891\" xlink:href=\"#DejaVuSans-61\"/>\r\n     <use x=\"163.867188\" xlink:href=\"#DejaVuSans-6c\"/>\r\n     <use x=\"191.650391\" xlink:href=\"#DejaVuSans-61\"/>\r\n     <use x=\"252.929688\" xlink:href=\"#DejaVuSans-73\"/>\r\n     <use x=\"305.029297\" xlink:href=\"#DejaVuSans-73\"/>\r\n     <use x=\"357.128906\" xlink:href=\"#DejaVuSans-65\"/>\r\n     <use x=\"418.652344\" xlink:href=\"#DejaVuSans-6d\"/>\r\n     <use x=\"516.064453\" xlink:href=\"#DejaVuSans-69\"/>\r\n     <use x=\"543.847656\" xlink:href=\"#DejaVuSans-61\"/>\r\n     <use x=\"605.126953\" xlink:href=\"#DejaVuSans-5f\"/>\r\n     <use x=\"655.126953\" xlink:href=\"#DejaVuSans-66\"/>\r\n     <use x=\"690.332031\" xlink:href=\"#DejaVuSans-69\"/>\r\n     <use x=\"718.115234\" xlink:href=\"#DejaVuSans-78\"/>\r\n     <use x=\"774.169922\" xlink:href=\"#DejaVuSans-65\"/>\r\n     <use x=\"835.693359\" xlink:href=\"#DejaVuSans-64\"/>\r\n     <use x=\"899.169922\" xlink:href=\"#DejaVuSans-5f\"/>\r\n     <use x=\"949.169922\" xlink:href=\"#DejaVuSans-64\"/>\r\n     <use x=\"1012.646484\" xlink:href=\"#DejaVuSans-65\"/>\r\n     <use x=\"1074.169922\" xlink:href=\"#DejaVuSans-66\"/>\r\n     <use x=\"1109.375\" xlink:href=\"#DejaVuSans-65\"/>\r\n     <use x=\"1170.898438\" xlink:href=\"#DejaVuSans-63\"/>\r\n     <use x=\"1225.878906\" xlink:href=\"#DejaVuSans-74\"/>\r\n     <use x=\"1265.087891\" xlink:href=\"#DejaVuSans-20\"/>\r\n     <use x=\"1296.875\" xlink:href=\"#DejaVuSans-3c\"/>\r\n     <use x=\"1380.664062\" xlink:href=\"#DejaVuSans-3d\"/>\r\n     <use x=\"1464.453125\" xlink:href=\"#DejaVuSans-20\"/>\r\n     <use x=\"1496.240234\" xlink:href=\"#DejaVuSans-30\"/>\r\n     <use x=\"1559.863281\" xlink:href=\"#DejaVuSans-2e\"/>\r\n     <use x=\"1591.650391\" xlink:href=\"#DejaVuSans-35\"/>\r\n    </g>\r\n    <!-- gini = 0.5 -->\r\n    <g transform=\"translate(192.357086 28.593974)scale(0.012962 -0.012962)\">\r\n     <use xlink:href=\"#DejaVuSans-67\"/>\r\n     <use x=\"63.476562\" xlink:href=\"#DejaVuSans-69\"/>\r\n     <use x=\"91.259766\" xlink:href=\"#DejaVuSans-6e\"/>\r\n     <use x=\"154.638672\" xlink:href=\"#DejaVuSans-69\"/>\r\n     <use x=\"182.421875\" xlink:href=\"#DejaVuSans-20\"/>\r\n     <use x=\"214.208984\" xlink:href=\"#DejaVuSans-3d\"/>\r\n     <use x=\"297.998047\" xlink:href=\"#DejaVuSans-20\"/>\r\n     <use x=\"329.785156\" xlink:href=\"#DejaVuSans-30\"/>\r\n     <use x=\"393.408203\" xlink:href=\"#DejaVuSans-2e\"/>\r\n     <use x=\"425.195312\" xlink:href=\"#DejaVuSans-35\"/>\r\n    </g>\r\n    <!-- samples = 192 -->\r\n    <g transform=\"translate(190.639057 30.045398)scale(0.012962 -0.012962)\">\r\n     <use xlink:href=\"#DejaVuSans-73\"/>\r\n     <use x=\"52.099609\" xlink:href=\"#DejaVuSans-61\"/>\r\n     <use x=\"113.378906\" xlink:href=\"#DejaVuSans-6d\"/>\r\n     <use x=\"210.791016\" xlink:href=\"#DejaVuSans-70\"/>\r\n     <use x=\"274.267578\" xlink:href=\"#DejaVuSans-6c\"/>\r\n     <use x=\"302.050781\" xlink:href=\"#DejaVuSans-65\"/>\r\n     <use x=\"363.574219\" xlink:href=\"#DejaVuSans-73\"/>\r\n     <use x=\"415.673828\" xlink:href=\"#DejaVuSans-20\"/>\r\n     <use x=\"447.460938\" xlink:href=\"#DejaVuSans-3d\"/>\r\n     <use x=\"531.25\" xlink:href=\"#DejaVuSans-20\"/>\r\n     <use x=\"563.037109\" xlink:href=\"#DejaVuSans-31\"/>\r\n     <use x=\"626.660156\" xlink:href=\"#DejaVuSans-39\"/>\r\n     <use x=\"690.283203\" xlink:href=\"#DejaVuSans-32\"/>\r\n    </g>\r\n    <!-- value = [96.0, 96.0] -->\r\n    <g transform=\"translate(188.996064 31.496822)scale(0.012962 -0.012962)\">\r\n     <use xlink:href=\"#DejaVuSans-76\"/>\r\n     <use x=\"59.179688\" xlink:href=\"#DejaVuSans-61\"/>\r\n     <use x=\"120.458984\" xlink:href=\"#DejaVuSans-6c\"/>\r\n     <use x=\"148.242188\" xlink:href=\"#DejaVuSans-75\"/>\r\n     <use x=\"211.621094\" xlink:href=\"#DejaVuSans-65\"/>\r\n     <use x=\"273.144531\" xlink:href=\"#DejaVuSans-20\"/>\r\n     <use x=\"304.931641\" xlink:href=\"#DejaVuSans-3d\"/>\r\n     <use x=\"388.720703\" xlink:href=\"#DejaVuSans-20\"/>\r\n     <use x=\"420.507812\" xlink:href=\"#DejaVuSans-5b\"/>\r\n     <use x=\"459.521484\" xlink:href=\"#DejaVuSans-39\"/>\r\n     <use x=\"523.144531\" xlink:href=\"#DejaVuSans-36\"/>\r\n     <use x=\"586.767578\" xlink:href=\"#DejaVuSans-2e\"/>\r\n     <use x=\"618.554688\" xlink:href=\"#DejaVuSans-30\"/>\r\n     <use x=\"682.177734\" xlink:href=\"#DejaVuSans-2c\"/>\r\n     <use x=\"713.964844\" xlink:href=\"#DejaVuSans-20\"/>\r\n     <use x=\"745.751953\" xlink:href=\"#DejaVuSans-39\"/>\r\n     <use x=\"809.375\" xlink:href=\"#DejaVuSans-36\"/>\r\n     <use x=\"872.998047\" xlink:href=\"#DejaVuSans-2e\"/>\r\n     <use x=\"904.785156\" xlink:href=\"#DejaVuSans-30\"/>\r\n     <use x=\"968.408203\" xlink:href=\"#DejaVuSans-5d\"/>\r\n    </g>\r\n   </g>\r\n  </g>\r\n </g>\r\n</svg>\r\n",
      "image/png": "[encoded data removed]"
     },
     "metadata": {
      "needs_background": "light"
     }
    }
   ],
   "source": [
    "fig = tree.plot_tree(tre, feature_names=X_train.drop(dropped_cols, axis=1).columns, filled=True)"
   ]
  },
  {
   "cell_type": "code",
   "execution_count": 60,
   "metadata": {},
   "outputs": [
    {
     "output_type": "stream",
     "name": "stdout",
     "text": [
      "Training Accuracy: 0.8802083333333333\nTraining recall: 0.9230769230769231\nValidation Accuracy: 0.8333333333333334\nValidation recall: 0.9\n"
     ]
    }
   ],
   "source": [
    "rfc = RandomForestClassifier(n_estimators=100, warm_start=True, max_depth=3, min_samples_leaf=3, max_features=4)\n",
    "val_rfc = cross_validate(rfc, X_train.drop(dropped_cols,axis=1), y_train, scoring=[\"accuracy\", \"recall\"], cv=5, return_train_score=True)\n",
    "\n",
    "print(\"Training Accuracy:\", np.mean(val_rfc[\"train_accuracy\"]))\n",
    "print(\"Training recall:\", np.mean(val_rfc[\"train_recall\"]))\n",
    "print(\"Validation Accuracy:\", np.mean(val_rfc[\"test_accuracy\"]))\n",
    "print(\"Validation recall:\", np.mean(val_rfc[\"test_recall\"]))\n"
   ]
  },
  {
   "cell_type": "code",
   "execution_count": 65,
   "metadata": {},
   "outputs": [
    {
     "output_type": "stream",
     "name": "stdout",
     "text": [
      "Training Accuracy: 0.990625\nTraining recall: 1.0\nValidation Accuracy: 0.825\nValidation recall: 0.8615384615384617\n"
     ]
    }
   ],
   "source": [
    "bag = BaggingClassifier(n_estimators=1000, bootstrap_features=True, n_jobs=4)\n",
    "val_bag = cross_validate(bag, X_train.drop(dropped_cols,axis=1), y_train, scoring=[\"accuracy\", \"recall\"], cv=5, return_train_score=True)\n",
    "\n",
    "print(\"Training Accuracy:\", np.mean(val_bag[\"train_accuracy\"]))\n",
    "print(\"Training recall:\", np.mean(val_bag[\"train_recall\"]))\n",
    "print(\"Validation Accuracy:\", np.mean(val_bag[\"test_accuracy\"]))\n",
    "print(\"Validation recall:\", np.mean(val_bag[\"test_recall\"]))"
   ]
  },
  {
   "cell_type": "code",
   "execution_count": 74,
   "metadata": {},
   "outputs": [
    {
     "output_type": "stream",
     "name": "stdout",
     "text": [
      "Training Accuracy: 0.865625\nTraining recall: 0.9096153846153847\nValidation Accuracy: 0.8083333333333333\nValidation recall: 0.8692307692307694\n"
     ]
    }
   ],
   "source": [
    "from sklearn.ensemble import ExtraTreesClassifier\n",
    "etc = ExtraTreesClassifier(n_estimators=1000, max_depth=3,\n",
    "     random_state=42, criterion='gini', min_samples_split=2, min_samples_leaf=1, max_features='auto', bootstrap=True,  n_jobs=6, warm_start=True)\n",
    "val_etc = cross_validate(etc, X_train.drop(dropped_cols,axis=1), y_train, scoring=[\"accuracy\", \"recall\"], cv=5, return_train_score=True)\n",
    "\n",
    "print(\"Training Accuracy:\", np.mean(val_etc[\"train_accuracy\"]))\n",
    "print(\"Training recall:\", np.mean(val_etc[\"train_recall\"]))\n",
    "print(\"Validation Accuracy:\", np.mean(val_etc[\"test_accuracy\"]))\n",
    "print(\"Validation recall:\", np.mean(val_etc[\"test_recall\"]))"
   ]
  },
  {
   "cell_type": "code",
   "execution_count": 93,
   "metadata": {},
   "outputs": [
    {
     "output_type": "stream",
     "name": "stderr",
     "text": [
      "C:\\Users\\HusseinRizkana\\anaconda3\\lib\\site-packages\\sklearn\\linear_model\\_logistic.py:765: ConvergenceWarning:\n\nlbfgs failed to converge (status=1):\nSTOP: TOTAL NO. of ITERATIONS REACHED LIMIT.\n\nIncrease the number of iterations (max_iter) or scale the data as shown in:\n    https://scikit-learn.org/stable/modules/preprocessing.html\nPlease also refer to the documentation for alternative solver options:\n    https://scikit-learn.org/stable/modules/linear_model.html#logistic-regression\n\n"
     ]
    },
    {
     "output_type": "display_data",
     "data": {
      "application/vnd.plotly.v1+json": {
       "config": {
        "plotlyServerURL": "https://plot.ly"
       },
       "data": [
        {
         "name": "LogReg ROC AUC=0.91",
         "type": "scatter",
         "x": [
          0,
          0,
          0,
          0.00909090909090909,
          0.00909090909090909,
          0.00909090909090909,
          0.00909090909090909,
          0.01818181818181818,
          0.01818181818181818,
          0.02727272727272727,
          0.02727272727272727,
          0.03636363636363636,
          0.03636363636363636,
          0.045454545454545456,
          0.045454545454545456,
          0.06363636363636363,
          0.06363636363636363,
          0.07272727272727272,
          0.07272727272727272,
          0.09090909090909091,
          0.09090909090909091,
          0.10909090909090909,
          0.10909090909090909,
          0.11818181818181818,
          0.11818181818181818,
          0.13636363636363635,
          0.13636363636363635,
          0.15454545454545454,
          0.15454545454545454,
          0.16363636363636364,
          0.16363636363636364,
          0.17272727272727273,
          0.17272727272727273,
          0.18181818181818182,
          0.18181818181818182,
          0.21818181818181817,
          0.21818181818181817,
          0.24545454545454545,
          0.24545454545454545,
          0.2545454545454545,
          0.2545454545454545,
          0.2818181818181818,
          0.2818181818181818,
          0.3090909090909091,
          0.3090909090909091,
          0.37272727272727274,
          0.37272727272727274,
          0.39090909090909093,
          0.39090909090909093,
          0.45454545454545453,
          0.45454545454545453,
          0.5363636363636364,
          0.5363636363636364,
          0.5454545454545454,
          0.5454545454545454,
          0.6818181818181818,
          0.6818181818181818,
          0.7545454545454545,
          0.7545454545454545,
          1
         ],
         "y": [
          0,
          0.007692307692307693,
          0.038461538461538464,
          0.046153846153846156,
          0.12307692307692308,
          0.13846153846153847,
          0.35384615384615387,
          0.35384615384615387,
          0.4307692307692308,
          0.4307692307692308,
          0.5538461538461539,
          0.5538461538461539,
          0.6307692307692307,
          0.6307692307692307,
          0.6384615384615384,
          0.6384615384615384,
          0.6538461538461539,
          0.6538461538461539,
          0.6923076923076923,
          0.6923076923076923,
          0.7307692307692307,
          0.7307692307692307,
          0.7461538461538462,
          0.7461538461538462,
          0.7615384615384615,
          0.7615384615384615,
          0.7846153846153846,
          0.7846153846153846,
          0.8307692307692308,
          0.8307692307692308,
          0.8615384615384616,
          0.8615384615384616,
          0.8692307692307693,
          0.8692307692307693,
          0.8769230769230769,
          0.8769230769230769,
          0.8923076923076924,
          0.8923076923076924,
          0.9076923076923077,
          0.9076923076923077,
          0.9230769230769231,
          0.9230769230769231,
          0.9307692307692308,
          0.9307692307692308,
          0.9384615384615385,
          0.9384615384615385,
          0.9461538461538461,
          0.9461538461538461,
          0.9538461538461539,
          0.9538461538461539,
          0.9615384615384616,
          0.9615384615384616,
          0.9769230769230769,
          0.9769230769230769,
          0.9846153846153847,
          0.9846153846153847,
          0.9923076923076923,
          0.9923076923076923,
          1,
          1
         ]
        },
        {
         "name": "KNN ROC AUC=0.77",
         "type": "scatter",
         "x": [
          0,
          0.08181818181818182,
          0.22727272727272727,
          0.39090909090909093,
          0.5909090909090909,
          0.8545454545454545,
          1
         ],
         "y": [
          0,
          0.3230769230769231,
          0.5615384615384615,
          0.823076923076923,
          0.9538461538461539,
          0.9769230769230769,
          1
         ]
        },
        {
         "name": "DecisionTree ROC AUC=0.81",
         "type": "scatter",
         "x": [
          0,
          0.12727272727272726,
          0.12727272727272726,
          0.12727272727272726,
          0.13636363636363635,
          0.13636363636363635,
          0.14545454545454545,
          0.14545454545454545,
          0.14545454545454545,
          0.14545454545454545,
          0.15454545454545454,
          0.15454545454545454,
          0.15454545454545454,
          0.17272727272727273,
          0.18181818181818182,
          0.18181818181818182,
          0.20909090909090908,
          0.20909090909090908,
          0.24545454545454545,
          0.2545454545454545,
          0.2818181818181818,
          0.2909090909090909,
          0.33636363636363636,
          0.34545454545454546,
          0.38181818181818183,
          0.4090909090909091,
          0.44545454545454544,
          0.44545454545454544,
          0.45454545454545453,
          0.4636363636363636,
          0.4727272727272727,
          0.4727272727272727,
          1
         ],
         "y": [
          0,
          0.36923076923076925,
          0.4230769230769231,
          0.46923076923076923,
          0.5230769230769231,
          0.5846153846153846,
          0.6230769230769231,
          0.6307692307692307,
          0.676923076923077,
          0.6923076923076923,
          0.7153846153846154,
          0.7230769230769231,
          0.7384615384615385,
          0.7615384615384615,
          0.7692307692307693,
          0.7769230769230769,
          0.8,
          0.8076923076923077,
          0.8307692307692308,
          0.8307692307692308,
          0.8307692307692308,
          0.8307692307692308,
          0.8384615384615385,
          0.8461538461538461,
          0.8692307692307693,
          0.8769230769230769,
          0.8769230769230769,
          0.8846153846153846,
          0.8846153846153846,
          0.8923076923076924,
          0.8923076923076924,
          0.9076923076923077,
          1
         ]
        },
        {
         "name": "SVC ROC AUC=0.76",
         "type": "scatter",
         "x": [
          0,
          0,
          0,
          0.00909090909090909,
          0.00909090909090909,
          0.01818181818181818,
          0.01818181818181818,
          0.02727272727272727,
          0.02727272727272727,
          0.03636363636363636,
          0.03636363636363636,
          0.05454545454545454,
          0.05454545454545454,
          0.06363636363636363,
          0.06363636363636363,
          0.07272727272727272,
          0.07272727272727272,
          0.08181818181818182,
          0.08181818181818182,
          0.08181818181818182,
          0.09090909090909091,
          0.09090909090909091,
          0.1,
          0.1,
          0.10909090909090909,
          0.10909090909090909,
          0.11818181818181818,
          0.11818181818181818,
          0.13636363636363635,
          0.13636363636363635,
          0.14545454545454545,
          0.14545454545454545,
          0.18181818181818182,
          0.18181818181818182,
          0.21818181818181817,
          0.21818181818181817,
          0.22727272727272727,
          0.22727272727272727,
          0.24545454545454545,
          0.24545454545454545,
          0.2545454545454545,
          0.2545454545454545,
          0.2727272727272727,
          0.2727272727272727,
          0.2909090909090909,
          0.2909090909090909,
          0.3181818181818182,
          0.3181818181818182,
          0.32727272727272727,
          0.32727272727272727,
          0.33636363636363636,
          0.33636363636363636,
          0.34545454545454546,
          0.37272727272727274,
          0.4,
          0.4,
          0.42727272727272725,
          0.42727272727272725,
          0.45454545454545453,
          0.45454545454545453,
          0.4818181818181818,
          0.4818181818181818,
          0.4909090909090909,
          0.4909090909090909,
          0.5,
          0.5,
          0.509090909090909,
          0.509090909090909,
          0.5181818181818182,
          0.5181818181818182,
          0.5454545454545454,
          0.5454545454545454,
          0.5909090909090909,
          0.5909090909090909,
          0.6,
          0.6,
          0.6272727272727273,
          0.6272727272727273,
          0.6909090909090909,
          0.6909090909090909,
          0.7,
          0.7,
          0.7545454545454545,
          0.7545454545454545,
          0.8,
          0.8,
          0.8727272727272727,
          0.8727272727272727,
          0.8909090909090909,
          0.8909090909090909,
          0.9181818181818182,
          0.9181818181818182,
          0.9636363636363636,
          0.9636363636363636,
          1,
          1
         ],
         "y": [
          0,
          0.007692307692307693,
          0.046153846153846156,
          0.046153846153846156,
          0.07692307692307693,
          0.07692307692307693,
          0.11538461538461539,
          0.11538461538461539,
          0.14615384615384616,
          0.14615384615384616,
          0.2923076923076923,
          0.2923076923076923,
          0.3230769230769231,
          0.3230769230769231,
          0.33076923076923076,
          0.33076923076923076,
          0.34615384615384615,
          0.34615384615384615,
          0.36153846153846153,
          0.3769230769230769,
          0.3769230769230769,
          0.4076923076923077,
          0.4076923076923077,
          0.4230769230769231,
          0.4230769230769231,
          0.4461538461538462,
          0.4461538461538462,
          0.46153846153846156,
          0.46153846153846156,
          0.5076923076923077,
          0.5076923076923077,
          0.5230769230769231,
          0.5230769230769231,
          0.5538461538461539,
          0.5538461538461539,
          0.5923076923076923,
          0.6,
          0.6230769230769231,
          0.6230769230769231,
          0.6307692307692307,
          0.6307692307692307,
          0.6384615384615384,
          0.6384615384615384,
          0.7076923076923077,
          0.7076923076923077,
          0.7153846153846154,
          0.7153846153846154,
          0.7230769230769231,
          0.7230769230769231,
          0.7461538461538462,
          0.7461538461538462,
          0.7538461538461538,
          0.7538461538461538,
          0.7769230769230769,
          0.7769230769230769,
          0.7846153846153846,
          0.7846153846153846,
          0.8,
          0.8,
          0.8076923076923077,
          0.8076923076923077,
          0.8153846153846154,
          0.8153846153846154,
          0.823076923076923,
          0.823076923076923,
          0.8307692307692308,
          0.8307692307692308,
          0.8384615384615385,
          0.8384615384615385,
          0.8615384615384616,
          0.8615384615384616,
          0.8692307692307693,
          0.8692307692307693,
          0.8769230769230769,
          0.8769230769230769,
          0.9,
          0.9,
          0.9076923076923077,
          0.9076923076923077,
          0.9153846153846154,
          0.9153846153846154,
          0.9307692307692308,
          0.9307692307692308,
          0.9461538461538461,
          0.9461538461538461,
          0.9538461538461539,
          0.9538461538461539,
          0.9615384615384616,
          0.9615384615384616,
          0.9769230769230769,
          0.9769230769230769,
          0.9846153846153847,
          0.9846153846153847,
          0.9923076923076923,
          0.9923076923076923,
          1
         ]
        },
        {
         "name": "RFC ROC AUC=0.90",
         "type": "scatter",
         "x": [
          0,
          0,
          0,
          0,
          0.00909090909090909,
          0.00909090909090909,
          0.00909090909090909,
          0.00909090909090909,
          0.00909090909090909,
          0.00909090909090909,
          0.00909090909090909,
          0.01818181818181818,
          0.01818181818181818,
          0.01818181818181818,
          0.01818181818181818,
          0.02727272727272727,
          0.02727272727272727,
          0.03636363636363636,
          0.03636363636363636,
          0.045454545454545456,
          0.045454545454545456,
          0.045454545454545456,
          0.05454545454545454,
          0.05454545454545454,
          0.06363636363636363,
          0.06363636363636363,
          0.07272727272727272,
          0.07272727272727272,
          0.08181818181818182,
          0.08181818181818182,
          0.1,
          0.1,
          0.10909090909090909,
          0.10909090909090909,
          0.11818181818181818,
          0.11818181818181818,
          0.12727272727272726,
          0.12727272727272726,
          0.13636363636363635,
          0.13636363636363635,
          0.14545454545454545,
          0.14545454545454545,
          0.16363636363636364,
          0.16363636363636364,
          0.18181818181818182,
          0.18181818181818182,
          0.19090909090909092,
          0.19090909090909092,
          0.2,
          0.2,
          0.20909090909090908,
          0.20909090909090908,
          0.21818181818181817,
          0.21818181818181817,
          0.22727272727272727,
          0.22727272727272727,
          0.23636363636363636,
          0.23636363636363636,
          0.24545454545454545,
          0.24545454545454545,
          0.3090909090909091,
          0.3090909090909091,
          0.34545454545454546,
          0.34545454545454546,
          0.36363636363636365,
          0.36363636363636365,
          0.43636363636363634,
          0.43636363636363634,
          0.44545454545454544,
          0.44545454545454544,
          0.4818181818181818,
          0.4818181818181818,
          0.509090909090909,
          0.509090909090909,
          0.5454545454545454,
          0.5454545454545454,
          0.7363636363636363,
          0.7545454545454545,
          0.7909090909090909,
          0.8090909090909091,
          0.9636363636363636,
          1
         ],
         "y": [
          0,
          0.007692307692307693,
          0.015384615384615385,
          0.03076923076923077,
          0.038461538461538464,
          0.05384615384615385,
          0.1076923076923077,
          0.13846153846153847,
          0.16923076923076924,
          0.18461538461538463,
          0.2,
          0.2076923076923077,
          0.36153846153846153,
          0.3769230769230769,
          0.3923076923076923,
          0.3923076923076923,
          0.4,
          0.4,
          0.47692307692307695,
          0.47692307692307695,
          0.49230769230769234,
          0.5307692307692308,
          0.5307692307692308,
          0.5692307692307692,
          0.5692307692307692,
          0.6538461538461539,
          0.6538461538461539,
          0.6846153846153846,
          0.6846153846153846,
          0.7076923076923077,
          0.7076923076923077,
          0.7230769230769231,
          0.7230769230769231,
          0.7307692307692307,
          0.7307692307692307,
          0.7384615384615385,
          0.7384615384615385,
          0.7538461538461538,
          0.7538461538461538,
          0.7692307692307693,
          0.7692307692307693,
          0.7846153846153846,
          0.7846153846153846,
          0.8153846153846154,
          0.8153846153846154,
          0.823076923076923,
          0.823076923076923,
          0.8307692307692308,
          0.8307692307692308,
          0.8461538461538461,
          0.8461538461538461,
          0.8615384615384616,
          0.8615384615384616,
          0.8769230769230769,
          0.8769230769230769,
          0.8846153846153846,
          0.8846153846153846,
          0.8923076923076924,
          0.8923076923076924,
          0.9076923076923077,
          0.9076923076923077,
          0.9153846153846154,
          0.9153846153846154,
          0.9230769230769231,
          0.9230769230769231,
          0.9384615384615385,
          0.9384615384615385,
          0.9461538461538461,
          0.9461538461538461,
          0.9769230769230769,
          0.9769230769230769,
          0.9846153846153847,
          0.9846153846153847,
          0.9923076923076923,
          0.9923076923076923,
          1,
          1,
          1,
          1,
          1,
          1,
          1
         ]
        },
        {
         "name": "bag ROC AUC=0.90",
         "type": "scatter",
         "x": [
          0,
          0,
          0.00909090909090909,
          0.00909090909090909,
          0.00909090909090909,
          0.00909090909090909,
          0.01818181818181818,
          0.01818181818181818,
          0.02727272727272727,
          0.02727272727272727,
          0.03636363636363636,
          0.03636363636363636,
          0.045454545454545456,
          0.045454545454545456,
          0.05454545454545454,
          0.05454545454545454,
          0.06363636363636363,
          0.06363636363636363,
          0.07272727272727272,
          0.07272727272727272,
          0.08181818181818182,
          0.08181818181818182,
          0.09090909090909091,
          0.09090909090909091,
          0.10909090909090909,
          0.10909090909090909,
          0.12727272727272726,
          0.12727272727272726,
          0.13636363636363635,
          0.13636363636363635,
          0.17272727272727273,
          0.17272727272727273,
          0.18181818181818182,
          0.18181818181818182,
          0.19090909090909092,
          0.19090909090909092,
          0.23636363636363636,
          0.23636363636363636,
          0.2636363636363636,
          0.2636363636363636,
          0.2727272727272727,
          0.2727272727272727,
          0.2818181818181818,
          0.2818181818181818,
          0.3181818181818182,
          0.3181818181818182,
          0.32727272727272727,
          0.32727272727272727,
          0.39090909090909093,
          0.39090909090909093,
          0.42727272727272725,
          0.42727272727272725,
          0.43636363636363634,
          0.43636363636363634,
          0.45454545454545453,
          0.45454545454545453,
          0.4636363636363636,
          0.4636363636363636,
          0.4727272727272727,
          0.4727272727272727,
          0.5272727272727272,
          0.5272727272727272,
          0.5545454545454546,
          0.5545454545454546,
          1
         ],
         "y": [
          0,
          0.007692307692307693,
          0.015384615384615385,
          0.11538461538461539,
          0.13076923076923078,
          0.2153846153846154,
          0.2153846153846154,
          0.36153846153846153,
          0.36153846153846153,
          0.4076923076923077,
          0.4076923076923077,
          0.4230769230769231,
          0.4230769230769231,
          0.43846153846153846,
          0.43846153846153846,
          0.46923076923076923,
          0.46923076923076923,
          0.5384615384615384,
          0.5384615384615384,
          0.5692307692307692,
          0.5692307692307692,
          0.7230769230769231,
          0.7230769230769231,
          0.7307692307692307,
          0.7307692307692307,
          0.7538461538461538,
          0.7538461538461538,
          0.7615384615384615,
          0.7615384615384615,
          0.7846153846153846,
          0.7846153846153846,
          0.8153846153846154,
          0.8153846153846154,
          0.8307692307692308,
          0.8307692307692308,
          0.8538461538461538,
          0.8538461538461538,
          0.8769230769230769,
          0.8769230769230769,
          0.9076923076923077,
          0.9076923076923077,
          0.9153846153846154,
          0.9153846153846154,
          0.9230769230769231,
          0.9230769230769231,
          0.9307692307692308,
          0.9307692307692308,
          0.9384615384615385,
          0.9384615384615385,
          0.9461538461538461,
          0.9461538461538461,
          0.9538461538461539,
          0.9538461538461539,
          0.9615384615384616,
          0.9615384615384616,
          0.9692307692307692,
          0.9692307692307692,
          0.9769230769230769,
          0.9769230769230769,
          0.9846153846153847,
          0.9846153846153847,
          0.9923076923076923,
          0.9923076923076923,
          1,
          1
         ]
        },
        {
         "name": "etc ROC AUC=0.91",
         "type": "scatter",
         "x": [
          0,
          0,
          0,
          0.00909090909090909,
          0.00909090909090909,
          0.00909090909090909,
          0.00909090909090909,
          0.01818181818181818,
          0.01818181818181818,
          0.02727272727272727,
          0.02727272727272727,
          0.03636363636363636,
          0.03636363636363636,
          0.045454545454545456,
          0.045454545454545456,
          0.05454545454545454,
          0.05454545454545454,
          0.06363636363636363,
          0.06363636363636363,
          0.08181818181818182,
          0.08181818181818182,
          0.09090909090909091,
          0.09090909090909091,
          0.1,
          0.1,
          0.10909090909090909,
          0.10909090909090909,
          0.11818181818181818,
          0.11818181818181818,
          0.14545454545454545,
          0.14545454545454545,
          0.19090909090909092,
          0.19090909090909092,
          0.20909090909090908,
          0.20909090909090908,
          0.24545454545454545,
          0.24545454545454545,
          0.2636363636363636,
          0.2636363636363636,
          0.2727272727272727,
          0.2727272727272727,
          0.2818181818181818,
          0.2818181818181818,
          0.3090909090909091,
          0.3090909090909091,
          0.3181818181818182,
          0.3181818181818182,
          0.32727272727272727,
          0.32727272727272727,
          0.33636363636363636,
          0.33636363636363636,
          0.35454545454545455,
          0.35454545454545455,
          0.38181818181818183,
          0.38181818181818183,
          0.4636363636363636,
          0.4636363636363636,
          0.4818181818181818,
          0.4818181818181818,
          0.6545454545454545,
          0.6545454545454545,
          1
         ],
         "y": [
          0,
          0.007692307692307693,
          0.023076923076923078,
          0.03076923076923077,
          0.11538461538461539,
          0.13076923076923078,
          0.4846153846153846,
          0.4846153846153846,
          0.5307692307692308,
          0.5307692307692308,
          0.5461538461538461,
          0.5461538461538461,
          0.6153846153846154,
          0.6153846153846154,
          0.6692307692307692,
          0.6692307692307692,
          0.676923076923077,
          0.676923076923077,
          0.6846153846153846,
          0.6846153846153846,
          0.6923076923076923,
          0.6923076923076923,
          0.7307692307692307,
          0.7307692307692307,
          0.7461538461538462,
          0.7461538461538462,
          0.7692307692307693,
          0.7692307692307693,
          0.7769230769230769,
          0.7769230769230769,
          0.7923076923076923,
          0.7923076923076923,
          0.8,
          0.8,
          0.8538461538461538,
          0.8538461538461538,
          0.8615384615384616,
          0.8615384615384616,
          0.8692307692307693,
          0.8692307692307693,
          0.8846153846153846,
          0.8846153846153846,
          0.8923076923076924,
          0.8923076923076924,
          0.9,
          0.9,
          0.9153846153846154,
          0.9153846153846154,
          0.9230769230769231,
          0.9230769230769231,
          0.9307692307692308,
          0.9307692307692308,
          0.9384615384615385,
          0.9384615384615385,
          0.9538461538461539,
          0.9538461538461539,
          0.9846153846153847,
          0.9846153846153847,
          0.9923076923076923,
          0.9923076923076923,
          1,
          1
         ]
        }
       ],
       "layout": {
        "template": {
         "data": {
          "bar": [
           {
            "error_x": {
             "color": "#2a3f5f"
            },
            "error_y": {
             "color": "#2a3f5f"
            },
            "marker": {
             "line": {
              "color": "#E5ECF6",
              "width": 0.5
             }
            },
            "type": "bar"
           }
          ],
          "barpolar": [
           {
            "marker": {
             "line": {
              "color": "#E5ECF6",
              "width": 0.5
             }
            },
            "type": "barpolar"
           }
          ],
          "carpet": [
           {
            "aaxis": {
             "endlinecolor": "#2a3f5f",
             "gridcolor": "white",
             "linecolor": "white",
             "minorgridcolor": "white",
             "startlinecolor": "#2a3f5f"
            },
            "baxis": {
             "endlinecolor": "#2a3f5f",
             "gridcolor": "white",
             "linecolor": "white",
             "minorgridcolor": "white",
             "startlinecolor": "#2a3f5f"
            },
            "type": "carpet"
           }
          ],
          "choropleth": [
           {
            "colorbar": {
             "outlinewidth": 0,
             "ticks": ""
            },
            "type": "choropleth"
           }
          ],
          "contour": [
           {
            "colorbar": {
             "outlinewidth": 0,
             "ticks": ""
            },
            "colorscale": [
             [
              0,
              "#0d0887"
             ],
             [
              0.1111111111111111,
              "#46039f"
             ],
             [
              0.2222222222222222,
              "#7201a8"
             ],
             [
              0.3333333333333333,
              "#9c179e"
             ],
             [
              0.4444444444444444,
              "#bd3786"
             ],
             [
              0.5555555555555556,
              "#d8576b"
             ],
             [
              0.6666666666666666,
              "#ed7953"
             ],
             [
              0.7777777777777778,
              "#fb9f3a"
             ],
             [
              0.8888888888888888,
              "#fdca26"
             ],
             [
              1,
              "#f0f921"
             ]
            ],
            "type": "contour"
           }
          ],
          "contourcarpet": [
           {
            "colorbar": {
             "outlinewidth": 0,
             "ticks": ""
            },
            "type": "contourcarpet"
           }
          ],
          "heatmap": [
           {
            "colorbar": {
             "outlinewidth": 0,
             "ticks": ""
            },
            "colorscale": [
             [
              0,
              "#0d0887"
             ],
             [
              0.1111111111111111,
              "#46039f"
             ],
             [
              0.2222222222222222,
              "#7201a8"
             ],
             [
              0.3333333333333333,
              "#9c179e"
             ],
             [
              0.4444444444444444,
              "#bd3786"
             ],
             [
              0.5555555555555556,
              "#d8576b"
             ],
             [
              0.6666666666666666,
              "#ed7953"
             ],
             [
              0.7777777777777778,
              "#fb9f3a"
             ],
             [
              0.8888888888888888,
              "#fdca26"
             ],
             [
              1,
              "#f0f921"
             ]
            ],
            "type": "heatmap"
           }
          ],
          "heatmapgl": [
           {
            "colorbar": {
             "outlinewidth": 0,
             "ticks": ""
            },
            "colorscale": [
             [
              0,
              "#0d0887"
             ],
             [
              0.1111111111111111,
              "#46039f"
             ],
             [
              0.2222222222222222,
              "#7201a8"
             ],
             [
              0.3333333333333333,
              "#9c179e"
             ],
             [
              0.4444444444444444,
              "#bd3786"
             ],
             [
              0.5555555555555556,
              "#d8576b"
             ],
             [
              0.6666666666666666,
              "#ed7953"
             ],
             [
              0.7777777777777778,
              "#fb9f3a"
             ],
             [
              0.8888888888888888,
              "#fdca26"
             ],
             [
              1,
              "#f0f921"
             ]
            ],
            "type": "heatmapgl"
           }
          ],
          "histogram": [
           {
            "marker": {
             "colorbar": {
              "outlinewidth": 0,
              "ticks": ""
             }
            },
            "type": "histogram"
           }
          ],
          "histogram2d": [
           {
            "colorbar": {
             "outlinewidth": 0,
             "ticks": ""
            },
            "colorscale": [
             [
              0,
              "#0d0887"
             ],
             [
              0.1111111111111111,
              "#46039f"
             ],
             [
              0.2222222222222222,
              "#7201a8"
             ],
             [
              0.3333333333333333,
              "#9c179e"
             ],
             [
              0.4444444444444444,
              "#bd3786"
             ],
             [
              0.5555555555555556,
              "#d8576b"
             ],
             [
              0.6666666666666666,
              "#ed7953"
             ],
             [
              0.7777777777777778,
              "#fb9f3a"
             ],
             [
              0.8888888888888888,
              "#fdca26"
             ],
             [
              1,
              "#f0f921"
             ]
            ],
            "type": "histogram2d"
           }
          ],
          "histogram2dcontour": [
           {
            "colorbar": {
             "outlinewidth": 0,
             "ticks": ""
            },
            "colorscale": [
             [
              0,
              "#0d0887"
             ],
             [
              0.1111111111111111,
              "#46039f"
             ],
             [
              0.2222222222222222,
              "#7201a8"
             ],
             [
              0.3333333333333333,
              "#9c179e"
             ],
             [
              0.4444444444444444,
              "#bd3786"
             ],
             [
              0.5555555555555556,
              "#d8576b"
             ],
             [
              0.6666666666666666,
              "#ed7953"
             ],
             [
              0.7777777777777778,
              "#fb9f3a"
             ],
             [
              0.8888888888888888,
              "#fdca26"
             ],
             [
              1,
              "#f0f921"
             ]
            ],
            "type": "histogram2dcontour"
           }
          ],
          "mesh3d": [
           {
            "colorbar": {
             "outlinewidth": 0,
             "ticks": ""
            },
            "type": "mesh3d"
           }
          ],
          "parcoords": [
           {
            "line": {
             "colorbar": {
              "outlinewidth": 0,
              "ticks": ""
             }
            },
            "type": "parcoords"
           }
          ],
          "pie": [
           {
            "automargin": true,
            "type": "pie"
           }
          ],
          "scatter": [
           {
            "marker": {
             "colorbar": {
              "outlinewidth": 0,
              "ticks": ""
             }
            },
            "type": "scatter"
           }
          ],
          "scatter3d": [
           {
            "line": {
             "colorbar": {
              "outlinewidth": 0,
              "ticks": ""
             }
            },
            "marker": {
             "colorbar": {
              "outlinewidth": 0,
              "ticks": ""
             }
            },
            "type": "scatter3d"
           }
          ],
          "scattercarpet": [
           {
            "marker": {
             "colorbar": {
              "outlinewidth": 0,
              "ticks": ""
             }
            },
            "type": "scattercarpet"
           }
          ],
          "scattergeo": [
           {
            "marker": {
             "colorbar": {
              "outlinewidth": 0,
              "ticks": ""
             }
            },
            "type": "scattergeo"
           }
          ],
          "scattergl": [
           {
            "marker": {
             "colorbar": {
              "outlinewidth": 0,
              "ticks": ""
             }
            },
            "type": "scattergl"
           }
          ],
          "scattermapbox": [
           {
            "marker": {
             "colorbar": {
              "outlinewidth": 0,
              "ticks": ""
             }
            },
            "type": "scattermapbox"
           }
          ],
          "scatterpolar": [
           {
            "marker": {
             "colorbar": {
              "outlinewidth": 0,
              "ticks": ""
             }
            },
            "type": "scatterpolar"
           }
          ],
          "scatterpolargl": [
           {
            "marker": {
             "colorbar": {
              "outlinewidth": 0,
              "ticks": ""
             }
            },
            "type": "scatterpolargl"
           }
          ],
          "scatterternary": [
           {
            "marker": {
             "colorbar": {
              "outlinewidth": 0,
              "ticks": ""
             }
            },
            "type": "scatterternary"
           }
          ],
          "surface": [
           {
            "colorbar": {
             "outlinewidth": 0,
             "ticks": ""
            },
            "colorscale": [
             [
              0,
              "#0d0887"
             ],
             [
              0.1111111111111111,
              "#46039f"
             ],
             [
              0.2222222222222222,
              "#7201a8"
             ],
             [
              0.3333333333333333,
              "#9c179e"
             ],
             [
              0.4444444444444444,
              "#bd3786"
             ],
             [
              0.5555555555555556,
              "#d8576b"
             ],
             [
              0.6666666666666666,
              "#ed7953"
             ],
             [
              0.7777777777777778,
              "#fb9f3a"
             ],
             [
              0.8888888888888888,
              "#fdca26"
             ],
             [
              1,
              "#f0f921"
             ]
            ],
            "type": "surface"
           }
          ],
          "table": [
           {
            "cells": {
             "fill": {
              "color": "#EBF0F8"
             },
             "line": {
              "color": "white"
             }
            },
            "header": {
             "fill": {
              "color": "#C8D4E3"
             },
             "line": {
              "color": "white"
             }
            },
            "type": "table"
           }
          ]
         },
         "layout": {
          "annotationdefaults": {
           "arrowcolor": "#2a3f5f",
           "arrowhead": 0,
           "arrowwidth": 1
          },
          "autotypenumbers": "strict",
          "coloraxis": {
           "colorbar": {
            "outlinewidth": 0,
            "ticks": ""
           }
          },
          "colorscale": {
           "diverging": [
            [
             0,
             "#8e0152"
            ],
            [
             0.1,
             "#c51b7d"
            ],
            [
             0.2,
             "#de77ae"
            ],
            [
             0.3,
             "#f1b6da"
            ],
            [
             0.4,
             "#fde0ef"
            ],
            [
             0.5,
             "#f7f7f7"
            ],
            [
             0.6,
             "#e6f5d0"
            ],
            [
             0.7,
             "#b8e186"
            ],
            [
             0.8,
             "#7fbc41"
            ],
            [
             0.9,
             "#4d9221"
            ],
            [
             1,
             "#276419"
            ]
           ],
           "sequential": [
            [
             0,
             "#0d0887"
            ],
            [
             0.1111111111111111,
             "#46039f"
            ],
            [
             0.2222222222222222,
             "#7201a8"
            ],
            [
             0.3333333333333333,
             "#9c179e"
            ],
            [
             0.4444444444444444,
             "#bd3786"
            ],
            [
             0.5555555555555556,
             "#d8576b"
            ],
            [
             0.6666666666666666,
             "#ed7953"
            ],
            [
             0.7777777777777778,
             "#fb9f3a"
            ],
            [
             0.8888888888888888,
             "#fdca26"
            ],
            [
             1,
             "#f0f921"
            ]
           ],
           "sequentialminus": [
            [
             0,
             "#0d0887"
            ],
            [
             0.1111111111111111,
             "#46039f"
            ],
            [
             0.2222222222222222,
             "#7201a8"
            ],
            [
             0.3333333333333333,
             "#9c179e"
            ],
            [
             0.4444444444444444,
             "#bd3786"
            ],
            [
             0.5555555555555556,
             "#d8576b"
            ],
            [
             0.6666666666666666,
             "#ed7953"
            ],
            [
             0.7777777777777778,
             "#fb9f3a"
            ],
            [
             0.8888888888888888,
             "#fdca26"
            ],
            [
             1,
             "#f0f921"
            ]
           ]
          },
          "colorway": [
           "#636efa",
           "#EF553B",
           "#00cc96",
           "#ab63fa",
           "#FFA15A",
           "#19d3f3",
           "#FF6692",
           "#B6E880",
           "#FF97FF",
           "#FECB52"
          ],
          "font": {
           "color": "#2a3f5f"
          },
          "geo": {
           "bgcolor": "white",
           "lakecolor": "white",
           "landcolor": "#E5ECF6",
           "showlakes": true,
           "showland": true,
           "subunitcolor": "white"
          },
          "hoverlabel": {
           "align": "left"
          },
          "hovermode": "closest",
          "mapbox": {
           "style": "light"
          },
          "paper_bgcolor": "white",
          "plot_bgcolor": "#E5ECF6",
          "polar": {
           "angularaxis": {
            "gridcolor": "white",
            "linecolor": "white",
            "ticks": ""
           },
           "bgcolor": "#E5ECF6",
           "radialaxis": {
            "gridcolor": "white",
            "linecolor": "white",
            "ticks": ""
           }
          },
          "scene": {
           "xaxis": {
            "backgroundcolor": "#E5ECF6",
            "gridcolor": "white",
            "gridwidth": 2,
            "linecolor": "white",
            "showbackground": true,
            "ticks": "",
            "zerolinecolor": "white"
           },
           "yaxis": {
            "backgroundcolor": "#E5ECF6",
            "gridcolor": "white",
            "gridwidth": 2,
            "linecolor": "white",
            "showbackground": true,
            "ticks": "",
            "zerolinecolor": "white"
           },
           "zaxis": {
            "backgroundcolor": "#E5ECF6",
            "gridcolor": "white",
            "gridwidth": 2,
            "linecolor": "white",
            "showbackground": true,
            "ticks": "",
            "zerolinecolor": "white"
           }
          },
          "shapedefaults": {
           "line": {
            "color": "#2a3f5f"
           }
          },
          "ternary": {
           "aaxis": {
            "gridcolor": "white",
            "linecolor": "white",
            "ticks": ""
           },
           "baxis": {
            "gridcolor": "white",
            "linecolor": "white",
            "ticks": ""
           },
           "bgcolor": "#E5ECF6",
           "caxis": {
            "gridcolor": "white",
            "linecolor": "white",
            "ticks": ""
           }
          },
          "title": {
           "x": 0.05
          },
          "xaxis": {
           "automargin": true,
           "gridcolor": "white",
           "linecolor": "white",
           "ticks": "",
           "title": {
            "standoff": 15
           },
           "zerolinecolor": "white",
           "zerolinewidth": 2
          },
          "yaxis": {
           "automargin": true,
           "gridcolor": "white",
           "linecolor": "white",
           "ticks": "",
           "title": {
            "standoff": 15
           },
           "zerolinecolor": "white",
           "zerolinewidth": 2
          }
         }
        }
       }
      }
     },
     "metadata": {}
    }
   ],
   "source": [
    "import plotly.graph_objects as go\n",
    "from sklearn.model_selection import cross_val_predict\n",
    "parameters_logreg = {}\n",
    "y_score0 = cross_val_predict(logreg, X_train.drop(dropped_cols, axis=1), y_train, cv=5, method='predict_proba')[:,1]\n",
    "logreg_fpr, logreg_tpr, logregthresh = roc_curve(y_train, y_score0)\n",
    "auc_log = auc(logreg_fpr, logreg_tpr)\n",
    "fig0 = go.Scatter(x=logreg_fpr, y=logreg_tpr, name=f\"LogReg ROC AUC={auc_log:.2f}\")\n",
    "\n",
    "parameters_knn = {}\n",
    "y_score1 = cross_val_predict(knn, X_train.drop(dropped_cols, axis=1), y_train, cv=5, method='predict_proba')[:,1]\n",
    "log_fpr, log_tpr, thresh = roc_curve(y_train, y_score1)\n",
    "auc_log = auc(log_fpr, log_tpr)\n",
    "fig1 = go.Scatter(x=log_fpr, y=log_tpr, name=f\"KNN ROC AUC={auc_log:.2f}\")\n",
    "\n",
    "parameters_tre = {}\n",
    "y_score2 = cross_val_predict(tre, X_train.drop(dropped_cols, axis=1), y_train, cv=5, method='predict_proba')[:,1]\n",
    "log_fpr, log_tpr, thresh = roc_curve(y_train, y_score2)\n",
    "auc_log = auc(log_fpr, log_tpr)\n",
    "fig2 = go.Scatter(x=log_fpr, y=log_tpr, name=f\"DecisionTree ROC AUC={auc_log:.2f}\")\n",
    "\n",
    "parameters_svc = {}\n",
    "y_score3 = cross_val_predict(svc, X_train.drop(dropped_cols, axis=1), y_train, cv=5, method='predict_proba')[:,1]\n",
    "log_fpr, log_tpr, thresh = roc_curve(y_train, y_score3)\n",
    "auc_log = auc(log_fpr, log_tpr)\n",
    "fig3 = go.Scatter(x=log_fpr, y=log_tpr, name=f\"SVC ROC AUC={auc_log:.2f}\")\n",
    "\n",
    "parameters_rfc = {}\n",
    "y_score4 = cross_val_predict(rfc, X_train.drop(dropped_cols, axis=1), y_train, cv=5, method='predict_proba')[:,1]\n",
    "log_fpr, log_tpr, thresh = roc_curve(y_train, y_score4)\n",
    "auc_log = auc(log_fpr, log_tpr)\n",
    "fig4 = go.Scatter(x=log_fpr, y=log_tpr, name=f\"RFC ROC AUC={auc_log:.2f}\")\n",
    "\n",
    "parameters_bag = {}\n",
    "y_score5 = cross_val_predict(bag, X_train.drop(dropped_cols, axis=1), y_train, cv=5, method='predict_proba')[:,1]\n",
    "log_fpr, log_tpr, thresh = roc_curve(y_train, y_score5)\n",
    "auc_log = auc(log_fpr, log_tpr)\n",
    "fig5 = go.Scatter(x=log_fpr, y=log_tpr, name=f\"bag ROC AUC={auc_log:.2f}\")\n",
    "\n",
    "y_score6 = cross_val_predict(etc, X_train.drop(dropped_cols, axis=1), y_train, cv=5, method='predict_proba')[:,1]\n",
    "log_fpr, log_tpr, thresh = roc_curve(y_train, y_score6)\n",
    "auc_log = auc(log_fpr, log_tpr)\n",
    "fig6 = go.Scatter(x=log_fpr, y=log_tpr, name=f\"etc ROC AUC={auc_log:.2f}\")\n",
    "\n",
    "figure = go.Figure()\n",
    "figure.add_trace(fig0)\n",
    "figure.add_trace(fig1)\n",
    "figure.add_trace(fig2)\n",
    "figure.add_trace(fig3)\n",
    "figure.add_trace(fig4)\n",
    "figure.add_trace(fig5)\n",
    "figure.add_trace(fig6)\n"
   ]
  },
  {
   "source": [
    "# Model Choice\n",
    "\n",
    "The final model chosen was logistic regression model. This was chosen as it was achieving similar AUC, accuracy and recall to the other ensemble models that would be much harder to interpret. "
   ],
   "cell_type": "markdown",
   "metadata": {}
  },
  {
   "cell_type": "code",
   "execution_count": 83,
   "metadata": {},
   "outputs": [
    {
     "output_type": "execute_result",
     "data": {
      "text/plain": [
       "2.452481133260165"
      ]
     },
     "metadata": {},
     "execution_count": 83
    }
   ],
   "source": [
    "import numpy as np\n",
    "fm = np.exp(logreg_tpr) - 0.13 * np.exp(logreg_fpr)\n",
    "max(fm)\n"
   ]
  },
  {
   "source": [
    "Chosen threshold = 0.32 due to having the highest fm"
   ],
   "cell_type": "markdown",
   "metadata": {}
  },
  {
   "source": [
    "logreg = LogisticRegression()\n",
    "logreg.fit(X_train.drop(dropped_cols, axis=1), y_train)"
   ],
   "cell_type": "markdown",
   "metadata": {}
  },
  {
   "cell_type": "code",
   "execution_count": 112,
   "metadata": {},
   "outputs": [
    {
     "output_type": "execute_result",
     "data": {
      "text/plain": [
       "LogisticRegression()"
      ]
     },
     "metadata": {},
     "execution_count": 112
    }
   ],
   "source": [
    "# Final Model Testing"
   ]
  },
  {
   "cell_type": "code",
   "execution_count": 131,
   "metadata": {},
   "outputs": [],
   "source": [
    "yhat_test = (logreg.predict_proba(X_test.drop(dropped_cols, axis=1))>0.32)[:,1]*1"
   ]
  },
  {
   "cell_type": "code",
   "execution_count": 132,
   "metadata": {},
   "outputs": [
    {
     "output_type": "display_data",
     "data": {
      "application/vnd.plotly.v1+json": {
       "config": {
        "plotlyServerURL": "https://plot.ly"
       },
       "data": [
        {
         "colorscale": [
          [
           0,
           "#0d0887"
          ],
          [
           0.1111111111111111,
           "#46039f"
          ],
          [
           0.2222222222222222,
           "#7201a8"
          ],
          [
           0.3333333333333333,
           "#9c179e"
          ],
          [
           0.4444444444444444,
           "#bd3786"
          ],
          [
           0.5555555555555556,
           "#d8576b"
          ],
          [
           0.6666666666666666,
           "#ed7953"
          ],
          [
           0.7777777777777778,
           "#fb9f3a"
          ],
          [
           0.8888888888888888,
           "#fdca26"
          ],
          [
           1,
           "#f0f921"
          ]
         ],
         "reversescale": false,
         "showscale": true,
         "type": "heatmap",
         "x": [
          "Predicted:0",
          "Predicted:1"
         ],
         "y": [
          "Actual:0",
          "Actual:1"
         ],
         "z": [
          [
           15,
           12
          ],
          [
           2,
           32
          ]
         ]
        }
       ],
       "layout": {
        "annotations": [
         {
          "font": {
           "color": "#FFFFFF"
          },
          "showarrow": false,
          "text": "15",
          "x": "Predicted:0",
          "xref": "x",
          "y": "Actual:0",
          "yref": "y"
         },
         {
          "font": {
           "color": "#FFFFFF"
          },
          "showarrow": false,
          "text": "12",
          "x": "Predicted:1",
          "xref": "x",
          "y": "Actual:0",
          "yref": "y"
         },
         {
          "font": {
           "color": "#FFFFFF"
          },
          "showarrow": false,
          "text": "2",
          "x": "Predicted:0",
          "xref": "x",
          "y": "Actual:1",
          "yref": "y"
         },
         {
          "font": {
           "color": "#000000"
          },
          "showarrow": false,
          "text": "32",
          "x": "Predicted:1",
          "xref": "x",
          "y": "Actual:1",
          "yref": "y"
         }
        ],
        "template": {
         "data": {
          "bar": [
           {
            "error_x": {
             "color": "#2a3f5f"
            },
            "error_y": {
             "color": "#2a3f5f"
            },
            "marker": {
             "line": {
              "color": "#E5ECF6",
              "width": 0.5
             }
            },
            "type": "bar"
           }
          ],
          "barpolar": [
           {
            "marker": {
             "line": {
              "color": "#E5ECF6",
              "width": 0.5
             }
            },
            "type": "barpolar"
           }
          ],
          "carpet": [
           {
            "aaxis": {
             "endlinecolor": "#2a3f5f",
             "gridcolor": "white",
             "linecolor": "white",
             "minorgridcolor": "white",
             "startlinecolor": "#2a3f5f"
            },
            "baxis": {
             "endlinecolor": "#2a3f5f",
             "gridcolor": "white",
             "linecolor": "white",
             "minorgridcolor": "white",
             "startlinecolor": "#2a3f5f"
            },
            "type": "carpet"
           }
          ],
          "choropleth": [
           {
            "colorbar": {
             "outlinewidth": 0,
             "ticks": ""
            },
            "type": "choropleth"
           }
          ],
          "contour": [
           {
            "colorbar": {
             "outlinewidth": 0,
             "ticks": ""
            },
            "colorscale": [
             [
              0,
              "#0d0887"
             ],
             [
              0.1111111111111111,
              "#46039f"
             ],
             [
              0.2222222222222222,
              "#7201a8"
             ],
             [
              0.3333333333333333,
              "#9c179e"
             ],
             [
              0.4444444444444444,
              "#bd3786"
             ],
             [
              0.5555555555555556,
              "#d8576b"
             ],
             [
              0.6666666666666666,
              "#ed7953"
             ],
             [
              0.7777777777777778,
              "#fb9f3a"
             ],
             [
              0.8888888888888888,
              "#fdca26"
             ],
             [
              1,
              "#f0f921"
             ]
            ],
            "type": "contour"
           }
          ],
          "contourcarpet": [
           {
            "colorbar": {
             "outlinewidth": 0,
             "ticks": ""
            },
            "type": "contourcarpet"
           }
          ],
          "heatmap": [
           {
            "colorbar": {
             "outlinewidth": 0,
             "ticks": ""
            },
            "colorscale": [
             [
              0,
              "#0d0887"
             ],
             [
              0.1111111111111111,
              "#46039f"
             ],
             [
              0.2222222222222222,
              "#7201a8"
             ],
             [
              0.3333333333333333,
              "#9c179e"
             ],
             [
              0.4444444444444444,
              "#bd3786"
             ],
             [
              0.5555555555555556,
              "#d8576b"
             ],
             [
              0.6666666666666666,
              "#ed7953"
             ],
             [
              0.7777777777777778,
              "#fb9f3a"
             ],
             [
              0.8888888888888888,
              "#fdca26"
             ],
             [
              1,
              "#f0f921"
             ]
            ],
            "type": "heatmap"
           }
          ],
          "heatmapgl": [
           {
            "colorbar": {
             "outlinewidth": 0,
             "ticks": ""
            },
            "colorscale": [
             [
              0,
              "#0d0887"
             ],
             [
              0.1111111111111111,
              "#46039f"
             ],
             [
              0.2222222222222222,
              "#7201a8"
             ],
             [
              0.3333333333333333,
              "#9c179e"
             ],
             [
              0.4444444444444444,
              "#bd3786"
             ],
             [
              0.5555555555555556,
              "#d8576b"
             ],
             [
              0.6666666666666666,
              "#ed7953"
             ],
             [
              0.7777777777777778,
              "#fb9f3a"
             ],
             [
              0.8888888888888888,
              "#fdca26"
             ],
             [
              1,
              "#f0f921"
             ]
            ],
            "type": "heatmapgl"
           }
          ],
          "histogram": [
           {
            "marker": {
             "colorbar": {
              "outlinewidth": 0,
              "ticks": ""
             }
            },
            "type": "histogram"
           }
          ],
          "histogram2d": [
           {
            "colorbar": {
             "outlinewidth": 0,
             "ticks": ""
            },
            "colorscale": [
             [
              0,
              "#0d0887"
             ],
             [
              0.1111111111111111,
              "#46039f"
             ],
             [
              0.2222222222222222,
              "#7201a8"
             ],
             [
              0.3333333333333333,
              "#9c179e"
             ],
             [
              0.4444444444444444,
              "#bd3786"
             ],
             [
              0.5555555555555556,
              "#d8576b"
             ],
             [
              0.6666666666666666,
              "#ed7953"
             ],
             [
              0.7777777777777778,
              "#fb9f3a"
             ],
             [
              0.8888888888888888,
              "#fdca26"
             ],
             [
              1,
              "#f0f921"
             ]
            ],
            "type": "histogram2d"
           }
          ],
          "histogram2dcontour": [
           {
            "colorbar": {
             "outlinewidth": 0,
             "ticks": ""
            },
            "colorscale": [
             [
              0,
              "#0d0887"
             ],
             [
              0.1111111111111111,
              "#46039f"
             ],
             [
              0.2222222222222222,
              "#7201a8"
             ],
             [
              0.3333333333333333,
              "#9c179e"
             ],
             [
              0.4444444444444444,
              "#bd3786"
             ],
             [
              0.5555555555555556,
              "#d8576b"
             ],
             [
              0.6666666666666666,
              "#ed7953"
             ],
             [
              0.7777777777777778,
              "#fb9f3a"
             ],
             [
              0.8888888888888888,
              "#fdca26"
             ],
             [
              1,
              "#f0f921"
             ]
            ],
            "type": "histogram2dcontour"
           }
          ],
          "mesh3d": [
           {
            "colorbar": {
             "outlinewidth": 0,
             "ticks": ""
            },
            "type": "mesh3d"
           }
          ],
          "parcoords": [
           {
            "line": {
             "colorbar": {
              "outlinewidth": 0,
              "ticks": ""
             }
            },
            "type": "parcoords"
           }
          ],
          "pie": [
           {
            "automargin": true,
            "type": "pie"
           }
          ],
          "scatter": [
           {
            "marker": {
             "colorbar": {
              "outlinewidth": 0,
              "ticks": ""
             }
            },
            "type": "scatter"
           }
          ],
          "scatter3d": [
           {
            "line": {
             "colorbar": {
              "outlinewidth": 0,
              "ticks": ""
             }
            },
            "marker": {
             "colorbar": {
              "outlinewidth": 0,
              "ticks": ""
             }
            },
            "type": "scatter3d"
           }
          ],
          "scattercarpet": [
           {
            "marker": {
             "colorbar": {
              "outlinewidth": 0,
              "ticks": ""
             }
            },
            "type": "scattercarpet"
           }
          ],
          "scattergeo": [
           {
            "marker": {
             "colorbar": {
              "outlinewidth": 0,
              "ticks": ""
             }
            },
            "type": "scattergeo"
           }
          ],
          "scattergl": [
           {
            "marker": {
             "colorbar": {
              "outlinewidth": 0,
              "ticks": ""
             }
            },
            "type": "scattergl"
           }
          ],
          "scattermapbox": [
           {
            "marker": {
             "colorbar": {
              "outlinewidth": 0,
              "ticks": ""
             }
            },
            "type": "scattermapbox"
           }
          ],
          "scatterpolar": [
           {
            "marker": {
             "colorbar": {
              "outlinewidth": 0,
              "ticks": ""
             }
            },
            "type": "scatterpolar"
           }
          ],
          "scatterpolargl": [
           {
            "marker": {
             "colorbar": {
              "outlinewidth": 0,
              "ticks": ""
             }
            },
            "type": "scatterpolargl"
           }
          ],
          "scatterternary": [
           {
            "marker": {
             "colorbar": {
              "outlinewidth": 0,
              "ticks": ""
             }
            },
            "type": "scatterternary"
           }
          ],
          "surface": [
           {
            "colorbar": {
             "outlinewidth": 0,
             "ticks": ""
            },
            "colorscale": [
             [
              0,
              "#0d0887"
             ],
             [
              0.1111111111111111,
              "#46039f"
             ],
             [
              0.2222222222222222,
              "#7201a8"
             ],
             [
              0.3333333333333333,
              "#9c179e"
             ],
             [
              0.4444444444444444,
              "#bd3786"
             ],
             [
              0.5555555555555556,
              "#d8576b"
             ],
             [
              0.6666666666666666,
              "#ed7953"
             ],
             [
              0.7777777777777778,
              "#fb9f3a"
             ],
             [
              0.8888888888888888,
              "#fdca26"
             ],
             [
              1,
              "#f0f921"
             ]
            ],
            "type": "surface"
           }
          ],
          "table": [
           {
            "cells": {
             "fill": {
              "color": "#EBF0F8"
             },
             "line": {
              "color": "white"
             }
            },
            "header": {
             "fill": {
              "color": "#C8D4E3"
             },
             "line": {
              "color": "white"
             }
            },
            "type": "table"
           }
          ]
         },
         "layout": {
          "annotationdefaults": {
           "arrowcolor": "#2a3f5f",
           "arrowhead": 0,
           "arrowwidth": 1
          },
          "autotypenumbers": "strict",
          "coloraxis": {
           "colorbar": {
            "outlinewidth": 0,
            "ticks": ""
           }
          },
          "colorscale": {
           "diverging": [
            [
             0,
             "#8e0152"
            ],
            [
             0.1,
             "#c51b7d"
            ],
            [
             0.2,
             "#de77ae"
            ],
            [
             0.3,
             "#f1b6da"
            ],
            [
             0.4,
             "#fde0ef"
            ],
            [
             0.5,
             "#f7f7f7"
            ],
            [
             0.6,
             "#e6f5d0"
            ],
            [
             0.7,
             "#b8e186"
            ],
            [
             0.8,
             "#7fbc41"
            ],
            [
             0.9,
             "#4d9221"
            ],
            [
             1,
             "#276419"
            ]
           ],
           "sequential": [
            [
             0,
             "#0d0887"
            ],
            [
             0.1111111111111111,
             "#46039f"
            ],
            [
             0.2222222222222222,
             "#7201a8"
            ],
            [
             0.3333333333333333,
             "#9c179e"
            ],
            [
             0.4444444444444444,
             "#bd3786"
            ],
            [
             0.5555555555555556,
             "#d8576b"
            ],
            [
             0.6666666666666666,
             "#ed7953"
            ],
            [
             0.7777777777777778,
             "#fb9f3a"
            ],
            [
             0.8888888888888888,
             "#fdca26"
            ],
            [
             1,
             "#f0f921"
            ]
           ],
           "sequentialminus": [
            [
             0,
             "#0d0887"
            ],
            [
             0.1111111111111111,
             "#46039f"
            ],
            [
             0.2222222222222222,
             "#7201a8"
            ],
            [
             0.3333333333333333,
             "#9c179e"
            ],
            [
             0.4444444444444444,
             "#bd3786"
            ],
            [
             0.5555555555555556,
             "#d8576b"
            ],
            [
             0.6666666666666666,
             "#ed7953"
            ],
            [
             0.7777777777777778,
             "#fb9f3a"
            ],
            [
             0.8888888888888888,
             "#fdca26"
            ],
            [
             1,
             "#f0f921"
            ]
           ]
          },
          "colorway": [
           "#636efa",
           "#EF553B",
           "#00cc96",
           "#ab63fa",
           "#FFA15A",
           "#19d3f3",
           "#FF6692",
           "#B6E880",
           "#FF97FF",
           "#FECB52"
          ],
          "font": {
           "color": "#2a3f5f"
          },
          "geo": {
           "bgcolor": "white",
           "lakecolor": "white",
           "landcolor": "#E5ECF6",
           "showlakes": true,
           "showland": true,
           "subunitcolor": "white"
          },
          "hoverlabel": {
           "align": "left"
          },
          "hovermode": "closest",
          "mapbox": {
           "style": "light"
          },
          "paper_bgcolor": "white",
          "plot_bgcolor": "#E5ECF6",
          "polar": {
           "angularaxis": {
            "gridcolor": "white",
            "linecolor": "white",
            "ticks": ""
           },
           "bgcolor": "#E5ECF6",
           "radialaxis": {
            "gridcolor": "white",
            "linecolor": "white",
            "ticks": ""
           }
          },
          "scene": {
           "xaxis": {
            "backgroundcolor": "#E5ECF6",
            "gridcolor": "white",
            "gridwidth": 2,
            "linecolor": "white",
            "showbackground": true,
            "ticks": "",
            "zerolinecolor": "white"
           },
           "yaxis": {
            "backgroundcolor": "#E5ECF6",
            "gridcolor": "white",
            "gridwidth": 2,
            "linecolor": "white",
            "showbackground": true,
            "ticks": "",
            "zerolinecolor": "white"
           },
           "zaxis": {
            "backgroundcolor": "#E5ECF6",
            "gridcolor": "white",
            "gridwidth": 2,
            "linecolor": "white",
            "showbackground": true,
            "ticks": "",
            "zerolinecolor": "white"
           }
          },
          "shapedefaults": {
           "line": {
            "color": "#2a3f5f"
           }
          },
          "ternary": {
           "aaxis": {
            "gridcolor": "white",
            "linecolor": "white",
            "ticks": ""
           },
           "baxis": {
            "gridcolor": "white",
            "linecolor": "white",
            "ticks": ""
           },
           "bgcolor": "#E5ECF6",
           "caxis": {
            "gridcolor": "white",
            "linecolor": "white",
            "ticks": ""
           }
          },
          "title": {
           "x": 0.05
          },
          "xaxis": {
           "automargin": true,
           "gridcolor": "white",
           "linecolor": "white",
           "ticks": "",
           "title": {
            "standoff": 15
           },
           "zerolinecolor": "white",
           "zerolinewidth": 2
          },
          "yaxis": {
           "automargin": true,
           "gridcolor": "white",
           "linecolor": "white",
           "ticks": "",
           "title": {
            "standoff": 15
           },
           "zerolinecolor": "white",
           "zerolinewidth": 2
          }
         }
        },
        "xaxis": {
         "dtick": 1,
         "gridcolor": "rgb(0, 0, 0)",
         "side": "top",
         "ticks": ""
        },
        "yaxis": {
         "dtick": 1,
         "ticks": "",
         "ticksuffix": "  "
        }
       }
      }
     },
     "metadata": {}
    },
    {
     "output_type": "stream",
     "name": "stdout",
     "text": [
      "test accuracy: 0.7704918032786885\nTPR: 0.9411764705882353  FPR: 0.05882352941176472\n"
     ]
    }
   ],
   "source": [
    "\n",
    "pred_test = list(map(round, yhat_test))\n",
    "conf = confusion_matrix(y_test, pred_test)\n",
    "conf_matrix=pd.DataFrame(data=conf,columns=['Predicted:0','Predicted:1'],index=['Actual:0','Actual:1'])\n",
    "fig = ff.create_annotated_heatmap(conf, x=['Predicted:0','Predicted:1'],y= ['Actual:0','Actual:1'],showscale=True)\n",
    "fig.show()\n",
    "print(\"test accuracy:\",accuracy_score(y_test,pred_test))\n",
    "print(\"TPR:\", recall_score(y_test,pred_test), \" FPR:\", 1-recall_score(y_test,pred_test))"
   ]
  },
  {
   "source": [
    "Our final model shows a true positive rate of 94.1% on the test set meaning that given that there is heart disease present the model will predict that it is present at a rate of 94.1%. However this high recall comes at the cost of low specificity. Showing a final accuracy of 77.0%"
   ],
   "cell_type": "markdown",
   "metadata": {}
  },
  {
   "source": [
    "# Model Interpretation\n",
    "Here we check what features were most used in the classification task. Permutation importance shuffles the values of 1 column and checks to see how much that effects the predictive power of the model."
   ],
   "cell_type": "markdown",
   "metadata": {}
  },
  {
   "cell_type": "code",
   "execution_count": 149,
   "metadata": {},
   "outputs": [
    {
     "output_type": "stream",
     "name": "stdout",
     "text": [
      "thalassemia_reversable_defect 0.069  +/- 0.015\nexercise_induced_angina_present 0.055  +/- 0.021\nmajor_vessels 0.044  +/- 0.015\nchest_pain_non-anginal_pain 0.015  +/- 0.003\n"
     ]
    }
   ],
   "source": [
    "from sklearn.inspection import permutation_importance\n",
    "r = permutation_importance(logreg, X_train.drop(dropped_cols, axis=1), y_train, n_jobs=6)\n",
    "for i in r.importances_mean.argsort()[::-1]:\n",
    "    if r.importances_mean[i] - 2 * r.importances_std[i] > 0:\n",
    "        print(f\"{X_train.drop(dropped_cols, axis=1).columns[i]}\",\n",
    "              f\"{r.importances_mean[i]:.3f}\",\n",
    "          f\" +/- {r.importances_std[i]:.3f}\")\n"
   ]
  },
  {
   "source": [
    "Here we see that the biggest predictive power of the model occurs from the presence of thalassemia however this could be due to the distribution of thalassemia in the training data. therefore next we check the weight coefficient of each feature. The present features have an importance mean more than 2* greater than their importance standard deviation."
   ],
   "cell_type": "markdown",
   "metadata": {}
  },
  {
   "cell_type": "code",
   "execution_count": 147,
   "metadata": {},
   "outputs": [
    {
     "output_type": "stream",
     "name": "stdout",
     "text": [
      "max_hrt_rt weight: [0.02022332]\nst_dep weight: [-0.45956026]\nmajor_vessels weight: [-0.71951033]\nchest_pain_non-anginal_pain weight: [1.09824842]\nelect_result_normal weight: [-0.97778574]\nexercise_induced_angina_present weight: [-1.41376419]\nthalassemia_reversable_defect weight: [-1.74955376]\n"
     ]
    }
   ],
   "source": [
    "for i in range(len(X_train.drop(dropped_cols, axis=1).columns)):\n",
    "    print(X_train.drop(dropped_cols, axis=1).columns[i], \"weight:\", logreg.coef_[:,i])"
   ]
  },
  {
   "source": [
    "we can see here that an increase in 1bpm of max heart rate increases the probability by 0.02 and the presence of non-anginal chest pain adds 1.1 all the other features add negative weights with the most influential features being reversible thalassemia defect and exercise induced angina respectively. However it can be seen that major blood vessels present adds a significant weight since it adds -0.72 per vessel which means this value could go up to -2.8 leading to it being the most predictive value."
   ],
   "cell_type": "markdown",
   "metadata": {}
  },
  {
   "cell_type": "code",
   "execution_count": null,
   "metadata": {},
   "outputs": [],
   "source": []
  }
 ]
}