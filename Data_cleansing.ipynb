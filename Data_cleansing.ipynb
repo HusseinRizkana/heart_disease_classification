{
 "metadata": {
  "language_info": {
   "codemirror_mode": {
    "name": "ipython",
    "version": 3
   },
   "file_extension": ".py",
   "mimetype": "text/x-python",
   "name": "python",
   "nbconvert_exporter": "python",
   "pygments_lexer": "ipython3",
   "version": "3.7.6"
  },
  "orig_nbformat": 2,
  "kernelspec": {
   "name": "python3",
   "display_name": "Python 3",
   "language": "python"
  }
 },
 "nbformat": 4,
 "nbformat_minor": 2,
 "cells": [
  {
   "cell_type": "code",
   "execution_count": 176,
   "metadata": {},
   "outputs": [],
   "source": [
    "import pandas as pd\n",
    "df = pd.read_csv(\"heart.csv\")"
   ]
  },
  {
   "source": [
    "# Description of the dataset  \n",
    "## background info\n",
    "This database contains 76 attributes, but all published experiments refer to using a subset of 14 of them. In particular, the Cleveland database is the only one that has been used by ML researchers to\n",
    "this date. The \"goal\" field refers to the presence of heart disease in the patient. It is integer valued from 0 (no presence) to 4.\n",
    "\n",
    "\n",
    "## columns  \n",
    "1- age: age in years  \n",
    "  \n",
    "2- sex: whether the patient is male  \n",
    "  \n",
    "3- chest pain type (4 values):  \n",
    "Chest pain measured between 0 to 3 on a subjective scale  \n",
    "  \n",
    "4- resting blood pressure:  \n",
    "prior assumption that blood pressure and the prevalence of heart disease are correlated  \n",
    "  \n",
    "5- serum cholestoral in mg/dl:  \n",
    "blood cholestoral is made to be the enemy with regards to heart disease so again expect a large corr  \n",
    "  \n",
    "6- fasting blood sugar > 120 mg/dl:  \n",
    "Perhaps can indicate possible diabetes. Diabetes has high comorbidity rates  \n",
    "  \n",
    "7- resting electrocardiographic results (values 0,1,2):   \n",
    "0 = normal, 1 = having ST-T wave abnormality, 2 = showing probable or definite left ventricular hypertrophy by Estes' criteria  \n",
    "  \n",
    "8- maximum heart rate achieved:  \n",
    "max heartrate can tell us how much the heart is straining to provide the body with sufficient oxygen. The higher the heartrate the more strain.  \n",
    "  \n",
    "9- exercise induced angina:  \n",
    "chest pain caused by reduced blood flow to the heart. During exercise this can increase as there is a higher required bloodflow.\n",
    "  \n",
    "10- oldpeak = ST depression induced by exercise relative to rest: \n",
    "  \n",
    "  \n",
    "11- the slope of the peak exercise ST segment: \n",
    "  \n",
    "12- number of major vessels (0-3) colored by flourosopy: \n",
    "  \n",
    "13- thal: 3 = normal; 6 = fixed defect; 7 = reversable defect:  \n",
    "thalessemia is a hereditary blood disorder that may increase risk of heart disease.  \n",
    "\n",
    "  \n",
    "# Acknowledgements  \n",
    "## Creators:  \n",
    "\n",
    "1- Hungarian Institute of Cardiology. Budapest: Andras Janosi, M.D.  \n",
    "2- University Hospital, Zurich, Switzerland: William Steinbrunn, M.D.  \n",
    "3- University Hospital, Basel, Switzerland: Matthias Pfisterer, M.D.  \n",
    "4- V.A. Medical Center, Long Beach and Cleveland Clinic Foundation: Robert Detrano, M.D., Ph.D.  \n",
    "## Donor:\n",
    "1- David W. Aha (aha '@' ics.uci.edu) (714) 856-8779  \n",
    "## Inspiration  \n",
    "Experiments with the Cleveland database have concentrated on simply attempting to distinguish presence (values 1,2,3,4) from absence (value 0)."
   ],
   "cell_type": "markdown",
   "metadata": {}
  },
  {
   "cell_type": "code",
   "execution_count": 177,
   "metadata": {},
   "outputs": [
    {
     "output_type": "execute_result",
     "data": {
      "text/plain": [
       "   age  sex  cp  trestbps  chol  fbs  restecg  thalach  exang  oldpeak  slope  \\\n",
       "0   63    1   3       145   233    1        0      150      0      2.3      0   \n",
       "1   37    1   2       130   250    0        1      187      0      3.5      0   \n",
       "2   41    0   1       130   204    0        0      172      0      1.4      2   \n",
       "3   56    1   1       120   236    0        1      178      0      0.8      2   \n",
       "4   57    0   0       120   354    0        1      163      1      0.6      2   \n",
       "5   57    1   0       140   192    0        1      148      0      0.4      1   \n",
       "6   56    0   1       140   294    0        0      153      0      1.3      1   \n",
       "7   44    1   1       120   263    0        1      173      0      0.0      2   \n",
       "8   52    1   2       172   199    1        1      162      0      0.5      2   \n",
       "9   57    1   2       150   168    0        1      174      0      1.6      2   \n",
       "\n",
       "   ca  thal  target  \n",
       "0   0     1       1  \n",
       "1   0     2       1  \n",
       "2   0     2       1  \n",
       "3   0     2       1  \n",
       "4   0     2       1  \n",
       "5   0     1       1  \n",
       "6   0     2       1  \n",
       "7   0     3       1  \n",
       "8   0     3       1  \n",
       "9   0     2       1  "
      ],
      "text/html": "<div>\n<style scoped>\n    .dataframe tbody tr th:only-of-type {\n        vertical-align: middle;\n    }\n\n    .dataframe tbody tr th {\n        vertical-align: top;\n    }\n\n    .dataframe thead th {\n        text-align: right;\n    }\n</style>\n<table border=\"1\" class=\"dataframe\">\n  <thead>\n    <tr style=\"text-align: right;\">\n      <th></th>\n      <th>age</th>\n      <th>sex</th>\n      <th>cp</th>\n      <th>trestbps</th>\n      <th>chol</th>\n      <th>fbs</th>\n      <th>restecg</th>\n      <th>thalach</th>\n      <th>exang</th>\n      <th>oldpeak</th>\n      <th>slope</th>\n      <th>ca</th>\n      <th>thal</th>\n      <th>target</th>\n    </tr>\n  </thead>\n  <tbody>\n    <tr>\n      <th>0</th>\n      <td>63</td>\n      <td>1</td>\n      <td>3</td>\n      <td>145</td>\n      <td>233</td>\n      <td>1</td>\n      <td>0</td>\n      <td>150</td>\n      <td>0</td>\n      <td>2.3</td>\n      <td>0</td>\n      <td>0</td>\n      <td>1</td>\n      <td>1</td>\n    </tr>\n    <tr>\n      <th>1</th>\n      <td>37</td>\n      <td>1</td>\n      <td>2</td>\n      <td>130</td>\n      <td>250</td>\n      <td>0</td>\n      <td>1</td>\n      <td>187</td>\n      <td>0</td>\n      <td>3.5</td>\n      <td>0</td>\n      <td>0</td>\n      <td>2</td>\n      <td>1</td>\n    </tr>\n    <tr>\n      <th>2</th>\n      <td>41</td>\n      <td>0</td>\n      <td>1</td>\n      <td>130</td>\n      <td>204</td>\n      <td>0</td>\n      <td>0</td>\n      <td>172</td>\n      <td>0</td>\n      <td>1.4</td>\n      <td>2</td>\n      <td>0</td>\n      <td>2</td>\n      <td>1</td>\n    </tr>\n    <tr>\n      <th>3</th>\n      <td>56</td>\n      <td>1</td>\n      <td>1</td>\n      <td>120</td>\n      <td>236</td>\n      <td>0</td>\n      <td>1</td>\n      <td>178</td>\n      <td>0</td>\n      <td>0.8</td>\n      <td>2</td>\n      <td>0</td>\n      <td>2</td>\n      <td>1</td>\n    </tr>\n    <tr>\n      <th>4</th>\n      <td>57</td>\n      <td>0</td>\n      <td>0</td>\n      <td>120</td>\n      <td>354</td>\n      <td>0</td>\n      <td>1</td>\n      <td>163</td>\n      <td>1</td>\n      <td>0.6</td>\n      <td>2</td>\n      <td>0</td>\n      <td>2</td>\n      <td>1</td>\n    </tr>\n    <tr>\n      <th>5</th>\n      <td>57</td>\n      <td>1</td>\n      <td>0</td>\n      <td>140</td>\n      <td>192</td>\n      <td>0</td>\n      <td>1</td>\n      <td>148</td>\n      <td>0</td>\n      <td>0.4</td>\n      <td>1</td>\n      <td>0</td>\n      <td>1</td>\n      <td>1</td>\n    </tr>\n    <tr>\n      <th>6</th>\n      <td>56</td>\n      <td>0</td>\n      <td>1</td>\n      <td>140</td>\n      <td>294</td>\n      <td>0</td>\n      <td>0</td>\n      <td>153</td>\n      <td>0</td>\n      <td>1.3</td>\n      <td>1</td>\n      <td>0</td>\n      <td>2</td>\n      <td>1</td>\n    </tr>\n    <tr>\n      <th>7</th>\n      <td>44</td>\n      <td>1</td>\n      <td>1</td>\n      <td>120</td>\n      <td>263</td>\n      <td>0</td>\n      <td>1</td>\n      <td>173</td>\n      <td>0</td>\n      <td>0.0</td>\n      <td>2</td>\n      <td>0</td>\n      <td>3</td>\n      <td>1</td>\n    </tr>\n    <tr>\n      <th>8</th>\n      <td>52</td>\n      <td>1</td>\n      <td>2</td>\n      <td>172</td>\n      <td>199</td>\n      <td>1</td>\n      <td>1</td>\n      <td>162</td>\n      <td>0</td>\n      <td>0.5</td>\n      <td>2</td>\n      <td>0</td>\n      <td>3</td>\n      <td>1</td>\n    </tr>\n    <tr>\n      <th>9</th>\n      <td>57</td>\n      <td>1</td>\n      <td>2</td>\n      <td>150</td>\n      <td>168</td>\n      <td>0</td>\n      <td>1</td>\n      <td>174</td>\n      <td>0</td>\n      <td>1.6</td>\n      <td>2</td>\n      <td>0</td>\n      <td>2</td>\n      <td>1</td>\n    </tr>\n  </tbody>\n</table>\n</div>"
     },
     "metadata": {},
     "execution_count": 177
    }
   ],
   "source": [
    "df.head(10)"
   ]
  },
  {
   "cell_type": "code",
   "execution_count": 178,
   "metadata": {},
   "outputs": [
    {
     "output_type": "execute_result",
     "data": {
      "text/plain": [
       "age         0\n",
       "sex         0\n",
       "cp          0\n",
       "trestbps    0\n",
       "chol        0\n",
       "fbs         0\n",
       "restecg     0\n",
       "thalach     0\n",
       "exang       0\n",
       "oldpeak     0\n",
       "slope       0\n",
       "ca          0\n",
       "thal        0\n",
       "target      0\n",
       "dtype: int64"
      ]
     },
     "metadata": {},
     "execution_count": 178
    }
   ],
   "source": [
    "df.isnull().sum()"
   ]
  },
  {
   "source": [
    "here we check for null values. we can see that there are no null values in this data set of type null"
   ],
   "cell_type": "markdown",
   "metadata": {}
  },
  {
   "cell_type": "code",
   "execution_count": 179,
   "metadata": {},
   "outputs": [
    {
     "output_type": "stream",
     "name": "stdout",
     "text": [
      "set of age:  {29, 34, 35, 37, 38, 39, 40, 41, 42, 43, 44, 45, 46, 47, 48, 49, 50, 51, 52, 53, 54, 55, 56, 57, 58, 59, 60, 61, 62, 63, 64, 65, 66, 67, 68, 69, 70, 71, 74, 76, 77}\nset of sex:  {0, 1}\nset of cp:  {0, 1, 2, 3}\nset of trestbps:  {128, 129, 130, 132, 134, 135, 136, 138, 140, 142, 144, 145, 146, 148, 150, 152, 154, 155, 156, 160, 164, 165, 170, 172, 174, 178, 180, 192, 200, 94, 100, 101, 102, 104, 105, 106, 108, 110, 112, 114, 115, 117, 118, 120, 122, 123, 124, 125, 126}\nset of chol:  {564, 126, 131, 141, 149, 157, 160, 164, 166, 167, 168, 169, 172, 174, 175, 176, 177, 178, 180, 182, 183, 184, 185, 186, 187, 188, 192, 193, 195, 196, 197, 198, 199, 200, 201, 203, 204, 205, 206, 207, 208, 209, 210, 211, 212, 213, 214, 215, 216, 217, 218, 219, 220, 221, 222, 223, 224, 225, 226, 227, 228, 229, 230, 231, 232, 233, 234, 235, 236, 237, 239, 240, 241, 242, 243, 244, 245, 246, 247, 248, 249, 250, 252, 253, 254, 255, 256, 257, 258, 259, 260, 261, 262, 263, 264, 265, 266, 267, 268, 269, 270, 271, 273, 274, 275, 276, 277, 278, 281, 282, 283, 284, 286, 288, 289, 290, 293, 294, 295, 298, 299, 300, 302, 303, 304, 305, 306, 307, 308, 309, 311, 313, 315, 318, 319, 321, 322, 325, 326, 327, 330, 335, 340, 341, 342, 353, 354, 360, 394, 407, 409, 417}\nset of fbs:  {0, 1}\nset of restecg:  {0, 1, 2}\nset of thalach:  {71, 88, 90, 95, 96, 97, 99, 103, 105, 106, 108, 109, 111, 112, 113, 114, 115, 116, 117, 118, 120, 121, 122, 123, 124, 125, 126, 127, 128, 129, 130, 131, 132, 133, 134, 136, 137, 138, 139, 140, 141, 142, 143, 144, 145, 146, 147, 148, 149, 150, 151, 152, 153, 154, 155, 156, 157, 158, 159, 160, 161, 162, 163, 164, 165, 166, 167, 168, 169, 170, 171, 172, 173, 174, 175, 177, 178, 179, 180, 181, 182, 184, 185, 186, 187, 188, 190, 192, 194, 195, 202}\nset of exang:  {0, 1}\nset of oldpeak:  {0.8, 1.4, 2.3, 3.5, 0.6, 0.4, 1.3, 0.0, 0.5, 1.6, 1.2, 1.0, 1.5, 4.2, 2.0, 2.5, 3.0, 4.0, 4.4, 5.6, 1.1, 2.6, 2.1, 3.6, 0.7, 3.1, 0.2, 0.1, 2.2, 2.8, 0.3, 3.2, 3.8, 1.8, 6.2, 1.9, 0.9, 2.4, 2.9, 3.4}\nset of slope:  {0, 1, 2}\nset of ca:  {0, 1, 2, 3, 4}\nset of thal:  {0, 1, 2, 3}\nset of target:  {0, 1}\n"
     ]
    }
   ],
   "source": [
    "for col in df.columns:\n",
    "    print(f\"set of {col}: \",set(df[col]))"
   ]
  },
  {
   "source": [
    "We then check for distinct values to check for nulls of a different kind such as special characters to which we also find no issues."
   ],
   "cell_type": "markdown",
   "metadata": {}
  },
  {
   "cell_type": "code",
   "execution_count": 180,
   "metadata": {},
   "outputs": [],
   "source": [
    "df.drop(index = df.loc[df[\"thal\"]==0].index.values, axis=0,inplace=True)"
   ]
  },
  {
   "source": [
    "fixing error 0 thal values are supposed to be Nans"
   ],
   "cell_type": "markdown",
   "metadata": {}
  },
  {
   "cell_type": "code",
   "execution_count": 181,
   "metadata": {},
   "outputs": [
    {
     "output_type": "stream",
     "name": "stdout",
     "text": [
      "<class 'pandas.core.frame.DataFrame'>\nInt64Index: 301 entries, 0 to 302\nData columns (total 14 columns):\n #   Column    Non-Null Count  Dtype  \n---  ------    --------------  -----  \n 0   age       301 non-null    int64  \n 1   sex       301 non-null    int64  \n 2   cp        301 non-null    int64  \n 3   trestbps  301 non-null    int64  \n 4   chol      301 non-null    int64  \n 5   fbs       301 non-null    int64  \n 6   restecg   301 non-null    int64  \n 7   thalach   301 non-null    int64  \n 8   exang     301 non-null    int64  \n 9   oldpeak   301 non-null    float64\n 10  slope     301 non-null    int64  \n 11  ca        301 non-null    int64  \n 12  thal      301 non-null    int64  \n 13  target    301 non-null    int64  \ndtypes: float64(1), int64(13)\nmemory usage: 35.3 KB\n"
     ]
    }
   ],
   "source": [
    "# check data types\n",
    "df.info()"
   ]
  },
  {
   "source": [
    "We then check the data types for the different columns. Here we see our first possible sets of issues, which is integer classes for categorical data.  \n",
    "We also see the bad naming conventions so lets go about fixing those for ease of interpretation."
   ],
   "cell_type": "markdown",
   "metadata": {}
  },
  {
   "cell_type": "code",
   "execution_count": 182,
   "metadata": {},
   "outputs": [],
   "source": [
    "df.columns = [\"age\", \"sex\", \"chest_pain\", \"resting_bp\", \"chol\", \"fstng_bld_sgr\", \"elect_result\", \"max_hrt_rt\", \"exercise_induced_angina\", \"st_dep\", \"st_slope\", \"major_vessels\", \"thalassemia\", \"target\"]"
   ]
  },
  {
   "cell_type": "code",
   "execution_count": 183,
   "metadata": {},
   "outputs": [],
   "source": [
    "df[\"sex\"].loc[df[\"sex\"]==1] =\"male\"\n",
    "df[\"sex\"].loc[df[\"sex\"]==0] =\"female\"\n",
    "df[\"fstng_bld_sgr\"].loc[df[\"fstng_bld_sgr\"]==1] = \"high\"\n",
    "df[\"fstng_bld_sgr\"].loc[df[\"fstng_bld_sgr\"]==0] = \"not_high\"\n",
    "df[\"chest_pain\"].replace({0: \"asymptomatic\", 1: \"atypical_angina\", 2: \"non-anginal_pain\", 3: \"typical_angina\"}, inplace = True)\n",
    "df[\"elect_result\"].replace({0:\"normal\", 1:\"having_ST-T_wave_abnormality\", 2:\"left_ventricular_hypertrophy\"},inplace=True)\n",
    "df[\"exercise_induced_angina\"].loc[df[\"exercise_induced_angina\"]==1] = \"present\"\n",
    "df[\"exercise_induced_angina\"].loc[df[\"exercise_induced_angina\"]==0] = \"not_present\"\n",
    "df[\"st_slope\"].replace({0: \"upsloping\", 1: \"flat\", 2: \"downsloping\"},inplace = True)\n",
    "df[\"thalassemia\"].replace({1:\"Normal\", 2: \"fixed_defect\", 3:\"reversable_defect\"}, inplace=True)"
   ]
  },
  {
   "source": [
    "giving more categorical values more meaningful names"
   ],
   "cell_type": "markdown",
   "metadata": {}
  },
  {
   "cell_type": "code",
   "execution_count": 185,
   "metadata": {},
   "outputs": [],
   "source": [
    "df['sex'] = df['sex'].astype('object')\n",
    "df['chest_pain'] = df['chest_pain'].astype('object')\n",
    "df['fstng_bld_sgr'] = df['fstng_bld_sgr'].astype('object')\n",
    "df['elect_result'] = df['elect_result'].astype('object')\n",
    "df['exercise_induced_angina'] = df['exercise_induced_angina'].astype('object')\n",
    "df['st_slope'] = df['st_slope'].astype('object')\n",
    "df['thalassemia'] = df['thalassemia'].astype('object')"
   ]
  },
  {
   "source": [
    "ensuring that categorical values be treated as such"
   ],
   "cell_type": "markdown",
   "metadata": {}
  },
  {
   "cell_type": "code",
   "execution_count": 186,
   "metadata": {},
   "outputs": [
    {
     "output_type": "stream",
     "name": "stdout",
     "text": [
      "<class 'pandas.core.frame.DataFrame'>\nInt64Index: 301 entries, 0 to 302\nData columns (total 14 columns):\n #   Column                   Non-Null Count  Dtype  \n---  ------                   --------------  -----  \n 0   age                      301 non-null    int64  \n 1   sex                      301 non-null    object \n 2   chest_pain               301 non-null    object \n 3   resting_bp               301 non-null    int64  \n 4   chol                     301 non-null    int64  \n 5   fstng_bld_sgr            301 non-null    object \n 6   elect_result             301 non-null    object \n 7   max_hrt_rt               301 non-null    int64  \n 8   exercise_induced_angina  301 non-null    object \n 9   st_dep                   301 non-null    float64\n 10  st_slope                 301 non-null    object \n 11  major_vessels            301 non-null    int64  \n 12  thalassemia              301 non-null    object \n 13  target                   301 non-null    int64  \ndtypes: float64(1), int64(6), object(7)\nmemory usage: 35.3+ KB\n"
     ]
    }
   ],
   "source": [
    "df.info()"
   ]
  },
  {
   "cell_type": "code",
   "execution_count": 190,
   "metadata": {},
   "outputs": [],
   "source": [
    "cleaned = pd.get_dummies(df,drop_first= True)"
   ]
  },
  {
   "source": [
    "get dummy values for categorical columns for use in machine learning models."
   ],
   "cell_type": "markdown",
   "metadata": {}
  },
  {
   "cell_type": "code",
   "execution_count": 191,
   "metadata": {},
   "outputs": [],
   "source": [
    "cleaned.to_csv(\"clean_data.csv\")"
   ]
  }
 ]
}